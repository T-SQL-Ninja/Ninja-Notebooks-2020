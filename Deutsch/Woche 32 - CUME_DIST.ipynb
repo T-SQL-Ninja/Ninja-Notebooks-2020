{
    "metadata": {
        "kernelspec": {
            "name": "SQL",
            "display_name": "SQL",
            "language": "sql"
        },
        "language_info": {
            "name": "sql",
            "version": ""
        }
    },
    "nbformat_minor": 2,
    "nbformat": 4,
    "cells": [
        {
            "cell_type": "markdown",
            "source": [
                "# Woche 32: CUME_DIST\r\n",
                "## Was ist CUME_DIST? \r\n",
                "Angenommen ihr habt eine Tabelle mit bestimmten Werten und möchtet zu den einzelnen Werten wissen, wieviel Prozent der Datensätze unterhalb dem jeweiligen Wert liegen. Diese Art von Fragen kann die `CUME_DIST`-Funktion beantworten. `CUME_DIST` ist dabei kurz für \"Cumulative Distribution\", auf Deutsch auch \"Verteilungsfunktion\" und ist eine Funktion aus der Statistik, sie berechnet zu einem gegebenen Wert und einer Verteilung, wie hoch die Wahrscheinlichkeit ist, dass ein Datensatz unterhalb des Wertes liegt. \r\n",
                "## Wie könnt ihr mit CUME_DIST arbeiten?\r\n",
                "Nachdem wir nun also geklärt haben, was `CUME_DIST` tut, wollen wir uns einmal ansehen, wie ihr die Funktion verwenden könnt. Klar ist, dass wir bei `CUME_DIST` mit Verteilungen hantieren, die Funktion wird also eine Gleitkommazahl zwischen 0 und 1 zurückgeben. \r\n",
                "\r\n",
                "Um Erfahrung im Umgang mit `CUME_DIST` zu sammeln, schreiben wir zunächst eine Abfrage, die die `StockItems` der `WideWorldImporters`-Datenbank mit ihren Item-Gruppen zusammenbringt. Da es Items gibt, die mehreren Warengruppen zugeordnet sind, verwenden wir hierfür aber keinen Join sondern ordenen diese Items immer der ersten Gruppe zu: "
            ],
            "metadata": {
                "azdata_cell_guid": "d0fe4a83-63ab-430e-99eb-0e5042e65093"
            }
        },
        {
            "cell_type": "code",
            "source": [
                "SELECT \r\n",
                "     UnitPrice\r\n",
                "    ,SG.StockGroupName\r\n",
                "    ,StockItemID\r\n",
                "OUTER APPLY (\r\n",
                "    SELECT TOP 1 \r\n",
                "        StockGroupName \r\n",
                "    FROM [Warehouse].[StockItemStockGroups] SISG \r\n",
                "    LEFT JOIN [Warehouse].[StockGroups] SG\r\n",
                "        ON SISG.StockGroupID = SG.StockGroupID\r\n",
                "    WHERE SI.StockItemID = SISG.StockItemID\r\n",
                ") SG \r\n",
                "ORDER BY UnitPrice"
            ],
            "metadata": {
                "azdata_cell_guid": "2e412bb6-4e61-47f1-a199-544a4826f27d"
            },
            "outputs": [],
            "execution_count": 0
        },
        {
            "cell_type": "markdown",
            "source": [
                "Bereits hier bekommen wir ein Gefühl für die Daten, wenn wir durch die Ergebnismenge scrollen, sehen wir beispielsweise intuitiv, dass etwa die hälfte der Produkte weniger als 20 Dollar kostet. Nun fassen wir einige Produkte zusammen, indem wir Preis-Segmente bilden, indem wir jeden Preis auf 10 Dollar runden und die Produkte in jeder Gruppe zählen: "
            ],
            "metadata": {
                "azdata_cell_guid": "2e043eec-b631-44b3-8f1a-ab7ce93733dd"
            }
        },
        {
            "cell_type": "code",
            "source": [
                "SELECT \r\n",
                "     CAST(ROUND(UnitPrice/10, 0)*10 AS int) as PriceRange\r\n",
                "    ,COUNT(*) AS NumberOfProducts\r\n",
                "FROM [Warehouse].[StockItems] SI\r\n",
                "OUTER APPLY (\r\n",
                "    SELECT TOP 1 \r\n",
                "        StockGroupName \r\n",
                "    FROM [Warehouse].[StockItemStockGroups] SISG \r\n",
                "    LEFT JOIN [Warehouse].[StockGroups] SG\r\n",
                "        ON SISG.StockGroupID = SG.StockGroupID\r\n",
                "    WHERE SI.StockItemID = SISG.StockItemID\r\n",
                ") SG \r\n",
                "GROUP BY\r\n",
                "     CAST(ROUND(UnitPrice/10, 0)*10 AS int) "
            ],
            "metadata": {
                "azdata_cell_guid": "dfcf2b58-d47e-48ca-85d0-328a9e9ad9e3"
            },
            "outputs": [],
            "execution_count": 0
        },
        {
            "cell_type": "markdown",
            "source": [
                "Wir sehen auch hier, dass etwa 50% der Produkte in Preissegmenten bis 20 Dollar liegt (die Verteilung könnt ihr euch auch grafisch ansehen, wenn ihr in Azure Data Studio neben der Ergebnismenge auf das Chart-Symbol klickt). Nun möchten wir es aber genau wissen: und sehen uns die Information auf Produktebene an, dafür verwenden wir die CUME_DIST-Funktion, um uns die Verteilung auf Produktbasis anzusehen:"
            ],
            "metadata": {
                "azdata_cell_guid": "2a0f8820-5638-483e-90c6-b2eef998d37e"
            }
        },
        {
            "cell_type": "code",
            "source": [
                "SELECT\r\n",
                "     StockItemID\r\n",
                "    ,UnitPrice\r\n",
                "    ,CUME_DIST() OVER (\r\n",
                "        ORDER BY UnitPrice \r\n",
                "     ) PercentageOfProeuctsBelow\r\n",
                "FROM [Warehouse].[StockItems] SI\r\n",
                "ORDER BY UnitPrice"
            ],
            "metadata": {
                "azdata_cell_guid": "5f016646-d393-4f66-b871-c8c40bf57235"
            },
            "outputs": [],
            "execution_count": 0
        },
        {
            "cell_type": "markdown",
            "source": [
                "Wichtig ist hierbei, zu beachten, dass Produkte, die denselben UnitPrice haben, hier auch denselben Wert der Verteilungsfunktion zugewiesen bekommen. Da die Verteilungsfunktion nicht zwischen den Produkten anhand der Preise unterscheiden kann, werden sie hier ähnlich wie beim `RANK` auch gleich behandelt. Wolltet ihr das ändern, müsstet ihr eine Spalte als Tie-breaker hinzunehmen: "
            ],
            "metadata": {
                "azdata_cell_guid": "1e340249-360d-4873-a172-f5c04b4cb9cf"
            }
        },
        {
            "cell_type": "code",
            "source": [
                "SELECT\r\n",
                "     StockItemID\r\n",
                "    ,UnitPrice\r\n",
                "    ,CUME_DIST() OVER (\r\n",
                "        ORDER BY UnitPrice, StockItemID \r\n",
                "     ) PercentageOfProeuctsBelow\r\n",
                "FROM [Warehouse].[StockItems] SI\r\n",
                "ORDER BY UnitPrice"
            ],
            "metadata": {
                "azdata_cell_guid": "d33bc1ab-6450-453a-8598-dd74653ec299"
            },
            "outputs": [],
            "execution_count": 0
        },
        {
            "cell_type": "markdown",
            "source": [
                "Doch wir können mit `CUME_DIST` auch einen Schritt weiter gehen. Wenn euch nun interessiert, wie der Preis in der jeweiligen Produktgruppe einzuordnen ist, dafür geben wir dem Fenster der `CUME_DIST`-Funktion noch ein `PARTITION BY`-Argument mit:"
            ],
            "metadata": {
                "azdata_cell_guid": "22ef38c0-779c-4a12-94ad-eff9a6b64933"
            }
        },
        {
            "cell_type": "code",
            "source": [
                "SELECT\r\n",
                "     StockItemID\r\n",
                "    ,SG.StockGroupName\r\n",
                "    ,UnitPrice\r\n",
                "    ,CUME_DIST() OVER (\r\n",
                "        PARTITION BY SG.StockGroupName\r\n",
                "        ORDER BY UnitPrice, StockItemID \r\n",
                "     ) PercentageOfProeuctsBelow\r\n",
                "FROM [Warehouse].[StockItems] SI\r\n",
                "OUTER APPLY (\r\n",
                "    SELECT TOP 1 \r\n",
                "        StockGroupName \r\n",
                "    FROM [Warehouse].[StockItemStockGroups] SISG \r\n",
                "    LEFT JOIN [Warehouse].[StockGroups] SG\r\n",
                "        ON SISG.StockGroupID = SG.StockGroupID\r\n",
                "    WHERE SI.StockItemID = SISG.StockItemID\r\n",
                ") SG \r\n",
                "ORDER BY UnitPrice"
            ],
            "metadata": {
                "azdata_cell_guid": "8834295e-8bdf-46bf-becd-fa37f90b1f19"
            },
            "outputs": [],
            "execution_count": 0
        },
        {
            "cell_type": "markdown",
            "source": [
                "So erhalten wir für jedes Produkt die Information, wieviel Prozent der Item in der jeweiligen Gruppe günstiger gleich teuer sind, wie das Produkt, das ihr gerade anseht. \n",
                "\n",
                "`CUME_DIST` ist ähnlich wie die zuletzt vorgestellten `FIRST_VALUE`, `LAST_VALUE`, `LEAD` und `LAG` ein Werkzeug, das euch helfen kann, eine Datenmenge mittels Statistik zu erfassen und zu analysieren und so ein Verständnis für die Daten zu erlangen oder euren Anwendern oder Anwendungen entsprechende Mehrwerte zu liefern ohne den SQL Server zu verlassen. Sicher gehört `CUME_DIST` nicht zu den am häufigsten verwendeten T-SQL Funktionen, doch als echte Ninjas könnt ihr mit euren Skills protzen, wenn es mal darum geht, die Verteilung von Daten zu ermitteln und ihr `CUME_DIST` im Hinterkopf habt… \n",
                "\n",
                "## Referenzen\n",
                "- [Dokumentation von Microsoft](https://docs.microsoft.com/de-de/sql/t-sql/functions/cume-dist-transact-sql?view=sql-server-ver15)"
            ],
            "metadata": {
                "azdata_cell_guid": "d9fcfb45-04d6-47f7-b35f-7fb4d5e932e9"
            }
        }
    ]
}