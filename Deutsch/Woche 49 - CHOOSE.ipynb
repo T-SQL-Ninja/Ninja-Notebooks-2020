{
    "metadata": {
        "kernelspec": {
            "name": "SQL",
            "display_name": "SQL",
            "language": "sql"
        },
        "language_info": {
            "name": "sql",
            "version": ""
        }
    },
    "nbformat_minor": 2,
    "nbformat": 4,
    "cells": [
        {
            "cell_type": "markdown",
            "source": [
                "# Woche 49: CHOOSE\r\n",
                "## Was ist CHOOSE?\r\n",
                "`CHOOSE` gehört sicher zu den eher unbekannteren Funktionen im SQL Server, dabei fristet diese Funktion zu Unrecht ein Schattendasein, denn sie kann euch viele lästige Abfragen deutlich erleichtern. `CHOOSE` könnt ihr oft verwenden, um lange, komplexe `CASE`-`WHEN`-Anweisungen zu vereinfachen, nämlich immer dann, wenn es darum geht auf Basis einer Zahl ein Element aus einer Liste auszuwählen, also wie bei einem Array-Zugriff über einen Index. \r\n",
                "## Wie könnt ihr mit CHOOSE arbeiten?\r\n",
                "Die grundlegende Funktionalität von `CHOOSE` ist recht einfach: ihr übergebt der `CHOOSE`-Funktion eine Zahl (den Index, den ihr haben wollt und der hier im Übrigen 1-basiert ist) als erstes Argument und dann eine Liste mit Rückgabewerten. `CHOOSE` liefert den entsprechenden Wert aus der Liste. Sehen wir uns dafür einmal ein Beispiel an, dafür erzeugen wir uns eine Tabelle zum Testen:"
            ],
            "metadata": {
                "azdata_cell_guid": "72539d69-06cf-4470-b31a-64d24512127b"
            }
        },
        {
            "cell_type": "code",
            "source": [
                "DROP TABLE IF EXISTS #Ninjas\r\n",
                "CREATE TABLE #Ninjas (\r\n",
                "     NinjaName varchar(250)\r\n",
                "    ,StyleID int \r\n",
                ")"
            ],
            "metadata": {
                "azdata_cell_guid": "5920c095-65b4-489f-b093-48a001155cd8"
            },
            "outputs": [],
            "execution_count": 0
        },
        {
            "cell_type": "markdown",
            "source": [
                "Fügen wir nun einige Werte in die Tabelle ein:"
            ],
            "metadata": {
                "azdata_cell_guid": "a1fb3dc9-f195-4c8c-8d8f-51e7c1e81f14"
            }
        },
        {
            "cell_type": "code",
            "source": [
                "INSERT INTO #Ninjas\r\n",
                "(NinjaName, StyleID)\r\n",
                "VALUES\r\n",
                " ('Deadflow', 1)\r\n",
                ",('Jadestroke', 3)\r\n",
                ",('Phantom Flow', 2)\r\n",
                ",('Death Flash', 3)"
            ],
            "metadata": {
                "azdata_cell_guid": "9e92b5ec-2a24-4c11-9e85-5055b059366b"
            },
            "outputs": [],
            "execution_count": 0
        },
        {
            "cell_type": "markdown",
            "source": [
                "Wenn wir, ohne eine Tabelle zu haben, die die Stile auflöst, die `StyleID` zu einem lesbaren Namen auflösen möchten, können wir das wie folgt tun:"
            ],
            "metadata": {
                "azdata_cell_guid": "76c6dda8-92de-43b1-b89b-90ce618a7d4f"
            }
        },
        {
            "cell_type": "code",
            "source": [
                "SELECT \r\n",
                "     NinjaName\r\n",
                "    ,StyleID\r\n",
                "    ,CASE StyleID\r\n",
                "        WHEN 1 THEN 'Katana'\r\n",
                "        WHEN 2 THEN 'Bajutsu'\r\n",
                "        WHEN 3 THEN 'Bojutsu'\r\n",
                "        WHEN 4 THEN 'Shuriken'\r\n",
                "        WHEN 5 THEN 'Assassin'\r\n",
                "    END\r\n",
                "FROM #Ninjas"
            ],
            "metadata": {
                "azdata_cell_guid": "722919cd-e926-4f08-9b8c-9c3e04b46097"
            },
            "outputs": [],
            "execution_count": 0
        },
        {
            "cell_type": "markdown",
            "source": [
                "Diese Syntax ist aber nicht gerade übersichtlich und kann mit `CHOOSE` abgekürzt werden. Dieselbe Abfrage würde dann wie folgt aussehen:"
            ],
            "metadata": {
                "azdata_cell_guid": "fb2b41d8-cb2d-48a4-a693-227d3772513b"
            }
        },
        {
            "cell_type": "code",
            "source": [
                "SELECT \r\n",
                "     NinjaName\r\n",
                "    ,StyleID\r\n",
                "    ,CHOOSE(StyleID, 'Katana', 'Bajutsu', 'Bojutsu', 'Shuriken', 'Assassin')\r\n",
                "FROM #Ninjas"
            ],
            "metadata": {
                "azdata_cell_guid": "a9e988db-4e68-49a9-b5e7-2813ed85309c"
            },
            "outputs": [],
            "execution_count": 0
        },
        {
            "cell_type": "markdown",
            "source": [
                "Ähnlich könnt ihr natürlich beispielsweise mit Datumsspalten arbeiten, dafür könnt ihr auf der WideWorldImporters Datenbank folgende Abfrage ausführen, die die Monatsnamen auflöst: "
            ],
            "metadata": {
                "azdata_cell_guid": "11170112-4e00-4067-a132-89d2576af8b7"
            }
        },
        {
            "cell_type": "code",
            "source": [
                "SELECT \r\n",
                "     OrderID\r\n",
                "    ,OrderDate\r\n",
                "    ,CHOOSE(MONTH(OrderDate)\r\n",
                "        ,'Jan'\r\n",
                "        ,'Feb'\r\n",
                "        ,'Mar'\r\n",
                "        ,'Apr'\r\n",
                "        ,'May'\r\n",
                "        ,'Jun'\r\n",
                "        ,'Jul'\r\n",
                "        ,'Aug'\r\n",
                "        ,'Sep'\r\n",
                "        ,'Oct'\r\n",
                "        ,'Nov'\r\n",
                "        ,'Dec') as OrderMonth\r\n",
                "FROM Sales.Orders"
            ],
            "metadata": {
                "azdata_cell_guid": "91c5cae1-6fc1-429c-ae3e-e8f9c9def30c"
            },
            "outputs": [],
            "execution_count": 0
        },
        {
            "cell_type": "markdown",
            "source": [
                "Und auch mit anderen Zahlenwerten geht das, versuchen wir beispielsweise zu klassifizieren, wie lange ein Kunde in der WideWorldImporters Datenbank bereits Kunde ist:"
            ],
            "metadata": {
                "azdata_cell_guid": "1c5dbbb4-1870-494f-80cd-fe88dcca93e0"
            }
        },
        {
            "cell_type": "code",
            "source": [
                "SELECT \r\n",
                "     CustomerID\r\n",
                "    ,AccountOpenedDate\r\n",
                "    ,CHOOSE(DATEDIFF(YEAR, AccountOpenedDate, GETDATE())\r\n",
                "        ,'Recent'\r\n",
                "        ,'Recent'\r\n",
                "        ,'Recent'\r\n",
                "        ,'Average'\r\n",
                "        ,'Ancient')\r\n",
                "FROM Sales.Customers"
            ],
            "metadata": {
                "azdata_cell_guid": "4b936d12-dde1-4850-a191-86ce80d16eae"
            },
            "outputs": [],
            "execution_count": 0
        },
        {
            "cell_type": "markdown",
            "source": [
                "Wenn ihr diese Abfrage ausführt, dann seht ihr, dass es einige Kunden gibt, die bereits seit dem Jahr 2013 Kunden sind und daher aus dem Index herauslaufen. Für diese Kunden gilt es nun eine weitere Klassifizierung zu finden. Glücklicherweise liefert `CHOOSE` bei einem Wert, der keinem Index entspricht (beispielsweise einem Wert kleiner eins oder größer der Anzahl der Elemente im Array einen `NULL`-Wert zurück. Diesen können wir nun natürlich entsprechend behandeln:"
            ],
            "metadata": {
                "azdata_cell_guid": "51610e55-1513-4491-b208-d415cf0442d6"
            }
        },
        {
            "cell_type": "code",
            "source": [
                "SELECT \r\n",
                "     CustomerID\r\n",
                "    ,AccountOpenedDate\r\n",
                "    ,ISNULL(CHOOSE(DATEDIFF(YEAR, AccountOpenedDate, GETDATE())\r\n",
                "        ,'Recent'\r\n",
                "        ,'Recent'\r\n",
                "        ,'Recent'\r\n",
                "        ,'Average'\r\n",
                "        ,'Ancient')\r\n",
                "    ,'Jurassic') \r\n",
                "FROM Sales.Customers"
            ],
            "metadata": {
                "azdata_cell_guid": "10d9ad3c-73ed-4f74-bd0f-6a6675983baf"
            },
            "outputs": [],
            "execution_count": 0
        },
        {
            "cell_type": "markdown",
            "source": [
                "Leider sehen wir hier noch, dass der Rückgabewert für die ältesten Kunden nur noch \"Jurassi\" ist, das \"c\" wird abgeschnitten, da `CHOOSE` den kleinstmöglichen Datentypen als Rückgabewert wählt, an den `ISNULL` sich hält und den Rückgabewert entsprechend abschneidet. Schöner ist das, wenn ihr `COALESCE` verwendet: "
            ],
            "metadata": {
                "azdata_cell_guid": "ec5313e0-a6c8-46c3-91c7-057a1aa2a68a"
            }
        },
        {
            "cell_type": "code",
            "source": [
                "SELECT \r\n",
                "     CustomerID\r\n",
                "    ,AccountOpenedDate\r\n",
                "    ,COALESCE(CHOOSE(DATEDIFF(YEAR, AccountOpenedDate, GETDATE())\r\n",
                "        ,'Recent'\r\n",
                "        ,'Recent'\r\n",
                "        ,'Recent'\r\n",
                "        ,'Average'\r\n",
                "        ,'Ancient')\r\n",
                "    ,'Jurassic') \r\n",
                "FROM Sales.Customers"
            ],
            "metadata": {
                "azdata_cell_guid": "7f0edb75-f018-4fca-8862-51bb5dfc2396"
            },
            "outputs": [],
            "execution_count": 0
        },
        {
            "cell_type": "markdown",
            "source": [
                "Nun sind die Dinosaurier unter euren Kunden entsprechend gekennzeichnet und ihr könnt mit der Bearbeitung fortfahren. \n",
                "## Referenzen\n",
                "- [Dokumentation von Microsoft](https://docs.microsoft.com/de-de/sql/t-sql/functions/logical-functions-choose-transact-sql?view=sql-server-ver15)\n",
                ""
            ],
            "metadata": {
                "azdata_cell_guid": "2840eb1e-eab2-47ea-a017-b73f563396e0"
            }
        }
    ]
}