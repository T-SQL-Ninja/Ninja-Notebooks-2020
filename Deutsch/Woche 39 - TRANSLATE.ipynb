{
    "metadata": {
        "kernelspec": {
            "name": "SQL",
            "display_name": "SQL",
            "language": "sql"
        },
        "language_info": {
            "name": "sql",
            "version": ""
        }
    },
    "nbformat_minor": 2,
    "nbformat": 4,
    "cells": [
        {
            "cell_type": "markdown",
            "source": [
                "# Woche 39: TRANSLATE\r\n",
                "## Was ist TRANSLATE (nicht)? \r\n",
                "Leider ist `TRANSLATE` nicht die T-SQL Syntax als Frontend für die Cognitive Services Translator API. Das heißt ihr könnt die `TRANSLATE`-Funktion nicht verwenden, um eure Produktbeschreibungen in Suaheli zu übersetzen. Schade, doch dafür bräuchtet ihr die Common Language Runtime im SQL Server (CLR, vielleicht wäre das ja auch mal einen Ausflug ins Dojo wert…). Stattdessen ist die `TRANSLATE`-Funktion eine Möglichkeit, wie ihr viele geschachtelte REPLACE-Statements deutlich vereinfachen könnt, denn sie ersetzt Zeichen in Zeichenketten. \r\n",
                "## Wie verwendet man TRANSLATE?\r\n",
                "Beginnen wir mit einem einfachen Beispiel, nehmen wir an, dass ihr in einer Zeichenkette ein Zeichen durch ein anderes Zeichen ersetzen möchtet. Das könnt ihr sowohl mit `REPLACE` als auch mit `TRANSLATE` tun:\r\n",
                ""
            ],
            "metadata": {
                "azdata_cell_guid": "84010707-1b58-4457-bdb2-743516c4d61c"
            }
        },
        {
            "cell_type": "code",
            "source": [
                "SELECT \r\n",
                "     REPLACE('Duju', 'u', 'o') AS [Replaced]\r\n",
                "    ,TRANSLATE('Duju', 'u', 'o') AS [Translated]"
            ],
            "metadata": {
                "azdata_cell_guid": "7b946742-6411-48ab-b9fb-0441620c7c7c",
                "tags": []
            },
            "outputs": [],
            "execution_count": 0
        },
        {
            "cell_type": "markdown",
            "source": [
                "In beiden Spalten der Ergebnismenge werdet ihr nun das Wort Dojo stehen haben, da in beiden Funktionsaufrufen der Suchstring \"u\" durch \"o\" ersetzt wurde. Doch wofür haben wir dann zwei Funktionen? Ganz einfach, weil die beiden Funktionen nicht dasselbe tun. Versuchen wir etwas anderes zu tun, nehmen wir uns das Wort Dojo mit einem Ausrufezeichen am Ende und versuchen wir, das Ausrufezeichen zu entfernen:"
            ],
            "metadata": {
                "azdata_cell_guid": "fa01c54e-bb9a-4731-98ae-2d7d1bd7b0ff"
            }
        },
        {
            "cell_type": "code",
            "source": [
                "SELECT \r\n",
                "    REPLACE('Dojo!', '!', '') AS [Replaced]\r\n",
                "SELECT\r\n",
                "    TRANSLATE('Dojo!', '!', '') AS [Translated]"
            ],
            "metadata": {
                "azdata_cell_guid": "30ed25be-8173-4fcb-9697-df46d1f4daa6"
            },
            "outputs": [],
            "execution_count": 0
        },
        {
            "cell_type": "markdown",
            "source": [
                "Während beim ersten Ausdruck wie gewünscht das Ausrufezeichen entfernt (durch einen leeren String ersetzt) wurde, liefert die zweite Abfrage eine Fehlermeldung, dass die beiden letzten Argumente von `TRANSLATE` gleich viele Zeichen enthalten müssen. Anscheinend gibt es hier also doch noch weitere Unterschiede. Diese sehen wir uns an, indem wir einen weiteren Tippfehler in unser Dojo einbauen und versuchen, aus \"Duku\" das \"Dojo\" zu machen. Versuchen wir, also die \"u\"s durch \"o\"s und das \"k\" durch ein \"j\" zu ersetzen. \r\n",
                "\r\n",
                "Der Naive Ansatz wäre folgender: \r\n",
                ""
            ],
            "metadata": {
                "azdata_cell_guid": "4787e9fe-6133-4c22-abd8-a8e9d4e5cce0"
            }
        },
        {
            "cell_type": "code",
            "source": [
                "SELECT \r\n",
                "     REPLACE('Duku', 'uk', 'oj') AS [Replaced]\r\n",
                "    ,TRANSLATE('Duku', 'uk', 'oj') AS [Translated]"
            ],
            "metadata": {
                "azdata_cell_guid": "3ec2f17e-a90c-469e-a693-c90eda892b56"
            },
            "outputs": [],
            "execution_count": 0
        },
        {
            "cell_type": "markdown",
            "source": [
                "Und während hier im ersten Fall ein Doju herauskommt, liefert der zweite Ansatz tatsächlich das gewünschte \"Dojo\" zurück. Warum ist das so? Weil REPLACE immer den gesamten Suchstring sucht und versucht, ihn zu ersetzen. Also wenn das zweite Argument in Gänze im ersten Argument enthalten ist, wird es durch das dritte Argument ersetzt. Bei `TRANSLATE` dagegen wird zeichenweise gesucht und ersetzt, im Beispiel also jedes \"u\" durch ein \"o\" und jedes \"k\" durch ein \"j\". Das erklärt auch, warum wir im vorangegangen Beispiel einen Fehler erhalten haben, denn wenn wir 1:1 ersetzen, brauchen wir natürlich auch für jedes Zeichen einen Ersatz. Noch deutlicher wird das, wenn wir uns vor Augen halten, dass es hier nicht auf die Reihenfolge ankommt, in der gesucht wird: "
            ],
            "metadata": {
                "azdata_cell_guid": "20f64430-f85e-4ce4-89da-8563ccfcad8c"
            }
        },
        {
            "cell_type": "code",
            "source": [
                "SELECT \r\n",
                "     REPLACE('123', '321', '654') AS [Replaced]\r\n",
                "    ,TRANSLATE('123', '321', '654') AS [Translated]"
            ],
            "metadata": {
                "azdata_cell_guid": "fd4db945-e14d-4997-8328-915ac3446381"
            },
            "outputs": [],
            "execution_count": 0
        },
        {
            "cell_type": "markdown",
            "source": [
                "Diese Abfrage liefert in der Replace-Spalte \"123\" zurück, da der Suchstring \"321\" nicht gefunden wurde, in der Translate-Spalte hingegen steht \"456\", da die \"3\" durch eine \"6\", die \"2\" durch eine \"5\" und die \"1\" durch eine \"4\" ersetzt wurde. \r\n",
                "\r\n",
                "Natürlich könnt ihr dieses Verhalten auch mit geschachtelten `REPLACE`-Statements erreichen: "
            ],
            "metadata": {
                "azdata_cell_guid": "15058595-23e4-4edd-a25f-2cb417930507"
            }
        },
        {
            "cell_type": "code",
            "source": [
                "SELECT \r\n",
                "     REPLACE('123', '321', '654') AS [Replaced]\r\n",
                "    ,TRANSLATE('123', '321', '654') AS [Translated]\r\n",
                "    ,REPLACE(\r\n",
                "        REPLACE(\r\n",
                "            REPLACE('123', '1', '4'), \r\n",
                "            '2', '5'), \r\n",
                "        '3', '6') AS [Replaced2]"
            ],
            "metadata": {
                "azdata_cell_guid": "29ad32c3-1639-4ead-a8de-6a038ad811ce"
            },
            "outputs": [],
            "execution_count": 0
        },
        {
            "cell_type": "markdown",
            "source": [
                "Doch jeder wird zugeben, dass die Syntax mit den geschachtelten `REPLACE`-Statements deutlich schlechter zu lesen ist, als die `TRANSLATE`-Syntax. Außerdem kommt es hier bei geschachtelten `REPLACE` durchaus auf die Reihenfolge an, das können wir sehen, wenn wir den String \"abc\" um 1 shiften möchten, also aus \"abcba\" \"bcdcb\" machen. Mit `Translate` ginge das wie folgt: "
            ],
            "metadata": {
                "azdata_cell_guid": "0d785257-e030-453c-b121-9d78c1b71bcd"
            }
        },
        {
            "cell_type": "code",
            "source": [
                "SELECT\r\n",
                "     TRANSLATE('abcba', 'abc', 'bcd') AS [Translated]"
            ],
            "metadata": {
                "azdata_cell_guid": "93239093-5d21-41bf-855e-bcc6a7c2e99b"
            },
            "outputs": [],
            "execution_count": 0
        },
        {
            "cell_type": "markdown",
            "source": [
                "Wenn wir mit `REPLACE` nicht den gesamten String ersetzen möchten, dann müssten wir wie oben die `REPLACE`-Funktionsaufrufe schachteln:"
            ],
            "metadata": {
                "azdata_cell_guid": "dcedf370-ada9-4f50-a4d8-3161bb0ba0b5"
            }
        },
        {
            "cell_type": "code",
            "source": [
                "SELECT\r\n",
                "     TRANSLATE('abcba', 'abc', 'bcd') AS [Translated]\r\n",
                "    ,REPLACE(\r\n",
                "        REPLACE(\r\n",
                "            REPLACE(\r\n",
                "                'abcba', 'a', 'b'\r\n",
                "            ), 'b', 'c')\r\n",
                "        , 'c', 'd') AS [Replaced]"
            ],
            "metadata": {
                "azdata_cell_guid": "acddb36f-eb17-4198-95ae-1e8436775490"
            },
            "outputs": [],
            "execution_count": 0
        },
        {
            "cell_type": "markdown",
            "source": [
                "Allerdings haben wir hier nicht das gewünschte Resultat, den wir ersetzen zuerst die \"a\"s durch \"b\"s und haben dann die Zeichenkette \"bbcbb\", in der ersetzen wir dann die \"b\"s durch \"c\"s und haben \"ccccc\", wo wir die \"c\"s durch \"d\"s ersetzen und \"ddddd\" erhalten. Stattdessen müssten wir verkehrt herum schachteln: "
            ],
            "metadata": {
                "azdata_cell_guid": "63b324aa-4bc1-4939-882a-df7b3b70b8c6"
            }
        },
        {
            "cell_type": "code",
            "source": [
                "SELECT\r\n",
                "     TRANSLATE('abcba', 'abc', 'bcd') AS [Translated]\r\n",
                "    ,REPLACE(\r\n",
                "        REPLACE(\r\n",
                "            REPLACE(\r\n",
                "                'abcba', 'a', 'b'\r\n",
                "            ), 'b', 'c')\r\n",
                "        , 'c', 'd') AS [Replaced]\r\n",
                "    ,REPLACE(\r\n",
                "        REPLACE(\r\n",
                "            REPLACE(\r\n",
                "                'abcba', 'c', 'd'\r\n",
                "            ), 'b', 'c')\r\n",
                "        , 'a', 'b') AS [Replaced2]"
            ],
            "metadata": {
                "azdata_cell_guid": "9ffe5aae-6fb2-4cc3-86b4-15c607d51891"
            },
            "outputs": [],
            "execution_count": 0
        },
        {
            "cell_type": "markdown",
            "source": [
                "Ihr seht also bei solchen zeichenweisen Ersetzungen ist es durchaus wichtig, was ihr in welcher Reihenfolge ersetzt. Also seid zumindest vorsichtig bei geschachtelten `REPLACE`-Statements – oder verwendet stattdessen `TRANSLATE`.  \r\n",
                "\r\n",
                "Was ihr darüber hinaus mit `TRANSLATE` tun könnt ist beispielsweise Klammern zu ersetzen: "
            ],
            "metadata": {
                "azdata_cell_guid": "6697ece4-de64-400b-bb2b-b5d8162f3da1"
            }
        },
        {
            "cell_type": "code",
            "source": [
                "SELECT\r\n",
                "    TRANSLATE('f[x] = {1,2,3}', '[]{}', '()()')"
            ],
            "metadata": {
                "azdata_cell_guid": "8c84ee83-521b-4cb0-9405-ad80f5db1458"
            },
            "outputs": [],
            "execution_count": 0
        },
        {
            "cell_type": "markdown",
            "source": [
                "Hier erhaltet ihr die Zeichenkette \"f(x) = (1,2,3)\" zurück. \n",
                "\n",
                "Ihr seht: Wunder könnt ihr von `TRANSLATE` nicht erwarten, aber um in Zeichenketten Ersetzungen vorzunehmen, ist die Funktion durchaus eine Erleichterung. Also ab ins `TRANSLATE('Duku', 'uk', 'oj')` und ausprobieren. \n",
                "\n",
                "## Referenzen\n",
                "- [Dokumentation von Microsoft](https://docs.microsoft.com/de-de/sql/t-sql/functions/translate-transact-sql?view=sql-server-ver15)"
            ],
            "metadata": {
                "azdata_cell_guid": "b357c2e7-f767-48a8-a585-7b583d25360c"
            }
        }
    ]
}