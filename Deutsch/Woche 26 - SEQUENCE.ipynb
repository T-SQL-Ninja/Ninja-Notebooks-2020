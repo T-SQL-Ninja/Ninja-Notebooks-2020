{
    "metadata": {
        "kernelspec": {
            "name": "SQL",
            "display_name": "SQL",
            "language": "sql"
        },
        "language_info": {
            "name": "sql",
            "version": ""
        }
    },
    "nbformat_minor": 2,
    "nbformat": 4,
    "cells": [
        {
            "cell_type": "markdown",
            "source": [
                "# Woche 26: SEQUENCE\r\n",
                "## Was sind SEQUENCEs?\r\n",
                "Eine der wichtigsten `SEQUENCE`s hatten wir euch bereits im letzten Randori vorgestellt. Generell ist ein `SEQUENCE`-Objekt die Verallgemeinerung des `IDENTITY`-Attributs. Denn während das `IDENTITY`-Attribut dafür sorgt, dass jede neue Zeile eine neue Zahl zugewiesen bekommt, ist das SEQUENCE-Objekt ein Objekt, das Reihen von Zahlen erzeugt. Dabei ist es anders als das `IDENTITY`-Attribut nicht an ein anderes Datenbankobjekt (also eine Tabelle) gebunden, sondern ist ein eigenes Objekt, das abgefragt und verwendet werden kann. \r\n",
                "## Wie könnt ihr mit SEQUENCEs arbeiten?\r\n",
                "Zunächst müsst ihr euch ein `SEQUENCE`-Objekt in einem neuen Schema definieren. Das tut ihr mit dem `CREATE SEQUENCE`-Befehl:"
            ],
            "metadata": {
                "azdata_cell_guid": "2b00b5b4-422d-4351-95a4-7867077f3b69"
            }
        },
        {
            "cell_type": "code",
            "source": [
                "CREATE SCHEMA Test\r\n",
                "GO\r\n",
                "\r\n",
                "CREATE SEQUENCE Test.SeqCount \r\n",
                "    START WITH 1\r\n",
                "    INCREMENT BY 1;\r\n",
                "GO"
            ],
            "metadata": {
                "azdata_cell_guid": "529e95ad-cda5-480d-a41c-deb540c95704"
            },
            "outputs": [],
            "execution_count": 0
        },
        {
            "cell_type": "markdown",
            "source": [
                "Nun habt ihr also das `SEQUENCE`-Objekt erzeugt, die Parameter waren ähnlich wie bei der `IDENTITY`-Eigenschaft der Startwert (also eins) und das Inkrement, also der Wert um den jeweils erhöht wird (also wieder eins). Um euch den jeweils nächsten Wert aus der Sequenz zu holen, führt einige Male das folgende Statement aus: "
            ],
            "metadata": {
                "azdata_cell_guid": "ab6a936f-be2b-4413-8216-5ce3efa4afbe"
            }
        },
        {
            "cell_type": "code",
            "source": [
                "SELECT NEXT VALUE FOR Test.SeqCount"
            ],
            "metadata": {
                "azdata_cell_guid": "37539231-eef1-4d44-a11e-92c48f754f9c"
            },
            "outputs": [],
            "execution_count": 0
        },
        {
            "cell_type": "markdown",
            "source": [
                "Ihr seht, dass bei jeder Abfrage der Wert um eins steigt. Anders als bei der `IDENTITY`-Eigenschaft einer Spalte habt ihr hier aber noch andere Optionen beim Anlegen einer Sequenz. Legen wir nun also eine zweite Sequenz an:"
            ],
            "metadata": {
                "azdata_cell_guid": "46613fe5-2e77-443c-977a-6722d8532815"
            }
        },
        {
            "cell_type": "code",
            "source": [
                "CREATE SEQUENCE Test.SeqCountMax\r\n",
                "    START WITH 1\r\n",
                "    INCREMENT BY 1\r\n",
                "    MINVALUE 1\r\n",
                "    MAXVALUE 5;\r\n",
                "GO"
            ],
            "metadata": {
                "azdata_cell_guid": "c4845666-2632-409d-8bed-bd0ce17bd1e5"
            },
            "outputs": [],
            "execution_count": 0
        },
        {
            "cell_type": "markdown",
            "source": [
                "Dieser Sequenz habt ihr neben dem Startwert auch einen Minimalwert (der in diesem Fall gleich dem Startwert ist) und einen Maximalwert mitgegeben. Holt ihr euch nun sechsmal den nächsten Wert der Sequenz, so überschreitet sie den Maximalwert:"
            ],
            "metadata": {
                "azdata_cell_guid": "bec7e1b6-de82-431f-9d96-cffa642778aa"
            }
        },
        {
            "cell_type": "code",
            "source": [
                "SELECT NEXT VALUE FOR Test.SeqCountMax"
            ],
            "metadata": {
                "azdata_cell_guid": "6c113560-f29e-4be9-89d7-ce8451feb5d2"
            },
            "outputs": [],
            "execution_count": 0
        },
        {
            "cell_type": "markdown",
            "source": [
                "Ihr erhaltet bei den ersten fünf Aufrufen die Werte 1 bis 5 zurück, beim sechsten Aufruf aber eine Fehlermeldung, dass die Sequenz ihren Maximalwert erreicht hat. \r\n",
                "Was kann dagegen getan werden? Einfach: anders als bei der Identity-Eigenschaft können Sequenzen so erstellt werden, dass sie Werte \"recyceln\": "
            ],
            "metadata": {
                "azdata_cell_guid": "a4b82280-6668-4a4d-b50a-0f7c0837e148"
            }
        },
        {
            "cell_type": "code",
            "source": [
                "CREATE SEQUENCE Test.SeqCountCycle\r\n",
                "    START WITH 1\r\n",
                "    INCREMENT BY 1\r\n",
                "    MINVALUE 1\r\n",
                "    MAXVALUE 5\r\n",
                "    CYCLE;\r\n",
                "GO"
            ],
            "metadata": {
                "azdata_cell_guid": "aef6075d-ac78-4af7-8574-0db85acb7416"
            },
            "outputs": [],
            "execution_count": 0
        },
        {
            "cell_type": "markdown",
            "source": [
                "Wenn ihr nun sechsmal den nächsten Wert abruft, so erhaltet ihr beim sechsten Aufruf keinen Fehler, sondern wieder den Wert 1: "
            ],
            "metadata": {
                "azdata_cell_guid": "c26e0936-11e4-41a2-8800-4ef52af37fce"
            }
        },
        {
            "cell_type": "code",
            "source": [
                "SELECT NEXT VALUE FOR Test.SeqCountCycle"
            ],
            "metadata": {
                "azdata_cell_guid": "708c1a45-8d9d-4bee-97d0-c19d3fb0b8e4"
            },
            "outputs": [],
            "execution_count": 0
        },
        {
            "cell_type": "markdown",
            "source": [
                "Ihr könnt aber nicht nur auf den Startwert zurück springen, sondern auch auf andere Werte, beispielsweise können wir in einer Sequenz auch negative Werte ausgeben: "
            ],
            "metadata": {
                "azdata_cell_guid": "c5c54f25-3f56-47a0-b720-1bbb0935531b"
            }
        },
        {
            "cell_type": "code",
            "source": [
                "CREATE SEQUENCE Test.SeqCountCycleNeg\r\n",
                "    START WITH 1\r\n",
                "    INCREMENT BY 1\r\n",
                "    MINVALUE -5\r\n",
                "    MAXVALUE 5\r\n",
                "    CYCLE;\r\n",
                "GO"
            ],
            "metadata": {
                "azdata_cell_guid": "065c2070-f18d-482b-8f89-7290fd9e5613"
            },
            "outputs": [],
            "execution_count": 0
        },
        {
            "cell_type": "markdown",
            "source": [
                "Ruft ihr nun sechsmal den nächsten Wert der Sequenz ab, so erhaltet ihr beim sechsten Aufruf den Wert -5, der dann bis +5 durch läuft um dann wieder zu -5 zu springen:"
            ],
            "metadata": {
                "azdata_cell_guid": "af3d22bf-eb36-4f68-89da-1d2b3eb178c9"
            }
        },
        {
            "cell_type": "code",
            "source": [
                "SELECT NEXT VALUE FOR Test.SeqCountCycleNeg"
            ],
            "metadata": {
                "azdata_cell_guid": "8507a1a4-8589-40d1-9295-2930b98ee1f5"
            },
            "outputs": [],
            "execution_count": 0
        },
        {
            "cell_type": "markdown",
            "source": [
                "Im Übrigen kann euer `INCREMENT BY` auch negativ sein, dann zählt die Sequenz die Werte nicht nach oben, sondern runter, ihr könnt also eine Art \"Countdown\" bauen...\r\n",
                "\r\n",
                "Doch nun zum Nutzen von Sequenzen. Wirklich praktisch werden Sequenzen, wenn ihr eine Art \"Schlüssel\" über mehrere Tabellen definieren müsst. Um das zu demonstrieren, legen wir uns eine Sequenz und zwei Tabellen an, die diese Sequenz als Standardwert für ihre Id-Spalten verwenden: "
            ],
            "metadata": {
                "azdata_cell_guid": "ab2f7106-b174-42c3-8448-a86dfd80c795"
            }
        },
        {
            "cell_type": "code",
            "source": [
                "DROP SEQUENCE IF EXISTS Test.SeqSharedKey;\r\n",
                "CREATE SEQUENCE Test.SeqSharedKey\r\n",
                "    START WITH 1\r\n",
                "    INCREMENT BY 1;\r\n",
                "\r\n",
                "DROP TABLE IF EXISTS Test.SucceededRuns\r\n",
                "DROP TABLE IF EXISTS Test.FailedRuns\r\n",
                "\r\n",
                "CREATE TABLE Test.SuccededRuns \r\n",
                "(\r\n",
                "     RunId int NOT NULL DEFAULT (NEXT VALUE FOR Test.SeqSharedKey)\r\n",
                "    ,RunName varchar(250) \r\n",
                ")\r\n",
                "\r\n",
                "CREATE TABLE Test.FailedRuns \r\n",
                "(\r\n",
                "     RunId int NOT NULL DEFAULT (NEXT VALUE FOR Test.SeqSharedKey)\r\n",
                "    ,RunName varchar(250) \r\n",
                ")"
            ],
            "metadata": {
                "azdata_cell_guid": "1944b8bf-05ba-44b9-aef5-c2d8c62842a8"
            },
            "outputs": [],
            "execution_count": 0
        },
        {
            "cell_type": "markdown",
            "source": [
                "Nun fügen wir Zeilen ein und fragen die Tabellen ab: "
            ],
            "metadata": {
                "azdata_cell_guid": "bd42fc69-c37c-44bc-a5f0-7b8b4187b63a"
            }
        },
        {
            "cell_type": "code",
            "source": [
                "INSERT INTO Test.SuccededRuns (RunName)\r\n",
                "VALUES ('First Succeeded'), ('Second Succeeded')\r\n",
                "\r\n",
                "INSERT INTO Test.FailedRuns (RunName)\r\n",
                "VALUES ('First Failed')\r\n",
                "\r\n",
                "INSERT INTO Test.SuccededRuns (RunName)\r\n",
                "VALUES ('Third Succeeded')\r\n",
                "\r\n",
                "SELECT \r\n",
                "     RunId\r\n",
                "    ,RunName \r\n",
                "FROM Test.SuccededRuns\r\n",
                "\r\n",
                "SELECT \r\n",
                "     RunId\r\n",
                "    ,RunName \r\n",
                "FROM Test.FailedRuns"
            ],
            "metadata": {
                "azdata_cell_guid": "6ca99ccf-72ef-46f3-bd99-0473b6c24d79"
            },
            "outputs": [],
            "execution_count": 0
        },
        {
            "cell_type": "markdown",
            "source": [
                "Wir sehen, dass in `Test.SucceededRuns` die Runs mit den RunIds 1, 2 und 4 zu finden sind, während der Eintrag mit der `RunId` 3 in `Test.FailedRuns` eingetragen wurde. \n",
                "\n",
                "Wichtig zu beachten ist dabei, dass hier aber keine Konsistenz gewährleistet ist, da es sich bei der RunId-Spalte nicht um eine Identity-Spalte handelt, könnten wir hier beliebige Werte eintragen, auch Duplikate oder Fantasiewerte. Anders als bei einer Spalte mit `IDENTITY`-Eigenschaft würdet ihr das nicht einmal merken, da ihr nicht gezwungen seid, einen expliziten `IDENTITY_INSERT` durchzuführen, sondern einfach in die Spalte schreiben könnt und anders als bei einer `IDENTITY`-Spalte würde die Sequenz auch nicht \"merken\" dass hier schon ein höherer Wert eingetragen ist und dort fortsetzen sondern einfach stur beim nächsten Wert der Sequenz fortfahren. In solchen Fällen wäre also über die Applikation eine Sachgemäße Verwendung zu garantieren, da das Datenbanksystem sie nicht unbedingt garantieren kann. \n",
                "\n",
                "## Referenzen\n",
                "- [Dokumentation von Microsoft](https://docs.microsoft.com/de-de/sql/t-sql/statements/create-sequence-transact-sql?view=sql-server-ver15)"
            ],
            "metadata": {
                "azdata_cell_guid": "336575fd-5d06-4bc1-9111-931ea2c269be"
            }
        }
    ]
}