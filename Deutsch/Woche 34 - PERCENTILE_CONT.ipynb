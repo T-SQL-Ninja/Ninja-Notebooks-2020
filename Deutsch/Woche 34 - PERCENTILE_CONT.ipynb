{
    "metadata": {
        "kernelspec": {
            "name": "SQL",
            "display_name": "SQL",
            "language": "sql"
        },
        "language_info": {
            "name": "sql",
            "version": ""
        }
    },
    "nbformat_minor": 2,
    "nbformat": 4,
    "cells": [
        {
            "cell_type": "markdown",
            "source": [
                "# Woche 34: PERCENTILE_CONT\r\n",
                "## Was tut PERCENTILE_CONT? \r\n",
                "Beim letzten Mal hattet ihr im Dojo mit der `PERCENTILE_DISC`-Funktion gearbeitet. Diese Funktion hat euch immer genau den Wert in eurer Tabelle zurückgegeben, bei der ein bestimmtes Quantil erreicht wurde. Das heißt, sie hat auf der diskreten Menge der Daten operiert und einen bestimmten Wert aus dieser Menge herausgesucht, doch wie sieht das aus, wenn ihr stattdessen ein interpoliertes Quantil haben möchtet, also eines das auf einer stetigen (auf Englisch sagt man \"Continuous\") Verteilungsfunktion arbeitet, also nicht mit diskreten Werten wie Anzahl oder Tag sondern mit kontinuierlichen Werten arbeitet? Das macht die `PERCENTILE_CONT`-Funktion, die euer heutiger Randori-Partner sein wird. \r\n",
                "## Wie könnt ihr mit PERCENTILE_CONT arbeiten?\r\n",
                "Wie schon in der letzten Woche wird auch das heutige Dojo eher kurz ausfallen, da die Syntax wenig überraschend dieselbe ist, wie bei `PERCENTILE_DISC`. Nehmen wir uns also einen Datensatz heraus, bei dem wir beide Funktionen miteinander vergleichen können. \r\n",
                "Dafür gehen wir in die WideWorldImporters Datenbank und sehen uns die Preise der Stock Items an:"
            ],
            "metadata": {
                "azdata_cell_guid": "d231490d-35bd-4877-8c75-280429ab93e6"
            }
        },
        {
            "cell_type": "code",
            "source": [
                "SELECT \r\n",
                "     UnitPrice\r\n",
                "    ,StockItemID\r\n",
                "FROM [Warehouse].[StockItems]"
            ],
            "metadata": {
                "azdata_cell_guid": "796e5db3-3fd1-4df5-8d66-d9930cdfcb42"
            },
            "outputs": [],
            "execution_count": 0
        },
        {
            "cell_type": "markdown",
            "source": [
                "Auf dieser Datenmenge möchten wir nun herausfinden, bei welchen Preisen die 0.05 und 0.95-Quantile liegen. Das bedeutet, wir bestimmen den Preisbereich in dem 90% der Produkte liegen, das kann uns helfen, Ausreißer zu finden. Dafür nutzen wir sowohl die `PERCENTILE_DISC`-Funktion:"
            ],
            "metadata": {
                "azdata_cell_guid": "16525bb9-bbc8-4c6f-b87a-520316d56956"
            }
        },
        {
            "cell_type": "code",
            "source": [
                "SELECT \r\n",
                "     UnitPrice\r\n",
                "    ,StockItemID\r\n",
                "    ,PERCENTILE_DISC(0.05) \r\n",
                "        WITHIN GROUP (ORDER BY UnitPrice) \r\n",
                "        OVER (PARTITION BY 1) \r\n",
                "        AS Lower5Percent\r\n",
                "    ,PERCENTILE_DISC(0.95) \r\n",
                "        WITHIN GROUP (ORDER BY UnitPrice) \r\n",
                "        OVER (PARTITION BY 1) \r\n",
                "        AS Upper5Percent\r\n",
                "FROM [Warehouse].[StockItems]"
            ],
            "metadata": {
                "azdata_cell_guid": "91f379d0-eae1-46a9-9ba3-870a7bdb46bc"
            },
            "outputs": [],
            "execution_count": 0
        },
        {
            "cell_type": "markdown",
            "source": [
                "Diese Werte möchten wir nun mit der kontinuierlichen Version der Quantils-Funktion vergleichen:"
            ],
            "metadata": {
                "azdata_cell_guid": "4dedcb6a-afeb-4fd7-8b16-b14726f132e5"
            }
        },
        {
            "cell_type": "code",
            "source": [
                "SELECT \r\n",
                "     UnitPrice\r\n",
                "    ,StockItemID\r\n",
                "    ,PERCENTILE_DISC(0.05) \r\n",
                "        WITHIN GROUP (ORDER BY UnitPrice) \r\n",
                "        OVER (PARTITION BY 1) \r\n",
                "        AS Lower5PercentDisc\r\n",
                "    ,PERCENTILE_DISC(0.95) \r\n",
                "        WITHIN GROUP (ORDER BY UnitPrice) \r\n",
                "        OVER (PARTITION BY 1) \r\n",
                "        AS Upper5PercentDisc\r\n",
                "    ,PERCENTILE_CONT(0.05) \r\n",
                "        WITHIN GROUP (ORDER BY UnitPrice) \r\n",
                "        OVER (PARTITION BY 1) \r\n",
                "        AS Lower5PercentCont\r\n",
                "    ,PERCENTILE_CONT(0.95) \r\n",
                "        WITHIN GROUP (ORDER BY UnitPrice) \r\n",
                "        OVER (PARTITION BY 1) \r\n",
                "        AS Upper5Percent\r\n",
                "FROM [Warehouse].[StockItems]"
            ],
            "metadata": {
                "azdata_cell_guid": "e4964d0c-d8e3-4382-b4b7-15b540362342"
            },
            "outputs": [],
            "execution_count": 0
        },
        {
            "cell_type": "markdown",
            "source": [
                "Ihr seht, dass die diskrete Variante für das untere 0,5 Quantil den Wert 2,55 ausgibt, während die kontinuierliche Variante einen Wert von 2,595 liefert. Diese Werte überprüfen wir nun, indem wir zählen, wie viele Zeilen Preise haben, die kleiner oder gleich diesen Werten sind: "
            ],
            "metadata": {
                "azdata_cell_guid": "449cc0b1-96fd-4473-a4c7-08707e335556"
            }
        },
        {
            "cell_type": "code",
            "source": [
                "SELECT COUNT(*), 'Count DISC'\r\n",
                "FROM [Warehouse].[StockItems]\r\n",
                "WHERE UnitPrice <= 2.55\r\n",
                "UNION ALL \r\n",
                "SELECT COUNT(*), 'Count CONT'\r\n",
                "FROM [Warehouse].[StockItems]\r\n",
                "WHERE UnitPrice <= 2.595"
            ],
            "metadata": {
                "azdata_cell_guid": "c8446586-0e9c-433f-8f27-ecf983883e15"
            },
            "outputs": [],
            "execution_count": 0
        },
        {
            "cell_type": "markdown",
            "source": [
                "Wir sehen in beiden Fällen 12 Zeilen, die das Kriterium erfüllen.  Der Unterschied beider Funktionen liegt darin, dass `PERCENTILE_DISC` eben den diskreten (also den konkreten) Wert einer Zeile zurück liefert, während `PERCENTILE_CONT` zwischen den Werten der Zeilen interpoliert und den echten Wert für das Quantil berechnet und zurückliefert, denn während es Zeilen mit einem UnitPrice von 2,55 gibt, gibt es keine mit einem UnitPrice von 2,595:"
            ],
            "metadata": {
                "azdata_cell_guid": "93255246-e560-4f83-aaf0-ff35f7d0acdb"
            }
        },
        {
            "cell_type": "code",
            "source": [
                "SELECT StockItemID, 'Price DISC'\r\n",
                "FROM [Warehouse].[StockItems]\r\n",
                "WHERE UnitPrice = 2.55\r\n",
                "UNION ALL \r\n",
                "SELECT StockItemID, 'Price CONT'\r\n",
                "FROM [Warehouse].[StockItems]\r\n",
                "WHERE UnitPrice = 2.595"
            ],
            "metadata": {
                "azdata_cell_guid": "01556306-6b66-439d-8d63-5d6f39be4be9"
            },
            "outputs": [],
            "execution_count": 0
        },
        {
            "cell_type": "markdown",
            "source": [
                "Dieses kurze Randori hat euch hoffentlich erklärt, was der Unterschied zwischen den beiden Varianten der `PERCENTILE`-Funktion ist. Welche der Varianten ihr anwenden solltet, hängt dabei von eurer Anwendung ab. Wenn ihr am Ende konkrete Datensätze referenzieren möchtet, die genau auf dem Quantil liegen, dann ist natürlich die `PERCENTILE_DISC`-Funktion vorzuziehen, wenn ihr aber einen Schwellwert möglichst genau angeben möchtet, dann ist `PERCENTILE_CONT` sicher die richtige Wahl. Gut dabei ist, dass ihr die Wahl habt.\n",
                "## Referenzen\n",
                "- [Dokumentation von Microsoft](https://docs.microsoft.com/de-de/sql/t-sql/functions/percentile-cont-transact-sql?view=sql-server-ver15)"
            ],
            "metadata": {
                "azdata_cell_guid": "ef85a073-e248-4dc2-8d8b-925a247b75f6"
            }
        }
    ]
}