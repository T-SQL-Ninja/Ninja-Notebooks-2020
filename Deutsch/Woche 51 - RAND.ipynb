{
    "metadata": {
        "kernelspec": {
            "name": "SQL",
            "display_name": "SQL",
            "language": "sql"
        },
        "language_info": {
            "name": "sql",
            "version": ""
        }
    },
    "nbformat_minor": 2,
    "nbformat": 4,
    "cells": [
        {
            "cell_type": "markdown",
            "source": [
                "# Woche 51: RAND\r\n",
                "## Was ist RAND? \r\n",
                "Die `RAND`-Funktion liefert euch – wenig überraschend – Zufallszahlen und gehört auch zu den am häufigsten verwendeten Funktionen in T-SQL. Dabei ist die `RAND`-Funktion ein wenig speziell, weshalb wir uns im Folgenden ansehen wollen, wie sie sich in bestimmten Szenarien verhält. \r\n",
                "## Wie könnt ihr mit RAND arbeiten?\r\n",
                "Beginnen wir damit, dass ihr eine einfache Zufallszahl generiert. Folgender Aufruf gibt euch eine zufällige Zahl zwischen null und eins zurück:"
            ],
            "metadata": {
                "azdata_cell_guid": "1b1b0e9e-310b-4d47-a33b-19c701216a87"
            }
        },
        {
            "cell_type": "code",
            "source": [
                "SELECT RAND()"
            ],
            "metadata": {
                "azdata_cell_guid": "a5cd6380-6520-4c96-9167-73d6faf734df"
            },
            "outputs": [],
            "execution_count": 0
        },
        {
            "cell_type": "markdown",
            "source": [
                "Wenn ihr diese Abfrage mehrfach ausführt, bekommt ihr jedes Mal eine neue Zahl. Versuchen wir nun, mehrere Zufallszahlen in eine Tabelle zu schreiben. Dafür legen wir uns zunächst eine temporäre Tabelle an:"
            ],
            "metadata": {
                "azdata_cell_guid": "a57f1771-5230-4c21-a73f-ef4528c0f4ce"
            }
        },
        {
            "cell_type": "code",
            "source": [
                "DROP TABLE IF EXISTS #Randomness\r\n",
                "CREATE TABLE #Randomness (\r\n",
                "    MyNumber Decimal(10,2) \r\n",
                ")"
            ],
            "metadata": {
                "azdata_cell_guid": "5374c79b-a30f-4646-b623-4ee84bafdbf9"
            },
            "outputs": [],
            "execution_count": 0
        },
        {
            "cell_type": "markdown",
            "source": [
                "Nun versuchen wir, zufällige Zahlen einzufügen:"
            ],
            "metadata": {
                "azdata_cell_guid": "77f159e8-89a9-47fc-9807-fb2660e90871"
            }
        },
        {
            "cell_type": "code",
            "source": [
                "INSERT INTO #Randomness \r\n",
                "(MyNumber)\r\n",
                "VALUES \r\n",
                "(RAND()), (RAND()), (RAND())\r\n",
                "\r\n",
                "SELECT * FROM #Randomness"
            ],
            "metadata": {
                "azdata_cell_guid": "96f6b328-fc2a-4f13-bbc6-9613574fa567"
            },
            "outputs": [],
            "execution_count": 0
        },
        {
            "cell_type": "markdown",
            "source": [
                "Nun habt ihr aber die Möglichkeit, der `RAND`-Funktion einen sogenannten \"Seed\" zu übergeben, also eine Zahl auf deren Basis die Zufallszahlen ermittelt werden. Tun wir das nun in unserem Beispiel:"
            ],
            "metadata": {
                "azdata_cell_guid": "16768124-806c-4ee5-9a91-627e63e34ba2"
            }
        },
        {
            "cell_type": "code",
            "source": [
                "INSERT INTO #Randomness \r\n",
                "(MyNumber)\r\n",
                "VALUES \r\n",
                "(RAND(100)), (RAND()), (RAND())\r\n",
                "\r\n",
                "INSERT INTO #Randomness \r\n",
                "(MyNumber)\r\n",
                "VALUES \r\n",
                "(RAND(100)), (RAND()), (RAND())\r\n",
                "\r\n",
                "SELECT * FROM #Randomness"
            ],
            "metadata": {
                "azdata_cell_guid": "3a0b1915-1276-4324-ac53-a416f0904529"
            },
            "outputs": [],
            "execution_count": 0
        },
        {
            "cell_type": "markdown",
            "source": [
                "Als Resultat dieser beiden `INSERT`-Statements seht ihr nun nicht sechs komplett zufällige Zahlen in euerer Tabelle sondern drei zufällige Zahlen, die jeweils zweimal eingefügt werden. Das bedeutet, dass ihr durch das Festlegen des Seed-Wertes die Abfolge der Zufallszahlen festlegt. Entfernt ihr beim zweiten `INSERT`-Statement den Seed, so erhaltet ihr hier wirklich zufällige Zahlen. \r\n",
                "Typischerweise ist der Rückgabewert von `RAND` eine Gleitkommazahl vom Typ float und einem Wertebereich zwischen 0 und 1. Wenn ihr größere Werte zurückbekommen möchtet, müsst ihr entsprechend skalieren, indem ihr multipliziert mit dem Maximalwert, der euch interessiert (oder dem doppelten Maximalwert, falls ihr auch negative Ergebnisse sehen möchtet). So erzeugt ihr also Zufallszahlen zwischen 0 und 10:"
            ],
            "metadata": {
                "azdata_cell_guid": "7ce1ae10-3ed5-494d-b4cc-9806aada7ec7"
            }
        },
        {
            "cell_type": "code",
            "source": [
                "INSERT INTO #Randomness \r\n",
                "(MyNumber)\r\n",
                "VALUES \r\n",
                "(10*RAND()), (10*RAND()), (10*RAND())\r\n",
                "\r\n",
                "SELECT * FROM #Randomness"
            ],
            "metadata": {
                "azdata_cell_guid": "b2e5319e-b6cb-45a8-abad-64111544a330"
            },
            "outputs": [],
            "execution_count": 0
        },
        {
            "cell_type": "markdown",
            "source": [
                "Und um Werte zwischen -5 und 5 zu bekommen, subtrahiert ihr noch 5 vom Resultat:"
            ],
            "metadata": {
                "azdata_cell_guid": "7026d3d5-080d-468d-bc4e-70d5c1882fbd"
            }
        },
        {
            "cell_type": "code",
            "source": [
                "INSERT INTO #Randomness \r\n",
                "(MyNumber)\r\n",
                "VALUES \r\n",
                "((10*RAND())-5.0), ((10*RAND())-5.0), ((10*RAND())-5.0)\r\n",
                "\r\n",
                "SELECT * FROM #Randomness"
            ],
            "metadata": {
                "azdata_cell_guid": "78c1cb67-ade5-459f-ae98-cb2f36b408e2"
            },
            "outputs": [],
            "execution_count": 0
        },
        {
            "cell_type": "markdown",
            "source": [
                "\r\n",
                "Wenn euch nun ganzzahlige Zufallszahlen interessieren:"
            ],
            "metadata": {
                "azdata_cell_guid": "e2949184-d8b4-4aa6-a1c6-d58145a01b3a"
            }
        },
        {
            "cell_type": "code",
            "source": [
                "INSERT INTO #Randomness \r\n",
                "(MyNumber)\r\n",
                "VALUES \r\n",
                " (CAST(((10*RAND())-5.0) AS INT))\r\n",
                ",(CAST(((10*RAND())-5.0) AS INT)) \r\n",
                ",(CAST(((10*RAND())-5.0) AS INT))\r\n",
                "\r\n",
                "SELECT * FROM #Randomness"
            ],
            "metadata": {
                "azdata_cell_guid": "cc5043c2-fae1-4175-9708-c1eaae7d3d96"
            },
            "outputs": [],
            "execution_count": 0
        },
        {
            "cell_type": "markdown",
            "source": [
                "Und natürlich könnt ihr über `RAND` auch zufällige Datumswerte generieren. Hier erzeugt ihr ein zufälliges Datum das im letzten Jahr liegt, wobei der Zeit-Anteil der Datetime-Spalte immer dem Zeit-Anteil der Ausführung  entspricht:"
            ],
            "metadata": {
                "azdata_cell_guid": "15e1d4ef-0757-4120-b18d-2b3b7ab05099"
            }
        },
        {
            "cell_type": "code",
            "source": [
                "DECLARE @startdate datetime = DATEADD(Year, -1, GETDATE())\r\n",
                "DECLARE @enddate datetime = GETDATE()\r\n",
                "\r\n",
                "SELECT DATEADD(DAY, RAND()*DATEDIFF(DAY, @startdate, @enddate), @startdate)"
            ],
            "metadata": {
                "azdata_cell_guid": "a9a2929f-4f7f-4e5a-be5d-e435e412c29c"
            },
            "outputs": [],
            "execution_count": 0
        },
        {
            "cell_type": "markdown",
            "source": [
                "Wenn ihr auch die Zeit randomisieren möchtet, dann ersetzt ihr einfach `DAY` durch `SECOND`:"
            ],
            "metadata": {
                "azdata_cell_guid": "e7334c89-fae9-463f-8fe0-e9cf83e71cf4"
            }
        },
        {
            "cell_type": "code",
            "source": [
                "DECLARE @startdate datetime = DATEADD(Year, -1, GETDATE())\r\n",
                "DECLARE @enddate datetime = GETDATE()\r\n",
                "\r\n",
                "SELECT DATEADD(SECOND, RAND()*DATEDIFF(SECOND, @startdate, @enddate), @startdate)"
            ],
            "metadata": {
                "azdata_cell_guid": "0955d775-36f3-4bf7-8cde-ba9bbe00928f"
            },
            "outputs": [],
            "execution_count": 0
        },
        {
            "cell_type": "markdown",
            "source": [
                "Sortieren könnt ihr in zufälliger Reihenfolge übrigens nicht mit der `RAND`-Funktion, denn die folgende Abfrage liefert immer wieder dieselbe Sortierung: "
            ],
            "metadata": {
                "azdata_cell_guid": "604457de-2cc3-4dca-ac6b-2b667e9f1095"
            }
        },
        {
            "cell_type": "code",
            "source": [
                "SELECT MyNumber\r\n",
                "FROM #Randomness\r\n",
                "ORDER BY RAND()"
            ],
            "metadata": {
                "azdata_cell_guid": "e4586ade-6e8f-40d2-81dc-4487e937dbc2"
            },
            "outputs": [],
            "execution_count": 0
        },
        {
            "cell_type": "markdown",
            "source": [
                "Stattdessen könnt ihr hier anders vorgehen und nach einem Wert sortieren, der zufällig generiert wird: "
            ],
            "metadata": {
                "azdata_cell_guid": "44266fbd-8068-4a10-992a-3210b07a8fd5"
            }
        },
        {
            "cell_type": "code",
            "source": [
                "SELECT MyNumber\r\n",
                "FROM #Randomness\r\n",
                "ORDER BY NEWID()"
            ],
            "metadata": {
                "azdata_cell_guid": "1d1f4de3-613b-4e10-9264-88f0e1b6c8a5"
            },
            "outputs": [],
            "execution_count": 0
        },
        {
            "cell_type": "markdown",
            "source": [
                "Ihr habt heute im Dojo gelernt, wie ihr zufällige Werte im SQL Server erzeugt und verwendet. Die Zahlen mögen zufällig sein, gutes SQL ist es definitiv nicht…\n",
                "\n",
                "## Referenzen\n",
                "- [Dokumentation von Microsoft](https://docs.microsoft.com/de-de/sql/t-sql/functions/rand-transact-sql?view=sql-server-ver15)\n",
                ""
            ],
            "metadata": {
                "azdata_cell_guid": "38ae9297-f6db-4896-b143-2cb67a67bfba"
            }
        }
    ]
}