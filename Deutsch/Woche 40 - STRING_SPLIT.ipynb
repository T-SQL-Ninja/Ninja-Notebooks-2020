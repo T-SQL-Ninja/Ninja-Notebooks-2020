{
    "metadata": {
        "kernelspec": {
            "name": "SQL",
            "display_name": "SQL",
            "language": "sql"
        },
        "language_info": {
            "name": "sql",
            "version": ""
        }
    },
    "nbformat_minor": 2,
    "nbformat": 4,
    "cells": [
        {
            "cell_type": "markdown",
            "source": [
                "# Woche 40: STRING_SPLIT\r\n",
                "## Was tut STRING_SPLIT? \r\n",
                "In den Wochen hattet ihr hier einige Möglichkeiten kennengelernt, um kommaseparierte Listen in SQL zu erzeugen, neben `STUFF` in Kombination mit `SELECT FOR XML` und `STRING_AGG` auch `CONCAT_WS`. In dieser Woche möchten wir den umgekehrten Weg gehen und eine Zeichenkette, die kommaseparierte Werte enthält in ihre Bestandteile zerlegen. Seit dem SQL Server 2016 gibt es in der relationalen Datenbankengine von Microsoft mit `STRING_SPLIT` eine Möglichkeit, das zu tun. \r\n",
                "\r\n",
                "## Wie verwendet man STRING_SPLIT?\r\n",
                "Bis zum SQL Server 2016 musstet ihr, wenn ihr Strings zerlegen wolltet, üblicherweise eine benutzerdefinierte Funktion schreiben, die wahlweise in einer WHILE-Schleife über `CHARINDEX` und `SUBSTRING` operierte oder wie folgt die Liste in ein XML-Objekt umwandelte, das sich abfragen ließ:"
            ],
            "metadata": {
                "azdata_cell_guid": "3a16511c-d21f-4104-a3d6-3ff066243ffb"
            }
        },
        {
            "cell_type": "code",
            "source": [
                "SELECT item = y.i.value('(./text())[1]', 'nvarchar(4000)')\r\n",
                "FROM \r\n",
                "( \r\n",
                "    SELECT x = CONVERT(XML, '<i>' \r\n",
                "            + REPLACE('Akio,Hiraku,Kazuo', ',', '</i><i>') \r\n",
                "            + '</i>').query('.')\r\n",
                ") AS a CROSS APPLY x.nodes('i') AS y(i)"
            ],
            "metadata": {
                "azdata_cell_guid": "86ba2729-9855-49a8-9fb6-9c2adbef6f34"
            },
            "outputs": [],
            "execution_count": 0
        },
        {
            "cell_type": "markdown",
            "source": [
                "Inzwischen ist das viel einfacher geworden, denn der SQL Server bietet mit `STRING_SPLIT` eine Methode, um eine kommaseparierte Liste in ihre Bestandteile zu zerlegen ohne weitere Klimmzüge zu betreiben. Die `STRING_SPLIT`-Funktion hat als Rückgabewert dabei eine Tabelle mit genau einer Spalte, die \"value\" heißt und die einzelnen Bestandteile der Zeichenkette enthält. Um die Bestandteile der Zeichenkette zu sehen, müsst ihr die \"value\"-Spalte aus dieser Rückgabe abfragen:"
            ],
            "metadata": {
                "azdata_cell_guid": "a382b72b-6b29-4d0c-9eac-53f5eb413e7d"
            }
        },
        {
            "cell_type": "code",
            "source": [
                "SELECT [value] FROM STRING_SPLIT('Akio,Hiraku,Kazuo', ',')  "
            ],
            "metadata": {
                "azdata_cell_guid": "fc36af40-38c9-41f6-9d9a-5e001251bd10"
            },
            "outputs": [],
            "execution_count": 0
        },
        {
            "cell_type": "markdown",
            "source": [
                "Wichtig ist dabei, dass anders als beispielsweise die `REPLACE`-Funktion, die `STRING_SPLIT`-Funktion nur eine Zeichenkette mit einer Länge von eins als zweites Argument, also als Trennzeichen akzeptiert. Es ist also nicht möglich, einen HTML-String beispielsweise nach `<br/>`-Tags zu trennen. Doch was passiert, wenn eure Zeichenkette beispielsweise zwei Kommas direkt hintereinander enthält? "
            ],
            "metadata": {
                "azdata_cell_guid": "addbf3c5-bd93-47e2-afb2-a9e2db478fb2"
            }
        },
        {
            "cell_type": "code",
            "source": [
                "SELECT [value] FROM STRING_SPLIT('Akio,Hiraku,,Kazuo', ',') "
            ],
            "metadata": {
                "azdata_cell_guid": "21497d8e-0886-48c9-b6af-d5b252e51b08"
            },
            "outputs": [],
            "execution_count": 0
        },
        {
            "cell_type": "markdown",
            "source": [
                "In diesem Fall enthält eure Rückgabe-Tabelle eine Zeile mit einem leeren String, allerdings keinen `NULL`-Wert. Selbiges passiert euch, wenn die Zeichenkette mit einem Komma abschließt:"
            ],
            "metadata": {
                "azdata_cell_guid": "3b4f9ea7-7c7d-427c-bb43-6a50a4baffdf"
            }
        },
        {
            "cell_type": "code",
            "source": [
                "SELECT [value] FROM STRING_SPLIT('Akio,Hiraku,,Kazuo,', ',')  "
            ],
            "metadata": {
                "azdata_cell_guid": "22a20d93-97af-4b1a-af4a-72390c696019"
            },
            "outputs": [],
            "execution_count": 0
        },
        {
            "cell_type": "markdown",
            "source": [
                "Wollt ihr diese leeren Rückgaben unterbinden, so müsst ihr sie über eine `WHERE`-Bedingung filtern, das ist natürlich möglich, da ihr ja eine Abfrage auf dem Rückgabewert ausführt. Dafür lassen wir uns zunächst die Länge der einzelnen Teile ausgeben:"
            ],
            "metadata": {
                "azdata_cell_guid": "11685489-5cdc-4d9b-a991-a18e9f6c8f98"
            }
        },
        {
            "cell_type": "code",
            "source": [
                "SELECT \r\n",
                "     [value]\r\n",
                "    ,LEN(TRIM([value])) AS [Length] \r\n",
                "FROM STRING_SPLIT('Akio,Hiraku,,Kazuo,', ',')  "
            ],
            "metadata": {
                "azdata_cell_guid": "4b7c36e4-98f1-48bf-bdba-ec0acbf3718f"
            },
            "outputs": [],
            "execution_count": 0
        },
        {
            "cell_type": "markdown",
            "source": [
                "Auf diese Länge könnt ihr nun natürlich die Ergebnismenge filtern:"
            ],
            "metadata": {
                "azdata_cell_guid": "f1dc4611-c6ff-4589-9de4-0fa18f04e383"
            }
        },
        {
            "cell_type": "code",
            "source": [
                "SELECT \r\n",
                "     [value]\r\n",
                "    ,LEN(TRIM([value])) AS [Length] \r\n",
                "FROM STRING_SPLIT('Akio,Hiraku,,Kazuo,', ',')  \r\n",
                "WHERE LEN(TRIM([value])) > 0"
            ],
            "metadata": {
                "azdata_cell_guid": "26819956-ba4d-42d5-83d4-20e218c54a7d"
            },
            "outputs": [],
            "execution_count": 0
        },
        {
            "cell_type": "markdown",
            "source": [
                "Nutzt ihr dies nun in Kombination mit `STRING_AGG`, so könnt ihr beispielsweise eine kommaseparierte Liste bereinigen und die leeren Werte sowie hinten stehende Kommas filtern:"
            ],
            "metadata": {
                "azdata_cell_guid": "416abf38-4a3b-4b39-8258-ffab0b198d67"
            }
        },
        {
            "cell_type": "code",
            "source": [
                "SELECT \r\n",
                "    STRING_AGG([value], ',')\r\n",
                "FROM STRING_SPLIT('Akio,Hiraku,,Kazuo,', ',')  \r\n",
                "WHERE LEN(TRIM([value])) > 0"
            ],
            "metadata": {
                "azdata_cell_guid": "f34289c3-2148-41d0-a230-895f5bb3fdf4"
            },
            "outputs": [],
            "execution_count": 0
        },
        {
            "cell_type": "markdown",
            "source": [
                "Nachdem ihr nun in den letzten Wochen viele Methoden kennengelernt hattet, um einzelne Strings zu Zeichenketten zu verknüpfen, habt ihr nun die gegenteilige Funktion kennengelernt, um eine Zeichenkette wieder in ihre Bestandteile zu zerlegen. Nutzt dieses Katana um eure kommaseparierten Zeichenketten zukünftig ohne hässliche benutzerdefinierte Funktionen fachgerecht zu zerlegen. \n",
                "\n",
                "## Referenzen\n",
                "- [Dokumentation von Microsoft](https://docs.microsoft.com/de-de/sql/t-sql/functions/string-split-transact-sql?view=sql-server-ver15)\n",
                ""
            ],
            "metadata": {
                "azdata_cell_guid": "af9ee70c-a07a-411f-86c2-9b605da52ccc"
            }
        }
    ]
}