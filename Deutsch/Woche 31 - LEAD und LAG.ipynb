{
    "metadata": {
        "kernelspec": {
            "name": "SQL",
            "display_name": "SQL",
            "language": "sql"
        },
        "language_info": {
            "name": "sql",
            "version": ""
        }
    },
    "nbformat_minor": 2,
    "nbformat": 4,
    "cells": [
        {
            "cell_type": "markdown",
            "source": [
                "# Woche 31: LEAD und LAG\r\n",
                "## Was sind LEAD und LAG? \r\n",
                "In der vergangenen Woche hattet ihr gesehen, wie ihr mit `FIRST_VALUE` und `LAST_VALUE` die ersten und letzten Zeilen in einem Abfragefenster geben lasst. Doch wie geht ihr vor, wenn ihr eine Zeile der Sales.Order-Tabelle mit der vorangegangenen Bestellung des Kunden vergleichen möchtet? Dann sind `LEAD` und `LAG` das Mittel der Wahl. `LEAD` gibt euch die nächste Zeile im Ergebnisfenster zurück, `LAG` liefert hingegen die vorangegangene Zeile.\r\n",
                "## Wie könnt ihr mit LEAD und LAG arbeiten?\r\n",
                "Wir starten wie schon in der letzten Woche wieder mit einer Abfrage auf die `Sales.Order`-Tabelle und sehen uns einige Spalten an:"
            ],
            "metadata": {
                "azdata_cell_guid": "c492dbc5-fba3-45d7-a87c-af5c0f6ce5b5"
            }
        },
        {
            "cell_type": "code",
            "source": [
                "SELECT \r\n",
                "     OrderDate\r\n",
                "    ,OrderID\r\n",
                "    ,ExpectedDeliveryDate\r\n",
                "    ,CustomerID\r\n",
                "FROM [Sales].[Orders]"
            ],
            "metadata": {
                "azdata_cell_guid": "08a3900b-c11e-4dd2-8fdd-c069c682d4d5"
            },
            "outputs": [],
            "execution_count": 0
        },
        {
            "cell_type": "markdown",
            "source": [
                "Nun fügen wir eine weitere Spalte hinzu in der wir mit der `LAG`-Funktion das Datum der vorangegangenen Zeile im Fenster, das nach Kunden partitioniert ist, zurückgeben. Die Syntax ist dabei sehr ähnlich zu der von `FIRST_VALUE` und `LAST_VALUE`, allerdings bekommt die `LAG`-Funktion (genauso wie die `LEAD`-Funktion) noch eine ganze Zahl als Argument, das angibt, um wieviele Zeilen ihr zurückgehen möchtet (im Beispiel gehen wir um eine Zeile zurück, übergeben also die 1 als Argument):"
            ],
            "metadata": {
                "azdata_cell_guid": "05d44814-96a6-4b65-90fe-4714c38967bb"
            }
        },
        {
            "cell_type": "code",
            "source": [
                "SELECT \r\n",
                "     OrderDate\r\n",
                "    ,LAG(OrderDate, 1) OVER (PARTITION BY CustomerID ORDER BY OrderDate) As DatePreviousOrder\r\n",
                "    ,OrderID\r\n",
                "    ,ExpectedDeliveryDate\r\n",
                "    ,CustomerID\r\n",
                "FROM [Sales].[Orders]"
            ],
            "metadata": {
                "azdata_cell_guid": "f59d2dbb-0a8a-4ffb-bd54-4e80fc6ab4d8"
            },
            "outputs": [],
            "execution_count": 0
        },
        {
            "cell_type": "markdown",
            "source": [
                "Die erste Zeile für jeden Kunden hat dabei in der neu berechneten `DatePreviousOrder`-Spalte keinen Eintrag (also `NULL` als Wert), was daran liegt, dass die erste Bestellung jedes Kunden natürlich keinen Vorgänger hat.\r\n",
                "\r\n",
                "Wie schon `FIRST_VALUE` und `LAST_VALUE`, könnt ihr natürlich auch `LEAD` und `LAG` in Funktionen verwenden: "
            ],
            "metadata": {
                "azdata_cell_guid": "9cf596c0-a369-4ec5-b5dc-7ba14ecb61e4"
            }
        },
        {
            "cell_type": "code",
            "source": [
                "SELECT \r\n",
                "     OrderDate\r\n",
                "    ,LAG(OrderDate, 1) OVER (PARTITION BY CustomerID ORDER BY OrderDate) As DatePreviousOrder\r\n",
                "    ,DATEDIFF(DAY, LAG(OrderDate, 1) OVER (PARTITION BY CustomerID ORDER BY OrderDate), OrderDate) As DaysSincePreviousOrder\r\n",
                "    ,OrderID\r\n",
                "    ,ExpectedDeliveryDate\r\n",
                "    ,CustomerID\r\n",
                "FROM [Sales].[Orders]"
            ],
            "metadata": {
                "azdata_cell_guid": "6eb7bce2-f3dd-4069-bd11-a49c843cf179"
            },
            "outputs": [],
            "execution_count": 0
        },
        {
            "cell_type": "markdown",
            "source": [
                "Mit `LEAD` funktioniert die Abfrage genauso nur dass hier die letzte Zeile keinen Wert in der neu berechneten Spalte hat: "
            ],
            "metadata": {
                "azdata_cell_guid": "408d7ad9-ebdb-4ee9-ac57-5bbbc88a550b"
            }
        },
        {
            "cell_type": "code",
            "source": [
                "SELECT \r\n",
                "     OrderDate\r\n",
                "    ,LAG(OrderDate, 1) OVER (PARTITION BY CustomerID ORDER BY OrderDate) As DatePreviousOrder\r\n",
                "    ,DATEDIFF(DAY, LAG(OrderDate, 1) OVER (PARTITION BY CustomerID ORDER BY OrderDate), OrderDate) As DaysSincePreviousOrder\r\n",
                "    ,LEAD(OrderDate, 1) OVER (PARTITION BY CustomerID ORDER BY OrderDate) As DateNextOrder\r\n",
                "    ,DATEDIFF(DAY, OrderDate, LEAD(OrderDate, 1) OVER (PARTITION BY CustomerID ORDER BY OrderDate)) As DaysUnitlNextOrder\r\n",
                "    ,OrderID\r\n",
                "    ,ExpectedDeliveryDate\r\n",
                "    ,CustomerID\r\n",
                "FROM [Sales].[Orders]"
            ],
            "metadata": {
                "azdata_cell_guid": "b33cf1b1-5ae3-4fb2-8e6e-796123981fe4"
            },
            "outputs": [],
            "execution_count": 0
        },
        {
            "cell_type": "markdown",
            "source": [
                "Ihr habt nun also das Werkzeug in der Hand, um in Tabellen mit zeitlich abhängigen Daten, Analysen durchzuführen, ihr könnt einerseits herausfinden, wann eine Aufzeichnung beginnt und andererseits auch, wie sie sich im Vergleich zum Vorwert verändert hat. Der Auswertung von Bestellungen, Messwerten oder anderen Datenreihen auch außerhalb dieses Dojos steht nun nichts mehr im Weg. Schnappt sie euch, Ninjas! \n",
                "\n",
                "## Referenzen\n",
                "- [Dokumentation von Microsoft zu LEAD](https://docs.microsoft.com/de-de/sql/t-sql/functions/lead-transact-sql?view=sql-server-ver15)\n",
                "- [Dokumentation von Microsoft zu LAG](https://docs.microsoft.com/de-de/sql/t-sql/functions/lag-transact-sql?view=sql-server-ver15)"
            ],
            "metadata": {
                "azdata_cell_guid": "40f01310-d6b6-4187-bbfd-2255a2f8e726"
            }
        }
    ]
}