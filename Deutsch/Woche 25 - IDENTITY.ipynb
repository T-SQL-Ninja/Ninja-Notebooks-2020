{
    "metadata": {
        "kernelspec": {
            "name": "SQL",
            "display_name": "SQL",
            "language": "sql"
        },
        "language_info": {
            "name": "sql",
            "version": ""
        }
    },
    "nbformat_minor": 2,
    "nbformat": 4,
    "cells": [
        {
            "cell_type": "markdown",
            "source": [
                "# Woche 25: IDENTITY\r\n",
                "## Was ist IDENTITY? \r\n",
                "`IDENTITY` ist eine Eigenschaft für Spalten einer Tabelle. Sie kann verwendet werden, um Schlüssel zu erzeugen, also eindeutige, fortlaufende Werte in einer Spalte. Dabei garantiert der SQL Server, dass auch mehrere parallel laufende Transaktionen verschiedene Werte für die Spalte erhalten. \r\n",
                "\r\n",
                "## Wie könnt ihr mit IDENTITY arbeiten?\r\n",
                "Die `IDENTITY`-Eigenschaft bekommt zwei Werte übergeben, den `SEED`, also den Startwert, den die erste Zeile in der Tabelle enthält und den `INCREMENT`, also den Wert, um wieviel der aktuelle Wert nach jeder Zeile erhöht werden soll. Üblich ist es, beide Werte auf eins zu setzen. \r\n",
                "Legen wir uns also einmal eine Tabelle mit `IDENTITY`-Spalte an:"
            ],
            "metadata": {
                "azdata_cell_guid": "f92f2e5e-89ca-4a47-95a9-50abc48888e1"
            }
        },
        {
            "cell_type": "code",
            "source": [
                "DROP TABLE IF EXISTS #IdTest \r\n",
                "\r\n",
                "CREATE TABLE #IdTest\r\n",
                "(\r\n",
                "     Id int IDENTITY(1,1)\r\n",
                "    ,Txt varchar(250)\r\n",
                ")"
            ],
            "metadata": {
                "azdata_cell_guid": "6ed75fe0-d36a-4d62-a772-22a34e2094e4"
            },
            "outputs": [],
            "execution_count": 0
        },
        {
            "cell_type": "markdown",
            "source": [
                "Nun fügen wir eine Zeile in diese Tabelle ein und fragen sie ab: "
            ],
            "metadata": {
                "azdata_cell_guid": "4dd1cea2-dd53-47d2-b599-863f2b43c240"
            }
        },
        {
            "cell_type": "code",
            "source": [
                "INSERT INTO #IdTest (Txt) \r\n",
                "VALUES ('Test')\r\n",
                "\r\n",
                "SELECT \r\n",
                "     Id\r\n",
                "    ,Txt \r\n",
                "FROM #IdTest"
            ],
            "metadata": {
                "azdata_cell_guid": "0bec340f-4e42-4a8b-9645-78a06f908809"
            },
            "outputs": [],
            "execution_count": 0
        },
        {
            "cell_type": "markdown",
            "source": [
                "Ihr seht eine Zeile mit dem Text \"Test\" und dem `ID`-Wert von eins. Fügt ihr nun zwei weitere Spalten hinzu, dann erhalten diese die Id-Werte zwei und drei: "
            ],
            "metadata": {
                "azdata_cell_guid": "6b158e4c-9923-4872-9107-fa38a0f4c8dd"
            }
        },
        {
            "cell_type": "code",
            "source": [
                "INSERT INTO #IdTest (Txt) \r\n",
                "VALUES ('Test2'), ('Test3')\r\n",
                "\r\n",
                "SELECT \r\n",
                "     Id\r\n",
                "    ,Txt \r\n",
                "FROM #IdTest"
            ],
            "metadata": {
                "azdata_cell_guid": "a01090ee-2966-40ff-af0d-0cdb4ad2ec63"
            },
            "outputs": [],
            "execution_count": 0
        },
        {
            "cell_type": "markdown",
            "source": [
                "Euch ist als erprobte Ninjas sicher aufgefallen, dass wir die Id-Spalte bei den `INSERT`-Statements ausgelassen hatten, da diese als `IDENTITY` definiert ist und daher vom SQL Server selber gefüllt wird. Versuchen wir nun also, diese Spalte mit anzugeben: "
            ],
            "metadata": {
                "azdata_cell_guid": "5582c1c9-5d47-4998-974e-4e75bb0284ee"
            }
        },
        {
            "cell_type": "code",
            "source": [
                "INSERT INTO #IdTest (Id, Txt) \r\n",
                "VALUES (4, 'Test4')"
            ],
            "metadata": {
                "azdata_cell_guid": "26658a17-4e26-44a6-9a5e-00b4971ac8d6"
            },
            "outputs": [],
            "execution_count": 0
        },
        {
            "cell_type": "markdown",
            "source": [
                "Dann erhalten wir eine Fehlermeldung, die besagt, dass es nicht möglich ist, in eine `IDENTITY`-Spalte einzufügen, wenn `IDENTITY_INSERT` ausgeschaltet ist. Ändern wir das also: "
            ],
            "metadata": {
                "azdata_cell_guid": "0c55c186-8c59-485d-bc80-56b67eb4bd5e"
            }
        },
        {
            "cell_type": "code",
            "source": [
                "SET IDENTITY_INSERT #IdTest ON\r\n",
                "\r\n",
                "INSERT INTO #IdTest (Id, Txt) \r\n",
                "VALUES (4, 'Test4')\r\n",
                "\r\n",
                "SET IDENTITY_INSERT #IdTest OFF\r\n",
                "\r\n",
                "SELECT \r\n",
                "     Id\r\n",
                "    ,Txt \r\n",
                "FROM #IdTest"
            ],
            "metadata": {
                "azdata_cell_guid": "f79eccab-e76a-4deb-9686-bd339088e9b5"
            },
            "outputs": [],
            "execution_count": 0
        },
        {
            "cell_type": "markdown",
            "source": [
                "Nun enthält unsere Tabelle eine weitere Zeile und wenn wir noch eine Zeile einfügen, dann erhält diese sogar korrekterweise die Id 5: "
            ],
            "metadata": {
                "azdata_cell_guid": "a225c1e3-5884-44a3-bda5-f76b6e7bea8a"
            }
        },
        {
            "cell_type": "code",
            "source": [
                "INSERT INTO #IdTest (Txt) \r\n",
                "VALUES ('Test2'), ('Test3')\r\n",
                "\r\n",
                "SELECT \r\n",
                "     Id\r\n",
                "    ,Txt \r\n",
                "FROM #IdTest"
            ],
            "metadata": {
                "azdata_cell_guid": "7a922e91-6fdf-452e-9b61-459ba3348ef2"
            },
            "outputs": [],
            "execution_count": 0
        },
        {
            "cell_type": "markdown",
            "source": [
                "Fügen wir nun also eine Id ein, die nicht zur aktuellen Reihe passt und hinterher bei eingeschalteter `IDENTITY`-Funktion eine weitere Zeile: "
            ],
            "metadata": {
                "azdata_cell_guid": "6f9edcfb-b641-4032-b97c-d1af95262c71"
            }
        },
        {
            "cell_type": "code",
            "source": [
                "SET IDENTITY_INSERT #IdTest ON\r\n",
                "INSERT INTO #IdTest (Id, Txt) \r\n",
                "VALUES (60, 'Test6')\r\n",
                "SET IDENTITY_INSERT #IdTest OFF\r\n",
                "\r\n",
                "INSERT INTO #IdTest (Txt) \r\n",
                "VALUES ('Test5')\r\n",
                "\r\n",
                "SELECT \r\n",
                "     Id\r\n",
                "    ,Txt \r\n",
                "FROM #IdTest"
            ],
            "metadata": {
                "azdata_cell_guid": "14b42f23-3616-4085-ac23-d1730f7fc083"
            },
            "outputs": [],
            "execution_count": 0
        },
        {
            "cell_type": "markdown",
            "source": [
                "Nun haben die beiden eingefügten Zeilen die Ids 60 (wo wir sie explizit angegeben hatten) bzw. 61 erhalten, wo wir sie automatisch vergeben hatten. Die `IDENTITY`-Spalte hat also \"gemerkt\", dass ihr aktueller Maximal-Wert momentan die 60 ist und hat automatisch die 61 als nächsten Wert vergeben. \r\n",
                "\r\n",
                "Was der nächste Wert der Identity-Spalte wäre, können wir über ein `DBCC`-Kommando prüfen: "
            ],
            "metadata": {
                "azdata_cell_guid": "3c4a800b-7d51-45f4-a8de-2c019726311c"
            }
        },
        {
            "cell_type": "code",
            "source": [
                "DBCC CHECKIDENT ('#IdTest')"
            ],
            "metadata": {
                "azdata_cell_guid": "d0933d63-c26b-439d-857f-3b52daf57202"
            },
            "outputs": [],
            "execution_count": 0
        },
        {
            "cell_type": "markdown",
            "source": [
                "Das DBCC-Kommando kann auch verwendet werden, um den aktuellen `SEED` der `IDENTITY` zurückzusetzen: "
            ],
            "metadata": {
                "azdata_cell_guid": "619bc79f-e3bc-45e6-b0c6-1baee628fa3c"
            }
        },
        {
            "cell_type": "code",
            "source": [
                "DBCC CHECKIDENT ('#IdTest', RESEED, 1)"
            ],
            "metadata": {
                "azdata_cell_guid": "17e99e6e-8cd4-427f-b023-72c885c582d8"
            },
            "outputs": [],
            "execution_count": 0
        },
        {
            "cell_type": "markdown",
            "source": [
                "Hiernach gibt die erste `CHECKIDENT`-Abfrage die Information zurück, dass der aktuelle `IDENTITY`-Wert eins ist, während der aktuelle Spaltenwert bei 100 liegt. Dennoch wird beim nächsten `INSERT` wieder automatisch der Maximalwert der Spalte geprüft und die nächste Zeile erhält die ID 101:"
            ],
            "metadata": {
                "azdata_cell_guid": "d12d7725-9e5b-4978-913b-581955e3ce24"
            }
        },
        {
            "cell_type": "code",
            "source": [
                "INSERT INTO #IdTest (Txt) \r\n",
                "VALUES ('Test8')\r\n",
                "\r\n",
                "SELECT \r\n",
                "     Id\r\n",
                "    ,Txt \r\n",
                "FROM #IdTest"
            ],
            "metadata": {
                "azdata_cell_guid": "4da6659f-ba86-4b71-9e32-c1d933bc28f6"
            },
            "outputs": [],
            "execution_count": 0
        },
        {
            "cell_type": "markdown",
            "source": [
                "Nun möchten wir etwas über die Transaktionssicherheit von `IDENTITY`-Spalten lernen. Dafür öffnen wir eine Transaktion und fügen eine Zeile in die Tabelle ein, die wir direkt abfragen:"
            ],
            "metadata": {
                "azdata_cell_guid": "96b72f8b-e75a-4c41-9631-cfe2dfa5ec60"
            }
        },
        {
            "cell_type": "code",
            "source": [
                "BEGIN TRANSACTION\r\n",
                "INSERT INTO #IdTest (Txt)\r\n",
                "VALUES ('Transaction 1')\r\n",
                "\r\n",
                "SELECT \r\n",
                "     Id\r\n",
                "    ,Txt \r\n",
                "FROM #IdTest"
            ],
            "metadata": {
                "azdata_cell_guid": "25fc5ab1-0279-4295-9207-bf51fc5b6811"
            },
            "outputs": [],
            "execution_count": 0
        },
        {
            "cell_type": "markdown",
            "source": [
                "Wir sehen, dass unsere neue Zeile erwartungsgemäß die nächste Id (101) bekommen hat. \r\n",
                "\r\n",
                "Rollen wir nun die Transaktion zurück, so ist natürlich die Zeile nicht mehr in der Tabelle enthalten:"
            ],
            "metadata": {
                "azdata_cell_guid": "212563d8-1095-4f55-92d0-5da38dc3fea3"
            }
        },
        {
            "cell_type": "code",
            "source": [
                "ROLLBACK TRANSACTION\r\n",
                "SELECT \r\n",
                "     Id\r\n",
                "    ,Txt \r\n",
                "FROM #IdTest"
            ],
            "metadata": {
                "azdata_cell_guid": "adc8755f-2311-44b6-9b27-e75b54c539e9"
            },
            "outputs": [],
            "execution_count": 0
        },
        {
            "cell_type": "markdown",
            "source": [
                "Prüfen wir nun den Wert der Identity-Spalte, dann sehen wir, dass der `IDENTITY`-Wert nun auf 101 stehengeblieben ist:"
            ],
            "metadata": {
                "azdata_cell_guid": "cf2bda88-69ab-4a49-848b-5ce086e9cf84"
            }
        },
        {
            "cell_type": "code",
            "source": [
                "DBCC CHECKIDENT ('#IdTest') "
            ],
            "metadata": {
                "azdata_cell_guid": "8941fd0c-f172-4b84-a8d6-31f8b690e020"
            },
            "outputs": [],
            "execution_count": 0
        },
        {
            "cell_type": "markdown",
            "source": [
                "Die nächste eingefügte Zeile erhält also den Id-Wert 102, die 101 wurde durch das Zurückrollen der Transaktion übersprungen:"
            ],
            "metadata": {
                "azdata_cell_guid": "cc79331f-e59f-467a-aaf0-0f9f7c79aafd"
            }
        },
        {
            "cell_type": "code",
            "source": [
                "INSERT INTO #IdTest (Txt)\r\n",
                "VALUES ('Transaction 1')\r\n",
                "\r\n",
                "SELECT \r\n",
                "     Id\r\n",
                "    ,Txt \r\n",
                "FROM #IdTest"
            ],
            "metadata": {
                "azdata_cell_guid": "3089efe0-511b-41e3-b34d-604d8a213baa"
            },
            "outputs": [],
            "execution_count": 0
        },
        {
            "cell_type": "markdown",
            "source": [
                "Ihr habt gesehen, dass Spalten mit dem `IDENTITY`-Attribut automatisch den kleinstmöglichen nächsten freien Wert in der Spalte übernehmen. Dabei kann es zu Lücken kommen. Und seid gewarnt: es kann trotz Identity-Spalte durch `IDENTITY_INSERT`s dazu kommen, dass Duplikate in der Spalte enthalten sind. Wenn ihr das vermeiden möchtet, müsst ihr die Spalte zusätzlich mit dem `UNIQUE`-Attribut versehen. \n",
                "## Referenzen\n",
                "- [Dokumentation von Microsoft](https://docs.microsoft.com/de-de/sql/t-sql/statements/create-table-transact-sql-identity-property?view=sql-server-ver15)"
            ],
            "metadata": {
                "azdata_cell_guid": "33d27a3d-26fa-4968-80dc-d5609681aae6"
            }
        }
    ]
}