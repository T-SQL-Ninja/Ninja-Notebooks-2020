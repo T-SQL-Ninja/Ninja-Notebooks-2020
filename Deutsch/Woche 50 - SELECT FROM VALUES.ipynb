{
    "metadata": {
        "kernelspec": {
            "name": "SQL",
            "display_name": "SQL",
            "language": "sql"
        },
        "language_info": {
            "name": "sql",
            "version": ""
        }
    },
    "nbformat_minor": 2,
    "nbformat": 4,
    "cells": [
        {
            "cell_type": "markdown",
            "source": [
                "# Woche 50: SELECT FROM VALUES\r\n",
                "## Was macht SELECT FROM VALUES eigentlich? \r\n",
                "Wann immer ihr eine kleine Tabelle brauchtet, die ihr beispielsweise für Joins oder ähnliches verwenden solltet, haben wir hier im Dojo mit temporären Tabellen (hashtables, #-Tabellen) gearbeitet. Der Nachteil daran ist, dass ihr diese Objekte, wenn ihr euer Skript mehrfach ausführen wollt, auch immer mit einem `DROP TABLE IF EXISTS` abräumen musstet, was die Leserlichkeit nicht gerade erhöht. Und auch wenn ihr in einer Anwendung gegen eine kleine Tabelle joinen möchtet, die ihr zum Beispiel nicht in der Datenbank persistieren wollt oder auch nicht als temporäres Objekt in der TempDB anlegen wollt, dann gibt es mit `SELECT FROM VALUES` eine Alternative zu den beliebten #-Tabellen. \r\n",
                "## Wie könnt ihr mit SELECT FROM VALUES arbeiten?\r\n",
                "Beginnen wir zunächst damit, eine kleine Wertesammlung anzulegen, aus der wir abfragen möchten:"
            ],
            "metadata": {
                "azdata_cell_guid": "618c707f-7e6d-4a47-aa8f-da34f4bcf043"
            }
        },
        {
            "cell_type": "code",
            "source": [
                "SELECT \r\n",
                "     NinjaName\r\n",
                "    ,Kills\r\n",
                "FROM\r\n",
                "    (\r\n",
                "        VALUES \r\n",
                "         ('Chimozuki', 45)\r\n",
                "    ) as t(NinjaName, Kills)"
            ],
            "metadata": {
                "azdata_cell_guid": "866626d2-149c-4713-9d59-2941f2c9fd01"
            },
            "outputs": [],
            "execution_count": 0
        },
        {
            "cell_type": "markdown",
            "source": [
                "Natürlich können wir hier auch mehr als eine Zeile mit Daten erzeugen:"
            ],
            "metadata": {
                "azdata_cell_guid": "870d117c-4992-4e93-ad73-421540851666"
            }
        },
        {
            "cell_type": "code",
            "source": [
                "SELECT \r\n",
                "     NinjaName\r\n",
                "    ,Kills\r\n",
                "FROM\r\n",
                "    (\r\n",
                "        VALUES \r\n",
                "         ('Chimozuki', 45)\r\n",
                "        ,('Lushikute', 82)\r\n",
                "    ) as t(NinjaName, Kills)"
            ],
            "metadata": {
                "azdata_cell_guid": "bef74dde-5bd8-4a5a-9760-a5418e14ff8f"
            },
            "outputs": [],
            "execution_count": 0
        },
        {
            "cell_type": "markdown",
            "source": [
                "Was euch hier vielleicht auffällt ist, dass der SQL Server hier automatisch die Kills-Spalte als ganzzahligen Wert annimmt und damit auch den Durchschnitt als ganzzahligen Wert zurückgibt, ihr erhaltet hier also 63 als Durchschnitt. Wenn ihr dagegen Nachkommastellen für die Kills angebt, erhaltet ihr den exakten Wert 63.5:"
            ],
            "metadata": {
                "azdata_cell_guid": "1fde804d-a0ca-4920-bd9e-7844d2f2e238"
            }
        },
        {
            "cell_type": "code",
            "source": [
                "SELECT \r\n",
                "     AVG(Kills)\r\n",
                "FROM\r\n",
                "    (\r\n",
                "        VALUES \r\n",
                "         ('Chimozuki', 45.0)\r\n",
                "        ,('Lushikute', 82.0)\r\n",
                "    ) as t(NinjaName, Kills)"
            ],
            "metadata": {
                "azdata_cell_guid": "26b9afdf-f9a6-4796-8b30-fb1166788e4f"
            },
            "outputs": [],
            "execution_count": 0
        },
        {
            "cell_type": "markdown",
            "source": [
                "\r\n",
                "Doch ihr könnt gegen die Tabellen-Objekte wie gesagt auch Joins ausführen. Wenn ihr in der WideWorldImporters Datenbank beispielsweise die Application.Countries-Tabelle gegen einige fixe Werte filtern möchtet, könnt ihr das wie folgt tun:\r\n",
                ""
            ],
            "metadata": {
                "azdata_cell_guid": "3efda0cc-ec04-4c89-a5fa-5d74e7dd58e1"
            }
        },
        {
            "cell_type": "code",
            "source": [
                "SELECT \r\n",
                "     [CountryID]\r\n",
                "    ,[CountryName]\r\n",
                "    ,[FormalName]\r\n",
                "    ,[IsoAlpha3Code]\r\n",
                "    ,[LatestRecordedPopulation]\r\n",
                "    ,[Continent]\r\n",
                "  FROM [Application].[Countries] as c\r\n",
                "  INNER JOIN\r\n",
                "  (\r\n",
                "      SELECT FilteredID \r\n",
                "      FROM (VALUES (1), (11), (100)) as SelectedCountries(FilteredID)\r\n",
                "  ) s\r\n",
                "  ON c.CountryID = s.FilteredID"
            ],
            "metadata": {
                "azdata_cell_guid": "33e359a0-5b2e-4cde-8b78-0e9478c32953"
            },
            "outputs": [],
            "execution_count": 0
        },
        {
            "cell_type": "markdown",
            "source": [
                "Natürlich ginge das hier auch einfacher mit einem `IN` in der `WHERE`-Bedingung, aber es geht hier ja ums Prinzip und nicht um die eleganteste Lösung für einige Beispielabfragen… \n",
                "Warum solltet ihr `SELECT FROM VALUES` verwenden statt #-Tabellen? Ganz einfach: euer Code wird einfacher, wenn ihr die Objekte nicht selber abräumen müsst und Abfragen einfach mehrfach im selben Kontext ausführen könnt, ohne euch Gedanken über Duplikate zu machen. Außerdem braucht ihr keine `CREATE`-Statements schreiben sondern könnt die Objekte einfach direkt in der Abfrage erzeugen und verwenden. \n",
                "Warum solltet ihr #-Tabellen statt `SELECT FROM VALUES` verwenden? Ganz einfach: ihr könnt #-Tabellen indizieren und mehrfach verwenden, wodurch eure Abfragen performanter werden. Außerdem könnt ihr bei #-Tabellen die Spalten in den richtigen Datentypen erzeugen und senkt dadurch die Wahrscheinlichkeit für implizite Converts im Ausführungsplan. \n",
                "Es ist also wie so oft eine Frage, was ihr mit den temporären Objekten tun wollt, welches Objekt die richtige Wahl für euch ist. Genau wie beim Ninja gilt: ein Katana ist eine feine Sache, aber wenn der Gegner noch 50 Meter weit entfernt ist, sind Shuriken eventuell die bessere Wahl. Passt die Wahl eurer temporären Objekte dem Gegner an.  \n",
                "## Referenzen\n",
                "- [Beitrag von Pinal Dave zum Thema](https://blog.sqlauthority.com/2015/07/06/sql-server-creating-dataset-using-values-clause-without-creating-a-table/)"
            ],
            "metadata": {
                "azdata_cell_guid": "de8191a1-85ef-4967-a544-4ee0dc93fa3a"
            }
        }
    ]
}