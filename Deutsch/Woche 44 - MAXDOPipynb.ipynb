{
    "metadata": {
        "kernelspec": {
            "name": "SQL",
            "display_name": "SQL",
            "language": "sql"
        },
        "language_info": {
            "name": "sql",
            "version": ""
        }
    },
    "nbformat_minor": 2,
    "nbformat": 4,
    "cells": [
        {
            "cell_type": "markdown",
            "source": [
                "# Woche 44: MAXDOP\r\n",
                "## Was ist MAXDOP? \r\n",
                "Euch ist beim Ansehen von Ausführungsplänen im SQL Server sicher schon einmal aufgefallen, dass immer wieder an bestimmten Operationen zwei kleine Pfeile auf gelbem Grund auftreten (im SQL Server Management Studio) und die Operation \"Parallelism (Gather Streams)\". Was das bedeutet ist, vereinfacht gesagt, dass der SQL Server an einigen Stellen entscheidet, bestimmte Operationen parallel in mehreren Threads auszuführen. Wie viele Prozessoren der SQL Server dafür verwenden kann, könnt ihr über den `MAXDOP` Abfragehinweis steuern. `MAXDOP` Steht dabei für \"Max Degree Of Parallelism\", also den maximalen Grad der Parallelität. \r\n",
                "## Wie könnt ihr den MAXDOP setzen?\r\n",
                "Der `MAXDOP` ist ein Abfragehinweis – und wie bei allen Abfragehinweisen gilt es hier vorsichtig zu sein, denn ihr überschreibt damit das Verhalten, das entweder die Entwickler der relationalen Datenbankengine oder euer Datenbank-Administrator vorgesehen haben. Und wenn ihr das tut, dann solltet ihr zumindest einen guten Grund dafür haben. \r\n",
                "\r\n",
                "Soviel der Warnung, doch nun zum Setzen des `MAXDOP`. Generell gibt es für den Server oder die Datenbank beim Setup festgelegte Werte für den `MAXDOP`, diese können durchaus unterschiedlich sein, wobei der Wert für die Datenbank dann den für den Server überschreibt. Beide Werte könnt ihr wiederum bei der Abfrage überschreiben. Dafür setzt ihr ans Ende eurer Abfrage ein `OPTION (MAXDOP x)` mit einem ganzzahligen Wert x. Besonderheiten besitzen der Wert 0, bei dem die Abfrage explizit angewiesen wird, so viele Kerne zu verwenden, wie zur Verfügung stehen und der Wert 1, bei dem die Abfrage nur einen Kern verwendet, Parallelisierung also explizit abgeschaltet wird. \r\n",
                "\r\n",
                "Nehmen wir uns nun eine Abfrage vor, bei der es zu einer Parallelisierung kommt. Dafür fragen wir in der WideWorldImporters Datenbank die `OrderLines`-Tabelle im `Sales`-Schema ab und lassen uns den Abfrageplan für die Abfrage ausgeben:"
            ],
            "metadata": {
                "azdata_cell_guid": "8f4f6e80-6c25-4b11-81b3-c28b0ae49058"
            }
        },
        {
            "cell_type": "code",
            "source": [
                "SET SHOWPLAN_XML ON;\r\n",
                "GO\r\n",
                "\r\n",
                "SELECT\r\n",
                "     [OrderLineID]\r\n",
                "    ,[OrderID]\r\n",
                "    ,[StockItemID]\r\n",
                "    ,[Description]\r\n",
                "    ,[PackageTypeID]\r\n",
                "    ,[Quantity]\r\n",
                "    ,[UnitPrice]\r\n",
                "    ,[TaxRate]\r\n",
                "    ,[PickedQuantity]\r\n",
                "    ,[PickingCompletedWhen]\r\n",
                "    ,[LastEditedBy]\r\n",
                "    ,[LastEditedWhen]\r\n",
                "FROM [Sales].[OrderLines]"
            ],
            "metadata": {
                "azdata_cell_guid": "5cd3513c-36e2-4a01-ae6c-e9d7aa9f313a"
            },
            "outputs": [],
            "execution_count": 0
        },
        {
            "cell_type": "markdown",
            "source": [
                "Hier seht ihr nur einen Scan des geclusterten Indexes, was durchaus stimmig ist, da hier ja die ganze Tabelle abgefragt wird. Passen wir die Abfrage nun so an, dass wir parallelisierte Operationen sehen. Dafür sortieren wir die Ausfrage nach einer Spalte, die nicht führend ist im geclusterten Index:"
            ],
            "metadata": {
                "azdata_cell_guid": "6309b1a2-c9cc-4390-a3ca-a96ffa1d9b81"
            }
        },
        {
            "cell_type": "code",
            "source": [
                "SELECT\r\n",
                "     [OrderLineID]\r\n",
                "    ,[OrderID]\r\n",
                "    ,[StockItemID]\r\n",
                "    ,[Description]\r\n",
                "    ,[PackageTypeID]\r\n",
                "    ,[Quantity]\r\n",
                "    ,[UnitPrice]\r\n",
                "    ,[TaxRate]\r\n",
                "    ,[PickedQuantity]\r\n",
                "    ,[PickingCompletedWhen]\r\n",
                "    ,[LastEditedBy]\r\n",
                "    ,[LastEditedWhen]\r\n",
                "FROM [Sales].[OrderLines]\r\n",
                "ORDER BY [StockItemID]"
            ],
            "metadata": {
                "azdata_cell_guid": "fa10c27e-9c4c-4bd8-9905-ca82b253f8bc"
            },
            "outputs": [],
            "execution_count": 0
        },
        {
            "cell_type": "markdown",
            "source": [
                "Nun seht ihr im Ausführungsplan den Scan in paralleler Ausführung (wenn eure Datenbank nicht so konfiguriert ist, dass sie keine Parallelität zulässt), was ihr am gelben Kreis mit den kleinen Pfeilen an der Operation erkennen könnt (im SSMS) oder am grünen Pfeil (im Azure Data Studio). Außerdem sind zwei weitere Operationen zum Ausführungsplan hinzugekommen: eine Sort-Operation (logisch, da wir ja die Ergebnismenge sortieren möchten) und eine \"Parallelism (Gather Streams)\"-Operation bei der die Resultate der verschiedenen parallel ausgeführten Operationen wieder zur Ergebnismenge zusammengeführt werden. Außerdem seht ihr im XML des Ausführungsplans ein Attribut \"EstimatedAvailableDegreeOfParallelism\", das euch sagt, was der Query Optimizer schätzt, wie viele parallele Prozesse verwendet werden können. \r\n",
                "\r\n",
                "Versuchen wir nun, das Verhalten zu verändern und die parallele Ausführung zu unterbinden, indem wir den `MAXDOP` auf 1 setzen:"
            ],
            "metadata": {
                "azdata_cell_guid": "769e8888-32b1-4e57-8770-67dd100d6ee6"
            }
        },
        {
            "cell_type": "code",
            "source": [
                "SELECT\r\n",
                "     [OrderLineID]\r\n",
                "    ,[OrderID]\r\n",
                "    ,[StockItemID]\r\n",
                "    ,[Description]\r\n",
                "    ,[PackageTypeID]\r\n",
                "    ,[Quantity]\r\n",
                "    ,[UnitPrice]\r\n",
                "    ,[TaxRate]\r\n",
                "    ,[PickedQuantity]\r\n",
                "    ,[PickingCompletedWhen]\r\n",
                "    ,[LastEditedBy]\r\n",
                "    ,[LastEditedWhen]\r\n",
                "FROM [Sales].[OrderLines]\r\n",
                "ORDER BY [StockItemID]\r\n",
                "OPTION (MAXDOP 1)"
            ],
            "metadata": {
                "azdata_cell_guid": "2848ef49-a79a-40cf-b73d-956ff39c6af1"
            },
            "outputs": [],
            "execution_count": 0
        },
        {
            "cell_type": "markdown",
            "source": [
                "Im Ausführungsplan seht ihr nun keine Pfeile mehr am Scan des geclusterten Index und auch keine Parallelism-Operation mehr. Die Abfrage wird nicht mehr parallel ausgeführt. Auch im Quellcode des Plans seht ihr nun, dass der EstimatedAvailableDegreeOfParallelism auf 1 gesetzt wurde. \n",
                "Ihr könnt also das Verhalten eures Servers mit dem `MAXDOP`-Abfragehinweis beeinflussen und steuern, ob bestimmte Abfragen parallel auf mehreren Prozessoren verarbeitet werden. Insgesamt steigen dadurch natürlich die CPU-Kosten, da die Parallelisierung einen Overhead verursacht, in Summe sinkt aber oftmals die Ausführungszeit, da diese höheren Kosten in mehreren Threads gleichzeitig abgearbeitet werden. Wie eingangs erwähnt solltet ihr bei der Verwendung derartiger Hinweise vorsichtig sein, da sich im Normalfall sowohl die Entwickler des SQL Server als auch die Systemadministratoren beim Setzen der Parameter etwas gedacht haben, doch habt ihr die Möglichkeit, besonders ressourcenhungrige Abfragen, die viele CPU-Operationen benötigen und zu Zeiten laufen, in denen auch andere Prozesse auf dem Server aktiv sind, etwas \"freundlicher\" zu gestalten, indem ihr verhindert, dass sie alle Prozessorkerne blockieren, die zur Verfügung stehen. Oder eben dafür zu sorgen, dass sie möglichst schnell laufen indem sie sich alle Ressourcen schnappen, die irgendwie verfügbar sind. Ihr habt die Wahl. \n",
                "## Referenzen\n",
                "- [Dokumentation von Microsoft](https://docs.microsoft.com/de-de/sql/t-sql/queries/hints-transact-sql-query?view=sql-server-ver15)\n",
                ""
            ],
            "metadata": {
                "azdata_cell_guid": "9a016a54-09bc-43bd-a668-204aaeb8dda2"
            }
        }
    ]
}