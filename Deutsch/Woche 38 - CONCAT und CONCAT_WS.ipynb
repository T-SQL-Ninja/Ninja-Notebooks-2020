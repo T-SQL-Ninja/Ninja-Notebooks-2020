{
    "metadata": {
        "kernelspec": {
            "name": "SQL",
            "display_name": "SQL",
            "language": "sql"
        },
        "language_info": {
            "name": "sql",
            "version": ""
        }
    },
    "nbformat_minor": 2,
    "nbformat": 4,
    "cells": [
        {
            "cell_type": "markdown",
            "source": [
                "# Woche 38: CONCAT und CONCAT_WS\r\n",
                "## Was tun CONCAT und CONCAT_WS?\r\n",
                "Die `CONCAT`-Funktion ist eine Funktion aus dem Bereich der Zeichenketten-Manipulation. Ähnlich wie ihr es schon bei `STUFF` und `STRING_AGG` kennengelernt hattet, verknüpfen diese Funktionen Zeichenketten miteinander. Anders als `STRING_AGG` und `STUFF` in Kombination mit `SELECT FOR XML`, aggregieren `CONCAT` und `CONCAT_WS` allerdings keine Zeilen, das heißt die Einträge, die zusammengefasst werden sollen, müssen bereits in Spalten vorliegen. \r\n",
                "\r\n",
                "## Wie verwendet man CONCAT und CONCAT_WS?\r\n",
                "Sehen wir uns zunächst den Unterschied zwischen `STRING_AGG` und `CONCAT` an, dafür erinnern wir uns zunächst an die Abfrage, anhand derer wir `STRING_AGG` auf der WideWorldImporters Datenbank demonstriert hatten:"
            ],
            "metadata": {
                "azdata_cell_guid": "d3be0740-78c3-455b-af94-d4e4c0b727d1"
            }
        },
        {
            "cell_type": "code",
            "source": [
                "SELECT \r\n",
                "    STRING_AGG(TransactionTypeName, ',')\r\n",
                "FROM [Application].[TransactionTypes]"
            ],
            "metadata": {
                "azdata_cell_guid": "e84bc5fe-0fd2-422e-8f14-5c4198a4cb6f"
            },
            "outputs": [],
            "execution_count": 0
        },
        {
            "cell_type": "markdown",
            "source": [
                "Diese Abfrage liefert eine Zeichenkette, die die kommaseparierten Werte der Spalte TransactionTypeName enthält.  Führen wir nun naiv dieselbe Abfrage mit `CONCAT` anstelle von `STRING_AGG` aus:"
            ],
            "metadata": {
                "azdata_cell_guid": "0839a24a-b406-467e-9642-78c7771d7cb1"
            }
        },
        {
            "cell_type": "code",
            "source": [
                "SELECT \r\n",
                "    CONCAT(TransactionTypeName, ',')\r\n",
                "FROM [Application].[TransactionTypes]"
            ],
            "metadata": {
                "azdata_cell_guid": "c20ab939-89dc-4a06-a606-da809c1f5298"
            },
            "outputs": [],
            "execution_count": 0
        },
        {
            "cell_type": "markdown",
            "source": [
                "Hier erhalten wir in der Ergebnismenge einfach nur jeden Transaktionstypen mit einem nachgestellten Komma, es wurde also die Zeichenkette der Spalte TransactionTypeName mit der Zeichenkette, die nur ein Komma enthält, verknüpft. Eine Aggregation wie `STRING_AGG` wurde hingegen nicht durchgeführt. Wenn wir also eine Liste wie bei `STRING_AGG` erzeugen möchten, dann müssen wir zunächst die Zeilen auf Spalten der Ergebnismenge bringen. Das könnten wir nun mit dem `PIVOT`-Befehl recht einfach tun, doch möchten wir hier die Syntax auf möglichst einfache Elemente beschränken, die wir bereits im Dojo behandelt hatten, daher wählen wir einen anderen Ansatz: "
            ],
            "metadata": {
                "azdata_cell_guid": "ef6b9eb5-cb8e-4ce3-b0aa-91e6f920ee75"
            }
        },
        {
            "cell_type": "code",
            "source": [
                "SELECT \r\n",
                "     TypeName1 = MIN(\r\n",
                "        CASE WHEN TransactionTypeID = 1 \r\n",
                "        THEN TransactionTypeName \r\n",
                "        ELSE NULL END)\r\n",
                "    ,TypeName2 = MIN(\r\n",
                "        CASE WHEN TransactionTypeID = 2 \r\n",
                "        THEN TransactionTypeName \r\n",
                "        ELSE NULL END)\r\n",
                "    ,TypeName3 = MIN(\r\n",
                "        CASE WHEN TransactionTypeID = 3 \r\n",
                "        THEN TransactionTypeName \r\n",
                "        ELSE NULL END)\r\n",
                "    ,TypeName4 = MIN(\r\n",
                "        CASE WHEN TransactionTypeID = 4 \r\n",
                "        THEN TransactionTypeName \r\n",
                "        ELSE NULL END)\r\n",
                "    ,TypeName5 = MIN(\r\n",
                "        CASE WHEN TransactionTypeID = 5 \r\n",
                "        THEN TransactionTypeName \r\n",
                "        ELSE NULL END)\r\n",
                "    ,TypeName6 = MIN(\r\n",
                "        CASE WHEN TransactionTypeID = 6 \r\n",
                "        THEN TransactionTypeName \r\n",
                "        ELSE NULL END)\r\n",
                "    ,TypeName7 = MIN(\r\n",
                "        CASE WHEN TransactionTypeID = 7 \r\n",
                "        THEN TransactionTypeName \r\n",
                "        ELSE NULL END)\r\n",
                "    ,TypeName8 = MIN(\r\n",
                "        CASE WHEN TransactionTypeID = 8 \r\n",
                "        THEN TransactionTypeName \r\n",
                "        ELSE NULL END)\r\n",
                "    ,TypeName9 = MIN(\r\n",
                "        CASE WHEN TransactionTypeID = 9 \r\n",
                "        THEN TransactionTypeName \r\n",
                "        ELSE NULL END)\r\n",
                "    ,TypeName10 = MIN(\r\n",
                "        CASE WHEN TransactionTypeID = 10 \r\n",
                "        THEN TransactionTypeName \r\n",
                "        ELSE NULL END)\r\n",
                "    ,TypeName11 = MIN(\r\n",
                "        CASE WHEN TransactionTypeID = 11 \r\n",
                "        THEN TransactionTypeName \r\n",
                "        ELSE NULL END)\r\n",
                "    ,TypeName12 = MIN(\r\n",
                "        CASE WHEN TransactionTypeID = 12 \r\n",
                "        THEN TransactionTypeName \r\n",
                "        ELSE NULL END)\r\n",
                "    ,TypeName13 = MIN(\r\n",
                "        CASE WHEN TransactionTypeID = 13 \r\n",
                "        THEN TransactionTypeName \r\n",
                "        ELSE NULL END)\r\n",
                "FROM [Application].[TransactionTypes]"
            ],
            "metadata": {
                "azdata_cell_guid": "13be41a0-f583-406e-a31b-34d99ab4a61e"
            },
            "outputs": [],
            "execution_count": 0
        },
        {
            "cell_type": "markdown",
            "source": [
                "Dass das nicht die effizienteste Art ist, unser Ziel zu erreichen, sei dahingestellt, dennoch haben wir nun alle Zeilen der Tabelle (zum Glück waren es nur 13!) in den Spalten der Ergebnismenge dargestellt. \r\n",
                "\r\n",
                "Nun möchten wir diese zusammenfassen, dafür wählen wir zunächst folgenden Ansatz:"
            ],
            "metadata": {
                "azdata_cell_guid": "2d12136a-b17e-4695-8e0f-4e3577bd5d07"
            }
        },
        {
            "cell_type": "code",
            "source": [
                "WITH cte_columns AS (\r\n",
                "SELECT \r\n",
                "     TypeName1 = MIN(\r\n",
                "        CASE WHEN TransactionTypeID = 1 \r\n",
                "        THEN TransactionTypeName \r\n",
                "        ELSE NULL END)\r\n",
                "    ,TypeName2 = MIN(\r\n",
                "        CASE WHEN TransactionTypeID = 2 \r\n",
                "        THEN TransactionTypeName \r\n",
                "        ELSE NULL END)\r\n",
                "    ,TypeName3 = MIN(\r\n",
                "        CASE WHEN TransactionTypeID = 3 \r\n",
                "        THEN TransactionTypeName \r\n",
                "        ELSE NULL END)\r\n",
                "    ,TypeName4 = MIN(\r\n",
                "        CASE WHEN TransactionTypeID = 4 \r\n",
                "        THEN TransactionTypeName \r\n",
                "        ELSE NULL END)\r\n",
                "    ,TypeName5 = MIN(\r\n",
                "        CASE WHEN TransactionTypeID = 5 \r\n",
                "        THEN TransactionTypeName \r\n",
                "        ELSE NULL END)\r\n",
                "    ,TypeName6 = MIN(\r\n",
                "        CASE WHEN TransactionTypeID = 6 \r\n",
                "        THEN TransactionTypeName \r\n",
                "        ELSE NULL END)\r\n",
                "    ,TypeName7 = MIN(\r\n",
                "        CASE WHEN TransactionTypeID = 7 \r\n",
                "        THEN TransactionTypeName \r\n",
                "        ELSE NULL END)\r\n",
                "    ,TypeName8 = MIN(\r\n",
                "        CASE WHEN TransactionTypeID = 8 \r\n",
                "        THEN TransactionTypeName \r\n",
                "        ELSE NULL END)\r\n",
                "    ,TypeName9 = MIN(\r\n",
                "        CASE WHEN TransactionTypeID = 9 \r\n",
                "        THEN TransactionTypeName \r\n",
                "        ELSE NULL END)\r\n",
                "    ,TypeName10 = MIN(\r\n",
                "        CASE WHEN TransactionTypeID = 10 \r\n",
                "        THEN TransactionTypeName \r\n",
                "        ELSE NULL END)\r\n",
                "    ,TypeName11 = MIN(\r\n",
                "        CASE WHEN TransactionTypeID = 11 \r\n",
                "        THEN TransactionTypeName \r\n",
                "        ELSE NULL END)\r\n",
                "    ,TypeName12 = MIN(\r\n",
                "        CASE WHEN TransactionTypeID = 12 \r\n",
                "        THEN TransactionTypeName \r\n",
                "        ELSE NULL END)\r\n",
                "    ,TypeName13 = MIN(\r\n",
                "        CASE WHEN TransactionTypeID = 13 \r\n",
                "        THEN TransactionTypeName \r\n",
                "        ELSE NULL END)\r\n",
                "FROM [Application].[TransactionTypes]\r\n",
                ") \r\n",
                "SELECT \r\n",
                "    CONCAT(\r\n",
                "         TypeName1\r\n",
                "        ,TypeName2\r\n",
                "        ,TypeName3\r\n",
                "        ,TypeName4\r\n",
                "        ,TypeName5\r\n",
                "        ,TypeName6\r\n",
                "        ,TypeName7\r\n",
                "        ,TypeName8\r\n",
                "        ,TypeName9\r\n",
                "        ,TypeName10\r\n",
                "        ,TypeName11\r\n",
                "        ,TypeName12\r\n",
                "        ,TypeName13)\r\n",
                "FROM cte_columns"
            ],
            "metadata": {
                "azdata_cell_guid": "26d031de-766d-4c09-83c2-5d632e169d73"
            },
            "outputs": [],
            "execution_count": 0
        },
        {
            "cell_type": "markdown",
            "source": [
                "Nun erhalten wir eine Zeichenkette in der die Typnamen direkt hintereinander konkateniert wurden. Das ist natürlich nicht das, was wir haben wollten. Wir könnten nun manuell hinter jeden Typename einen String mit Komma einfügen, doch das wäre ziemlich mühselig, stattdessen können wir hierfür auch die Funktion `CONCAT_WS` verwenden, der Zusatz _WS steht nämlich für \"With Separator\", was ja genau das ist, was wir möchten. Der Separator wird dabei als erstes Argument der Funktion übergeben. Am Ende sieht das so aus: "
            ],
            "metadata": {
                "azdata_cell_guid": "2c2c0b4e-5a18-49d6-8db1-2080337e8a74"
            }
        },
        {
            "cell_type": "code",
            "source": [
                "WITH cte_columns AS (\r\n",
                "SELECT \r\n",
                "     TypeName1 = MIN(\r\n",
                "        CASE WHEN TransactionTypeID = 1 \r\n",
                "        THEN TransactionTypeName \r\n",
                "        ELSE NULL END)\r\n",
                "    ,TypeName2 = MIN(\r\n",
                "        CASE WHEN TransactionTypeID = 2 \r\n",
                "        THEN TransactionTypeName \r\n",
                "        ELSE NULL END)\r\n",
                "    ,TypeName3 = MIN(\r\n",
                "        CASE WHEN TransactionTypeID = 3 \r\n",
                "        THEN TransactionTypeName \r\n",
                "        ELSE NULL END)\r\n",
                "    ,TypeName4 = MIN(\r\n",
                "        CASE WHEN TransactionTypeID = 4 \r\n",
                "        THEN TransactionTypeName \r\n",
                "        ELSE NULL END)\r\n",
                "    ,TypeName5 = MIN(\r\n",
                "        CASE WHEN TransactionTypeID = 5 \r\n",
                "        THEN TransactionTypeName \r\n",
                "        ELSE NULL END)\r\n",
                "    ,TypeName6 = MIN(\r\n",
                "        CASE WHEN TransactionTypeID = 6 \r\n",
                "        THEN TransactionTypeName \r\n",
                "        ELSE NULL END)\r\n",
                "    ,TypeName7 = MIN(\r\n",
                "        CASE WHEN TransactionTypeID = 7 \r\n",
                "        THEN TransactionTypeName \r\n",
                "        ELSE NULL END)\r\n",
                "    ,TypeName8 = MIN(\r\n",
                "        CASE WHEN TransactionTypeID = 8 \r\n",
                "        THEN TransactionTypeName \r\n",
                "        ELSE NULL END)\r\n",
                "    ,TypeName9 = MIN(\r\n",
                "        CASE WHEN TransactionTypeID = 9 \r\n",
                "        THEN TransactionTypeName \r\n",
                "        ELSE NULL END)\r\n",
                "    ,TypeName10 = MIN(\r\n",
                "        CASE WHEN TransactionTypeID = 10 \r\n",
                "        THEN TransactionTypeName \r\n",
                "        ELSE NULL END)\r\n",
                "    ,TypeName11 = MIN(\r\n",
                "        CASE WHEN TransactionTypeID = 11 \r\n",
                "        THEN TransactionTypeName \r\n",
                "        ELSE NULL END)\r\n",
                "    ,TypeName12 = MIN(\r\n",
                "        CASE WHEN TransactionTypeID = 12 \r\n",
                "        THEN TransactionTypeName \r\n",
                "        ELSE NULL END)\r\n",
                "    ,TypeName13 = MIN(\r\n",
                "        CASE WHEN TransactionTypeID = 13 \r\n",
                "        THEN TransactionTypeName \r\n",
                "        ELSE NULL END)\r\n",
                "FROM [Application].[TransactionTypes]\r\n",
                ") \r\n",
                "SELECT \r\n",
                "    CONCAT_WS(\r\n",
                "         ','\r\n",
                "        ,TypeName1\r\n",
                "        ,TypeName2\r\n",
                "        ,TypeName3\r\n",
                "        ,TypeName4\r\n",
                "        ,TypeName5\r\n",
                "        ,TypeName6\r\n",
                "        ,TypeName7\r\n",
                "        ,TypeName8\r\n",
                "        ,TypeName9\r\n",
                "        ,TypeName10\r\n",
                "        ,TypeName11\r\n",
                "        ,TypeName12\r\n",
                "        ,TypeName13)\r\n",
                "FROM cte_columns"
            ],
            "metadata": {
                "azdata_cell_guid": "a40de404-3d9f-44f4-a329-b62e74e91ffb"
            },
            "outputs": [],
            "execution_count": 0
        },
        {
            "cell_type": "markdown",
            "source": [
                "Nun haben wir als Ergebnis wieder die Kommaseparierte Liste, die wir von Anfang an mit `STRING_AGG` erhalten hatten. \n",
                "Was bedeutet das also? Wenn wir Daten konkatenieren möchten, in Zeilen untereinander stehen, verwenden wir `STRING_AGG`. Wenn die Daten aber in Spalten nebeneinander stehen, dann ist `CONCAT` beziehungsweise `CONCAT_WS` das Mittel der Wahl. \n",
                "Happy concatenating. \n",
                "## Referenzen\n",
                "- [Dokumentation von Microsoft zu CONCAT](https://docs.microsoft.com/de-de/sql/t-sql/functions/concat-transact-sql?view=sql-server-ver15)\n",
                "- [Dokumentation von Microsoft zu CONCAT_WS](https://docs.microsoft.com/de-de/sql/t-sql/functions/concat-ws-transact-sql?view=sql-server-ver15)"
            ],
            "metadata": {
                "azdata_cell_guid": "78e2c55d-77bf-49a4-bde9-06249f233c77"
            }
        }
    ]
}