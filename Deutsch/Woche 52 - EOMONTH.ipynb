{
    "metadata": {
        "kernelspec": {
            "name": "SQL",
            "display_name": "SQL",
            "language": "sql"
        },
        "language_info": {
            "name": "sql",
            "version": ""
        }
    },
    "nbformat_minor": 2,
    "nbformat": 4,
    "cells": [
        {
            "cell_type": "markdown",
            "source": [
                "# Woche 52: EOMONTH\r\n",
                "## Was ist EOMONTH?\r\n",
                "Datumsmanipulationen sind, wie wir bereits mehrfach im Verlauf des Jahres festgestellt hatten, immer mit Schmerzen für den geneigten Ninja verbunden. Deshalb gibt es auch zahlreiche Funktionen, die da helfen können. `EOMONTH` gehört auch in diese Kategorie und berechnet zu einem übergebenen Datum das Ende des jeweiligen Monats.  \r\n",
                "## Wie könnt ihr mit EOMONTH arbeiten?\r\n",
                "Fangen wir damit an, das Ende des aktuellen Monats zu berechnen. Das tut ihr wie folgt:"
            ],
            "metadata": {
                "azdata_cell_guid": "d0c16d31-de23-4ffe-bc4a-bb1d66988db0"
            }
        },
        {
            "cell_type": "code",
            "source": [
                "SELECT EOMONTH(GETDATE())"
            ],
            "metadata": {
                "azdata_cell_guid": "77ee6840-8637-4542-9d2f-631c6d0d13bf"
            },
            "outputs": [],
            "execution_count": 0
        },
        {
            "cell_type": "markdown",
            "source": [
                "Damit könnten wir hier einen Blitz-Ninja beenden und euch für dieses Jahr verlassen, doch wollen wir uns lieber noch ein wenig mit EOMONTH beschäftigen und ein paar praktische Beispiele für die Verwendung geben. \r\n",
                "\r\n",
                "Den Monatsersten des Folgemonats ermittelt ihr folgerichtig so:"
            ],
            "metadata": {
                "azdata_cell_guid": "4b9f0b3e-d878-4b28-bbc5-884709e0c8f1"
            }
        },
        {
            "cell_type": "code",
            "source": [
                "SELECT DATEADD(DAY, 1, EOMONTH(GETDATE()))"
            ],
            "metadata": {
                "azdata_cell_guid": "f4ccfb2d-24c0-4df7-87ec-355eeab6d94d"
            },
            "outputs": [],
            "execution_count": 0
        },
        {
            "cell_type": "markdown",
            "source": [
                "Und den ersten dieses Monats dann folgerichtig so:"
            ],
            "metadata": {
                "azdata_cell_guid": "7ebbf297-1b83-46bd-9b83-b3ada7586cf4"
            }
        },
        {
            "cell_type": "code",
            "source": [
                "SELECT DATEADD(DAY, 1, EOMONTH(DATEADD(MONTH, -1, GETDATE())))"
            ],
            "metadata": {
                "azdata_cell_guid": "9283731f-c18d-4fc3-9026-4330748f7dff"
            },
            "outputs": [],
            "execution_count": 0
        },
        {
            "cell_type": "markdown",
            "source": [
                "Dass da auch in Schaltjahren funktioniert könnt ihr natürlich auch überprüfen:"
            ],
            "metadata": {
                "azdata_cell_guid": "ee1a1140-dc67-4102-8ec3-63043a867949"
            }
        },
        {
            "cell_type": "code",
            "source": [
                "SELECT EOMONTH('2020-02-02')"
            ],
            "metadata": {
                "azdata_cell_guid": "217d9ec3-b759-4d4d-ada3-66bcf9850847"
            },
            "outputs": [],
            "execution_count": 0
        },
        {
            "cell_type": "markdown",
            "source": [
                "Alle Monatsersten der letzten 12 Monate könnt ihr wie folgt ermitteln:"
            ],
            "metadata": {
                "azdata_cell_guid": "028bd433-87be-4995-9b41-acdb05e4a556"
            }
        },
        {
            "cell_type": "code",
            "source": [
                "SELECT \r\n",
                "     DATENAME(\r\n",
                "          WEEKDAY\r\n",
                "         ,DATEADD(DAY, 1, EOMONTH(DATEADD(MONTH, -m, GETDATE()))))\r\n",
                "    ,DATENAME(\r\n",
                "         MONTH\r\n",
                "        ,DATEADD(DAY, 1, EOMONTH(DATEADD(MONTH, -m, GETDATE()))))\r\n",
                "FROM (\r\n",
                "    VALUES \r\n",
                "         (1)\r\n",
                "        ,(2)\r\n",
                "        ,(3)\r\n",
                "        ,(4)\r\n",
                "        ,(5)\r\n",
                "        ,(6)\r\n",
                "        ,(7)\r\n",
                "        ,(8)\r\n",
                "        ,(9)\r\n",
                "        ,(10)\r\n",
                "        ,(11)\r\n",
                "        ,(12)\r\n",
                "    ) AS t(m)"
            ],
            "metadata": {
                "azdata_cell_guid": "07e7fc42-6da2-4473-b07f-f316dc42a581"
            },
            "outputs": [],
            "execution_count": 0
        },
        {
            "cell_type": "markdown",
            "source": [
                "Das könnt ihr aber auch abkürzen, indem ihr das zweite Argument von `EOMONTH` verwendet, dass angibt, wieviele Monate ihr euch vom übergebenen Datum entfernen möchtet:"
            ],
            "metadata": {
                "azdata_cell_guid": "13a354d5-8828-4b03-9dda-c96766e5b29d"
            }
        },
        {
            "cell_type": "code",
            "source": [
                "SELECT \r\n",
                "     DATENAME(\r\n",
                "          WEEKDAY\r\n",
                "         ,DATEADD(DAY, 1, EOMONTH(GETDATE(), -m)))\r\n",
                "    ,DATENAME(\r\n",
                "         MONTH\r\n",
                "        ,DATEADD(DAY, 1, EOMONTH(GETDATE(), -m)))\r\n",
                "FROM (\r\n",
                "    VALUES \r\n",
                "         (1)\r\n",
                "        ,(2)\r\n",
                "        ,(3)\r\n",
                "        ,(4)\r\n",
                "        ,(5)\r\n",
                "        ,(6)\r\n",
                "        ,(7)\r\n",
                "        ,(8)\r\n",
                "        ,(9)\r\n",
                "        ,(10)\r\n",
                "        ,(11)\r\n",
                "        ,(12)\r\n",
                "    ) AS t(m)"
            ],
            "metadata": {
                "azdata_cell_guid": "239153aa-493e-4d28-ae9d-f54ff475d960"
            },
            "outputs": [],
            "execution_count": 0
        },
        {
            "cell_type": "markdown",
            "source": [
                "Das heißt hier habt ihr sogar eine rudimentäre Datumsarithmetik mit eingebaut. Insgesamt macht `EOMONTH` euch das Leben viel leichter, gerade wenn es um die Berechnung von Stichtagen geht. In diesem Sinne wünschen wir euch einen schönen"
            ],
            "metadata": {
                "azdata_cell_guid": "f295b661-6be1-4115-963b-25df77b795ea"
            }
        },
        {
            "cell_type": "code",
            "source": [
                "SELECT EOMONTH(GETDATE())"
            ],
            "metadata": {
                "azdata_cell_guid": "fca0a21d-df12-4e7f-9cce-f55bc387a7af"
            },
            "outputs": [],
            "execution_count": 0
        },
        {
            "cell_type": "markdown",
            "source": [
                "Einen guten Rutsch in den "
            ],
            "metadata": {
                "azdata_cell_guid": "404076f9-32c0-4bf6-ad23-601de1e9a840"
            }
        },
        {
            "cell_type": "code",
            "source": [
                "SELECT DATEADD(DAY, 1, EOMONTH(GETDATE()))"
            ],
            "metadata": {
                "azdata_cell_guid": "e72829d8-c1c2-48fe-9ffc-813a7ee6b6c9"
            },
            "outputs": [],
            "execution_count": 0
        },
        {
            "cell_type": "markdown",
            "source": [
                "Und danke dass ihr dem Ninja über das Jahr 2020 gefolgt seid. \n",
                "\n",
                "## Referenzen\n",
                "- [Dokumentation von Microsoft](https://docs.microsoft.com/de-de/sql/t-sql/functions/eomonth-transact-sql?view=sql-server-ver15)\n",
                ""
            ],
            "metadata": {
                "azdata_cell_guid": "f1852eff-3995-4440-bb20-4ecfd64a6608"
            }
        }
    ]
}