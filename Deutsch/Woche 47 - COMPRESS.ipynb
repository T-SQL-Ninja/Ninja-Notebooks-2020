{
    "metadata": {
        "kernelspec": {
            "name": "SQL",
            "display_name": "SQL",
            "language": "sql"
        },
        "language_info": {
            "name": "sql",
            "version": ""
        }
    },
    "nbformat_minor": 2,
    "nbformat": 4,
    "cells": [
        {
            "cell_type": "markdown",
            "source": [
                "# Woche 47: COMPRESS\r\n",
                "## Was ist COMPRESS? \r\n",
                "Wenn ihr in einer Datenbank eine größere Menge an Daten liegen habt, die ihr nicht mehr benötigt, beispielsweise von gelöschten Datensätzen, die ihr archivieren möchtet, aber die in eurer Anwendung nicht mehr verwendet werden, dann wäre es doch schön, wenn diese Daten in komprimierter Form hinterlegt wären. Wie ihr das mit Hilfe der `COMPRESS`-Funktion erreichen könnt, seht ihr heute in unserem Dojo. \r\n",
                "## Wie könnt ihr COMPRESS verwenden?\r\n",
                "Was tut COMPRESS? Die COMPRESS-Funktion wandelt den Eingabewert in ein Bytearray vom Typ `VARBINARY(MAX)` um, das mit dem GZIP-Algorithmus komprimiert wurde. Das bedeutet, ihr könnt dieser Funktion einen Wert, beispielsweise eine Zeichenfolge übergeben und dieser Wert wird dann komprimiert und zurückgegeben. Wie könnt ihr das nutzen? Um das zu demonstrieren, verwenden wir die WideWorldImporters Datenbank und arbeiten mit den Sales Invoicelines. Legen wir uns zunächst eine Tabelle an, in die wir gelöschte Daten archivieren können:"
            ],
            "metadata": {
                "azdata_cell_guid": "454ea53f-eda3-473b-9da3-c13eb5baa928"
            }
        },
        {
            "cell_type": "code",
            "source": [
                "DROP TABLE IF EXISTS [Sales].[DeletedInvoiceLines]\r\n",
                "\r\n",
                "SELECT TOP 0 [InvoiceLineID]\r\n",
                "      ,[InvoiceID]\r\n",
                "      ,[StockItemID]\r\n",
                "      ,[Description]\r\n",
                "      ,[PackageTypeID]\r\n",
                "      ,[Quantity]\r\n",
                "      ,[UnitPrice]\r\n",
                "      ,[TaxRate]\r\n",
                "      ,[TaxAmount]\r\n",
                "      ,[LineProfit]\r\n",
                "      ,[ExtendedPrice]\r\n",
                "      ,[LastEditedBy]\r\n",
                "      ,[LastEditedWhen]\r\n",
                "INTO [Sales].[DeletedInvoiceLines]\r\n",
                "FROM [Sales].[InvoiceLines]"
            ],
            "metadata": {
                "azdata_cell_guid": "75a8c2ba-c045-4dbf-a0f4-c9d1da05d75b"
            },
            "outputs": [],
            "execution_count": 0
        },
        {
            "cell_type": "markdown",
            "source": [
                "Das ist natürlich nicht die beste Art, eine Archiv-Tabelle anzulegen, da ihr euch normalerweise Gedanken über Filegroups und Speicherorte machen solltet, aber für unsere momentan Demonstration wird diese Tabelle ausreichen. \r\n",
                "\r\n",
                "Wenn ihr nun Daten löschen und in der neuen Tabelle archivieren möchtet, dann könnt ihr das wie folgt tun: \r\n",
                ""
            ],
            "metadata": {
                "azdata_cell_guid": "2dfca472-5dfb-495f-bb20-ac72e6c76506"
            }
        },
        {
            "cell_type": "code",
            "source": [
                "DELETE \r\n",
                "FROM [Sales].[InvoiceLines]\r\n",
                "OUTPUT \r\n",
                "     Deleted.[InvoiceLineID]\r\n",
                "    ,Deleted.[InvoiceID]\r\n",
                "    ,Deleted.[StockItemID]\r\n",
                "    ,Deleted.[Description]\r\n",
                "    ,Deleted.[PackageTypeID]\r\n",
                "    ,Deleted.[Quantity]\r\n",
                "    ,Deleted.[UnitPrice]\r\n",
                "    ,Deleted.[TaxRate]\r\n",
                "    ,Deleted.[TaxAmount]\r\n",
                "    ,Deleted.[LineProfit]\r\n",
                "    ,Deleted.[ExtendedPrice]\r\n",
                "    ,Deleted.[LastEditedBy]\r\n",
                "    ,Deleted.[LastEditedWhen]\r\n",
                "INTO Sales.DeletedInvoiceLines\r\n",
                "WHERE InvoiceID < 50000"
            ],
            "metadata": {
                "azdata_cell_guid": "004cd4fa-56d8-41b0-b438-7f2d02571761"
            },
            "outputs": [],
            "execution_count": 0
        },
        {
            "cell_type": "markdown",
            "source": [
                "So habt ihr nun die Daten aus der produktiven Tabelle gelöscht, sie jedoch nicht komprimiert, wie können wir es nun schaffen, die Daten zu komprimieren? Dafür kopieren wir zunächst die archivierten Daten zurück in die originale Tabelle:"
            ],
            "metadata": {
                "azdata_cell_guid": "e58a0321-4f12-4e6b-ad51-44ebcf272785"
            }
        },
        {
            "cell_type": "code",
            "source": [
                "INSERT INTO Sales.InvoiceLines \r\n",
                "SELECT * FROM Sales.DeletedInvoiceLines"
            ],
            "metadata": {
                "azdata_cell_guid": "0d49c2ad-2093-4fa5-b730-4c2871a9669c"
            },
            "outputs": [],
            "execution_count": 0
        },
        {
            "cell_type": "markdown",
            "source": [
                "Leider ist es nun so, dass nicht alle Datentypen für die Kompression mit `COMPRESS` geeignet sind. Daher erlaubt die `COMPRESS`-Funktion nur Werte folgender Datentypen als Argument: \r\n",
                "\r\n",
                "- `binary(n)`\r\n",
                "- `char(n)`\r\n",
                "- `nchar(n)`\r\n",
                "- `nvarchar(max)`\r\n",
                "- `nvarchar(n)`\r\n",
                "- `varbinary(max)`\r\n",
                "- `varbinary(n)`\r\n",
                "- `varchar(max)`\r\n",
                "\r\n",
                "Wie können wir uns das zunutze machen? Dafür wandeln wir zunächst die Daten der InvoiceLines-Tabelle in JSON-Objekte um. Mit einem SELECT Statement ginge das beispielsweise wie folgt:  "
            ],
            "metadata": {
                "azdata_cell_guid": "f033ebf6-197b-4c4c-b431-f0d22cf88c42"
            }
        },
        {
            "cell_type": "code",
            "source": [
                "SELECT\r\n",
                "    CONCAT('{',\r\n",
                "        ' \"InvoiceLineID\" : ', [InvoiceLineID], \r\n",
                "        ',\"InvoiceID\" : ', [InvoiceID],\r\n",
                "        ',\"StockItemID\" : ', [StockItemID],\r\n",
                "        ',\"Description\" : ', '\"', [Description], '\"',\r\n",
                "        ',\"PackageTypeID\" : ', [PackageTypeID],\r\n",
                "        ',\"Quantity\" : ', [Quantity],\r\n",
                "        ',\"UnitPrice\" : ', [UnitPrice],\r\n",
                "        ',\"TaxRate\" : ', [TaxRate],\r\n",
                "        ',\"TaxAmount\" : ', [TaxAmount],\r\n",
                "        ',\"LineProfit\" : ', [LineProfit], \r\n",
                "        ',\"ExtendedPrice\" : ', [ExtendedPrice], \r\n",
                "        ',\"LastEditedBy\" : ', [LastEditedBy], \r\n",
                "        ',\"LastEditedWhen\" : ', '\"', [LastEditedWhen], '\"',\r\n",
                "        '}'\r\n",
                "    )\r\n",
                "FROM Sales.InvoiceLines"
            ],
            "metadata": {
                "azdata_cell_guid": "576dc347-1a84-4ab8-9264-995da9b2ac9c"
            },
            "outputs": [],
            "execution_count": 0
        },
        {
            "cell_type": "markdown",
            "source": [
                "Diese Definition ist nicht gerade elegant, aber sie erfüllt ihren Zweck. Arbeiten wir nun mit diesen Objekten in unserem Delete-Statement, indem wir diese Spalte komprimieren und in eine Archiv-Tabelle schreiben. Diese Archiv-Tabelle legen wir wie folgt an:\r\n",
                "\r\n",
                "Schreiben wir nun die gelöschten Daten in diese Tabelle:"
            ],
            "metadata": {
                "azdata_cell_guid": "ea321f72-9023-4c23-88e6-c168e1093616"
            }
        },
        {
            "cell_type": "code",
            "source": [
                "DELETE \r\n",
                "FROM [Sales].[InvoiceLines]\r\n",
                "OUTPUT \r\n",
                "     COMPRESS(\r\n",
                "       CONCAT('{',\r\n",
                "        ' \"InvoiceLineID\" : ', Deleted.[InvoiceLineID], \r\n",
                "        ',\"InvoiceID\" : ', Deleted.[InvoiceID],\r\n",
                "        ',\"StockItemID\" : ', Deleted.[StockItemID],\r\n",
                "        ',\"Description\" : ', '\"', Deleted.[Description], '\"',\r\n",
                "        ',\"PackageTypeID\" : ', Deleted.[PackageTypeID],\r\n",
                "        ',\"Quantity\" : ', Deleted.[Quantity],\r\n",
                "        ',\"UnitPrice\" : ', Deleted.[UnitPrice],\r\n",
                "        ',\"TaxRate\" : ', Deleted.[TaxRate],\r\n",
                "        ',\"TaxAmount\" : ', Deleted.[TaxAmount],\r\n",
                "        ',\"LineProfit\" : ', Deleted.[LineProfit], \r\n",
                "        ',\"ExtendedPrice\" : ', Deleted.[ExtendedPrice], \r\n",
                "        ',\"LastEditedBy\" : ', Deleted.[LastEditedBy], \r\n",
                "        ',\"LastEditedWhen\" : ', '\"', Deleted.[LastEditedWhen], '\"',\r\n",
                "        '}'\r\n",
                "    ))\r\n",
                "INTO Sales.DeletedInvoiceLinesCompressed\r\n",
                "WHERE InvoiceID < 50000"
            ],
            "metadata": {
                "azdata_cell_guid": "9e80b17a-2a0b-48d2-a4ee-01460986d74f"
            },
            "outputs": [],
            "execution_count": 0
        },
        {
            "cell_type": "markdown",
            "source": [
                "Für diese Tabelle ist das gewählte Vorgehen nicht besonders effizient, wie ihr einfach über die `sp_spaceused`-Funktion bestätigen könnt, da hier viele der Spalten, nämlich alle numerischen Werte nicht komprimiert werden und der Overhead durch das JSON-Format enorm ist. Doch wenn ihr das mit Tabellen tut, die viele `VARCHAR`-Felder enthalten, dann sieht das schon anders aus. Wählen wir als alternativen Ansatz nur die Komprimierung der Beschreibungs-Spalte aus. Dafür erzeugen wir folgende Tabelle:"
            ],
            "metadata": {
                "azdata_cell_guid": "d85f670e-8ebb-4c07-aac6-4c0ccac491f5"
            }
        },
        {
            "cell_type": "code",
            "source": [
                "SELECT TOP 0\r\n",
                "     [InvoiceLineID]\r\n",
                "    ,[InvoiceID]\r\n",
                "    ,[StockItemID]\r\n",
                "    ,COMPRESS([Description]) as DescriptionCompressed\r\n",
                "    ,[PackageTypeID]\r\n",
                "    ,[Quantity]\r\n",
                "    ,[UnitPrice]\r\n",
                "    ,[TaxRate]\r\n",
                "    ,[TaxAmount]\r\n",
                "    ,[LineProfit]\r\n",
                "    ,[ExtendedPrice]\r\n",
                "    ,[LastEditedBy]\r\n",
                "    ,[LastEditedWhen]\r\n",
                "INTO Sales.DeletedInvoiceLinesCompressed_V2\r\n",
                "FROM Sales.InvoiceLines"
            ],
            "metadata": {
                "azdata_cell_guid": "ab4fbd0d-dca5-4965-9142-48f17cb0c6df"
            },
            "outputs": [],
            "execution_count": 0
        },
        {
            "cell_type": "markdown",
            "source": [
                "Nun passen wir das `DELETE`-Statement wie folgt an:"
            ],
            "metadata": {
                "azdata_cell_guid": "9941a4e3-99d4-4d1f-9d8f-fb551d06c55e"
            }
        },
        {
            "cell_type": "code",
            "source": [
                "DELETE \r\n",
                "FROM [Sales].[InvoiceLines]\r\n",
                "OUTPUT \r\n",
                "     Deleted.[InvoiceLineID]\r\n",
                "    ,Deleted.[InvoiceID]\r\n",
                "    ,Deleted.[StockItemID]\r\n",
                "    ,COMPRESS(Deleted.[Description])\r\n",
                "    ,Deleted.[PackageTypeID]\r\n",
                "    ,Deleted.[Quantity]\r\n",
                "    ,Deleted.[UnitPrice]\r\n",
                "    ,Deleted.[TaxRate]\r\n",
                "    ,Deleted.[TaxAmount]\r\n",
                "    ,Deleted.[LineProfit]\r\n",
                "    ,Deleted.[ExtendedPrice]\r\n",
                "    ,Deleted.[LastEditedBy]\r\n",
                "    ,Deleted.[LastEditedWhen]\r\n",
                "INTO Sales.DeletedInvoiceLinesCompressed_V2\r\n",
                "WHERE InvoiceID < 50000"
            ],
            "metadata": {
                "azdata_cell_guid": "b82cf603-c593-441a-a5d2-b69cb9d3fe34"
            },
            "outputs": [],
            "execution_count": 0
        },
        {
            "cell_type": "markdown",
            "source": [
                "Wenn ihr nun mit `sp_spaceused` die drei Tabellen vergleich, dann seht ihr, dass die Daten bei der ursprünglichen Variante 28.360 KB Speicherplatz belegen. In der Version mit dem vollständigen JSON und sehr viel Overhead kommt ihr dagegen auf 53.544 KB Speicherplatz, was wie gesagt durch die schlechte Komprimierung der numerischen Werte und den Overhead der JSON-Struktur verursacht wird. Die Variante in der nur die Beschreibung komprimiert wird, hingegen, kommt auf 27.920 KB Speicherplatz für die Daten. Hier hat durch `COMPRESS` also eine Reduktion der Daten um etwa 2% stattgefunden.\r\n",
                "\r\n",
                "Um die komprimierten Daten wieder abzurufen, können wir die `DECOMPRESS`-Funktion verwenden, doch Vorsicht: da `DECOMPRESS` nicht weiß, welcher Wert im komprimierten Byte-Array \"versteckt\" ist, bekommt ihr hier wieder ein `VARBINARY(MAX)` zurück, das ihr in den richtigen Datenwert CASTen müsst, wenn ihr es weiterverwenden möchtet: "
            ],
            "metadata": {
                "azdata_cell_guid": "851773ce-f6d6-47db-b87f-70999c3ec6f3"
            }
        },
        {
            "cell_type": "code",
            "source": [
                "SELECT \r\n",
                "     [InvoiceId]\r\n",
                "    ,[InvoiceLineId]\r\n",
                "    ,[DescriptionCompressed]\r\n",
                "    ,CAST(DECOMPRESS([DescriptionCompressed]) as nvarchar(100))\r\n",
                "FROM Sales.DeletedInvoiceLinesCompressed_V2\r\n",
                "WHERE InvoiceID = 1"
            ],
            "metadata": {
                "azdata_cell_guid": "97b28db9-9fa8-4a59-95b1-3b970c446818"
            },
            "outputs": [],
            "execution_count": 0
        },
        {
            "cell_type": "markdown",
            "source": [
                "Im Dojo hattet ihr gesehen, dass ein `COMPRESS` nicht immer und überall sinnvoll ist. Außerdem habt ihr sicher an der Laufzeit der Beispiele bemerkt, dass ihr euch eine Reduktion des Speicherplatzes und der IO-Last eures Systems hier mit CPU-Last erkauft, denn das zeilenweise Aufrufen von `COMPRESS` macht eure Abfragen garantiert nicht gerade \"sportlich\". Also wägt gut ab, ob die Reduktion des Speicherplatzes den Overhead der Abfrage wert ist. \n",
                "\n",
                "## Referenzen\n",
                "- [Dokumentation von Microsoft zu COMPRESS](https://docs.microsoft.com/de-de/sql/t-sql/functions/compress-transact-sql?view=sql-server-ver15)\n",
                "- [Dokumentation von Microsoft zu DECOMPRESS](https://docs.microsoft.com/de-de/sql/t-sql/functions/decompress-transact-sql?view=sql-server-ver15)"
            ],
            "metadata": {
                "azdata_cell_guid": "e19539b4-8034-4341-902f-e9a4492d66fa"
            }
        }
    ]
}