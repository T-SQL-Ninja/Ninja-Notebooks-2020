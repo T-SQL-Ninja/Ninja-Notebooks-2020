{
    "metadata": {
        "kernelspec": {
            "name": "SQL",
            "display_name": "SQL",
            "language": "sql"
        },
        "language_info": {
            "name": "sql",
            "version": ""
        }
    },
    "nbformat_minor": 2,
    "nbformat": 4,
    "cells": [
        {
            "cell_type": "markdown",
            "source": [
                "# Woche 43: SP_RENAME\r\n",
                "## Was ist SP_RENAME? \r\n",
                "Wenn ihr in eurer Datenbank Objekte habt, die ihr umbenennen möchtet, dann könnt ihr im SQL Server Management Studio mit Rechtsklick auf das Objekt eine Umbenennung durchführen. Wenn ihr das Umbenennen aber ein wenig kontrollierter und am besten noch verteilbar machen möchtet, dann kommt ihr um das Skripten des Vorgangs nicht herum und benötigt die Prozedur `SP_RENAME` nicht herum. \r\n",
                "## Wie könnt ihr SP_RENAME verwenden?\r\n",
                "`SP_RENAME` benennt also vom Benutzer erzeugte Objekte um, das kann dabei nahezu jedes Objekt sein von der Datenbank über Tabellen und Indexe bis hin zum CLR-Typen (vorausgesetzt ihr besitzt `ALTER`-Rechte für die Objekte). Die Verwendung von `SP_RENAME` ist dabei recht einfach, doch Vorsicht, wenn ihr die folgenden Beispiele ausführt, könnt ihr damit eure Datenbanken nachhaltig zerstören, also wie immer im Dojo, bitte verwendet eine unkritische Spiel-Datenbank, bei der es nichts macht, wenn die eine oder andere View nicht mehr funktioniert. Wir verwenden die WideWorldImporters-Datenbank im Docker-Container. Der einfachste Aufruf ist, zunächst einmal die WideWorldImporters-Datenbank umzubenennen:"
            ],
            "metadata": {
                "azdata_cell_guid": "2b060faa-c3cb-4ddc-ae57-231b3354317d"
            }
        },
        {
            "cell_type": "code",
            "source": [
                "EXEC sp_rename 'WideWorldImporters', 'WWI', 'Database'"
            ],
            "metadata": {
                "azdata_cell_guid": "9db2fc96-c2c2-4754-83b0-30b62a369790"
            },
            "outputs": [],
            "execution_count": 0
        },
        {
            "cell_type": "markdown",
            "source": [
                "Ihr seht, dass `SP_RENAME` drei Argumente bekommt, den Namen des ursprünglichen Objekts (in unserem Fall \"WideWorldImporters\"), den neuen Namen für das Objekt (in unserem Fall \"WWI\") und um was für ein Objekt es sich handelt. Der dritte Parameter wird weggelassen, wenn ihr Tabellen umbenennt, sonst müsst ihr immer angeben, was für ein Objekt ihr hier umbenennt. \r\n",
                "\r\n",
                "Wechseln wir nun in unsere neu benannte Datenbank und benennen wir eine Tabelle um:"
            ],
            "metadata": {
                "azdata_cell_guid": "8c1a3504-5469-461c-92c0-e37ad227b7e9"
            }
        },
        {
            "cell_type": "code",
            "source": [
                "USE WWI;\r\n",
                "EXEC sp_rename 'Purchasing.PurchaseOrderLines', 'POL'"
            ],
            "metadata": {
                "azdata_cell_guid": "9d21932c-5275-44df-ba73-793473ed6137"
            },
            "outputs": [],
            "execution_count": 0
        },
        {
            "cell_type": "markdown",
            "source": [
                "Was ihr im Resultat beobachten könnt ist, dass die neue POL-Tabelle auch im Purchasing-Schema liegt. Wenn ihr aber versucht, das Schema beim ersten Argument, also der Tabelle, die umbenannt werden soll, wegzulassen, erhaltet ihr einen Fehler:"
            ],
            "metadata": {
                "azdata_cell_guid": "31bbe009-bd74-40ae-b7d8-fa9a87d10f03"
            }
        },
        {
            "cell_type": "code",
            "source": [
                "EXEC sp_rename 'POL', 'OrderLine'"
            ],
            "metadata": {
                "azdata_cell_guid": "1418280c-95a5-46c3-8de9-c26617bdffad"
            },
            "outputs": [],
            "execution_count": 0
        },
        {
            "cell_type": "markdown",
            "source": [
                "`No item by the name of 'POL' could be found in the current database 'WWI'`. \r\n",
                "\r\n",
                "Hier muss also das Schema angegeben werden, damit die Tabelle gefunden wird. Doch was passiert, wenn wir auch für das Zielobjekt das Schema mit angeben? Probieren wir es aus:"
            ],
            "metadata": {
                "azdata_cell_guid": "161dd415-5741-4bce-bffc-4bc5fce78112"
            }
        },
        {
            "cell_type": "code",
            "source": [
                "EXEC sp_rename 'Purchasing.POL', 'Purchasing.OrderLine'"
            ],
            "metadata": {
                "azdata_cell_guid": "0e21fda0-7c82-463d-8479-9ea8169a2c92"
            },
            "outputs": [],
            "execution_count": 0
        },
        {
            "cell_type": "markdown",
            "source": [
                "Das Resultat ist, dass im Schema \"Purchasing\" nun eine Tabelle mit dem Namen \"Purchasing.OrderLine\" existiert, diese Müssten wir also, da der Tabellenname mit dem Punkt ein Sonderzeichen enthält, wie folgt abfragen:"
            ],
            "metadata": {
                "azdata_cell_guid": "fa875f98-652e-4596-bd85-ece86eec33d3"
            }
        },
        {
            "cell_type": "code",
            "source": [
                "SELECT TOP(10)\r\n",
                "    PurchaseOrderLineID \r\n",
                "FROM Purchasing.[Purchasing.OrderLine]"
            ],
            "metadata": {
                "azdata_cell_guid": "fccc04fc-8c29-4a47-9026-de02924ceeab"
            },
            "outputs": [],
            "execution_count": 0
        },
        {
            "cell_type": "markdown",
            "source": [
                "Warum ist das so? Weil das ändern des Schemas kein Umbenennen der Tabelle ist, sondern eine Operation auf dem Schema. Wollen wir die Tabelle in ein neues Schema verschieben, so verwenden wir dafür ein `ALTER SCHEMA ADD`. \r\n",
                "\r\n",
                "Benennen wir die Tabelle nun also erst einmal wieder vernünftig:"
            ],
            "metadata": {
                "azdata_cell_guid": "55c570c1-4109-469a-8c16-be3194bef0ed"
            }
        },
        {
            "cell_type": "code",
            "source": [
                "EXEC sp_rename 'Purchasing.[Purchasing.OrderLine]', 'OrderLine'"
            ],
            "metadata": {
                "azdata_cell_guid": "dc092140-0c85-4ffb-81cc-f632789f185b"
            },
            "outputs": [],
            "execution_count": 0
        },
        {
            "cell_type": "markdown",
            "source": [
                "\r\n",
                "Sehen wir uns nun die Tabelle an, sie hat einen Primärschlüssel und einen dazugehörigen geclusterten Index mit dem Namen \"PK_Purchasing_PurchaseOrderLines\" den wollen wir nun an den neuen Tabellennamen anpassen, benennen wir also den Index um:"
            ],
            "metadata": {
                "azdata_cell_guid": "af065641-2d00-41a0-a1db-13cdb823ae2a"
            }
        },
        {
            "cell_type": "code",
            "source": [
                "EXEC sp_rename \r\n",
                "     'Purchasing.OrderLine.PK_Purchasing_PurchaseOrderLines'\r\n",
                "    ,'PK_Purchasing_OrderLines'\r\n",
                "    ,'Index'"
            ],
            "metadata": {
                "azdata_cell_guid": "f7e37fa9-9f4a-4d47-9563-3de6ee2a966b"
            },
            "outputs": [],
            "execution_count": 0
        },
        {
            "cell_type": "markdown",
            "source": [
                "Wenn ihr nun die Tabelle anseht, stellt ihr fest, dass `SP_RENAME` nicht nur den Index sondern auch die zugehörige Primärschlüssel-Constraint umbenannt hat. Das heißt, `SP_RENAME` hat hier dafür gesorgt, dass auch gleich \"Ordnung\" in eurer Datenbank herrscht. Und auch die Statistiken hat `SP_RENAME` freundlicherweise gleich für euch angepasst. \r\n",
                "\r\n",
                "Wie ist das, wenn wir es anders herum versuchen? Benennen wir also mal eine Statistik um, die zu einem Index und einem Fremdschlüssel gehört: "
            ],
            "metadata": {
                "azdata_cell_guid": "28e80f18-f2af-4375-aa99-fb4ba42848a6"
            }
        },
        {
            "cell_type": "code",
            "source": [
                "EXEC sp_rename\r\n",
                "     'Purchasing.OrderLine.FK_Purchasing_PurchaseOrderLines_PackageTypeID'\r\n",
                "    ,'FK_Purchasing_OrderLines_PackageTypeID'\r\n",
                "    ,'Statistics'"
            ],
            "metadata": {
                "azdata_cell_guid": "260b2c2b-9e06-4edc-9720-48f51b466cf9"
            },
            "outputs": [],
            "execution_count": 0
        },
        {
            "cell_type": "markdown",
            "source": [
                "In diesem Fall wurde der mit der Statistik verbundene Index auch gleich mit umbenannt, die Fremdschlüsselbeziehung allerdings nicht. \r\n",
                "\r\n",
                "Und was passiert, wenn wir eine Spalte umbenennen mit den Indexen und Fremdschlüsselbeziehungen, in denen sie vorkommt? Probieren wir es aus: "
            ],
            "metadata": {
                "azdata_cell_guid": "e1544117-4807-4bc1-8385-1ea5abd577bf"
            }
        },
        {
            "cell_type": "code",
            "source": [
                "EXEC sp_rename\r\n",
                "     'Purchasing.OrderLine.PurchaseOrderLineID'\r\n",
                "    ,'OrderLineID'\r\n",
                "    ,'Column'"
            ],
            "metadata": {
                "azdata_cell_guid": "74e9e04b-37d9-49bd-971b-b873e3b5354f"
            },
            "outputs": [],
            "execution_count": 0
        },
        {
            "cell_type": "markdown",
            "source": [
                "Wenn wir uns nun den Primärschlüssel oder den geclusterten Index ansehen, stellen wir fest, dass auch hier der korrekte neue Spaltenname übernommen wurde. Um zu prüfen, ob das auch bei Fremdschlüssel-Beziehungen funktioniert, benennen wir ein Objekt um, auf das die OrderLine referenziert:"
            ],
            "metadata": {
                "azdata_cell_guid": "fb5cafd5-736c-4c5a-b202-146e880072af"
            }
        },
        {
            "cell_type": "code",
            "source": [
                "EXEC sp_rename\r\n",
                "     'Purchasing.PurchaseOrders.PurchaseOrderID'\r\n",
                "    ,'OrderID'\r\n",
                "    ,'Column'"
            ],
            "metadata": {
                "azdata_cell_guid": "db65a650-8a8e-49c0-883f-1bc36feeb096"
            },
            "outputs": [],
            "execution_count": 0
        },
        {
            "cell_type": "markdown",
            "source": [
                "Sehen wir uns nun die OrderLines-Tabelle an, dann sehen wir, dass die Fremdschlüsselbeziehung, die auf die Order verweist korrekterweise angepasst wurde:"
            ],
            "metadata": {
                "azdata_cell_guid": "793cb0dc-85c4-426e-a199-7b66f3109e88"
            }
        },
        {
            "cell_type": "code",
            "source": [
                "ALTER TABLE [Purchasing].[OrderLine]  WITH CHECK \r\n",
                "ADD CONSTRAINT [FK_Purchasing_PurchaseOrderLines_PurchaseOrderID_Purchasing_PurchaseOrders]\r\n",
                "FOREIGN KEY([PurchaseOrderID])\r\n",
                "REFERENCES [Purchasing].[PurchaseOrders] ([OrderID])"
            ],
            "metadata": {
                "azdata_cell_guid": "67e55bbd-61a4-4a01-8e21-627dcaaed342"
            },
            "outputs": [],
            "execution_count": 0
        },
        {
            "cell_type": "markdown",
            "source": [
                "Was ihr heute hoffentlich gelernt habt ist, dass es zwar wünschenswert wäre, ein Refactoring eurer Datenbank von vorne herein auszuschließen, das wäre aber leider überhaupt nicht realistisch. Wenn es also zum Refactoring kommt, dann ist die `SP_RENAME` Prozedur ein willkommenes Hilfsmittel, das an vielen Stellen einiges übernimmt, um dafür zu sorgen, dass ihr mit eurer Umbenennung zumindest nicht in einen Zustand lauft, wo eure Datenbank grundlegend defekt ist (Fremdschlüssel, die ins leere laufen und dadurch die referenzielle Integrität der Datenbank bedrohen). Trotzdem kann natürlich auch `SP_RENAME` nicht alles: für die Korrektheit eurer Anwendungen, Views, Skripte und Prozeduren müsst ihr nach dem Umbenennen immer noch selber sorgen. Seid also vorsichtig beim Umbenennen! \n",
                "## Referenzen\n",
                "- [Dokumentation von Microsoft](https://docs.microsoft.com/de-de/sql/relational-databases/system-stored-procedures/sp-rename-transact-sql?view=sql-server-ver15)"
            ],
            "metadata": {
                "azdata_cell_guid": "8fe0a717-c95e-46b8-854f-9fa6d28e596b"
            }
        }
    ]
}