{
    "metadata": {
        "kernelspec": {
            "name": "SQL",
            "display_name": "SQL",
            "language": "sql"
        },
        "language_info": {
            "name": "sql",
            "version": ""
        }
    },
    "nbformat_minor": 2,
    "nbformat": 4,
    "cells": [
        {
            "cell_type": "markdown",
            "source": [
                "# Woche 3: try catch\r\n",
                "## Was ist try-catch?\r\n",
                "Wer von euch programmiert, der kennt `try`–`catch`-Blöcke zur Behandlung von Ausnahmen. Konstrukte wie dieses durch die man im Code nicht einfach auf Fehler läuft und den Code abbricht, sondern auf Ausnahmen reagieren kann, sind in der Programmier-Welt zwar alltäglich, im SQL-Standard jedoch nicht vorgesehen.\r\n",
                "\r\n",
                "## Wofür könnt ihr try-catch verwenden?\r\n",
                "`Try`–`catch`-Blöcke sind genau wie bei der Programmierung auch im SQL-Bereich immer dann nützlich, wenn ihr auf Fehler in einer besonderen Art reagieren möchtet ohne dass Euer Code mit einem Fehler beendet wird. Besonders oft verwende ich try-catch-Blöcke, wenn es darum geht, beispielsweise für eine Demo oder einen Test eine (temporäre) Tabelle zu erzeugen und wieder aufzuräumen. \r\n",
                "In geraumer Vorzeit sah mein Code um temporäre Tabellen zu entfernen dann beispielsweise wie folgt aus:"
            ],
            "metadata": {
                "azdata_cell_guid": "0e35da18-c60d-4678-b9d4-9b9d50061d37"
            }
        },
        {
            "cell_type": "code",
            "source": [
                "IF OBJECT_ID('tempdb..#OrdersTemp', 'U') IS NOT NULL\r\n",
                "BEGIN\r\n",
                " DROP TABLE #OrdersTemp;\r\n",
                "END\r\n",
                "SELECT\r\n",
                "     O.[OrderID]\r\n",
                "    ,O.[OrderDate]\r\n",
                "    ,O.[ExpectedDeliveryDate]\r\n",
                "    ,Ol.[StockItemID]\r\n",
                "    ,Ol.[Description]\r\n",
                "    ,Ol.[Quantity]\r\n",
                "    ,Ol.[UnitPrice]\r\n",
                "INTO #OrdersTemp\r\n",
                "FROM\r\n",
                "[Sales].[Orders] AS O\r\n",
                "LEFT JOIN\r\n",
                "[Sales].[OrderLines] AS Ol ON O.[OrderID] = Ol.[OrderID]"
            ],
            "metadata": {
                "azdata_cell_guid": "6325a1ea-47fa-459d-87f3-0987125c165a"
            },
            "outputs": [],
            "execution_count": 0
        },
        {
            "cell_type": "markdown",
            "source": [
                "Und wenn ich ganz ehrlich bin, konnte ich mich nie an das `tempdb` mit den zwei Punkten beim Abfragen der Objekt-ID gewöhnen (und musste die Syntax auch für diesen Beitrag nochmal extra nachlesen). \r\n",
                "Viel einfacher wurde das Leben da mit SQL Server 2016, als Microsoft sich entschied im SQL Server eine `Drop if exists`-Syntax einzuführen, die in anderen Systemen schon länger möglich ist. Danach sahen meine Abfragen dann so aus:"
            ],
            "metadata": {
                "azdata_cell_guid": "271ce835-b122-44d8-8f43-2f3104e8f9fb"
            }
        },
        {
            "cell_type": "code",
            "source": [
                "DROP TABLE IF EXISTS #OrdersTemp\r\n",
                "SELECT\r\n",
                "     O.[OrderID]\r\n",
                "    ,O.[OrderDate]\r\n",
                "    ,O.[ExpectedDeliveryDate]\r\n",
                "    ,Ol.[StockItemID]\r\n",
                "    ,Ol.[Description]\r\n",
                "    ,Ol.[Quantity]\r\n",
                "    ,Ol.[UnitPrice]\r\n",
                "INTO #OrdersTemp\r\n",
                "FROM\r\n",
                "[Sales].[Orders] AS O\r\n",
                "LEFT JOIN\r\n",
                "[Sales].[OrderLines] AS Ol ON O.[OrderID] = Ol.[OrderID]"
            ],
            "metadata": {
                "azdata_cell_guid": "9592e408-9385-43e2-84c2-5510bf236b8b"
            },
            "outputs": [],
            "execution_count": 0
        },
        {
            "cell_type": "markdown",
            "source": [
                "Wenn ihr aber gelegentlich zwischen den Versionen springt, dann könnte es sein, dass es euch (wie mir) schwerfällt, euch zu merken, welche der beiden Versionen ihr verwenden müsst. Meine Abfragen sehen deshalb meistens so aus:"
            ],
            "metadata": {
                "azdata_cell_guid": "5aece4cd-7dfb-490d-a606-39dee2c5d68d"
            }
        },
        {
            "cell_type": "code",
            "source": [
                "BEGIN TRY DROP TABLE #OrdersTemp END TRY BEGIN CATCH END CATCH\r\n",
                "SELECT\r\n",
                "     O.[OrderID]\r\n",
                "    ,O.[OrderDate]\r\n",
                "    ,O.[ExpectedDeliveryDate]\r\n",
                "    ,Ol.[StockItemID]\r\n",
                "    ,Ol.[Description]\r\n",
                "    ,Ol.[Quantity]\r\n",
                "    ,Ol.[UnitPrice]\r\n",
                "INTO #OrdersTemp\r\n",
                "FROM\r\n",
                "[Sales].[Orders] AS O\r\n",
                "LEFT JOIN\r\n",
                "[Sales].[OrderLines] AS Ol ON O.[OrderID] = Ol.[OrderID]"
            ],
            "metadata": {
                "azdata_cell_guid": "4817a19c-d939-499e-9c73-ed88b68738a1"
            },
            "outputs": [],
            "execution_count": 0
        },
        {
            "cell_type": "markdown",
            "source": [
                "Als Mensch mit Programmierhintergrund fällt es mir einfach immer am leichtesten mir eine `Try`–`Catch`-Syntax zu merken… \r\n",
                "Natürlich könnt ihr mit `Try`–`Catch`-Blöcken noch viel spannendere Dinge tun, beispielsweise in gespeicherten Prozeduren auf Fehler reagieren und Fehler nicht (wie in diesem Beispiel) ignorieren sondern stattdessen sauber behandeln und ein Log für fehlgeschlagene gespeicherte Prozeduren führen.\r\n",
                "### Refrenzen\r\n",
                "- [Offizielle Dokumentation von Microsoft](https://docs.microsoft.com/de-de/sql/t-sql/language-elements/try-catch-transact-sql?view=sql-server-2017)"
            ],
            "metadata": {
                "azdata_cell_guid": "3e970fe1-aabe-4de1-8c7d-5f2bcb454c96"
            }
        }
    ]
}