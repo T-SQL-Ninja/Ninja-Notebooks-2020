{
    "metadata": {
        "kernelspec": {
            "name": "SQL",
            "display_name": "SQL",
            "language": "sql"
        },
        "language_info": {
            "name": "sql",
            "version": ""
        }
    },
    "nbformat_minor": 2,
    "nbformat": 4,
    "cells": [
        {
            "cell_type": "markdown",
            "source": [
                "# Woche 36: STRING_AGG\r\n",
                "## Was ist STRING_AGG?\r\n",
                "In der letzten Woche hattet ihr gesehen, wie ihr mit `STUFF` und `SELECT FOR XML` eine kommaseparierte Liste aus den Zeilen einer Tabelle erzeugen könnt. Seit dem SQL Server 2017 ist das mit der Einführung der `STRING_AGG`-Funktion noch einfacher geworden. Die `STRING_AGG`-Funktion konkateniert Zeichenketten und fügt ein Trennzeichen ein. \r\n",
                "## Was könnt ihr mit STRING_AGG so machen?\r\n",
                "Erinnern wir uns an vergangene Woche, als wir eine kommaseparierte Liste von Transaktionstypen mit folgendem Statement erzeugt: "
            ],
            "metadata": {
                "azdata_cell_guid": "90b6900d-b270-40c0-b87b-3f257b705116"
            }
        },
        {
            "cell_type": "code",
            "source": [
                "SELECT \r\n",
                "    STUFF(\r\n",
                "        (SELECT ','+TransactionTypeName\r\n",
                "            FROM [Application].[TransactionTypes] \r\n",
                "            FOR XML PATH ('')\r\n",
                "        ), 1, 1, '')"
            ],
            "metadata": {
                "azdata_cell_guid": "8c50d420-4044-47ca-b4b5-fc5eb88c11e7"
            },
            "outputs": [],
            "execution_count": 0
        },
        {
            "cell_type": "markdown",
            "source": [
                "Das ist nicht unbedingt elegant, funktioniert aber auf allen Versionen des SQL Servers. Unschön daran ist, dass wir `SELECT`-Statements für dieses Vorgehen verschachteln müssen, wenn wir andere Spalten hinzufügen möchten. \r\n",
                "\r\n",
                "Eleganter ist da die Verwendung von `STRING_AGG`, denn hier ist kein geschachteltes `SELECT` mehr nötig, die Abfrage ist ganz einfach und direkt:"
            ],
            "metadata": {
                "azdata_cell_guid": "a35460d3-4b5d-4ade-b41d-5aa65f7e0d75"
            }
        },
        {
            "cell_type": "code",
            "source": [
                "SELECT STRING_AGG(TransactionTypeName, ', ')\r\n",
                "FROM [Application].[TransactionTypes]"
            ],
            "metadata": {
                "azdata_cell_guid": "98145bfe-4380-4ac0-851a-3e682491beb0"
            },
            "outputs": [],
            "execution_count": 0
        },
        {
            "cell_type": "markdown",
            "source": [
                "Diese Abfrage ist natürlich viel eleganter und einfacher als die Abfrage der letzten Woche. Das ist natürlich ein großer Vorteil dieser Funktion. Doch noch spannender wird es, wenn wir nun eine weitere Spalte, die `TransactionTypeID` mit in die Abfrage aufnehmen möchten. Bei der `STUFF`-Abfrage greift dann die Tatsache, dass `STUFF` eine Aggregats-Funktion wie `SUM`, `MIN` oder `MAX` ist, weshalb wir ein `GROUP BY` benötigen. Die Abfrage wird dadurch zu:"
            ],
            "metadata": {
                "azdata_cell_guid": "fdff978f-4f40-402c-ac27-e9c3af1c3b46"
            }
        },
        {
            "cell_type": "code",
            "source": [
                "SELECT\r\n",
                "     TransactionTypeID\r\n",
                "    ,STUFF(\r\n",
                "        (SELECT ','+TransactionTypeName\r\n",
                "            FROM [Application].[TransactionTypes] \r\n",
                "            FOR XML PATH ('')\r\n",
                "        ), 1, 1, '')\r\n",
                "FROM [Application].[TransactionTypes]\r\n",
                "GROUP BY TransactionTypeID"
            ],
            "metadata": {
                "azdata_cell_guid": "53327660-4d3a-46ec-9172-038547067230"
            },
            "outputs": [],
            "execution_count": 0
        },
        {
            "cell_type": "markdown",
            "source": [
                "Selbiges gilt natürlich auch für `STRING_AGG` wo das \"Aggregat\" ja bereits im Namen steckt. Hier müssen wir stattdessen schreiben:"
            ],
            "metadata": {
                "azdata_cell_guid": "767d9eae-3af1-4009-9c3e-1e0bc54e76f0"
            }
        },
        {
            "cell_type": "code",
            "source": [
                "SELECT\r\n",
                "     TransactionTypeID\r\n",
                "    ,STRING_AGG(TransactionTypeName, ',')\r\n",
                "FROM [Application].[TransactionTypes]\r\n",
                "GROUP BY TransactionTypeID\r\n",
                ""
            ],
            "metadata": {
                "azdata_cell_guid": "6fc2d26a-66bc-45a2-a7f9-e12c8c327e47"
            },
            "outputs": [],
            "execution_count": 0
        },
        {
            "cell_type": "markdown",
            "source": [
                "Doch Obacht, nun unterscheidet sich auch die Ausgabe der beiden Abfragen. Während die `STUFF`-Abfrage nämlich die Sub-Query für jede Zeile der Ergebnismenge ausführt, also auf jede Zeile die gesamte kommaseparierte Liste schreibt, schreibt die zweite Abfrage nur diejenigen `TransactionTypeNames` auf die Zeile, die zur entsprechenden `TransactionTypeID` gehören, also jeweils nur einen Eintrag. Ist das nicht das Verhalten, das wir suchen, so müssten wir auch hier mit einer Unterabfrage, einer CTE oder `OUTER APPLY` arbeiten:"
            ],
            "metadata": {
                "azdata_cell_guid": "db01618a-24fd-4563-aaee-59062371c8d2"
            }
        },
        {
            "cell_type": "code",
            "source": [
                "SELECT\r\n",
                "     TransactionTypeID\r\n",
                "    ,subqery.CSV\r\n",
                "FROM [Application].[TransactionTypes]\r\n",
                "OUTER APPLY (\r\n",
                "    SELECT \r\n",
                "         STRING_AGG(TransactionTypeName, ',') as CSV \r\n",
                "    FROM [Application].[TransactionTypes]\r\n",
                ") subqery"
            ],
            "metadata": {
                "azdata_cell_guid": "1b75001e-7146-4ed2-a623-3df4567a9296"
            },
            "outputs": [],
            "execution_count": 0
        },
        {
            "cell_type": "markdown",
            "source": [
                "Was ihr heute aus dem Dojo mitnehmen solltet: Wenn ihr eine Datenbank verwendet, die dieses Feature unterstützt, verwendet `STRING_AGG`, das ist die wesentlich einfachere, elegantere und oftmals sogar performantere Art, Zeichenketten einer Spalte zu verknüpfen. Passt aber auf, wenn ihr in alten Applikationen die `STUFF`-Formulierung 1:1 ersetzt, es könnte sein, dass euch die Aggregation einen Strich durch die Rechnung macht, testet also auf jeden Fall eure Resultate… Aber das macht ihr als echte Ninjas ja sowieso. \n",
                "## Referenzen\n",
                "- [Dokumentation von Microsoft](https://docs.microsoft.com/de-de/sql/t-sql/functions/string-agg-transact-sql?view=sql-server-ver15)\n",
                ""
            ],
            "metadata": {
                "azdata_cell_guid": "15c8b163-8451-4974-8023-87adb3492289"
            }
        }
    ]
}