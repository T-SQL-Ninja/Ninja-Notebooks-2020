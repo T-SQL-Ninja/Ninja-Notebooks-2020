{
    "metadata": {
        "kernelspec": {
            "name": "SQL",
            "display_name": "SQL",
            "language": "sql"
        },
        "language_info": {
            "name": "sql",
            "version": ""
        }
    },
    "nbformat_minor": 2,
    "nbformat": 4,
    "cells": [
        {
            "cell_type": "markdown",
            "source": [
                "# Woche 48: DATEDIFF\r\n",
                "## Was tut DATEDIFF? \r\n",
                "Heute widmen wir uns einer der bekanntesten und wirklich häufig verwendeten Funktionen im SQL Server: `DATEDIFF`. Die `DATEDIFF`-Funktion gehört zu den Funktionen für Zeit-Objekte, mit ihr könnt ihr die Zeit zwischen zwei Datetime-Zeitstempeln berechnen. Dabei steht es euch frei, den Abstand in Jahren, Monaten, Tagen, Stunden, Minuten, Sekunden, Millisekunden oder Nanosekunden zu bestimmen, einzig der Rückgabewert muss im Wertebereich von `INT` liegen. \r\n",
                "## Wie könnt ihr mit DATEDIFF arbeiten?\r\n",
                "Wie bereits gesagt, berechnet die `DATEDIFF`-Funktion den Abstand zwischen zwei DateTime-Werten. Sehen wir uns ein Beispiel aus der WideWorldImporters Datenbank in der `Sales.Orders-Tabelle` an. \r\n",
                "Wenn wir hier wissen möchten, wieviele Tage zwischen der ersten und der letzten Bestellung eines Kunden lagen, also wie lange der Kunde bereits unser Kunde ist, dann können wir das wie folgt tun:"
            ],
            "metadata": {
                "azdata_cell_guid": "4ad9a364-bf68-4921-ae9f-5241ed392700"
            }
        },
        {
            "cell_type": "code",
            "source": [
                "SELECT \r\n",
                "     MIN(OrderDate) AS MinOrderDate\r\n",
                "    ,MAX(OrderDate) AS MaxOrderDate\r\n",
                "    ,DATEDIFF(DAY, MIN(OrderDate), MAX(OrderDate)) as DaysBetweenOrders\r\n",
                "    ,CustomerID \r\n",
                "FROM Sales.Orders\r\n",
                "GROUP BY CustomerID\r\n",
                "ORDER BY DATEDIFF(DAY, MIN(OrderDate), MAX(OrderDate)) DESC"
            ],
            "metadata": {
                "azdata_cell_guid": "edab20e1-e4ed-4ef2-94e7-35ea0902ec66"
            },
            "outputs": [],
            "execution_count": 0
        },
        {
            "cell_type": "markdown",
            "source": [
                "Selbstverständlich können wir uns diesen Zeitabstand auch in Monaten oder Jahren ausgeben lassen:"
            ],
            "metadata": {
                "azdata_cell_guid": "5b5d26b0-6fd1-440f-ba0c-12ed0f2ebc7d"
            }
        },
        {
            "cell_type": "code",
            "source": [
                "SELECT \r\n",
                "     MIN(OrderDate) AS MinOrderDate\r\n",
                "    ,MAX(OrderDate) AS MaxOrderDate\r\n",
                "    ,DATEDIFF(DAY, MIN(OrderDate), MAX(OrderDate)) as DaysBetweenOrders\r\n",
                "    ,DATEDIFF(MONTH, MIN(OrderDate), MAX(OrderDate)) as MonthsBetweenOrders\r\n",
                "    ,DATEDIFF(YEAR, MIN(OrderDate), MAX(OrderDate)) as YearsBetweenOrders\r\n",
                "    ,CustomerID \r\n",
                "FROM Sales.Orders\r\n",
                "GROUP BY CustomerID\r\n",
                "ORDER BY DATEDIFF(DAY, MIN(OrderDate), MAX(OrderDate)) DESC"
            ],
            "metadata": {
                "azdata_cell_guid": "99b3482c-5061-42f2-934d-a66a0d4c69bb"
            },
            "outputs": [],
            "execution_count": 0
        },
        {
            "cell_type": "markdown",
            "source": [
                "Wir können uns aber zum Beispiel auch ansehen, wie lange die letzte Bestellung eines Kunden nun her ist: "
            ],
            "metadata": {
                "azdata_cell_guid": "b1b56ba6-b95d-482c-b82c-b11face69e91"
            }
        },
        {
            "cell_type": "code",
            "source": [
                "SELECT \r\n",
                "     MIN(OrderDate) AS MinOrderDate\r\n",
                "    ,MAX(OrderDate) AS MaxOrderDate\r\n",
                "    ,DATEDIFF(DAY, MAX(OrderDate), GETDATE()) as DaysSinceLastOrder\r\n",
                "    ,CustomerID \r\n",
                "FROM Sales.Orders\r\n",
                "GROUP BY CustomerID\r\n",
                "ORDER BY DATEDIFF(DAY, MAX(OrderDate), GETDATE()) DESC"
            ],
            "metadata": {
                "azdata_cell_guid": "3b1ac97e-4fbd-48a1-b74f-e4a53eef370e"
            },
            "outputs": [],
            "execution_count": 0
        },
        {
            "cell_type": "markdown",
            "source": [
                "Wenn ihr nun ausrechnen möchtet, wie viel Zeit im Schnitt zwischen den Bestellungen eines Kunden lag, könnt ihr das mit einer CTE tun:"
            ],
            "metadata": {
                "azdata_cell_guid": "34c0ab87-0194-4a22-8d11-975d527eceef"
            }
        },
        {
            "cell_type": "code",
            "source": [
                ";WITH cte_dates AS (\r\n",
                "    SELECT \r\n",
                "         DATEDIFF(DAY, \r\n",
                "            OrderDate, \r\n",
                "            LEAD(OrderDate, 1) OVER (PARTITION BY CustomerID ORDER BY OrderDate)\r\n",
                "         ) DaysBetweenOrders\r\n",
                "        ,CustomerID \r\n",
                "    FROM Sales.Orders\r\n",
                ")\r\n",
                "SELECT \r\n",
                "     AVG(CAST(DaysBetweenOrders AS decimal(10,2)))\r\n",
                "    ,CustomerID\r\n",
                "FROM cte_dates\r\n",
                "GROUP BY CustomerID"
            ],
            "metadata": {
                "azdata_cell_guid": "2a2d4b59-631a-429f-927e-eccd5699bd21"
            },
            "outputs": [],
            "execution_count": 0
        },
        {
            "cell_type": "markdown",
            "source": [
                "Wie oben bereits geschrieben, funktioniert das aber nur, so lange der Rückgabewert im Wertebereich von `INT` liegt. Den maximalen Wert für einen Integer könnt ihr dabei in SQL wie folgt bestimmen:"
            ],
            "metadata": {
                "azdata_cell_guid": "12416afe-cfdd-4b01-abfd-cd5219a8853f"
            }
        },
        {
            "cell_type": "code",
            "source": [
                "SELECT -1-POWER(-2,31);"
            ],
            "metadata": {
                "azdata_cell_guid": "4ee8bbba-21d8-427f-993f-851d81dbc6d0"
            },
            "outputs": [],
            "execution_count": 0
        },
        {
            "cell_type": "markdown",
            "source": [
                "So erhalten wir den Wert 2147483647. Wenn wir also auf den Zeitanteil Nanosekunden schauen, dann können zwei Datumwerte, zwischen denen wir die Nanosekunden ermitteln möchten, maximal 2,15 Sekunden auseinander liegen. Probieren wir das aus, folgende Abfrage liefert einen Overflow-Fehler: "
            ],
            "metadata": {
                "azdata_cell_guid": "bd082af7-84d5-4590-aa12-34b9983906d3"
            }
        },
        {
            "cell_type": "code",
            "source": [
                "DECLARE @currentDate datetime = GETDATE()\r\n",
                "SELECT DATEDIFF(NANOSECOND, DATEADD(SECOND, -3, @currentDate), @currentDate)"
            ],
            "metadata": {
                "azdata_cell_guid": "959e155f-4647-4d50-a675-8f28ee8b9e3b"
            },
            "outputs": [],
            "execution_count": 0
        },
        {
            "cell_type": "markdown",
            "source": [
                "Reduzieren wir das Zeitfenster hingegen auf 2 Sekunden, dann erhalten wir ein Resultat:"
            ],
            "metadata": {
                "azdata_cell_guid": "03483e34-1c12-4d9c-b405-d43020043b24"
            }
        },
        {
            "cell_type": "code",
            "source": [
                "DECLARE @currentDate datetime = GETDATE()\r\n",
                "SELECT DATEDIFF(NANOSECOND, DATEADD(SECOND, -2, @currentDate), @currentDate)"
            ],
            "metadata": {
                "azdata_cell_guid": "9b536f98-9869-4ffc-9262-55c2373154bb"
            },
            "outputs": [],
            "execution_count": 0
        },
        {
            "cell_type": "markdown",
            "source": [
                "\r\n",
                "Beschäftigen wir uns nun also damit, wie groß der Abstand zweier Zeitstempel maximal sein darf, wenn sie den maximalen INT-Wert in Millisekunden bzw. Sekunden auseinanderliegen:"
            ],
            "metadata": {
                "azdata_cell_guid": "d5dfe38d-928f-4126-9c8d-2b5603305269"
            }
        },
        {
            "cell_type": "code",
            "source": [
                "DECLARE @MaxInt int = -1-POWER(-2,31);\r\n",
                "DECLARE @currentDate datetime = GETDATE()\r\n",
                "\r\n",
                "SELECT \r\n",
                "     DATEDIFF(HOUR, @currentDate, DATEADD(MILLISECOND, @MaxInt, @currentDate)) MaxMSHours\r\n",
                "    ,DATEDIFF(DAY, @currentDate, DATEADD(MILLISECOND, @MaxInt, @currentDate)) MaxMSDays\r\n",
                "    ,DATEDIFF(YEAR, @currentDate, DATEADD(MILLISECOND, @MaxInt, @currentDate)) MaxMSYears\r\n",
                "    ,DATEDIFF(HOUR, @currentDate, DATEADD(SECOND, @MaxInt, @currentDate)) MaxSHours\r\n",
                "    ,DATEDIFF(DAY, @currentDate, DATEADD(SECOND, @MaxInt, @currentDate)) MaxSDays\r\n",
                "    ,DATEDIFF(YEAR, @currentDate, DATEADD(SECOND, @MaxInt, @currentDate)) MaxSYears"
            ],
            "metadata": {
                "azdata_cell_guid": "81a076ac-8ad0-4a10-a80e-f0fc326255b4"
            },
            "outputs": [],
            "execution_count": 0
        },
        {
            "cell_type": "markdown",
            "source": [
                "Ihr seht, dass zwei Zeitstempel, deren Abstand ihr in Millisekunden wissen möchtet, maximal 25 Tage auseinander liegen dürfen, während zwei Zeitstempel, deren Abstand ihr in Sekunden wissen möchtet, maximal 68 Jahre auseinanderliegen können bevor es zum Overflow von `INT` kommt. Das ist doch ganz schön granular für solche Zeitspannen. \n",
                "\n",
                "## Referenzen\n",
                "- [Dokumentation von Microsoft](https://docs.microsoft.com/de-de/sql/t-sql/functions/datediff-transact-sql?view=sql-server-ver15)"
            ],
            "metadata": {
                "azdata_cell_guid": "de461d93-62c5-4ffe-a346-f0ff78054f92"
            }
        }
    ]
}