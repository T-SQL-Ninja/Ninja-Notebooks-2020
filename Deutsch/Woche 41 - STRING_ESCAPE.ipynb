{
    "metadata": {
        "kernelspec": {
            "name": "SQL",
            "display_name": "SQL",
            "language": "sql"
        },
        "language_info": {
            "name": "sql",
            "version": ""
        }
    },
    "nbformat_minor": 2,
    "nbformat": 4,
    "cells": [
        {
            "cell_type": "markdown",
            "source": [
                "# Woche 41: STRING_ESCAPE\r\n",
                "## Was ist STRING_ESCAPE? \r\n",
                "Ihr habt hier nun schon einige Funktionen zur Manipulation von Zeichenketten (Strings) kennengelernt. In diese Reihe passt auch `STRING_ESCAPE`. Die `STRING_ESCAPE`-Funktion ist eine Funktion, die bei einer Zeichenkette Sonderzeichen ersetzt, damit diese Zeichenkette an anderer Stelle verwendet werden kann. Ein klassisches Beispiel für das Escapen von Zeichenketten ist, dass ihr um SQL Injection-Attacken zu vermeiden, keine Zeichenketten direkt in eure Anwendung übergeben solltet, sondern immer entweder SqlParameter verwenden oder aber zumindest das einfache Hochkomma durch ein doppeltes ersetzen, um Namen wie diesen zu vermeiden:"
            ],
            "metadata": {
                "azdata_cell_guid": "db5da166-30a4-4129-b31a-bc78ae7b38a8"
            }
        },
        {
            "cell_type": "code",
            "source": [
                "';DROP TABLE User;"
            ],
            "metadata": {
                "azdata_cell_guid": "c9cac573-345b-49d6-a0b6-5351a51f9f17"
            },
            "outputs": [],
            "execution_count": 0
        },
        {
            "cell_type": "markdown",
            "source": [
                "Bei `STRING_ESCAPE` geht es aber nicht darum, Zeichenketten für die sichere Verwendung im SQL Server zu Escapen sondern darum, sie zu Escapen wenn sie aus dem SQL Server an eine andere Anwendung übergeben werden sollen.\r\n",
                "\r\n",
                "## Wie verwendet ihr STRING_ESCAPE?\r\n",
                "\r\n",
                "Die Anzahl der Austauschformate für Daten ist vermutlich nahezu unendlich. Allerdings hat sich in vielen Bereichen in den letzten Jahren JSON als das Format der Wahl durchgesetzt. Daher ist es nicht überraschend, dass Microsoft als im SQL Server 2016 die `STRING_ESCAPE` Funktion eingeführt wurde, zunächst den Export nach JSon im Hinterkopf hatte. \r\n",
                "Die `STRING_ESCAPE`-Funktion bekommt zwei Argumente übergeben: den Text, der escaped werden soll sowie den gewünschten Ausgabetypen, also für welches Zielformat escaped wird. Letzteres unterstützt aber seit der Einführung der Funktion nur den Wert \"json\", derzeit könnt ihr mit `STRING_ESCAPE` also nur Texte für die Verwendung in einem JSON-Attribut vorbereiten. Sehen wir uns einmal an, wie das funktioniert. Sonderzeichen in JSON sind beispielsweise Anführungszeichen und Schrägstriche. Rufen wir die `STRING_ESCAPE`-Funktion also einmal auf: "
            ],
            "metadata": {
                "azdata_cell_guid": "aad40935-7f73-4712-9ffe-c8b3ddd46984"
            }
        },
        {
            "cell_type": "code",
            "source": [
                "SELECT STRING_ESCAPE('\"', 'json')"
            ],
            "metadata": {
                "azdata_cell_guid": "76543af3-2287-4af1-853e-52ac9a97b9e0"
            },
            "outputs": [],
            "execution_count": 0
        },
        {
            "cell_type": "markdown",
            "source": [
                "Hier bekommen wir das durch den Backslash escapte Anführungszeichen zurückgeliefert. Ähnlich funktioniert das natürlich auch für Slashes (/) und Backslashes (\\): "
            ],
            "metadata": {
                "azdata_cell_guid": "2ac1acf0-ea0c-4a01-b6be-0c189bb5cb8a"
            }
        },
        {
            "cell_type": "code",
            "source": [
                "SELECT STRING_ESCAPE('/\"\\', 'json')"
            ],
            "metadata": {
                "azdata_cell_guid": "2e173ab5-aa2c-428a-b7c5-b100dfc9a566"
            },
            "outputs": [],
            "execution_count": 0
        },
        {
            "cell_type": "markdown",
            "source": [
                "Doch auch die ASCII-Steuerzeichen `CHAR(0)` bis `CHAR(31)` (eine detaillierte Auflistung dieser Zeichen findet ihr beispielsweise hier: https://de.wikipedia.org/wiki/Steuerzeichen) müssen escaped werden. \r\n",
                "\r\n",
                "Eine Liste dieser Zeichen und ihrer \"Übersetzungen\" könnt ihr euch wie folgt erzeugen:"
            ],
            "metadata": {
                "azdata_cell_guid": "4c26ff8c-72f3-4555-bb81-e14a67e5e1ab"
            }
        },
        {
            "cell_type": "code",
            "source": [
                "DROP TABLE IF EXISTS #Characters\r\n",
                "CREATE TABLE #Characters (\r\n",
                "     [Char] varchar(20)\r\n",
                "    ,[Escaped] varchar(20)\r\n",
                ")\r\n",
                "DECLARE @CharNo int = 0\r\n",
                "\r\n",
                "WHILE @CharNo < 32\r\n",
                "BEGIN\r\n",
                "    INSERT INTO #Characters ([Char], [Escaped])\r\n",
                "    VALUES ('CHAR('+CAST(@CharNo as varchar(2))+')', STRING_ESCAPE(CHAR(@CharNo), 'json'))\r\n",
                "    SELECT @Charno = @CharNo+1\r\n",
                "END\r\n",
                "SELECT [Char], [Escaped] from #Characters"
            ],
            "metadata": {
                "azdata_cell_guid": "8c509b8d-c44d-4863-9ed9-ed2c71fec598"
            },
            "outputs": [],
            "execution_count": 0
        },
        {
            "cell_type": "markdown",
            "source": [
                "Hier seht ihr beispielsweise, dass ein `CHAR(13)` einem \"\\r\" also einem Return, einer neuen Zeile und ein `CHAR(10)` einem \"\\n\", also einem Zeilenumbruch entsprechen. \n",
                "\n",
                "Nun könntet ihr natürlich wenn ihr beispielsweise Texte aus einem Content Management System für die maschinelle Weiterverarbeitung exportieren möchtet, alle diese Zeichen in einem sehr langen geschachtelten `REPLACE`-Statement ersetzen, oder aber ihr verwendet einfach `STRING_ESCAPE` und erhaltet den Text aufbereitet für die Weitergabe im JSON-Format. \n",
                "\n",
                "Der schlaue Ninja kennt die Waffen, die ihm zur Verfügung stehen und weiß sie einzusetzen wenn das angemessen ist. \n",
                "## Referenzen\n",
                "- [Dokumentation von Microsoft](https://docs.microsoft.com/de-de/sql/t-sql/functions/string-escape-transact-sql?view=sql-server-ver15)\n",
                ""
            ],
            "metadata": {
                "azdata_cell_guid": "3a468302-1212-4c2a-8bb8-04f1f83d64ab"
            }
        }
    ]
}