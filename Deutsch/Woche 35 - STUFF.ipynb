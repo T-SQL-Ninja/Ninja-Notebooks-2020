{
    "metadata": {
        "kernelspec": {
            "name": "SQL",
            "display_name": "SQL",
            "language": "sql"
        },
        "language_info": {
            "name": "sql",
            "version": ""
        }
    },
    "nbformat_minor": 2,
    "nbformat": 4,
    "cells": [
        {
            "cell_type": "markdown",
            "source": [
                "# Woche 35: STUFF\r\n",
                "## Was ist STUFF? \r\n",
                "`STUFF` ist eine Funktion zur Manipulation von Zeichenketten. Die Funktion \"stopft\" eine Zeichenkette in eine andere, daher der recht bildlich zu verstehende Name. Traditionell gehört String-Manipulation nicht unbedingt zu den großen Stärken von relationalen Datenbanken und der SQL-Syntax, `STUFF` gehört zu den Funktionen aus diesem Bereich, die euch, wenn ihr sie beherrscht das Leben deutlich einfacher machen können.  \r\n",
                "## Was könnt ihr mit STUFF so machen?\r\n",
                "Die `STUFF`-Funktion bekommt vier Argumente übergeben: \r\n",
                "- die Zeichenkette, die ihr bearbeiten möchtet, \r\n",
                "- die Position ab der ihr einen neuen Text in die Zeichenkette einfügen möchtet, \r\n",
                "- die Anzahl der Zeichen, die ihr in der Zeichenkette ersetzen möchtet und \r\n",
                "- den String, mit dem ihr sie ersetzen möchtet. \r\n",
                "\r\n",
                "Doch genug der Theorie, sehen wir uns die `STUFF`-Funktion einmal im Detail an. Ein Aufruf der Funktion könnte wie folgt aussehen: "
            ],
            "metadata": {
                "azdata_cell_guid": "910ec658-e447-4c06-813e-ed028bcc31c3"
            }
        },
        {
            "cell_type": "code",
            "source": [
                "SELECT STUFF('Show me your execution plan', 1, 7, 'What''s')"
            ],
            "metadata": {
                "azdata_cell_guid": "52bfef3d-01e7-4d95-a1ee-fdd00c0c494d"
            },
            "outputs": [],
            "execution_count": 0
        },
        {
            "cell_type": "markdown",
            "source": [
                "Das Ergebnis dieser Abfrage ist \"What’s your execution plan\". Wir haben also ab dem ersten Zeichen sieben Zeichen ersetzt also \"Show me\" und an ihre Stelle die Zeichenfolge \"What’s\" gesetzt. Natürlich könntet ihr das auch so lösen:"
            ],
            "metadata": {
                "azdata_cell_guid": "32878f5f-a32b-406f-a583-b319a627d978"
            }
        },
        {
            "cell_type": "code",
            "source": [
                "SELECT 'What''s'+SUBSTRING('Show me your execution plan',8,20)"
            ],
            "metadata": {
                "azdata_cell_guid": "65e684a0-7877-487d-ac65-51b719a960b0"
            },
            "outputs": [],
            "execution_count": 0
        },
        {
            "cell_type": "markdown",
            "source": [
                "Doch zum Einen müsst ihr hier, wenn ihr nicht gerade an den Anfang einer Zeichenfolge einfügt ziemlich wilde Index-Operationen auf euren Strings durchführen und zum anderen ist die Lesbarkeit bei solchen Operationen nicht unbedingt die höchste. \r\n",
                "Doch einfach nur Text in Zeichenketten zu ersetzen ist zwar ganz nett, mit der `STUFF`-Funktion können wir aber noch wesentlich mehr tun. Stellt euch vor, ihr habt ein Datum im Format `YYYYMMDD` gegeben und möchtet das lesbar darstellen, dann könnt ihr natürlich auch hier mit Substrings arbeiten: "
            ],
            "metadata": {
                "azdata_cell_guid": "1a860ded-8140-4830-8b8d-982e0b29ba0e"
            }
        },
        {
            "cell_type": "code",
            "source": [
                "SELECT SUBSTRING('20200514', 1, 4)+'-'+SUBSTRING('20200514',5,2)+'-'+SUBSTRING('20200514',7,2)"
            ],
            "metadata": {
                "azdata_cell_guid": "b5592e72-8e3b-4826-b625-8b1d118d24e5"
            },
            "outputs": [],
            "execution_count": 0
        },
        {
            "cell_type": "markdown",
            "source": [
                "Spätestens hier sieht das geübte Ninja-Auge, dass die Syntax mit `STUFF` zum einen wesentlich kürzer ist und zum anderen auch nur einmal die Zeichenfolge enthält, mit der ihr arbeitet, was die Lesbarkeit und die Wartbarkeit durchaus erhöht. \r\n",
                "\r\n",
                "Auch zum Maskieren von Daten beispielsweise in Views könnt ihr `STUFF` gut verwenden, stellt euch vor, ihr möchtet in einer Anwendung auf der WideWorldImporters Datenbank von euren Usern nur die Vornamen zurückgeben, die Nachnamen aber mit X maskieren. Das könnt ihr dann mit `STUFF` wie folgt lösen:"
            ],
            "metadata": {
                "azdata_cell_guid": "22462230-0150-45a8-b1a9-6b5c15426c7f"
            }
        },
        {
            "cell_type": "code",
            "source": [
                "SELECT \r\n",
                "     FullName\r\n",
                "    ,STUFF(\r\n",
                "        FullName, \r\n",
                "        CHARINDEX(' ',FullName)+1, \r\n",
                "        LEN(FullName)-CHARINDEX(' ',FullName)+1, \r\n",
                "        REPLICATE('X', LEN(FullName)-CHARINDEX(' ', FullName)))\r\n",
                "FROM [Application].[People]"
            ],
            "metadata": {
                "azdata_cell_guid": "da595f72-9205-4f29-bc2d-b3b8d0073b4b"
            },
            "outputs": [],
            "execution_count": 0
        },
        {
            "cell_type": "markdown",
            "source": [
                "In dieser Abfrage ersetzt ihr in der Spalte `FullName` die Zeichen ab dem ersten Leerzeichen bis zum Ende der Zeichenfolge durch X. So haben eure Namen immer noch die richtige Länge, sind aber beispielsweise für externe Entwickler maskiert, was die potenziellen Probleme mit dem Datenschutz minimiert. \r\n",
                "\r\n",
                "Doch die meisten von euch werden der `STUFF`-Funktion sicher schon über den Weg gelaufen sein, wenn es darum ging, aus den Werten einer Spalte eine kommaseparierte Liste zu erzeugen. Wie das funktioniert, möchten wir nun einmal im Detail auseinandernehmen. \r\n",
                "\r\n",
                "Zunächst müssen wir versuchen, die verschiedenen Zeilen in einem Ergebnis zusammenzufassen, mit dem wir arbeiten können. Dafür eignet sich die `SELECT FOR XML`-Funktionalität, fassen wir also die Namen der Transaktionstypen in der WideWorldImporters Datenbank in einem XML-Objekt zusammen:"
            ],
            "metadata": {
                "azdata_cell_guid": "ec51914a-1587-4387-aa33-6c92f63fa418"
            }
        },
        {
            "cell_type": "code",
            "source": [
                "SELECT TransactionTypeName \r\n",
                "FROM [Application].[TransactionTypes] \r\n",
                "FOR XML PATH ('')"
            ],
            "metadata": {
                "azdata_cell_guid": "fa00bda9-f535-47b0-84ef-096c1d821eb3"
            },
            "outputs": [],
            "execution_count": 0
        },
        {
            "cell_type": "markdown",
            "source": [
                "Ihr erhaltet nun ein XML-Objekt, das für jeden Transaktionstypen einen Eintrag mit dem Tag \"TransactionTypeName\" hat. Um diese Tags loszuwerden müsst ihr dafür sorgen, dass die Spalte mit der ihr arbeitet keinen Namen mehr hat. Das könnt ihr tun, indem ihr eine Funktion aufruft oder den Wert der Spalte modifiziert. Modifizieren wir den Wert also, indem wir ein Komma voranstellen: "
            ],
            "metadata": {
                "azdata_cell_guid": "b8e922ae-5f6b-419f-8b65-8f8d03f99d1a"
            }
        },
        {
            "cell_type": "code",
            "source": [
                "SELECT ','+TransactionTypeName \r\n",
                "FROM [Application].[TransactionTypes] \r\n",
                "FOR XML PATH ('')"
            ],
            "metadata": {
                "azdata_cell_guid": "5daa1871-15b7-4338-b5c4-5fcaecb958e5"
            },
            "outputs": [],
            "execution_count": 0
        },
        {
            "cell_type": "markdown",
            "source": [
                "Das entspricht schon beinahe der gesuchten kommaseparierten Liste nur dass sie ein führendes Komma enthält. Das könnt ihr aber mit `STUFF` ganz einfach loswerden, indem ihr ab Zeichen 1 ein Zeichen durch einen leeren String ersetzt. Dafür müsst ihr die `STUFF`-Funktion auf das Ergebnis dieser Abfrage anwenden (diese Abfrage also als Argument an die `STUFF`-Funktion übergeben) und dann das Ergebnis der `STUFF`-Funktion wiederum Abfragen, um es anzuzeigen. Das Ganze sieht im Resultat dann so aus:"
            ],
            "metadata": {
                "azdata_cell_guid": "27a90b92-23b9-44c3-b289-c762b808992f"
            }
        },
        {
            "cell_type": "code",
            "source": [
                "SELECT \r\n",
                "    STUFF(\r\n",
                "        (SELECT ','+TransactionTypeName\r\n",
                "            FROM [Application].[TransactionTypes] \r\n",
                "            FOR XML PATH ('')\r\n",
                "        ), 1, 1, '')"
            ],
            "metadata": {
                "azdata_cell_guid": "262a32c7-f97d-4354-ada5-f4026dbbb64a"
            },
            "outputs": [],
            "execution_count": 0
        },
        {
            "cell_type": "markdown",
            "source": [
                "Wenn ihr diese Werte nun noch an die Zeilen einer Tabelle joinen möchtet, müsst ihr das äußere Select entsprechend anpassen:"
            ],
            "metadata": {
                "azdata_cell_guid": "fcabb3cb-a302-43a7-a0ad-3d227cff8d5a"
            }
        },
        {
            "cell_type": "code",
            "source": [
                "SELECT\r\n",
                "    STUFF(\r\n",
                "        (SELECT ','+TransactionTypeName\r\n",
                "            FROM [Application].[TransactionTypes] \r\n",
                "            FOR XML PATH ('')\r\n",
                "        ), 1, 1, '')\r\n",
                "FROM [Application].[TransactionTypes]"
            ],
            "metadata": {
                "azdata_cell_guid": "d7126c44-4873-42c2-b5a5-632908315446"
            },
            "outputs": [],
            "execution_count": 0
        },
        {
            "cell_type": "markdown",
            "source": [
                "Im heutigen Dojo habt ihr hoffentlich gelernt, dass die `STUFF`-Funktion durchaus hilfreich sein kann, wenn es darum geht, in Strings zu ersetzen, einzufügen oder zu löschen. Ein Blick auf diese Funktion lohnt sich also, wenn eure Entwickler mal wieder mit abgefahrenen Anforderungen hinsichtlich der Manipulation von Zeichenfolgen auf euch zukommen… \n",
                "## Referenzen\n",
                "- [Dokumentation von Microsoft](https://docs.microsoft.com/de-de/sql/t-sql/functions/stuff-transact-sql?view=sql-server-ver15)\n",
                ""
            ],
            "metadata": {
                "azdata_cell_guid": "b105a7b9-2547-4c4e-90e0-ed77ff4806dd"
            }
        }
    ]
}