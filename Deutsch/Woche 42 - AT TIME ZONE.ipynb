{
    "metadata": {
        "kernelspec": {
            "name": "SQL",
            "display_name": "SQL",
            "language": "sql"
        },
        "language_info": {
            "name": "sql",
            "version": ""
        }
    },
    "nbformat_minor": 2,
    "nbformat": 4,
    "cells": [
        {
            "cell_type": "markdown",
            "source": [
                "# Woche 42: AT TIME ZONE\r\n",
                "Wer kennt das nicht? Ihr seid in Seeheim Jugendheim und wollt euren Ninja-Kollegen in Kyoto anrufen, wisst aber gar nicht, wie spät es bei ihm gerade ist. Ihr könnt die lokale Zeit in Kyoto natürlich googeln, allerdings könnt ihr die Zeit in Tokyo Standard Time auch im SQL Server abfragen. Das Hilfsmittel hierfür ist `AT TIME ZONE`.  \r\n",
                "## Wie könnt ihr AT TIME ZONE verwenden?\r\n",
                "Um die obige Frage zu beantwortet, könnt ihr einfach folgende Abfrage verwenden:"
            ],
            "metadata": {
                "azdata_cell_guid": "e3fb2421-ada5-4c6f-9587-a1306481458e"
            }
        },
        {
            "cell_type": "code",
            "source": [
                "SELECT GETDATE() AT TIME ZONE 'Tokyo Standard Time'"
            ],
            "metadata": {
                "azdata_cell_guid": "e724bdcc-e648-4f21-9e7b-2988bbae347c"
            },
            "outputs": [],
            "execution_count": 0
        },
        {
            "cell_type": "markdown",
            "source": [
                "Hier wählt ihr die aktuelle Zeit aus und gebt an, dass ihr die aktuelle Zeit in der Zeitzone \"Tokyo Standard Time\" erfahren möchtet. Was der SQL Server macht, um diese Zeitzone aufzulösen ist, sich auf das System zu verlassen und vom System die Zeit in der Zeitzone abzufragen. Dafür muss die Zeitzone natürlich in eurem PC aufgelöst werden. Welche Zeitzonen euch hier zur Verfügung stehen, könnt ihr in der Registry einsehen unter \"KEY_LOCAL_MACHINE\\SOFTWARE\\Microsoft\\Windows NT\\CurrentVersion\\Time Zones\". Ihr könnt jedoch auch eine List der Zeitzonen im Netz finden, wenn euch wie uns beim Öffnen des Registry-Editors immer ein wenig flau im Magen wird. Die üblicherweise definierten Zeitzonen könnt ihr hier finden: https://docs.microsoft.com/en-us/windows-hardware/manufacture/desktop/default-time-zones.\r\n",
                "\r\n",
                "Bevor wir mit Zeitumrechnungen beginnen, müssen wir herausfinden, welche Zeitzone bei euch eingestellt ist. Das könnt ihr über folgendes Kommando tun: "
            ],
            "metadata": {
                "azdata_cell_guid": "59448423-c91e-4d5e-acda-5e262df8fcc3"
            }
        },
        {
            "cell_type": "code",
            "source": [
                "SELECT \r\n",
                "    DATEPART(TZOFFSET , SYSDATETIMEOFFSET()) as Offset,\r\n",
                "    DATENAME(TZOFFSET , SYSDATETIMEOFFSET()) as TZName"
            ],
            "metadata": {
                "azdata_cell_guid": "b270ed80-5959-4e8a-9a73-b0221dcaafa7"
            },
            "outputs": [],
            "execution_count": 0
        },
        {
            "cell_type": "markdown",
            "source": [
                "In meinem Fall erhalte ich 0 als Offset und den Namen \"+00:00\", was bedeutet, dass auf meiner Datenbank die UTC-Zeitzone eingestellt ist. Sollte auf eurer Test-Datenbank eine andere Zeitzone eingestellt sein, müsst ihr eure Beispiele gegebenenfalls anpassen. Führen wir nun also eine Konversion nach deutscher Zeit aus (\"W. European Standard Time\") und vergleichen mit UTC:"
            ],
            "metadata": {
                "azdata_cell_guid": "b2d214f0-5f78-4c61-b957-6e34442a8c90"
            }
        },
        {
            "cell_type": "code",
            "source": [
                "SELECT \r\n",
                "     GETDATE() AT TIME ZONE 'UTC' AS [UTC]\r\n",
                "    ,GETDATE() AT TIME ZONE 'W. Europe Standard Time' AS [WEST]"
            ],
            "metadata": {
                "azdata_cell_guid": "42b94fe6-5032-4043-8d1a-4ddd2d97f7f3"
            },
            "outputs": [],
            "execution_count": 0
        },
        {
            "cell_type": "markdown",
            "source": [
                "Hier seht ihr nun bei UTC (wenn eure Zeit auf dem Server so eingestellt ist wie im Dojo) eine Zeit mit dem angehängten Offset \"+00:00\" (klar, eine Zeitangabe in UTC hat keinen Offset zur UTC-Zeit) und eine mit \"+01:00\" (wenn ihr dieses Beispiel in der deutschen Winterzeit ausführt) bzw. \"+02:00\" (wenn ihr dieses Beispiel in der deutschen Sommerzeit ausführt). \r\n",
                "\r\n",
                "Wer nun von euch einmal globale Zeitstempel umgewandelt hat, dem ist der Schmerz bewusst, den diese Thematik verursachen kann, insbesondere wenn mit Sommerzeit und Zeitumstellung hantiert wird. Jahr 2020 wurde in Deutschland die Uhr am 29. März von 2:00 auf 3:00 eine Stunde auf die Sommerzeit vorgestellt. Das bedeutet um 2 Uhr gehen wir von UTC +1 Stunde auf UTC +2 Stunden. Der SQL Server schiebt die Zeiten in diesem Intervall dann auf die Zeit nach der Umstellung. Probieren wir das aus:"
            ],
            "metadata": {
                "azdata_cell_guid": "3a38fc0e-5c85-4bb0-8069-2dec152822c4"
            }
        },
        {
            "cell_type": "code",
            "source": [
                "SELECT \r\n",
                "     CONVERT(datetime, '2020-03-29T01:59:00') \r\n",
                "        AT TIME ZONE 'UTC' AS [UTC]\r\n",
                "    ,CONVERT(datetime, '2020-03-29T01:59:00') \r\n",
                "        AT TIME ZONE 'W. Europe Standard Time' AS [WEST]\r\n",
                "UNION ALL\r\n",
                "SELECT \r\n",
                "     CONVERT(datetime, '2020-03-29T02:00:00') \r\n",
                "        AT TIME ZONE 'UTC' AS [UTC]\r\n",
                "    ,CONVERT(datetime, '2020-03-29T02:00:00') \r\n",
                "        AT TIME ZONE 'W. Europe Standard Time' AS [WEST]\r\n",
                "UNION ALL\r\n",
                "SELECT \r\n",
                "     CONVERT(datetime, '2020-03-29T02:01:00') \r\n",
                "        AT TIME ZONE 'UTC' AS [UTC]\r\n",
                "    ,CONVERT(datetime, '2020-03-29T02:01:00') \r\n",
                "        AT TIME ZONE 'W. Europe Standard Time' AS [WEST]"
            ],
            "metadata": {
                "azdata_cell_guid": "377776b2-e62b-4f27-949e-d339f0708b30"
            },
            "outputs": [],
            "execution_count": 0
        },
        {
            "cell_type": "markdown",
            "source": [
                "Wir sehen in der Ausgabe, dass die erste umgewandelte Zeit noch UTC +1 Stunde ist, während um Punkt 2 Uhr die umgewandelte Zeit nicht mehr UTC +1 Stunde ist, sondern auf UTC +2 Stunden springt.\r\n",
                "\r\n",
                "Ähnlich ist das mit dem \"Rückweg\", wenn wir von UTC +2 Stunden auf UTC +1 Stunde springen, Zeiten aus dem überlappenden Intervall werden dann auf Zeiten vor der vor der Umstellung geschoben:"
            ],
            "metadata": {
                "azdata_cell_guid": "643ad809-5ac4-4114-9a15-bcde33832850"
            }
        },
        {
            "cell_type": "code",
            "source": [
                "SELECT \r\n",
                "     CONVERT(datetime, '2020-10-25T02:59:00') \r\n",
                "        AT TIME ZONE 'UTC' AS [UTC]\r\n",
                "    ,CONVERT(datetime, '2020-10-25T02:59:00') \r\n",
                "        AT TIME ZONE 'W. Europe Standard Time' AS [WEST]\r\n",
                "UNION ALL\r\n",
                "SELECT \r\n",
                "     CONVERT(datetime, '2020-10-25T03:00:00') \r\n",
                "        AT TIME ZONE 'UTC' AS [UTC]\r\n",
                "    ,CONVERT(datetime, '2020-10-25T03:00:00') \r\n",
                "        AT TIME ZONE 'W. Europe Standard Time' AS [WEST]\r\n",
                "UNION ALL\r\n",
                "SELECT \r\n",
                "     CONVERT(datetime, '2020-10-25T03:01:00') \r\n",
                "        AT TIME ZONE 'UTC' AS [UTC]\r\n",
                "    ,CONVERT(datetime, '2020-10-25T03:01:00') \r\n",
                "        AT TIME ZONE 'W. Europe Standard Time' AS [WEST]"
            ],
            "metadata": {
                "azdata_cell_guid": "7ceab126-6035-432c-9bbc-2248a11cd968"
            },
            "outputs": [],
            "execution_count": 0
        },
        {
            "cell_type": "markdown",
            "source": [
                "Was ihr sonst noch wissen solltet: ihr könnt mit `AT TIME ZONE` auch temporale Tabellen abfragen, das heißt wenn ihr eine Tabelle habt, deren Änderungen vom System versioniert werden, dann könnt ihr den Zustand der Tabelle zu einem bestimmten Zeitpunkt abfragen. Für die historisierten `ColdRoomTemperatures` der WideWorldImporters Datenbank könntet ihr das wie folgt tun:"
            ],
            "metadata": {
                "azdata_cell_guid": "ff9a8469-1036-48b1-9647-d900a7486f6b"
            }
        },
        {
            "cell_type": "code",
            "source": [
                "SELECT TOP (1000) [ColdRoomTemperatureID]\r\n",
                "      ,[ColdRoomSensorNumber]\r\n",
                "      ,[RecordedWhen]\r\n",
                "      ,[Temperature]\r\n",
                "  FROM [WideWorldImporters].[Warehouse].[ColdRoomTemperatures]\r\n",
                "  FOR SYSTEM_TIME AS OF '2016-01-01 13:00:00'"
            ],
            "metadata": {
                "azdata_cell_guid": "f3441299-f702-4c0a-9063-dcf55cd380b5"
            },
            "outputs": [],
            "execution_count": 0
        },
        {
            "cell_type": "markdown",
            "source": [
                "Wenn ihr nun aber wisst, dass euer Kühlraum in Kyoto steht, die Zeitstempel aber in UTC aufgezeichnet werden, müsstet ihr zunächst den gesuchten Zeitstempel in eine Variable abspeichern und die `AS OF` Abfrage dann mit dieser Variablen ausführen:"
            ],
            "metadata": {
                "azdata_cell_guid": "d4f6ed8d-9f7e-4b50-8a8b-9d02a65b2243"
            }
        },
        {
            "cell_type": "code",
            "source": [
                "DECLARE @asof datetimeoffset \r\n",
                "    = CONVERT(datetime, '2016-01-01 13:00:00') \r\n",
                "      AT TIME ZONE 'Tokyo Standard Time'\r\n",
                "\r\n",
                "SELECT TOP (1000) [ColdRoomTemperatureID]\r\n",
                "      ,[ColdRoomSensorNumber]\r\n",
                "      ,[RecordedWhen]\r\n",
                "      ,[Temperature]\r\n",
                "  FROM [WideWorldImporters].[Warehouse].[ColdRoomTemperatures]\r\n",
                "  FOR SYSTEM_TIME AS OF @asof"
            ],
            "metadata": {
                "azdata_cell_guid": "dad472ba-bc71-4eca-8a46-d4246d7e8b1d"
            },
            "outputs": [],
            "execution_count": 0
        },
        {
            "cell_type": "markdown",
            "source": [
                "Zeitstempel und deren Umrechnung wird zwar auch mit `AT TIME ZONE` kein Zuckerschlecken und bereitet immer noch Kopfschmerzen wie ein Schlag auf den Kopf mit der flachen Seite des Katana, aber `AT TIME ZONE` erspart es euch wenigstens, wilde Zeitzonen-Umrechnungen selbst zu implementieren. Insofern macht diese Funktionalität euch das Leben möglicherweise ein bisschen erträglicher, wenn ihr schon mit Zeitzonen hantieren müsst und einen SQL Server in einer Version ab 2016 zur Verfügung habt… \n",
                "## Referenzen\n",
                "- [Dokumentation von Microsoft](https://docs.microsoft.com/de-de/sql/t-sql/queries/at-time-zone-transact-sql?view=sql-server-ver15)\n",
                ""
            ],
            "metadata": {
                "azdata_cell_guid": "2605f2a2-5cec-4ce9-beb5-89462afe026b"
            }
        }
    ]
}