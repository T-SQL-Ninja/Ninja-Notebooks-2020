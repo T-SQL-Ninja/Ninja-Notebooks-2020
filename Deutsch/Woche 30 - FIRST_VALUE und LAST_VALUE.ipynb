{
    "metadata": {
        "kernelspec": {
            "name": "SQL",
            "display_name": "SQL",
            "language": "sql"
        },
        "language_info": {
            "name": "sql",
            "version": ""
        }
    },
    "nbformat_minor": 2,
    "nbformat": 4,
    "cells": [
        {
            "cell_type": "markdown",
            "source": [
                "# Woche 30: FIRST_VALUE und LAST_VALUE\r\n",
                "## Was sind FIRST_VALUE und LAST_VALUE? \r\n",
                "Wie schon die in den Wochen 12 bis 14 vorgestellten `ROW_NUMBER` und `RANK`-Funktionen, gehören auch `FIRST_VALUE` und `LAST_VALUE` zu den Window-Funktionen. Das heißt sie sind Funktionen, die auf einer geordneten Menge von Zeilen in der Ergebnismenge operieren. Den Namen entsprechend geben die Funktionen die erste beziehungsweise letzte Zeile des Fensters zurück, auf dem sie operieren.\r\n",
                "## Wie könnt ihr mit FIRST_VALUE und LAST_VALUE arbeiten?\r\n",
                "Um erste und letzte Zeilen eines Ergebnisfensters zu ermitteln, nehmen wir uns in der `WideWorldImporters`-Datenbank die `Sales.Order`-Tabelle vor, um die erste Bestellung jedes Kunden zu finden. Folgende Spalten der Tabelle wollen wir uns ansehen:"
            ],
            "metadata": {
                "azdata_cell_guid": "f59b74d6-bcc7-4d1a-b7a0-721edd6d5e1f"
            }
        },
        {
            "cell_type": "code",
            "source": [
                "SELECT \r\n",
                "     OrderDate\r\n",
                "    ,OrderID\r\n",
                "    ,ExpectedDeliveryDate\r\n",
                "    ,CustomerID\r\n",
                "FROM [Sales].[Orders]"
            ],
            "metadata": {
                "azdata_cell_guid": "96865b47-5618-4d68-bfc6-e1d41047f6b8"
            },
            "outputs": [],
            "execution_count": 0
        },
        {
            "cell_type": "markdown",
            "source": [
                "Um nun für jede Bestellung die erste Bestellung des jeweiligen Kunden zu finden, benutzen wir die `FIRST_VALUE`-Funktion. Diese Funktion berechnet nun zu jeder Zeile in der Orders-Tabelle die entsprechenden ersten Werte:"
            ],
            "metadata": {
                "azdata_cell_guid": "7fa01c10-7076-4da5-8ce2-f6e5cd77c89e"
            }
        },
        {
            "cell_type": "code",
            "source": [
                "SELECT \r\n",
                "     OrderDate as DateCurrentOrder\r\n",
                "    ,FIRST_VALUE(OrderDate) OVER (PARTITION BY CustomerID ORDER BY OrderDate) as DateFirstOrder\r\n",
                "    ,OrderID as IDCurrentOrder\r\n",
                "    ,FIRST_VALUE(OrderID) OVER (PARTITION BY CustomerID ORDER BY OrderDate) as IDirstOrder\r\n",
                "    ,ExpectedDeliveryDate as ExpectedDeliveryCurrentOrder\r\n",
                "    ,FIRST_VALUE(ExpectedDeliveryDate) OVER (PARTITION BY CustomerID ORDER BY OrderDate) as ExpectedDeliveryFirstOrder\r\n",
                "    ,CustomerID\r\n",
                "FROM [Sales].[Orders]\r\n",
                "ORDER BY CustomerID"
            ],
            "metadata": {
                "azdata_cell_guid": "13c5fb11-3be2-48e1-92d5-7cdbf4f4bcc5"
            },
            "outputs": [],
            "execution_count": 0
        },
        {
            "cell_type": "markdown",
            "source": [
                "Nun können wir mit Hilfe dieser Werte beispielsweise zu jeder Bestellung berechnen, wie viele Tage nach der ersten Bestellung sie aufgegeben wurde:"
            ],
            "metadata": {
                "azdata_cell_guid": "2117ecda-e13c-4410-847b-427a83ca35ea"
            }
        },
        {
            "cell_type": "code",
            "source": [
                "SELECT \r\n",
                "     OrderDate as DateCurrentOrder\r\n",
                "    ,FIRST_VALUE(OrderDate) OVER (PARTITION BY CustomerID ORDER BY OrderDate) as DateFirstOrder\r\n",
                "    ,DATEDIFF(DAY, FIRST_VALUE(OrderDate) OVER (PARTITION BY CustomerID ORDER BY OrderDate), OrderDate) DaysSinceFirstOrder\r\n",
                "    ,OrderID as IDCurrentOrder\r\n",
                "    ,FIRST_VALUE(OrderID) OVER (PARTITION BY CustomerID ORDER BY OrderDate) as IDirstOrder\r\n",
                "    ,ExpectedDeliveryDate as ExpectedDeliveryCurrentOrder\r\n",
                "    ,FIRST_VALUE(ExpectedDeliveryDate) OVER (PARTITION BY CustomerID ORDER BY OrderDate) as ExpectedDeliveryFirstOrder\r\n",
                "    ,CustomerID\r\n",
                "FROM [Sales].[Orders]\r\n",
                "ORDER BY CustomerID"
            ],
            "metadata": {
                "azdata_cell_guid": "2b4c5d10-2354-4cf1-aff6-4e7375d791a5"
            },
            "outputs": [],
            "execution_count": 0
        },
        {
            "cell_type": "markdown",
            "source": [
                "Auf die selbe Art können wir nun natürlich auch die Tage von der Bestellung zur jeweils letzten Bestellung des Kunden ermitteln, indem wir `LAST_VALUE` verwenden:"
            ],
            "metadata": {
                "azdata_cell_guid": "d677c296-5eaf-4e98-84b2-e8dcc59f0e83"
            }
        },
        {
            "cell_type": "code",
            "source": [
                "SELECT \r\n",
                "     OrderDate as DateCurrentOrder\r\n",
                "    ,FIRST_VALUE(OrderDate) OVER (PARTITION BY CustomerID ORDER BY OrderDate) as DateFirstOrder\r\n",
                "    ,LAST_VALUE(OrderDate) OVER (PARTITION BY CustomerID ORDER BY OrderDate) DateLastOrder\r\n",
                "    ,DATEDIFF(DAY, FIRST_VALUE(OrderDate) OVER (PARTITION BY CustomerID ORDER BY OrderDate), OrderDate) DaysSinceFirstOrder\r\n",
                "    ,OrderID as IDCurrentOrder\r\n",
                "    ,FIRST_VALUE(OrderID) OVER (PARTITION BY CustomerID ORDER BY OrderDate) as IDirstOrder\r\n",
                "    ,ExpectedDeliveryDate as ExpectedDeliveryCurrentOrder\r\n",
                "    ,FIRST_VALUE(ExpectedDeliveryDate) OVER (PARTITION BY CustomerID ORDER BY OrderDate) as ExpectedDeliveryFirstOrder\r\n",
                "    ,CustomerID\r\n",
                "FROM [Sales].[Orders]\r\n",
                "ORDER BY CustomerID"
            ],
            "metadata": {
                "azdata_cell_guid": "16afca63-ca8f-43e0-93db-3eaaca63eb4c"
            },
            "outputs": [],
            "execution_count": 0
        },
        {
            "cell_type": "markdown",
            "source": [
                "Doch zu unserer großen Überraschung sehen wir nun als `LAST_VALUE` immer den Wert der aktuellen Zeile als Letztes Bestelldatum des Kunden. Das liegt daran, dass wir schon in den ersten Beiträgen zu Window-Funktionen erklärt hatten, dass das Standard-Fenster immer vom Anfang des Definitionsbereichs bis zur aktuellen Zeile heranreicht. Um das zu ändern müssen eine sogenannte \"range clause\" angeben, die die Form `ROWS BETWEEN a AND b` hat:"
            ],
            "metadata": {
                "azdata_cell_guid": "1e03e52e-35ef-4333-9965-47314c167d2e"
            }
        },
        {
            "cell_type": "code",
            "source": [
                "SELECT \r\n",
                "     OrderDate as DateCurrentOrder\r\n",
                "    ,FIRST_VALUE(OrderDate) OVER (PARTITION BY CustomerID ORDER BY OrderDate) as DateFirstOrder\r\n",
                "    ,LAST_VALUE(OrderDate) OVER (PARTITION BY CustomerID ORDER BY OrderDate ROWS BETWEEN CURRENT ROW AND UNBOUNDED FOLLOWING) DateLastOrder\r\n",
                "    ,DATEDIFF(DAY, FIRST_VALUE(OrderDate) OVER (PARTITION BY CustomerID ORDER BY OrderDate), OrderDate) DaysSinceFirstOrder\r\n",
                "    ,OrderID as IDCurrentOrder\r\n",
                "    ,FIRST_VALUE(OrderID) OVER (PARTITION BY CustomerID ORDER BY OrderDate) as IDirstOrder\r\n",
                "    ,ExpectedDeliveryDate as ExpectedDeliveryCurrentOrder\r\n",
                "    ,FIRST_VALUE(ExpectedDeliveryDate) OVER (PARTITION BY CustomerID ORDER BY OrderDate) as ExpectedDeliveryFirstOrder\r\n",
                "    ,CustomerID\r\n",
                "FROM [Sales].[Orders]\r\n",
                "ORDER BY CustomerID"
            ],
            "metadata": {
                "azdata_cell_guid": "95fa20b4-d95a-45d1-b124-e6c20153145a"
            },
            "outputs": [],
            "execution_count": 0
        },
        {
            "cell_type": "markdown",
            "source": [
                "Mit diesem Hintergrundwissen können wir nun auch den Abstand zur jeweils aktuellsten Bestellung des Kunden angeben:"
            ],
            "metadata": {
                "azdata_cell_guid": "37faf769-fd97-4ba6-8ac9-f31329a128d2"
            }
        },
        {
            "cell_type": "code",
            "source": [
                "SELECT \r\n",
                "     OrderDate as DateCurrentOrder\r\n",
                "    ,FIRST_VALUE(OrderDate) OVER (PARTITION BY CustomerID ORDER BY OrderDate) as DateFirstOrder\r\n",
                "    ,LAST_VALUE(OrderDate) OVER (PARTITION BY CustomerID ORDER BY OrderDate ROWS BETWEEN CURRENT ROW AND UNBOUNDED FOLLOWING) DateLastOrder\r\n",
                "    ,DATEDIFF(DAY, FIRST_VALUE(OrderDate) OVER (PARTITION BY CustomerID ORDER BY OrderDate), OrderDate) DaysSinceFirstOrder\r\n",
                "    ,DATEDIFF(DAY, OrderDate, LAST_VALUE(OrderDate) OVER (PARTITION BY CustomerID ORDER BY OrderDate ROWS BETWEEN CURRENT ROW AND UNBOUNDED FOLLOWING)) DaysToLastOrder\r\n",
                "    ,OrderID as IDCurrentOrder\r\n",
                "    ,FIRST_VALUE(OrderID) OVER (PARTITION BY CustomerID ORDER BY OrderDate) as IDirstOrder\r\n",
                "    ,ExpectedDeliveryDate as ExpectedDeliveryCurrentOrder\r\n",
                "    ,FIRST_VALUE(ExpectedDeliveryDate) OVER (PARTITION BY CustomerID ORDER BY OrderDate) as ExpectedDeliveryFirstOrder\r\n",
                "    ,CustomerID\r\n",
                "FROM [Sales].[Orders]\r\n",
                "ORDER BY CustomerID"
            ],
            "metadata": {
                "azdata_cell_guid": "c5285bb7-2bf8-48ef-951c-eebfd13c2252"
            },
            "outputs": [],
            "execution_count": 0
        },
        {
            "cell_type": "markdown",
            "source": [
                "`FIRST_VALUE` und `LAST_VALUE` sind echt nützliche Funktionen, trotz allem solltet ihr bei den hier gezeigten Techniken vorsichtig sein, denn Fenster-Funktionen sind potenzielle Performance-Killer, da im Zweifel ein Vielfaches der zurückgegebenen Ergebnismenge vom Server gelesen und verarbeitet werden muss um die Fenster komplett auszuführen. \n",
                "## Referenzen\n",
                "- [Dokumentation von Microsoft zu FIRST_VALUE](https://docs.microsoft.com/de-de/sql/t-sql/functions/first-value-transact-sql?view=sql-server-ver15)\n",
                "- [Dokumentation von Microsoft zu LAST_VALUE](https://docs.microsoft.com/de-de/sql/t-sql/functions/last-value-transact-sql?view=sql-server-ver15)"
            ],
            "metadata": {
                "azdata_cell_guid": "9a6aafe1-700a-4269-a5e3-20b83485222e"
            }
        }
    ]
}