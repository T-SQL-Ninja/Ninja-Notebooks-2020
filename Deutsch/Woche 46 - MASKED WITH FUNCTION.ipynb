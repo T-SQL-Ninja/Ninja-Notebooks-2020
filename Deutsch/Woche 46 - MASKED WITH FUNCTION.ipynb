{
    "metadata": {
        "kernelspec": {
            "name": "SQL",
            "display_name": "SQL",
            "language": "sql"
        },
        "language_info": {
            "name": "sql",
            "version": ""
        }
    },
    "nbformat_minor": 2,
    "nbformat": 4,
    "cells": [
        {
            "cell_type": "markdown",
            "source": [
                "# Woche 46: MASKED WITH FUNCTION\r\n",
                "## Was tut MASKED WITH FUNCTION? \r\n",
                "Nehmen wir einmal an, dass ihr (wie das selbstverständlich der Fall sein sollte) die Real-Namen eurer Ninjas vor dem Feind verbergen wollt. Nehmen wir weiter an, dass ihr sie aber wissen und in einer Datenbank speichern möchtet. Ich weiß, hier wird diese Annahme leicht abstrus, da natürlich jeder große Meister die Namen seiner Ninjas weiß und niemals hinterlegen würde. Doch nehmen wir dennoch einmal an, ihr wolltet sie speichern. Ihr würdet dann natürlich nichts unversucht lassen, um eure Krieger zu schützen. Und mit der dynamischen Datenmaskierung hilft euch der SQL Server ab Version 2016 dabei, die Identität eurer Krieger zu schützen.  \r\n",
                "## Wie könnt ihr MASKED WITH FUNCTION verwenden?\r\n",
                "\r\n",
                "Zunächst müssen wir uns natürlich eine Tabelle anlegen, in der wir die Stammdaten der Ninjas speichern möchten:"
            ],
            "metadata": {
                "azdata_cell_guid": "8b29ac82-1173-436c-a153-13b0fb0dc966"
            }
        },
        {
            "cell_type": "code",
            "source": [
                "DROP TABLE IF EXISTS NinjaWarriors\r\n",
                "\r\n",
                "CREATE TABLE NinjaWarriors \r\n",
                "(\r\n",
                "     NinjaId int NOT NULL IDENTITY(1,1)\r\n",
                "    ,RealFirstName varchar(250) NOT NULL\r\n",
                "    ,NinjaName varchar(250) NOT NULL\r\n",
                "    ,SecretPower varchar(250) NOT NULL\r\n",
                ")"
            ],
            "metadata": {
                "azdata_cell_guid": "3a7831c3-9e1f-43d6-82e7-4dbc0d8842ae"
            },
            "outputs": [],
            "execution_count": 0
        },
        {
            "cell_type": "markdown",
            "source": [
                "Fügen wir nun einige Datensätze ein:"
            ],
            "metadata": {
                "azdata_cell_guid": "4aefeb92-483e-4f41-bf7a-2739fe286004"
            }
        },
        {
            "cell_type": "code",
            "source": [
                "INSERT INTO NinjaWarriors \r\n",
                "(RealFirstName, NinjaName, SecretPower)\r\n",
                "VALUES \r\n",
                "('Tobi', 'Blackclaw', 'Makes beer disappear'),\r\n",
                "('Fred', 'Lethalstain', 'Talks to whales')"
            ],
            "metadata": {
                "azdata_cell_guid": "b89923f8-8dd8-4ae1-b335-fcf5274b3588"
            },
            "outputs": [],
            "execution_count": 0
        },
        {
            "cell_type": "markdown",
            "source": [
                "Legen wir nun einen Benutzer in unserer Datenbank an, der die Ninja-Tabelle abfragen soll:"
            ],
            "metadata": {
                "azdata_cell_guid": "352415f7-ab4e-4deb-9ec9-da11f25fcd53"
            }
        },
        {
            "cell_type": "code",
            "source": [
                "DROP USER IF EXISTS Enemy\r\n",
                "\r\n",
                "CREATE USER Enemy WITHOUT LOGIN;\r\n",
                "GRANT SELECT ON NinjaWarriors TO Enemy;"
            ],
            "metadata": {
                "azdata_cell_guid": "73749ac4-dc92-46ef-85f1-acaa14ed0f71"
            },
            "outputs": [],
            "execution_count": 0
        },
        {
            "cell_type": "markdown",
            "source": [
                "Das `REVERT` am Ende dieses Statements dient dazu, zum originalen Benutzerkontext zurückzukehren. Ändern wir nun die Tabellen-Definition um die Daten in der Tabelle zu schützen. Vom Ninja-Realnamen wollen wir dabei zunächst nur den ersten und den letzten Buchstaben zeigen:"
            ],
            "metadata": {
                "azdata_cell_guid": "d86a1fc1-faa9-449e-a974-07f8ee5fefc9"
            }
        },
        {
            "cell_type": "code",
            "source": [
                "ALTER TABLE NinjaWarriors \r\n",
                "ALTER COLUMN RealFirstName ADD MASKED WITH (FUNCTION = 'partial(1,\"XXX\",1)')"
            ],
            "metadata": {
                "azdata_cell_guid": "99fb2abe-b8d4-4caa-b254-b6620596d078"
            },
            "outputs": [],
            "execution_count": 0
        },
        {
            "cell_type": "markdown",
            "source": [
                "Ihr seht, dass wir die Definition der Spalte ändern ähnlich, wie wenn wir einen DEFAULT-Wert hinzufügen würden. \r\n",
                "\r\n",
                "Fragt ihr die Tabelle nun mit eurem normalen User ab, so seht ihr nach wie vor alle Daten, die ihr in die Tabelle eingefügt hattet, doch fragt die Tabelle nun wieder mit dem Benutzer Enemy ab:"
            ],
            "metadata": {
                "azdata_cell_guid": "8f8633d5-2d0c-479d-b51a-9d67c9002607"
            }
        },
        {
            "cell_type": "code",
            "source": [
                "EXECUTE AS USER = 'Enemy';\r\n",
                "SELECT * FROM NinjaWarriors;  \r\n",
                "REVERT;"
            ],
            "metadata": {
                "azdata_cell_guid": "bb3dddf0-3de1-4fbf-ad4f-0d657fb6c5ed"
            },
            "outputs": [],
            "execution_count": 0
        },
        {
            "cell_type": "markdown",
            "source": [
                "Dann seht ihr, dass die Vornamen maskiert wurden zu \"Txxi\" und \"Fxxd\". Ähnlich wie ihr hier die \"Partial\"-Funktion verwendet hattet, könnt ihr noch weitere Funktionen zum Schützen eurer Daten verwenden:"
            ],
            "metadata": {
                "azdata_cell_guid": "49c7cc6f-3cb7-4454-bfe2-5fbc29d7c6c0"
            }
        },
        {
            "cell_type": "code",
            "source": [
                "ALTER TABLE NinjaWarriors\r\n",
                "ALTER COLUMN SecretPower ADD MASKED WITH (FUNCTION = 'default()')"
            ],
            "metadata": {
                "azdata_cell_guid": "0fb8c56b-8bd0-4c70-a86c-7a2a87ffe4e5"
            },
            "outputs": [],
            "execution_count": 0
        },
        {
            "cell_type": "markdown",
            "source": [
                "Wenn ihr nun als \"Enemy\" die Tabelle abfragt, dann seht ihr dass anstelle der Geheimkräfte eurer Ninja-Kämpfer einfach nur noch \"xxxx\" angezeigt wird.\r\n",
                "\r\n",
                "Wie könnt ihr nun einem User das Recht geben, die Maskierten Daten zu sehen? Dafür gibt es die Berechtigung \"umask\", die ihr einem User geben könnt. Legen wir dafür einen weiteren User an:"
            ],
            "metadata": {
                "azdata_cell_guid": "1e85b65b-cefc-4739-828b-161f96a1c0d4"
            }
        },
        {
            "cell_type": "code",
            "source": [
                "DROP USER IF EXISTS Friend\r\n",
                "CREATE USER Friend WITHOUT LOGIN;\r\n",
                "GRANT SELECT ON NinjaWarriors TO Friend;\r\n",
                "\r\n",
                "EXECUTE AS USER = 'Friend';\r\n",
                "SELECT * FROM NinjaWarriors;  \r\n",
                "REVERT;"
            ],
            "metadata": {
                "azdata_cell_guid": "4c959238-7338-4d60-be7c-58ce6f4385cd"
            },
            "outputs": [],
            "execution_count": 0
        },
        {
            "cell_type": "markdown",
            "source": [
                "Euer Freund kann nun zunächst natürlich die Daten der Tabelle nicht lesen, da er ja identisch mit dem Feind-User angelegt wurde. Geben wir ihm nun das Recht, die maskierten Daten zu lesen:"
            ],
            "metadata": {
                "azdata_cell_guid": "19302fbb-e058-439b-8fb0-ee5e3d58ac32"
            }
        },
        {
            "cell_type": "code",
            "source": [
                "GRANT UNMASK TO Friend\r\n",
                "\r\n",
                "EXECUTE AS USER = 'Friend';\r\n",
                "SELECT * FROM NinjaWarriors;  \r\n",
                "REVERT;"
            ],
            "metadata": {
                "azdata_cell_guid": "9585bf07-0e97-42af-9ab1-4e6d4aa0ae75"
            },
            "outputs": [],
            "execution_count": 0
        },
        {
            "cell_type": "markdown",
            "source": [
                "Der Benutzer kann nun wieder alle Daten der Tabelle sehen. \r\n",
                "Wenn ihr nun die Maskierung einer Tabelle rückgängig machen möchtet, so könnt ihr die `MASKED`-Eigenschaft per `DROP` löschen:"
            ],
            "metadata": {
                "azdata_cell_guid": "e044e623-58eb-4e3f-bcff-40a2305af899"
            }
        },
        {
            "cell_type": "code",
            "source": [
                "ALTER TABLE NinjaWarriors\r\n",
                "ALTER COLUMN SecretPower DROP MASKED\r\n",
                "\r\n",
                "EXECUTE AS USER = 'Enemy';\r\n",
                "SELECT * FROM NinjaWarriors;  \r\n",
                "REVERT;"
            ],
            "metadata": {
                "azdata_cell_guid": "2d9b379c-59c8-499d-a4d6-11263b8bc5eb"
            },
            "outputs": [],
            "execution_count": 0
        },
        {
            "cell_type": "markdown",
            "source": [
                "Der Feind kann jetzt wieder alle geheimen Fähigkeiten lesen, die Namen sind aber noch immer für ihn maskiert. \r\n",
                "\r\n",
                "Nun könnte der Feind ja versuchen, clever zu sein und die Maskierung zu umgehen und den SQL Server dazu bringen, die unmaskierten Daten in eine andere Tabelle zu schreiben, wo er sie abrufen kann:"
            ],
            "metadata": {
                "azdata_cell_guid": "9087896c-4833-441e-b55d-7056de193e8b"
            }
        },
        {
            "cell_type": "code",
            "source": [
                "EXECUTE AS USER = 'Enemy';\r\n",
                "SELECT * INTO #WantToKnow FROM NinjaWarriors;  \r\n",
                "REVERT;"
            ],
            "metadata": {
                "azdata_cell_guid": "0800b050-2f0e-4ee5-9870-ab59799040b4"
            },
            "outputs": [],
            "execution_count": 0
        },
        {
            "cell_type": "markdown",
            "source": [
                "Doch auch hier wird der Feind eine Enttäuschung erleben, denn der SQL Server ist intelligent genug, um zu merken, dass der User Enemy die Daten nicht lesen darf und speichert daher in der neuen Tabelle auch nur die maskierten Daten. \r\n",
                "\r\n",
                "Merkt euch: der Ninja behält immer seine Maske auf, auch in der Datenbank…\r\n",
                "\r\n",
                "Um herauszufinden, welche Spalten in welchen Tabellen eurer Datenbank maskiert sind, könnt ihr übrigens folgende Abfrage verwenden:"
            ],
            "metadata": {
                "azdata_cell_guid": "2d9b9dfb-6346-4b54-9f90-83a6607837e4"
            }
        },
        {
            "cell_type": "code",
            "source": [
                "SELECT \r\n",
                "     c.name\r\n",
                "    ,tbl.name as table_name\r\n",
                "    ,c.is_masked\r\n",
                "    ,c.masking_function  \r\n",
                "FROM sys.masked_columns AS c  \r\n",
                "JOIN sys.tables AS tbl   \r\n",
                "    ON c.[object_id] = tbl.[object_id]  \r\n",
                "WHERE is_masked = 1;  "
            ],
            "metadata": {
                "azdata_cell_guid": "e7c3bd25-7230-40f7-807b-1c67f18eee0b"
            },
            "outputs": [],
            "execution_count": 0
        },
        {
            "cell_type": "markdown",
            "source": [
                "## Referenzen\n",
                "- [Dokumentation von Microsoft](https://docs.microsoft.com/de-de/sql/relational-databases/security/dynamic-data-masking?view=sql-server-ver15)\n",
                ""
            ],
            "metadata": {
                "azdata_cell_guid": "8dce7360-ee3b-41bb-bcf4-b66e9acc05a4"
            }
        }
    ]
}