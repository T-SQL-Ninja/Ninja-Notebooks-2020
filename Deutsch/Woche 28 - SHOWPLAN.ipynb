{
    "metadata": {
        "kernelspec": {
            "name": "SQL",
            "display_name": "SQL",
            "language": "sql"
        },
        "language_info": {
            "name": "sql",
            "version": ""
        }
    },
    "nbformat_minor": 2,
    "nbformat": 4,
    "cells": [
        {
            "cell_type": "markdown",
            "source": [
                "# Woche 28: SHOWPLAN\r\n",
                "## Was bedeutet SHOWPLAN? \r\n",
                "Wenn ihr euch schon immer mal gefragt habt, was der SQL Server eigentlich macht zwischen dem Zeitpunkt wo ihr mit Angstschweiß auf der Stirn im Azure Data Studio auf F5 gedrückt habt und dem Zeitpunkt wo euch Ergebnisse eurer Abfrage angezeigt werden, dann ist `SHOWPLAN` die Lösung für euch. Eine Warnung sei aber vorweg geschickt: das Lesen von Ausführungsplänen ist eine Wissenschaft für sich und es gibt viele, die sich mit viel Hingabe dieser Wissenschaft gewidmet haben und das auch um einiges besser können, als euer Shogun hier (wir neigen unser Haupt in Ehrfurcht in Richtung des großen Ricken-San). Erwartet hier also keine großen Erkenntnisse, sondern eher einen Überblick, was es da so gibt. Sozusagen den Eingang des Kaninchenbaus. \r\n",
                "\r\n",
                "## Wie könnt ihr mit SHOWPLAN arbeiten?\r\n",
                "Um uns die verschiedenen Pläne und Plan-Optionen anzusehen, schreiben wir zunächst eine Abfrage auf unserer `WideWorldImporters`-Datenbank:"
            ],
            "metadata": {
                "azdata_cell_guid": "f675b14c-54a0-4232-b3c0-003c508471be"
            }
        },
        {
            "cell_type": "code",
            "source": [
                "SELECT \r\n",
                "       [StockItemID]\r\n",
                "      ,[StockItemName]\r\n",
                "      ,[SupplierName]\r\n",
                "      ,[Brand]\r\n",
                "      ,[Size]\r\n",
                "      ,[LeadTimeDays]\r\n",
                "      ,[QuantityPerOuter]\r\n",
                "      ,[IsChillerStock]\r\n",
                "      ,[TaxRate]\r\n",
                "      ,[UnitPrice]\r\n",
                "      ,[RecommendedRetailPrice]\r\n",
                "      ,[TypicalWeightPerUnit]\r\n",
                "FROM [Warehouse].[StockItems] i\r\n",
                "    LEFT JOIN [Purchasing].[Suppliers] s \r\n",
                "    ON i.SupplierID = s.SupplierID\r\n",
                "WHERE StockItemID = 200"
            ],
            "metadata": {
                "azdata_cell_guid": "f4057a26-d463-4d7a-9a00-930e4271b85b"
            },
            "outputs": [],
            "execution_count": 0
        },
        {
            "cell_type": "markdown",
            "source": [
                "Diese Abfrage liefert genau eine Zeile zurück. Finden wir nun heraus, wie der SQL Server zu dieser Zeile findet. Dafür schauen möchten wir uns den Ausführungsplan der Abfrage ansehen. Diesen können wir erhalten indem wir die `SHOWPLAN_XML`-Option aktivieren (und idealerweise direkt nach der Abfrage wieder deaktivieren), das sieht dann wie folgt aus: "
            ],
            "metadata": {
                "azdata_cell_guid": "3bde149f-74d6-4ec1-ab4a-2f6bc496df31"
            }
        },
        {
            "cell_type": "code",
            "source": [
                "SET SHOWPLAN_XML ON;\r\n",
                "GO\r\n",
                "\r\n",
                "SELECT \r\n",
                "       [StockItemID]\r\n",
                "      ,[StockItemName]\r\n",
                "      ,[SupplierName]\r\n",
                "      ,[Brand]\r\n",
                "      ,[Size]\r\n",
                "      ,[LeadTimeDays]\r\n",
                "      ,[QuantityPerOuter]\r\n",
                "      ,[IsChillerStock]\r\n",
                "      ,[TaxRate]\r\n",
                "      ,[UnitPrice]\r\n",
                "      ,[RecommendedRetailPrice]\r\n",
                "      ,[TypicalWeightPerUnit]\r\n",
                "FROM [Warehouse].[StockItems] i\r\n",
                "    LEFT JOIN [Purchasing].[Suppliers] s \r\n",
                "    ON i.SupplierID = s.SupplierID\r\n",
                "WHERE StockItemID = 200;\r\n",
                "\r\n",
                "GO\r\n",
                "SET SHOWPLAN_XML OFF;\r\n",
                "GO"
            ],
            "metadata": {
                "azdata_cell_guid": "5fdef996-3fa9-4837-8aca-43322c28bac4"
            },
            "outputs": [],
            "execution_count": 0
        },
        {
            "cell_type": "markdown",
            "source": [
                "Im Ergebnisfenster seht ihr nun eine grafische Repräsentation des Ausführungsplans (im SQL Server Management Studio seht ihr zunächst ein Ergebnis mit einer XML-Zelle, wenn ihr auf diese Klickt, öffnet sich die grafische Darstellung, im Azure Data Studio wird die grafische Darstellung sofort geöffnet. Diese Darstellung zeigt, dass auf beiden Tabellen eine Clustered Index Seek-Operation ausgeführt wird, dass also im Clustered Index der jeweiligen Tabelle nach Zeilen gesucht wird und dass diese Zeilen dann in einem Nested Loop zusammengeführt werden. So weit so gut, doch wenn ihr nun diesen Plan möglicherweise detaillierter ansehen oder (ganz oder in Teilen) abspeichern möchtet, ist die XML-Darstellung trotz unterstütztem XML-Datentyp sehr unhandlich. Sehen wir also nach, was wir noch für Optionen haben. Statt den Plan als XML auszugeben, können wir ihn auch textuell in Tabellenform ausgeben lassen, indem wir nicht `SHOWPLAN_XML` sondern `SHOWPLAN_ALL` aktivieren:"
            ],
            "metadata": {
                "azdata_cell_guid": "9d2687bb-0e7f-4f7d-9560-9c427c5aa100"
            }
        },
        {
            "cell_type": "code",
            "source": [
                "SET SHOWPLAN_ALL ON;\r\n",
                "GO\r\n",
                "\r\n",
                "SELECT \r\n",
                "       [StockItemID]\r\n",
                "      ,[StockItemName]\r\n",
                "      ,[SupplierName]\r\n",
                "      ,[Brand]\r\n",
                "      ,[Size]\r\n",
                "      ,[LeadTimeDays]\r\n",
                "      ,[QuantityPerOuter]\r\n",
                "      ,[IsChillerStock]\r\n",
                "      ,[TaxRate]\r\n",
                "      ,[UnitPrice]\r\n",
                "      ,[RecommendedRetailPrice]\r\n",
                "      ,[TypicalWeightPerUnit]\r\n",
                "FROM [Warehouse].[StockItems] i\r\n",
                "    LEFT JOIN [Purchasing].[Suppliers] s \r\n",
                "    ON i.SupplierID = s.SupplierID\r\n",
                "WHERE StockItemID = 200;\r\n",
                "\r\n",
                "GO\r\n",
                "SET SHOWPLAN_ALL OFF;\r\n",
                "GO"
            ],
            "metadata": {
                "azdata_cell_guid": "7b4f4832-e162-4876-a623-f9a6b3bc9fc6"
            },
            "outputs": [],
            "execution_count": 0
        },
        {
            "cell_type": "markdown",
            "source": [
                "Diese Form der Darstellung ist in Anwendungen besser, in denen das XML nicht wie im SSMS oder im Azure Data Studio direkt in eine grafische Darstellung umgewandelt werden kann. Eine noch einfachere Darstellung mit weniger Spalten in der Ergebnismenge könnt ihr über die Option `SHOWPLAN_TEXT` aktivieren. Hier erhaltet ihr neben der textuellen Darstellung der einzelnen Schritte im Ausführungsplan noch das Originale Statement mitgeliefert, was unter Umständen sehr hilfreich sein kann. \r\n",
                "\r\n",
                "Soweit ist das ganz nett, aber was bedeutet das alles? Um eine Idee davon zu erhalten, was hier geschieht, ändern wir unsere Abfrage ein wenig und suchen nicht mehr nach einer ID sondern nach einem Teil des Artikel-Namens: "
            ],
            "metadata": {
                "azdata_cell_guid": "8eb3447d-89e7-4ab0-af3f-12782e8510b9"
            }
        },
        {
            "cell_type": "code",
            "source": [
                "SET SHOWPLAN_XML ON;\r\n",
                "GO\r\n",
                "\r\n",
                "SELECT \r\n",
                "       [StockItemID]\r\n",
                "      ,[StockItemName]\r\n",
                "      ,[SupplierName]\r\n",
                "      ,[Brand]\r\n",
                "      ,[Size]\r\n",
                "      ,[LeadTimeDays]\r\n",
                "      ,[QuantityPerOuter]\r\n",
                "      ,[IsChillerStock]\r\n",
                "      ,[TaxRate]\r\n",
                "      ,[UnitPrice]\r\n",
                "      ,[RecommendedRetailPrice]\r\n",
                "      ,[TypicalWeightPerUnit]\r\n",
                "FROM [Warehouse].[StockItems] i\r\n",
                "    LEFT JOIN [Purchasing].[Suppliers] s \r\n",
                "    ON i.SupplierID = s.SupplierID\r\n",
                "WHERE StockItemName like '%USB%';\r\n",
                "\r\n",
                "GO\r\n",
                "SET SHOWPLAN_XML OFF;\r\n",
                "GO"
            ],
            "metadata": {
                "azdata_cell_guid": "7c7b468c-24f2-4d29-944d-2a3168ef419b"
            },
            "outputs": [],
            "execution_count": 0
        },
        {
            "cell_type": "markdown",
            "source": [
                "Hier seht ihr dass sich der Ausführungsplan geändert hat, wo vorher zwei Clustered Index Seeks standen (also eine direkte Suche im B-Baum des Index) stehen nun Clustered Index Scans, der Index wird also in seiner vollen Breite gescannt (durchsucht). Um das zu erkennen, aktivieren wir die IO-Statistik-Ausgabe (wie in Woche 9 gezeigt) und vergleichen den Output beider Statements: "
            ],
            "metadata": {
                "azdata_cell_guid": "10f5090f-b17e-406a-a75a-740f4f5503aa"
            }
        },
        {
            "cell_type": "code",
            "source": [
                "SET STATISTICS IO ON\r\n",
                "\r\n",
                "SELECT \r\n",
                "       [StockItemID]\r\n",
                "      ,[StockItemName]\r\n",
                "      ,[SupplierName]\r\n",
                "      ,[Brand]\r\n",
                "      ,[Size]\r\n",
                "      ,[LeadTimeDays]\r\n",
                "      ,[QuantityPerOuter]\r\n",
                "      ,[IsChillerStock]\r\n",
                "      ,[TaxRate]\r\n",
                "      ,[UnitPrice]\r\n",
                "      ,[RecommendedRetailPrice]\r\n",
                "      ,[TypicalWeightPerUnit]\r\n",
                "FROM [Warehouse].[StockItems] i\r\n",
                "    LEFT JOIN [Purchasing].[Suppliers] s \r\n",
                "    ON i.SupplierID = s.SupplierID\r\n",
                "WHERE StockItemName like '%USB%';\r\n",
                "\r\n",
                "SELECT \r\n",
                "       [StockItemID]\r\n",
                "      ,[StockItemName]\r\n",
                "      ,[SupplierName]\r\n",
                "      ,[Brand]\r\n",
                "      ,[Size]\r\n",
                "      ,[LeadTimeDays]\r\n",
                "      ,[QuantityPerOuter]\r\n",
                "      ,[IsChillerStock]\r\n",
                "      ,[TaxRate]\r\n",
                "      ,[UnitPrice]\r\n",
                "      ,[RecommendedRetailPrice]\r\n",
                "      ,[TypicalWeightPerUnit]\r\n",
                "FROM [Warehouse].[StockItems] i\r\n",
                "    LEFT JOIN [Purchasing].[Suppliers] s \r\n",
                "    ON i.SupplierID = s.SupplierID\r\n",
                "WHERE StockItemID = 200;\r\n",
                "\r\n",
                "SET STATISTICS IO OFF"
            ],
            "metadata": {
                "azdata_cell_guid": "65d556dd-8a7a-41c1-a63e-b28f0f9be6ca"
            },
            "outputs": [],
            "execution_count": 0
        },
        {
            "cell_type": "markdown",
            "source": [
                "Wir sehen in diesem Fall, dass die erste Abfrage einen Scan durchführt mit 42 bzw. 16 gelesenen Seiten auf unseren Tabellen, während die zweite Abfrage einen Seek durchführt mit jeweils zwei gelesenen Seiten. \n",
                "\n",
                "Für die Details zu Seeks, Scans und Ausführungsplänen, verweisen wir wie gesagt auf sehr viele sehr gute Vorträge von sehr guten Shogun sowie deren Bücher. Es gibt hier so unendlich viel zu lernen, auch für Ninjas wie uns. \n",
                "## Referenzen\n",
                "- [Dokumentation von Microsoft zu SHOWPLAN_ALL](https://docs.microsoft.com/de-de/sql/t-sql/statements/set-showplan-all-transact-sql?view=sql-server-ver15)\n",
                "- [Dokumentation von Microsoft zu SHOWPLAN_XML](https://docs.microsoft.com/de-de/sql/t-sql/statements/set-showplan-xml-transact-sql?view=sql-server-ver15)\n",
                "- [Dokumentation von Microsoft zu SHOWPLAN_TEXT](https://docs.microsoft.com/de-de/sql/t-sql/statements/set-showplan-text-transact-sql?view=sql-server-ver15)"
            ],
            "metadata": {
                "azdata_cell_guid": "b18f848b-d558-4003-8e4b-cd0932ce2ee1"
            }
        }
    ]
}