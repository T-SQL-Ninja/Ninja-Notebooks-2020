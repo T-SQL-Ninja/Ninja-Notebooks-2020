{
    "metadata": {
        "kernelspec": {
            "name": "SQL",
            "display_name": "SQL",
            "language": "sql"
        },
        "language_info": {
            "name": "sql",
            "version": ""
        }
    },
    "nbformat_minor": 2,
    "nbformat": 4,
    "cells": [
        {
            "cell_type": "markdown",
            "source": [
                "# Woche 33: PERCENTILE_DISC\r\n",
                "## Was ist PERCENTILE_DISC? \r\n",
                "Wie schon die in der letzten Woche vorgestellte `CUME_DIST`-Funktion, gehört auch `PERCENTILE_DISC` zu den statistischen Funktionen. Sie wurde im SQL Server 2012 eingeführt und berechnet Quantile. Wenn ihr das 0,5-Quantil einer Menge (oder auch \"Stichprobe\", wenn wir bei der in der Statistik üblichen Begrifflichkeit bleiben wollen) versteht man denjenigen Wert, bei dem die Hälfte aller Werte kleiner und die andere Hälfte größer ist als dieser Wert. Entsprechend versteht man unter dem 0.1-Quantil den Wert, bei dem 10% der Werte kleiner und 90% der Werte größer sind als er selbst. Quantile könnt ihr mit `PERCENTILE_DISC` berechnen. Dabei wird wie schon bei `CUME_DIST` ein Fenster mit Sortierung angegeben und eben derjenige Wert der `ORDER BY`-Spalten zurückgegeben, bei dem die Verteilungsfunktion, also `CUME_DIST` im selben Fenster erstmalig größer als der übergebene Wert ist.  \r\n",
                "## Wie könnt ihr mit PERCENTILE_DISC arbeiten?\r\n",
                "Nehmen wir uns in der WideWorldImporters-Datenbank eine Abfrage vor, bei der wir uns die Verteilung von Bestellungen im Jahr ansehen:\r\n",
                ""
            ],
            "metadata": {
                "azdata_cell_guid": "bce1c1bb-dce5-4693-8562-9fb5e70e499d"
            }
        },
        {
            "cell_type": "code",
            "source": [
                "SELECT \r\n",
                "     InvoiceDate\r\n",
                "    ,CUME_DIST() OVER (PARTITION BY DATEPART(YEAR, InvoiceDate) ORDER BY InvoiceDate) as SalesDistribution\r\n",
                "FROM Sales.Invoices"
            ],
            "metadata": {
                "azdata_cell_guid": "5fa79c9a-2bda-4ad4-acf6-d0aa8bf93e0b"
            },
            "outputs": [],
            "execution_count": 0
        },
        {
            "cell_type": "markdown",
            "source": [
                "Angenommen, wir möchten nun erfahren, an welchem Tag im Jahr 90% der Bestellungen eingegangen waren. Dann berechnen wir das 0,9-Quantil der Bestellungen wie folgt: "
            ],
            "metadata": {
                "azdata_cell_guid": "c6c707f5-023e-4e0b-a697-11db7d48db9f"
            }
        },
        {
            "cell_type": "code",
            "source": [
                "SELECT \r\n",
                "     InvoiceDate\r\n",
                "    ,CUME_DIST() OVER (PARTITION BY DATEPART(YEAR, InvoiceDate) ORDER BY InvoiceDate) as SalesDistribution\r\n",
                "    ,PERCENTILE_DISC(0.9) WITHIN GROUP (ORDER BY InvoiceDate) OVER (PARTITION BY DATEPART(YEAR, InvoiceDate)) as BreakevenPoint\r\n",
                "FROM Sales.Invoices\r\n",
                "ORDER BY InvoiceDate"
            ],
            "metadata": {
                "azdata_cell_guid": "59da1eab-2da5-4055-868d-f37b81914d2b"
            },
            "outputs": [],
            "execution_count": 0
        },
        {
            "cell_type": "markdown",
            "source": [
                "Wichtig ist, zu beachten, dass `PERCENTILE_DISC` die `ORDER BY`-Bedingung nicht im normalen Fenster, also in der `OVER`-Clause hat, sondern in einer speziellen `WITHIN GROUP`-Clause. Das liegt daran, dass wir hier anders als bei der `OVER`-Clause nicht mehrere Sortierspalten angeben können sondern auf eine einzige Spalte zur Sortierung festgelegt sind, die auch gleichzeitig der Rückgabewert der Funktion ist. \r\n",
                "\r\n",
                "Nun könnt ihr auf der Zeile jeder Bestellung sehen, wann im Jahr der Bestellung 90% der Bestellungen eingegangen waren. In dieser Granularität ist das zwar in einer Applikation möglicherweise hilfreich, allerdings können wir diese Berechnung natürlich auch in einer CTE ausführen, deren Resultate wir dann zusammenfassen:"
            ],
            "metadata": {
                "azdata_cell_guid": "5c6c1d07-691b-492c-8b3c-1747db6b8a08"
            }
        },
        {
            "cell_type": "code",
            "source": [
                "WITH CTE_Percentile AS (\r\n",
                "    SELECT \r\n",
                "         InvoiceDate\r\n",
                "        ,CUME_DIST() OVER (PARTITION BY DATEPART(YEAR, InvoiceDate) ORDER BY InvoiceDate) as SalesDistribution\r\n",
                "        ,PERCENTILE_DISC(0.9) WITHIN GROUP (ORDER BY InvoiceDate) OVER (PARTITION BY DATEPART(YEAR, InvoiceDate)) as BreakevenPoint\r\n",
                "    FROM Sales.Invoices\r\n",
                ")\r\n",
                "SELECT DISTINCT \r\n",
                "     DATEPART(YEAR, InvoiceDate) as InvoiceYear\r\n",
                "    ,BreakevenPoint \r\n",
                "FROM CTE_Percentile"
            ],
            "metadata": {
                "azdata_cell_guid": "37a9e204-b35b-46d4-bf5c-9f454ec27589"
            },
            "outputs": [],
            "execution_count": 0
        },
        {
            "cell_type": "markdown",
            "source": [
                "Wichtig ist, zu beachten, dass `PERCENTILE_DISC` euch immer einen konkreten Wert zurückliefert, den es auch in eurer Tabelle gibt, das heißt hier wird nicht interpoliert oder so, sondern wirklich genau der Wert zurückgegeben, bei dem `CUME_DIST` erstmalig über dem gesuchten Quantil liegt. Deshalb auch der Name der Funktion: `PERCENTILE_DISC` berechnet auf der diskreten Menge der Zeilen genau den Wert, der die Bedingung erfüllt. \n",
                "## Referenzen\n",
                "- [Dokumentation von Microsoft](https://docs.microsoft.com/de-de/sql/t-sql/functions/percentile-disc-transact-sql?view=sql-server-ver15)"
            ],
            "metadata": {
                "azdata_cell_guid": "57c80cbc-5d98-4e96-b4d0-a5c1cf73f72b"
            }
        }
    ]
}