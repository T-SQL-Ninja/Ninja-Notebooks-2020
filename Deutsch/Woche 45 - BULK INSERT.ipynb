{
    "metadata": {
        "kernelspec": {
            "name": "SQL",
            "display_name": "SQL",
            "language": "sql"
        },
        "language_info": {
            "name": "sql",
            "version": ""
        }
    },
    "nbformat_minor": 2,
    "nbformat": 4,
    "cells": [
        {
            "cell_type": "markdown",
            "source": [
                "# Woche 45: BULK INSERT\r\n",
                "## Was ist ein BULK INSERT? \r\n",
                "Wenn ihr größere Datenmengen in eine Datenbank bekommen wollt, lautet die Wunderwaffe im SQL Server-Umfeld natürlich SQL Server Integration Services. Wenn ihr das für eine SQL Datenbank in der Cloud machen möchtet, habt ihr erstmal keine SSIS Engine verfügbar, dafür müsst ihr eine Azure Data Factory mit einer Integration Services Runtime verwenden. Doch wenn es nur darum geht, eine formatierte Datei in eine Tabelle zu laden, könnt ihr unter Umständen einen etwas \"einfacheren\" Weg gehen und die Daten über ein `BULK INSERT`-Statement in die Tabelle laden. \r\n",
                "## Wie könnt ihr BULK INSERT verwenden?\r\n",
                "Das `BULK INSERT` Kommando schreibt die Daten aus einer Datei in eine Tabelle, dabei arbeitet das Kommando automatisch in Batches, deren Größe sich konfigurieren lässt. Um Daten zu haben, die wir importieren können, exportieren wir uns die Daten einer Abfrage auf der WideWorldImporters-Datenbank in eine CSV-Datei. Dafür führen wir im Azure Data Studio folgende Abfrage aus:"
            ],
            "metadata": {
                "azdata_cell_guid": "ad7844f6-404d-49bc-9ec0-5e1d03828351"
            }
        },
        {
            "cell_type": "code",
            "source": [
                "SELECT \r\n",
                "     StockItemID\r\n",
                "    ,StockItemName\r\n",
                "    ,ColorName\r\n",
                "    ,RecommendedRetailPrice\r\n",
                "    ,TaxRate\r\n",
                "    ,UnitPrice\r\n",
                "    ,SupplierName\r\n",
                "    ,SupplierCategoryName\r\n",
                "FROM [Warehouse].[StockItems] si \r\n",
                "LEFT JOIN \r\n",
                "[Warehouse].[Colors] c\r\n",
                "ON si.ColorID = c.ColorID\r\n",
                "LEFT JOIN [Purchasing].[Suppliers] sup \r\n",
                "ON si.SupplierID = sup.SupplierID\r\n",
                "LEFT JOIN [Purchasing].[SupplierCategories] supc\r\n",
                "ON sup.SupplierCategoryID = supc.SupplierCategoryID"
            ],
            "metadata": {
                "azdata_cell_guid": "ccd11be2-ad89-4cc8-8d74-e8516e2546f0"
            },
            "outputs": [],
            "execution_count": 0
        },
        {
            "cell_type": "markdown",
            "source": [
                "Diese Daten exportieren wir nun als CSV. Das können wir sowohl im SQL Server Management Studio als auch im Azure Data Studio tun, indem wir die ganze Tabelle markieren und dann kopieren und in Excel einfügen, dort speichert ihr das Resultat dann als CSV. Einfacher wäre es zwar, im Azure Data Studio mit einem Rechtsklick auf die Tabelle und \"Save as CSV\" zu speichern, doch dann haben wir keine Kontrolle über Tausendertrennzeichen und Spaltentrenner, die wir aber gegebenenfalls anpassen müssen, denn auch im Jahr 2020 sind die Computer noch nicht so weit, dass Daten, die ihr aus einer Datenbank exportiert habt auch direkt wieder dort einfügen könnt.  \r\n",
                "\r\n",
                "Diese CSV-Datei möchten wir nun verwenden, um sie per `BULK INSERT` in eine neue Tabelle zu laden. Dafür müssen wir zunächst eine Tabelle anlegen. Vor einigen Wochen hattet ihr bereits das Pattern \"SELECT TOP 0 INTO\" kennengelernt, wir nun anwenden, um eine Tabelle zu erzeugen:"
            ],
            "metadata": {
                "azdata_cell_guid": "6e6e77c5-58fe-49d3-ba16-3333a0264002"
            }
        },
        {
            "cell_type": "code",
            "source": [
                "SELECT TOP 0 \r\n",
                "     StockItemID\r\n",
                "    ,StockItemName\r\n",
                "    ,ColorName\r\n",
                "    ,RecommendedRetailPrice\r\n",
                "    ,TaxRate\r\n",
                "    ,UnitPrice\r\n",
                "    ,SupplierName\r\n",
                "    ,SupplierCategoryName\r\n",
                "INTO Sales.SpecialItems\r\n",
                "FROM [Warehouse].[StockItems] si \r\n",
                "LEFT JOIN \r\n",
                "[Warehouse].[Colors] c\r\n",
                "ON si.ColorID = c.ColorID\r\n",
                "LEFT JOIN [Purchasing].[Suppliers] sup \r\n",
                "ON si.SupplierID = sup.SupplierID\r\n",
                "LEFT JOIN [Purchasing].[SupplierCategories] supc\r\n",
                "ON sup.SupplierCategoryID = supc.SupplierCategoryID"
            ],
            "metadata": {
                "azdata_cell_guid": "450a1aaf-abb0-469c-9b4f-d68ad786baa6"
            },
            "outputs": [],
            "execution_count": 0
        },
        {
            "cell_type": "markdown",
            "source": [
                "Jetzt könnt ihr mit `BULK INSERT` in diese leere Tabelle schreiben, ihr müsst dabei aber darauf achten, dass die Datei auf eurem Datenbankserver existiert, nicht auf eurem Client. Das bedeutet, ihr müsst sie entweder dorthin kopieren oder sie auf einem Netzwerk-Share ablegen oder falls ihr wie wir mit einem Docker Container arbeitet, in den Container kopieren:\r\n",
                "\r\n",
                "`docker cp WWI_Items.csv container_name:/tmp/`\r\n",
                "\r\n",
                "Wenn ihr die Datei nun sauber bereitgestellt habt (Komma als Trennzeichen für die Spalten, keine Tausendertrennzeichen und Punkt als Dezimaltrennzeichen), sowie alle `NULL`-Werte gelöscht habt (die Zeichenfolge \"NULL\" ist beim Import eben kein NULL-Wert), dann könnt ihr die Datei nun in eure Tabelle laden: "
            ],
            "metadata": {
                "azdata_cell_guid": "692e0f33-025e-4e7a-981b-2c12e49e9402"
            }
        },
        {
            "cell_type": "code",
            "source": [
                "BULK INSERT Sales.SpecialItems\r\n",
                "FROM '/tmp/WWI_Items.csv'\r\n",
                "WITH ( FORMAT='CSV');"
            ],
            "metadata": {
                "azdata_cell_guid": "5210caa0-e19c-48e5-9814-6ee49d781d2d"
            },
            "outputs": [],
            "execution_count": 0
        },
        {
            "cell_type": "markdown",
            "source": [
                "Im `WITH`-Block habt ihr noch weitere Möglichkeiten, steuernd einzugreifen, ihr könnt beispielsweise den Spaltentrenner setzen. \n",
                "\n",
                "Vorausgesetzt, eure CSV-Dateien sind sauber und entsprechen dem gewünschten Eingabeformat, habt ihr nun eine technisch einfache Möglichkeit, Daten aus einer CSV-Datei schnell in eine Tabelle eurer Datenbank zu laden. \n",
                "\n",
                "## Referenzen\n",
                "- [Dokumentation von Microsoft](https://docs.microsoft.com/de-de/sql/t-sql/statements/bulk-insert-transact-sql?view=sql-server-ver15)"
            ],
            "metadata": {
                "azdata_cell_guid": "76325f9f-f1ab-4b3f-889e-e36f7049b8d9"
            }
        }
    ]
}