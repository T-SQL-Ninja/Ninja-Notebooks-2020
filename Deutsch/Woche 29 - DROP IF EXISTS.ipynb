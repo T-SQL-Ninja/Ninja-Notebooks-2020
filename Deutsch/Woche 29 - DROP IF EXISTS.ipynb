{
    "metadata": {
        "kernelspec": {
            "name": "SQL",
            "display_name": "SQL",
            "language": "sql"
        },
        "language_info": {
            "name": "sql",
            "version": ""
        }
    },
    "nbformat_minor": 2,
    "nbformat": 4,
    "cells": [
        {
            "cell_type": "markdown",
            "source": [
                "# Woche 29: DROP IF EXISTS\r\n",
                "## Was ist DROP IF EXISTS?\r\n",
                "Ihr habt es in den vergangenen Monaten immer wieder gesehen und auch von der Syntax her ist die Funktionsweise von `DROP IF EXISTS` relativ eindeutig einzuordnen: Löschen eines Datenbankobjekts, wenn es denn existiert. Die Syntax dazu wurde im SQL Server 2016 eingeführt und erspart uns armen Ninjas einige eher unschöne Syntax-Klimmzüge der Vergangenheit.  \r\n",
                "## Wie könnt ihr mit DROP IF EXISTS arbeiten?\r\n",
                "Die Verwendung von `DROP IF EXISTS` ist denkbar einfach. Früher habt ihr Konstrukte gehabt, die über die `sys`-Tabellen oder die `OBJECT_ID`-Funktion geprüft haben, ob bestimmte Objekte existieren, heute verwendet ihr stattdessen `DROP IF EXISTS`. Sehen wir uns das einmal an. Zunächst erzeugen wir ein Datenbank-Objekt: "
            ],
            "metadata": {
                "azdata_cell_guid": "9bf854a4-eced-4681-9771-2c0257075354"
            }
        },
        {
            "cell_type": "code",
            "source": [
                "CREATE TABLE #Dojo \r\n",
                "(\r\n",
                "     NinjaId int NOT NULL IDENTITY(1,1)\r\n",
                "    ,NinjaName varchar(250)\r\n",
                ")"
            ],
            "metadata": {
                "azdata_cell_guid": "1dc4aedf-6757-4ae6-9ebd-0c2bf672b630"
            },
            "outputs": [],
            "execution_count": 0
        },
        {
            "cell_type": "markdown",
            "source": [
                "Versuchen wir nun, das Objekt nun mit einer veränderten Konfiguration noch einmal neu anzulegen: "
            ],
            "metadata": {
                "azdata_cell_guid": "3a103d50-cc51-4f23-894d-dcdf620e7919"
            }
        },
        {
            "cell_type": "code",
            "source": [
                "CREATE TABLE #Dojo \r\n",
                "(\r\n",
                "     NinjaId int NOT NULL IDENTITY(1,1)\r\n",
                "    ,NinjaName varchar(250)\r\n",
                "    ,Age int \r\n",
                ")"
            ],
            "metadata": {
                "azdata_cell_guid": "3f90d4ec-9b69-499d-bc94-1c5eb2b2f7b6"
            },
            "outputs": [],
            "execution_count": 0
        },
        {
            "cell_type": "markdown",
            "source": [
                "Natürlich schlägt dieser Versuch fehl, da die Objektnamen in der Datenbank eindeutig sein müssen und der SQL Server meldet uns \r\n",
                "\r\n",
                "`There is already an object named '#Dojo' in the database`. \r\n",
                "\r\n",
                "Bevor wir das Objekt anlegen müssen, müssen wir natürlich das alte Objekt löschen. \r\n",
                "\r\n",
                "Früher hätten wir vor dem `CREATE`-Statement geprüft, ob die Tabelle existiert. Ich habe das meistens gemacht, indem ich geprüft habe, ob die `OBJECT_ID`-Funktion einen Wert zurückliefert: "
            ],
            "metadata": {
                "azdata_cell_guid": "8735aa45-934f-4db2-b2c4-ca179bca382d"
            }
        },
        {
            "cell_type": "code",
            "source": [
                "IF OBJECT_ID('tempdb..#Dojo') IS NOT NULL DROP TABLE #Dojo;\r\n",
                "GO"
            ],
            "metadata": {
                "azdata_cell_guid": "89019e97-30a1-430b-9a71-5625128b64c1"
            },
            "outputs": [],
            "execution_count": 0
        },
        {
            "cell_type": "markdown",
            "source": [
                "Unschön an dieser Lösung war immer, dass wir für Temporäre Tabellen wie in unserem Fall \"tempdb\" ohne Schema (daher die zwei Punkte) abfragen mussten. Dennoch war dieser Weg natürlich zielführend, denn folgendes Statement führt dazu, dass wir eine #Dojo-Tabelle mit den gewünschten drei Spalten in der Datenbank vorfinden: "
            ],
            "metadata": {
                "azdata_cell_guid": "b21cbd6f-619a-42a7-8197-104016639e91"
            }
        },
        {
            "cell_type": "code",
            "source": [
                "IF OBJECT_ID('tempdb..#Dojo') IS NOT NULL DROP TABLE #Dojo;\r\n",
                "GO\r\n",
                "\r\n",
                "CREATE TABLE #Dojo \r\n",
                "(\r\n",
                "     NinjaId int NOT NULL IDENTITY(1,1)\r\n",
                "    ,NinjaName varchar(250)\r\n",
                ")\r\n",
                "\r\n",
                "IF OBJECT_ID('tempdb..#Dojo') IS NOT NULL DROP TABLE #Dojo;\r\n",
                "GO\r\n",
                "\r\n",
                "CREATE TABLE #Dojo \r\n",
                "(\r\n",
                "     NinjaId int NOT NULL IDENTITY(1,1)\r\n",
                "    ,NinjaName varchar(250)\r\n",
                "    ,Age int \r\n",
                ")"
            ],
            "metadata": {
                "azdata_cell_guid": "e2dca42e-4b16-4047-b7e0-5e78cab52e12"
            },
            "outputs": [],
            "execution_count": 0
        },
        {
            "cell_type": "markdown",
            "source": [
                "Statt die `OBJECT_ID`-Funktion zu verwenden, gab es auch die Möglichkeit, vorsorglich immer ein `DROP TABLE` auszuführen und den Fehler, der auftritt, wenn das Objekt nicht existiert einfach in einem `TRY CATCH`-Statement abzufangen und zu ignorieren: "
            ],
            "metadata": {
                "azdata_cell_guid": "5c00d0f0-b504-415b-936f-e227f490f781"
            }
        },
        {
            "cell_type": "code",
            "source": [
                "BEGIN TRY DROP TABLE #Dojo2 END TRY BEGIN CATCH END CATCH\r\n",
                "GO"
            ],
            "metadata": {
                "azdata_cell_guid": "ca1eef70-c9f0-4d0c-9a55-c37fbaffae46"
            },
            "outputs": [],
            "execution_count": 0
        },
        {
            "cell_type": "markdown",
            "source": [
                "Auch hier lässt sich die Funktionsweise bestätigen, denn nach dem Ausführen folgendes Statements ist wieder eine `#Dojo2`-Tabelle mit drei Spalten in der Datenbank: "
            ],
            "metadata": {
                "azdata_cell_guid": "3ce57930-292b-4de9-9fdb-1dcc01a130d6"
            }
        },
        {
            "cell_type": "code",
            "source": [
                "BEGIN TRY DROP TABLE #Dojo2 END TRY BEGIN CATCH END CATCH\r\n",
                "GO\r\n",
                "\r\n",
                "CREATE TABLE #Dojo2 \r\n",
                "(\r\n",
                "     NinjaId int NOT NULL IDENTITY(1,1)\r\n",
                "    ,NinjaName varchar(250)\r\n",
                ")\r\n",
                "\r\n",
                "BEGIN TRY DROP TABLE #Dojo2 END TRY BEGIN CATCH END CATCH\r\n",
                "GO\r\n",
                "\r\n",
                "CREATE TABLE #Dojo2 \r\n",
                "(\r\n",
                "     NinjaId int NOT NULL IDENTITY(1,1)\r\n",
                "    ,NinjaName varchar(250)\r\n",
                "    ,Age int \r\n",
                ")"
            ],
            "metadata": {
                "azdata_cell_guid": "7dd6a5f8-50bd-41aa-9a94-c50f238d9a6f"
            },
            "outputs": [],
            "execution_count": 0
        },
        {
            "cell_type": "markdown",
            "source": [
                "Beide Methoden funktionieren zwar nach wie vor – doch mit der neuen Syntax geht das alles viel Eleganter: "
            ],
            "metadata": {
                "azdata_cell_guid": "67bcf848-c2a9-4981-97c5-6a4fb2fc9cec"
            }
        },
        {
            "cell_type": "code",
            "source": [
                "DROP TABLE IF EXISTS #Dojo3;\r\n",
                "GO "
            ],
            "metadata": {
                "azdata_cell_guid": "c0ba94b8-c1e8-4916-82b8-f462c2badce6"
            },
            "outputs": [],
            "execution_count": 0
        },
        {
            "cell_type": "markdown",
            "source": [
                "Und auch hier können wir die Funktionsfähigkeit relativ einfach demonstrieren:"
            ],
            "metadata": {
                "azdata_cell_guid": "723cfe2a-d333-4d67-9c56-9bfd7f4346f8"
            }
        },
        {
            "cell_type": "code",
            "source": [
                "DROP TABLE IF EXISTS #Dojo3;\r\n",
                "GO \r\n",
                "\r\n",
                "CREATE TABLE #Dojo3 \r\n",
                "(\r\n",
                "     NinjaId int NOT NULL IDENTITY(1,1)\r\n",
                "    ,NinjaName varchar(250)\r\n",
                ")\r\n",
                "\r\n",
                "DROP TABLE IF EXISTS #Dojo3;\r\n",
                "GO\r\n",
                "\r\n",
                "CREATE TABLE #Dojo3 \r\n",
                "(\r\n",
                "     NinjaId int NOT NULL IDENTITY(1,1)\r\n",
                "    ,NinjaName varchar(250)\r\n",
                "    ,Age int \r\n",
                ")\r\n",
                "\r\n",
                "select * from #Dojo3"
            ],
            "metadata": {
                "azdata_cell_guid": "68dc4997-063d-4324-9d62-a8c67cf5ef2f"
            },
            "outputs": [],
            "execution_count": 0
        },
        {
            "cell_type": "markdown",
            "source": [
                "Natürlich gab es noch andere Wege, die Existenz von Objekten zu prüfen, indem man beispielsweise `sys`-Tabellen abfragt: "
            ],
            "metadata": {
                "azdata_cell_guid": "d57bf846-d0bf-44d6-8895-1febcf68ccf9"
            }
        },
        {
            "cell_type": "code",
            "source": [
                "SELECT name FROM tempdb.sys.objects WHERE name LIKE N'#Dojo[_]%';"
            ],
            "metadata": {
                "azdata_cell_guid": "da04f9ff-a4f8-4a97-8351-10b24557f19f"
            },
            "outputs": [],
            "execution_count": 0
        },
        {
            "cell_type": "markdown",
            "source": [
                "Beziehungsweise:"
            ],
            "metadata": {
                "azdata_cell_guid": "4d768c5f-31bc-4d2d-b171-0eca5cd81db9"
            }
        },
        {
            "cell_type": "code",
            "source": [
                "SELECT name FROM sys.objects WHERE name = N'DojoPerm';"
            ],
            "metadata": {
                "azdata_cell_guid": "eefb5c6f-4654-4055-a3ef-646422f2c491"
            },
            "outputs": [],
            "execution_count": 0
        },
        {
            "cell_type": "markdown",
            "source": [
                "Doch alle diese Konstrukte sind im Endeffekt nur Hilfsmittel, die wir verwenden, um zu sagen \"lösche das Objekt, wenn es existiert\" und da ist es doch schön, dass der SQL Server uns mittlerweile eine Syntax an die Hand gibt, um genau das auch wirklich zu sagen. \n",
                "\n",
                "## Referenzen\n",
                "- [Dokumentation von Microsoft](https://docs.microsoft.com/de-de/sql/t-sql/statements/drop-table-transact-sql?view=sql-server-ver15)"
            ],
            "metadata": {
                "azdata_cell_guid": "9a25456e-fc4d-4995-83a7-e68a45ca49e2"
            }
        }
    ]
}