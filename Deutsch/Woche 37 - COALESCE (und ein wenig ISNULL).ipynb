{
    "metadata": {
        "kernelspec": {
            "name": "SQL",
            "display_name": "SQL",
            "language": "sql"
        },
        "language_info": {
            "name": "sql",
            "version": ""
        }
    },
    "nbformat_minor": 2,
    "nbformat": 4,
    "cells": [
        {
            "cell_type": "markdown",
            "source": [
                "# Woche 37: COALESCE (und ein wenig ISNULL)\r\n",
                "## Was ist COALESCE eigentlich? \r\n",
                "Angenommen ihr habt in eurer Datenbank mehrere Spalten einer Tabelle, die alle `NULL`-Werte enthalten dürfen. Nun möchtet ihr den Wert der ersten Spalte, wenn dieser aber nicht vorhanden ist, dann den Wert der zweiten Spalte, wenn dieser nicht vorhanden ist, dann denn Wert der dritten Spalte und so weiter… Es gibt nun immer wieder Stimmen, die behaupten, dass `COALESCE` eigentlich wie `ISNULL` ist, nur eben anders als `ISNULL` dem ANSI-Standard entspricht. Doch es gibt noch weitere Unterschiede zwischen beiden Funktionen, die ihr heute kennenlernen sollt. \r\n",
                "## Wie unterscheidet sich COALESCE von ISNULL?\r\n",
                "Der Hauptunterschied zwischen `COALESCE` und ISNULL ist, dass ihr bei ISNULL den Rückgabewert schon von vorneherein kennt, er ist nämlich der Datentyp der Spalte, die ihr als erstes Argument übergebt. Sehen wir uns das im Beispiel an. Dafür erzeugen wir zunächst eine Tabelle mit einer Spalte in die wir einen NULL-Wert einfügen:"
            ],
            "metadata": {
                "azdata_cell_guid": "36bd4dbe-3a27-4ca9-8048-5d744bc82840"
            }
        },
        {
            "cell_type": "code",
            "source": [
                "DROP TABLE IF EXISTS #Ninja\r\n",
                "CREATE TABLE #Ninja \r\n",
                "(\r\n",
                "    NinjaHandle varchar(15) null\r\n",
                ")\r\n",
                "INSERT INTO #Ninja (NinjaHandle) \r\n",
                "VALUES (NULL)"
            ],
            "metadata": {
                "azdata_cell_guid": "4211b7cb-5171-4dd9-a9c3-9a776b655101"
            },
            "outputs": [],
            "execution_count": 0
        },
        {
            "cell_type": "markdown",
            "source": [
                "Nun arbeiten wir mit dieser `NULL`-Zeile. Ersetzen wir den `NULL`-Wert zunächst mittels `ISNULL`: "
            ],
            "metadata": {
                "azdata_cell_guid": "9b427776-45bf-49f6-8328-0c945fafd1fb"
            }
        },
        {
            "cell_type": "code",
            "source": [
                "SELECT \r\n",
                "    ISNULL(NinjaHandle, 'T-SQL Ninja') \r\n",
                "FROM #Ninja"
            ],
            "metadata": {
                "azdata_cell_guid": "53f66d9d-f58f-4138-8279-ae740e3813ea"
            },
            "outputs": [],
            "execution_count": 0
        },
        {
            "cell_type": "markdown",
            "source": [
                "Wie nicht anders zu erwarten steht in der Ergebnismenge der Wert \"T-SQL Ninja\". Doch nun modifizieren wir die Abfrage leicht: "
            ],
            "metadata": {
                "azdata_cell_guid": "3a7cf6b9-d284-4529-aaa8-c4930075799e"
            }
        },
        {
            "cell_type": "code",
            "source": [
                "SELECT \r\n",
                "    ISNULL(NinjaHandle, 'Brilliantly querying T-SQL Ninja') \r\n",
                "FROM #Ninja"
            ],
            "metadata": {
                "azdata_cell_guid": "30cce712-2298-475e-94ef-580451e65373"
            },
            "outputs": [],
            "execution_count": 0
        },
        {
            "cell_type": "markdown",
            "source": [
                "Nun erhalten wir zu unserer Überraschung nur noch den Wert \"Brilliantly que\". Warum ist das so? Weil `ISNULL` den einzufügenden Wert als Wert von NinjaHandle, also als varchar der Länge 15 zurückgibt. Ist unser String nun länger als 15 Zeichen, so schneidet `ISNULL` ab und gibt uns nur die  ersten 15 Zeichen zurück. \r\n",
                "\r\n",
                "Anders ist das, wenn wir `COALESCE` verwenden. Auch hier erhalten wir bei der ersten Abfrage den Wert \"T-SQL Ninja\" zurück:"
            ],
            "metadata": {
                "azdata_cell_guid": "616bc41c-c8ec-4b51-a9a7-bbb513920392"
            }
        },
        {
            "cell_type": "code",
            "source": [
                "SELECT \r\n",
                "    COALESCE(NinjaHandle, 'T-SQL Ninja')\r\n",
                "FROM #Ninja"
            ],
            "metadata": {
                "azdata_cell_guid": "d2cdbde0-b3a6-429f-8c6e-ba562edb079f"
            },
            "outputs": [],
            "execution_count": 0
        },
        {
            "cell_type": "markdown",
            "source": [
                "Anders ist das bei der zweiten Abfrage:"
            ],
            "metadata": {
                "azdata_cell_guid": "40e5a5df-d1d5-44ac-bc6c-ddfec2947ef5"
            }
        },
        {
            "cell_type": "code",
            "source": [
                "SELECT \r\n",
                "    COALESCE(NinjaHandle, 'Brilliantly querying T-SQL Ninja') \r\n",
                "FROM #Ninja"
            ],
            "metadata": {
                "azdata_cell_guid": "dd10ddc5-decf-4186-8b6b-e75474037e6f"
            },
            "outputs": [],
            "execution_count": 0
        },
        {
            "cell_type": "markdown",
            "source": [
                "Hier bekommen wir die vollständige Zeichenkette zurückgeliefert, unabhängig vom Typ von NinjaHandle. Das heißt, während `ISNULL` uns eine Typensicherheit garantiert, kann `COALESCE` das nur bedingt leisten. Das bedeutet, wenn eure Anwendung auf eine Typensicherheit in der Rückgabe angewiesen ist, dann seid ihr mit `ISNULL` immer auf der sicheren Seite, mit `COALESCE` kann euch hingegen auch eine böse Überraschung blühen. \r\n",
                "\r\n",
                "Sehen wir uns ein weiteres Beispiel an, das dieses Problem verdeutlicht. Dafür modifizieren wir zuerst die Ninja-Tabelle und fügen eine weitere Spalte hinzu:"
            ],
            "metadata": {
                "azdata_cell_guid": "88a17404-571f-41c2-866e-18d4af59ef79"
            }
        },
        {
            "cell_type": "code",
            "source": [
                "ALTER TABLE #Ninja \r\n",
                "ADD NinjaSkillLevel INT NULL"
            ],
            "metadata": {
                "azdata_cell_guid": "734fbe80-b859-43e6-b8f4-fabf34d7bed5"
            },
            "outputs": [],
            "execution_count": 0
        },
        {
            "cell_type": "markdown",
            "source": [
                "Nun möchten wir mit dieser Spalte rechnen und sie als Modifikator eines Wertes verwenden, dafür teilen wir den Wert durch 2 wenn kein NinjaSkillLevel vorhanden ist, sonst durch das Skill-Level. In SQL gegossen sehen die beiden Varianten, die wir haben um das zu tun wie folgt aus: "
            ],
            "metadata": {
                "azdata_cell_guid": "6cd88a52-946b-4fe8-80e8-05b01f2fb350"
            }
        },
        {
            "cell_type": "code",
            "source": [
                "SELECT\r\n",
                "     5/ISNULL(NinjaSkillLevel, 2.00)\r\n",
                "    ,5/COALESCE(NinjaSkillLevel, 2.00)\r\n",
                "FROM #Ninja"
            ],
            "metadata": {
                "azdata_cell_guid": "d910a4d9-f351-44b1-9162-96c9445c2bbc"
            },
            "outputs": [],
            "execution_count": 0
        },
        {
            "cell_type": "markdown",
            "source": [
                "Was nun geschieht ist, dass durch die Typensicherheit von `ISNULL`, die 2.00 als Integer-Wert 2 zurückgegeben wird, was zur Folge hat, dass die 5 durch die ganzzahlige 2 geteilt wird, hier liefert der SQL Server dann den ganzzahligen Wert zurück, also erhalten wir als Rückgabewert die 2. Im Fall von `COALESCE` hat die 2.00, die der Funktion übergeben wird aber eine höhere Genauigkeit als die Spalte NinjaSkillLevel, hier entscheidet sich der SQL Server also, den NinjaSkillLevel auf den Datentyp von 2.00 zu konvertieren, also eine implizite Konvertierung vorzunehmen. Dadurch teilen wir 5 durch eine Gleitkommazahl, was in einer Gleitkommazahl resultiert, wir erhalten hier also den korrekten Wert von 2.5 (mit einigen nachgestellten Nullen). Und tatsächlich finden wir auch im Ausführungsplan eine implizite Typenumwandlung:\n",
                "\n",
                "`<ScalarOperator ScalarString=\"(5.)/CASE WHEN [tempdb].[dbo].[#Ninja].[NinjaSkillLevel] IS NOT NULL THEN CONVERT_IMPLICIT(numeric(12,2),[tempdb].[dbo].[#Ninja].[NinjaSkillLevel],0) ELSE (2.00) END\">`\n",
                "\n",
                "Hier sehen wir zweierlei: einerseits, dass `COALESCE` intern in `CASE`-Statements umgewandelt wird, andererseits, dass der SQL Server implizit zum Datentypen `numeric(12,2)` umwandelt. \n",
                "\n",
                "Doch neben der Gefahr eines unerwarteten Rückgabetypen hat die `COALESCE`-Funktion natürlich auch Vorteile. Einer der Vorteile ist, dass man ihr auch mehrere Spalten übergeben kann, so lange diese Typenkompatibel sind. Ein weiterer Vorteil ist, dass es auch möglich ist, wenn alle Spalten `NULL`-Werte enthalten, einen `NULL`-Wert zurück zu geben. Ein Seiteneffekt dieser Tatsache ist, dass wenn ihr eine abgeleitete Spalte mit `ISNULL` definiert, diese Spalte als Primärschlüssel verwendet werden kann, da `ISNULL` nicht NULL sein kann und der Rückgabewert für den SQL Server als Primärschlüssel in Frage kommt. Anders ist das bei `COALESCE`, der Rückgabewert hier kann theoretisch `NULL` sein, auch wenn ihr das mit einem konstanten Wert als letztem Argument faktisch unterbinden könnt. Deshalb schlägt der Versuch fehl, einen Primärschlüssel auf einer mit `COALESCE` abgeleiteten Spalte zu definieren. \n",
                "\n",
                "Ihr solltet aus dem heutigen Dojo nicht die Nachricht mitnehmen, dass `COALESCE` nicht typensicher und damit böse ist. Vielmehr solltet ihr euch im Klaren darüber sein, dass hier unerwartete Datentypen zurückgegeben werden können und gegebenenfalls in euren Anwendungen darauf reagieren. Besser als die Funktion zu vermeiden ist es, die Funktion zu verstehen und sich ihre Eigenheiten gegebenenfalls zunutze zu machen.\n",
                "\n",
                "## Referenzen\n",
                "- [Dokumentation von Microsoft](https://docs.microsoft.com/de-de/sql/t-sql/language-elements/coalesce-transact-sql?view=sql-server-ver15)\n",
                ""
            ],
            "metadata": {
                "azdata_cell_guid": "933b4219-f9e9-456f-8cc7-9fe65788f1d0"
            }
        }
    ]
}