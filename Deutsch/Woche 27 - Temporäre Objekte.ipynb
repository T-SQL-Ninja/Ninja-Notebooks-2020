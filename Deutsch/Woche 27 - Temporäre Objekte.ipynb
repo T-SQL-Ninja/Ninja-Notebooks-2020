{
    "metadata": {
        "kernelspec": {
            "name": "SQL",
            "display_name": "SQL",
            "language": "sql"
        },
        "language_info": {
            "name": "sql",
            "version": ""
        }
    },
    "nbformat_minor": 2,
    "nbformat": 4,
    "cells": [
        {
            "cell_type": "markdown",
            "source": [
                "# Woche 27: Temporäre Objekte\r\n",
                "## Was sind temporäre Objekte? \r\n",
                "Grundsätzlich ermöglicht euch der SQL Server das Anlegen temporärer Objekte, mit denen ihr arbeiten könnt. Das ist praktisch, da ihr nicht unbedingt jedes Zwischenergebnis oder jede Hilfstabelle in eurer Datenbank persistieren möchtet, wenn ihr mit größeren Datenmengen arbeitet. Temporär bedeutet dabei, dass die Tabellen in der `tempdb` gespeichert werden und automatisch gelöscht werden. Wann sie gelöscht werden, ist unterschiedlich, das möchten wir uns gleich noch genauer ansehen. Es gibt aber nicht nur die Möglichkeit, Tabellen temporär anzulegen, das funktioniert auch mit Prozeduren.  \r\n",
                "## Wie könnt ihr mit temporären Objekten arbeiten?\r\n",
                "Grundsätzlich gibt es zwei Arten von temporären Objekten im SQL Server: lokale und globale temporäre Objekte. Ihr könnt temporäre Objekte daran erkennen, dass ihre Namen mit einer Raute (#) beginnen. Ob ein Objekt lokal oder global ist, erkennt ihr daran, ob es eine oder zwei Rauten vorangestellt hat. Sehen wir uns einmal die Unterschiede zwischen beiden Objekten an. Dafür erzeugen wir zunächst eine lokale temporäre Tabelle:"
            ],
            "metadata": {
                "azdata_cell_guid": "cef1e58d-89fc-4c8c-bea8-0537a53edd1c"
            }
        },
        {
            "cell_type": "code",
            "source": [
                "DROP TABLE IF EXISTS #temporary\r\n",
                "CREATE TABLE #temporary\r\n",
                "(\r\n",
                "     ID int IDENTITY(1,1)\r\n",
                "    ,Ninja varchar(150)\r\n",
                ")"
            ],
            "metadata": {
                "azdata_cell_guid": "ad6479de-6274-479d-83a6-f5a296215aac"
            },
            "outputs": [],
            "execution_count": 0
        },
        {
            "cell_type": "markdown",
            "source": [
                "Nun können wir in diese Tabelle einfügen und abfragen. "
            ],
            "metadata": {
                "azdata_cell_guid": "d82758de-2362-41c1-93fe-d10bac77fb96"
            }
        },
        {
            "cell_type": "code",
            "source": [
                "INSERT INTO #temporary (Ninja) \r\n",
                "VALUES ('Lushikute'), ('Chimozuki')\r\n",
                "\r\n",
                "SELECT \r\n",
                "     ID\r\n",
                "    ,Ninja \r\n",
                "FROM #temporary"
            ],
            "metadata": {
                "azdata_cell_guid": "150e6eed-0ec7-48fc-8a01-2de81179ad02"
            },
            "outputs": [],
            "execution_count": 0
        },
        {
            "cell_type": "markdown",
            "source": [
                "Wir können die Tabelle sogar indizieren:"
            ],
            "metadata": {
                "azdata_cell_guid": "8b52b1fb-703f-4745-83f9-a0eb0505bb20"
            }
        },
        {
            "cell_type": "code",
            "source": [
                "CREATE CLUSTERED INDEX ix_ninjaids\r\n",
                "ON #temporary (ID)"
            ],
            "metadata": {
                "azdata_cell_guid": "ef446acb-485d-45cc-a066-cba568a88428"
            },
            "outputs": [],
            "execution_count": 0
        },
        {
            "cell_type": "markdown",
            "source": [
                "Um den Unterschied zwischen lokalen und globalen temporären Objekten zu verstehen, öffnet ihr jetzt im Azure Data Studio oder im SQL Server Management Studio eine neue Abfrage auf die Datenbank. Wenn ihr im so entstandenen neuen Abfrage-Tab nun versucht, die temporäre Tabelle abzufragen, so bekommt ihr die Meldung, dass sie nicht existiert.\r\n",
                " \r\n",
                "Tun wir nun also dasselbe mit einer globalen temporären Tabelle: "
            ],
            "metadata": {
                "azdata_cell_guid": "636808aa-e73d-40c9-a222-d86ede74b414"
            }
        },
        {
            "cell_type": "code",
            "source": [
                "DROP TABLE IF EXISTS ##temporary\r\n",
                "CREATE TABLE ##temporary\r\n",
                "(\r\n",
                "     ID int IDENTITY(1,1)\r\n",
                "    ,Ninja varchar(150)\r\n",
                ")\r\n",
                "\r\n",
                "INSERT INTO ##temporary (Ninja) \r\n",
                "VALUES ('Lushikute'), ('Chimozuki')\r\n",
                "\r\n",
                "SELECT \r\n",
                "     ID\r\n",
                "    ,Ninja \r\n",
                "FROM ##temporary"
            ],
            "metadata": {
                "azdata_cell_guid": "9a57b7f9-85e8-417c-9602-105320aac0bb"
            },
            "outputs": [],
            "execution_count": 0
        },
        {
            "cell_type": "markdown",
            "source": [
                "Wenig überraschend erhalten wir bis zu dieser Stelle dasselbe Resultat, wie als wir eine lokale temporäre Tabelle verwenden hatten. Fragt ihr nun im zweiten Tab die globale temporäre Tabelle ab, so erhaltet ihr Resultate: "
            ],
            "metadata": {
                "azdata_cell_guid": "0eaf8e30-0333-4182-b876-6021b6c35873"
            }
        },
        {
            "cell_type": "code",
            "source": [
                "SELECT \r\n",
                "     ID\r\n",
                "    ,Ninja \r\n",
                "FROM ##temporary"
            ],
            "metadata": {
                "azdata_cell_guid": "14f4a8fb-7ff9-433d-8e70-4a2c2a6da11a"
            },
            "outputs": [],
            "execution_count": 0
        },
        {
            "cell_type": "markdown",
            "source": [
                "Ihr habt gesehen, auf ein lokales temporäres Objekt könnt ihr nur innerhalb der Session zugreifen, in der ihr es erzeugt hattet, auf ein globales temporäres Objekt aber auch in anderen Sessions. \r\n",
                "\r\n",
                "Und wie lange \"leben\" die temporären Objekte? Das kommt darauf an. Ein lokales temporäres Objekt wird mit eurer Session beendet. Das bedeutet, wenn in eurem Programmcode, ETL-Paket, SSMS oder Data Studio die Verbindung geschlossen wird, in der das temporäre Objekt erzeugt wurde, dann ist dieses Objekt auch nicht mehr verfügbar. Anders ist das bei globalen Objekten: so lange eine Session existiert, die das Objekt nutzt, wird es am Leben gehalten, wenn die letzte Session beendet wird, in der das Objekt verwendet wurde, dann wird auch hier das Objekt gelöscht und ist unwiederbringlich verloren. \r\n",
                "\r\n",
                "Nun haben wir die ganze Zeit mit temporären Tabellen hantiert, aber von Objekten gesprochen, legen wir also zum Schluss für diese Woche noch eine temporäre Prozedur an:"
            ],
            "metadata": {
                "azdata_cell_guid": "db73cd8d-5a02-46ee-9ab0-1e2e0cb70086"
            }
        },
        {
            "cell_type": "code",
            "source": [
                "DROP PROCEDURE IF EXISTS #sp_temp\r\n",
                "GO\r\n",
                "\r\n",
                "CREATE PROCEDURE #sp_temp AS\r\n",
                "    SET NOCOUNT ON;  \r\n",
                "    SELECT DB_NAME() AS ThisDB; \r\n",
                "GO"
            ],
            "metadata": {
                "azdata_cell_guid": "babeb0a4-27fd-4460-9da6-1d082fbc12cb"
            },
            "outputs": [],
            "execution_count": 0
        },
        {
            "cell_type": "markdown",
            "source": [
                "Auch hier gilt, dass ihr die Prozedur innerhalb derselben Session wie jede andere Prozedur verwenden könnt:"
            ],
            "metadata": {
                "azdata_cell_guid": "829d6c54-bba8-4c44-8519-6df0b9d9523c"
            }
        },
        {
            "cell_type": "code",
            "source": [
                "EXEC #sp_temp"
            ],
            "metadata": {
                "azdata_cell_guid": "e46d2206-802f-42ee-b44a-5b386f2cb937"
            },
            "outputs": [],
            "execution_count": 0
        },
        {
            "cell_type": "markdown",
            "source": [
                "Aus einer anderen Session schlägt dieser Aufruf aber wieder fehlt, da das Objekt dem SQL Server nicht bekannt ist: \r\n",
                "\r\n",
                "`Could not find stored procedure '#sp_temp'.`\r\n",
                "\r\n",
                "Legt ihr die Prozedur aber als globales temporäres Objekt an, so wird auch sie in der zweiten Session gefunden: "
            ],
            "metadata": {
                "azdata_cell_guid": "4e15bb29-b8c4-4258-94eb-480caa80f340"
            }
        },
        {
            "cell_type": "code",
            "source": [
                "DROP PROCEDURE IF EXISTS ##sp_temp\r\n",
                "GO\r\n",
                "\r\n",
                "CREATE PROCEDURE ##sp_temp AS\r\n",
                "    SET NOCOUNT ON;  \r\n",
                "    SELECT DB_NAME() AS ThisDB; \r\n",
                "GO\r\n",
                "\r\n",
                "EXEC ##sp_temp"
            ],
            "metadata": {
                "azdata_cell_guid": "bfdf2648-b92f-4cfd-932b-23dc5f2c686c"
            },
            "outputs": [],
            "execution_count": 0
        },
        {
            "cell_type": "markdown",
            "source": [
                "Diese könnt ihr nun auch in einer zweiten Session ausführen:"
            ],
            "metadata": {
                "azdata_cell_guid": "e14b656d-e850-4771-bd8e-347c57d4d069"
            }
        },
        {
            "cell_type": "code",
            "source": [
                "EXEC ##sp_temp"
            ],
            "metadata": {
                "azdata_cell_guid": "3f41ae14-7bb2-4e4a-bb2b-29eadb2a5075"
            },
            "outputs": [],
            "execution_count": 0
        },
        {
            "cell_type": "markdown",
            "source": [
                "Temporäre Objekte können hilfreich sein, um Zwischenergebnisse bei größeren Prozessen zu speichern oder um Prozeduren einzusetzen, die ihr nicht außerhalb eines Prozesses weiterverwenden möchtet. Es gilt dabei natürlich den Scope des Objekts zu beachten und zu unterscheiden, ob das Objekt auch außerhalb der Session verfügbar ist. \n",
                "\n",
                "## Referenzen\n",
                "- [Dokumentation von Microsoft zu temporären Tabellen](https://docs.microsoft.com/en-us/sql/relational-databases/tables/tables?view=sql-server-ver15)\n",
                "- [Dokumentation von Microsoft zu temporären Prozeduren](https://docs.microsoft.com/en-us/sql/t-sql/statements/create-procedure-transact-sql?view=sql-server-ver15)"
            ],
            "metadata": {
                "azdata_cell_guid": "f16a6a47-923f-4eb8-b219-8634bf506fe0"
            }
        }
    ]
}