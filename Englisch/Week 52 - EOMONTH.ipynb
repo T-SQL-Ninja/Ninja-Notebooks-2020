{
    "metadata": {
        "kernelspec": {
            "name": "SQL",
            "display_name": "SQL",
            "language": "sql"
        },
        "language_info": {
            "name": "sql",
            "version": ""
        }
    },
    "nbformat_minor": 2,
    "nbformat": 4,
    "cells": [
        {
            "cell_type": "markdown",
            "source": [
                "# Week 52: EOMONTH\r\n",
                "## What is EOMONTH?\r\n",
                "Date manipulations are always associated with pain for the inclined Ninja, as we have already noticed several times during the year. Therefore, there are numerous functions that can help. `EOMONTH` also belongs in this category and calculates the end of the respective month for a given date.  \r\n",
                "## How can you work with EOMONTH?\r\n",
                "Let's start by calculating the end of the current month. You do that as follows:"
            ],
            "metadata": {
                "azdata_cell_guid": "d0c16d31-de23-4ffe-bc4a-bb1d66988db0"
            }
        },
        {
            "cell_type": "code",
            "source": [
                "SELECT EOMONTH(GETDATE())"
            ],
            "metadata": {
                "azdata_cell_guid": "77ee6840-8637-4542-9d2f-631c6d0d13bf"
            },
            "outputs": [],
            "execution_count": 0
        },
        {
            "cell_type": "markdown",
            "source": [
                "With that we could end a Lightning ninja here and leave you for this year, but we would rather do a little more research on `EOMONTH` and give some practical examples of its use. \r\n",
                "\r\n",
                "The first of the following month you'll find out the following month consequently:"
            ],
            "metadata": {
                "azdata_cell_guid": "4b9f0b3e-d878-4b28-bbc5-884709e0c8f1"
            }
        },
        {
            "cell_type": "code",
            "source": [
                "SELECT DATEADD(DAY, 1, EOMONTH(GETDATE()))"
            ],
            "metadata": {
                "azdata_cell_guid": "f4ccfb2d-24c0-4df7-87ec-355eeab6d94d"
            },
            "outputs": [],
            "execution_count": 0
        },
        {
            "cell_type": "markdown",
            "source": [
                "And the first of this month then logically so:"
            ],
            "metadata": {
                "azdata_cell_guid": "7ebbf297-1b83-46bd-9b83-b3ada7586cf4"
            }
        },
        {
            "cell_type": "code",
            "source": [
                "SELECT DATEADD(DAY, 1, EOMONTH(DATEADD(MONTH, -1, GETDATE())))"
            ],
            "metadata": {
                "azdata_cell_guid": "9283731f-c18d-4fc3-9026-4330748f7dff"
            },
            "outputs": [],
            "execution_count": 0
        },
        {
            "cell_type": "markdown",
            "source": [
                "Of course you can also check that it also works in leap years:"
            ],
            "metadata": {
                "azdata_cell_guid": "ee1a1140-dc67-4102-8ec3-63043a867949"
            }
        },
        {
            "cell_type": "code",
            "source": [
                "SELECT EOMONTH('2020-02-02')"
            ],
            "metadata": {
                "azdata_cell_guid": "217d9ec3-b759-4d4d-ada3-66bcf9850847"
            },
            "outputs": [],
            "execution_count": 0
        },
        {
            "cell_type": "markdown",
            "source": [
                "You can determine all firsts of the last 12 months as follows:"
            ],
            "metadata": {
                "azdata_cell_guid": "028bd433-87be-4995-9b41-acdb05e4a556"
            }
        },
        {
            "cell_type": "code",
            "source": [
                "SELECT \r\n",
                "     DATENAME(\r\n",
                "          WEEKDAY\r\n",
                "         ,DATEADD(DAY, 1, EOMONTH(DATEADD(MONTH, -m, GETDATE()))))\r\n",
                "    ,DATENAME(\r\n",
                "         MONTH\r\n",
                "        ,DATEADD(DAY, 1, EOMONTH(DATEADD(MONTH, -m, GETDATE()))))\r\n",
                "FROM (\r\n",
                "    VALUES \r\n",
                "         (1)\r\n",
                "        ,(2)\r\n",
                "        ,(3)\r\n",
                "        ,(4)\r\n",
                "        ,(5)\r\n",
                "        ,(6)\r\n",
                "        ,(7)\r\n",
                "        ,(8)\r\n",
                "        ,(9)\r\n",
                "        ,(10)\r\n",
                "        ,(11)\r\n",
                "        ,(12)\r\n",
                "    ) AS t(m)"
            ],
            "metadata": {
                "azdata_cell_guid": "07e7fc42-6da2-4473-b07f-f316dc42a581"
            },
            "outputs": [],
            "execution_count": 0
        },
        {
            "cell_type": "markdown",
            "source": [
                "You can also shorten this by using the second argument of `EOMONTH`, which specifies how many months you want to move away from the given date:"
            ],
            "metadata": {
                "azdata_cell_guid": "13a354d5-8828-4b03-9dda-c96766e5b29d"
            }
        },
        {
            "cell_type": "code",
            "source": [
                "SELECT \r\n",
                "     DATENAME(\r\n",
                "          WEEKDAY\r\n",
                "         ,DATEADD(DAY, 1, EOMONTH(GETDATE(), -m)))\r\n",
                "    ,DATENAME(\r\n",
                "         MONTH\r\n",
                "        ,DATEADD(DAY, 1, EOMONTH(GETDATE(), -m)))\r\n",
                "FROM (\r\n",
                "    VALUES \r\n",
                "         (1)\r\n",
                "        ,(2)\r\n",
                "        ,(3)\r\n",
                "        ,(4)\r\n",
                "        ,(5)\r\n",
                "        ,(6)\r\n",
                "        ,(7)\r\n",
                "        ,(8)\r\n",
                "        ,(9)\r\n",
                "        ,(10)\r\n",
                "        ,(11)\r\n",
                "        ,(12)\r\n",
                "    ) AS t(m)"
            ],
            "metadata": {
                "azdata_cell_guid": "239153aa-493e-4d28-ae9d-f54ff475d960"
            },
            "outputs": [],
            "execution_count": 0
        },
        {
            "cell_type": "markdown",
            "source": [
                "That means here you have even included a rudimentary date arithmetic. All in all, `EOMONTH` makes your life much easier, especially when it comes to calculating deadlines. In this sense we wish you a nice"
            ],
            "metadata": {
                "azdata_cell_guid": "f295b661-6be1-4115-963b-25df77b795ea"
            }
        },
        {
            "cell_type": "code",
            "source": [
                "SELECT EOMONTH(GETDATE())"
            ],
            "metadata": {
                "azdata_cell_guid": "fca0a21d-df12-4e7f-9cce-f55bc387a7af"
            },
            "outputs": [],
            "execution_count": 0
        },
        {
            "cell_type": "markdown",
            "source": [
                "A happy New Year on the "
            ],
            "metadata": {
                "azdata_cell_guid": "404076f9-32c0-4bf6-ad23-601de1e9a840"
            }
        },
        {
            "cell_type": "code",
            "source": [
                "SELECT DATEADD(DAY, 1, EOMONTH(GETDATE()))"
            ],
            "metadata": {
                "azdata_cell_guid": "e72829d8-c1c2-48fe-9ffc-813a7ee6b6c9"
            },
            "outputs": [],
            "execution_count": 0
        },
        {
            "cell_type": "markdown",
            "source": [
                "And thanks for following the ninja through 2020. \n",
                "\n",
                "## References\n",
                "- [Documentation from Microsoft](https://docs.microsoft.com/de-de/sql/t-sql/functions/eomonth-transact-sql?view=sql-server-ver15)\n",
                ""
            ],
            "metadata": {
                "azdata_cell_guid": "f1852eff-3995-4440-bb20-4ecfd64a6608"
            }
        }
    ]
}