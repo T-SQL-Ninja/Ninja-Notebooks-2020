{
    "metadata": {
        "kernelspec": {
            "name": "SQL",
            "display_name": "SQL",
            "language": "sql"
        },
        "language_info": {
            "name": "sql",
            "version": ""
        }
    },
    "nbformat_minor": 2,
    "nbformat": 4,
    "cells": [
        {
            "cell_type": "markdown",
            "source": [
                "# Week 44: MAXDOP\r\n",
                "## What's MAXDOP? \r\n",
                "You've probably noticed when viewing execution plans in SQL Server that there are often two small arrows on a yellow background (in SQL Server Management Studio) and the operation \"Parallelism (Gather Streams)\". What this means, simply put, is that at some points SQL Server decides to execute certain operations in parallel in multiple threads. You can control how many processors SQL Server can use for this by using the `MAXDOP` query hint. `MAXDOP` stands for \"Max Degree Of Parallelism\". \r\n",
                "## How can you set the MAXDOP?\r\n",
                "The `MAXDOP` is a query hint, and as with all query hints, be careful here, as you are overriding the behavior that either the relational database engine developers or your database administrator have provided. And if you do so, you should at least have a good reason for doing so. \r\n",
                "\r\n",
                "So much for the warning, but now for setting the `MAXDOP`. In general, there are fixed values for `MAXDOP` for the server or database during setup, these can be quite different, but the value for the database will then overwrite the value for the server. Both values can be overwritten by the query. To do this, add an `OPTION (MAXDOP x)` with an integer value x at the end of your query. Special features include the value 0, which explicitly tells the query to use as many cores as available, and the value 1, which tells the query to use only one core, thus explicitly disabling parallelization. \r\n",
                "\r\n",
                "Let us now take a query that causes parallelization. To do this, we query the `OrderLines` table in the `WideWorldImporters` database in the `Sales` schema and get the query plan for the query:"
            ],
            "metadata": {
                "azdata_cell_guid": "8f4f6e80-6c25-4b11-81b3-c28b0ae49058"
            }
        },
        {
            "cell_type": "code",
            "source": [
                "SET SHOWPLAN_XML ON;\r\n",
                "GO\r\n",
                "\r\n",
                "SELECT\r\n",
                "     [OrderLineID]\r\n",
                "    ,[OrderID]\r\n",
                "    ,[StockItemID]\r\n",
                "    ,[Description]\r\n",
                "    ,[PackageTypeID]\r\n",
                "    ,[Quantity]\r\n",
                "    ,[UnitPrice]\r\n",
                "    ,[TaxRate]\r\n",
                "    ,[PickedQuantity]\r\n",
                "    ,[PickingCompletedWhen]\r\n",
                "    ,[LastEditedBy]\r\n",
                "    ,[LastEditedWhen]\r\n",
                "FROM [Sales].[OrderLines]"
            ],
            "metadata": {
                "azdata_cell_guid": "5cd3513c-36e2-4a01-ae6c-e9d7aa9f313a"
            },
            "outputs": [],
            "execution_count": 0
        },
        {
            "cell_type": "markdown",
            "source": [
                "Here you see only a scan of the clustered index, which is quite correct, since the whole table is queried here. Let's now adjust the query so that we see parallelized operations. Therefore we sort the query by a column that is not leading in the clustered index:"
            ],
            "metadata": {
                "azdata_cell_guid": "6309b1a2-c9cc-4390-a3ca-a96ffa1d9b81"
            }
        },
        {
            "cell_type": "code",
            "source": [
                "SELECT\r\n",
                "     [OrderLineID]\r\n",
                "    ,[OrderID]\r\n",
                "    ,[StockItemID]\r\n",
                "    ,[Description]\r\n",
                "    ,[PackageTypeID]\r\n",
                "    ,[Quantity]\r\n",
                "    ,[UnitPrice]\r\n",
                "    ,[TaxRate]\r\n",
                "    ,[PickedQuantity]\r\n",
                "    ,[PickingCompletedWhen]\r\n",
                "    ,[LastEditedBy]\r\n",
                "    ,[LastEditedWhen]\r\n",
                "FROM [Sales].[OrderLines]\r\n",
                "ORDER BY [StockItemID]"
            ],
            "metadata": {
                "azdata_cell_guid": "fa10c27e-9c4c-4bd8-9905-ca82b253f8bc"
            },
            "outputs": [],
            "execution_count": 0
        },
        {
            "cell_type": "markdown",
            "source": [
                "Now you can see the scan in parallel execution in the execution plan (if your database is not configured to not allow parallelism), which you can recognize by the yellow circle with the little arrows at the operation (in SSMS) or by the green arrow (in Azure Data Studio). In addition, two more operations have been added to the execution plan: a sort operation (logical, since we want to sort the result set) and a \"Parallelism (Gather Streams)\" operation where the results of the various operations executed in parallel are merged back into the result set. You will also see an attribute \"EstimatedAvailableDegreeOfParallelism\" in the execution plan XML, which tells you what the Query Optimizer estimates how many parallel processes can be used. \r\n",
                "\r\n",
                "Now let's try to change the behavior and prevent parallel execution by setting the `MAXDOP` to 1:"
            ],
            "metadata": {
                "azdata_cell_guid": "769e8888-32b1-4e57-8770-67dd100d6ee6"
            }
        },
        {
            "cell_type": "code",
            "source": [
                "SELECT\r\n",
                "     [OrderLineID]\r\n",
                "    ,[OrderID]\r\n",
                "    ,[StockItemID]\r\n",
                "    ,[Description]\r\n",
                "    ,[PackageTypeID]\r\n",
                "    ,[Quantity]\r\n",
                "    ,[UnitPrice]\r\n",
                "    ,[TaxRate]\r\n",
                "    ,[PickedQuantity]\r\n",
                "    ,[PickingCompletedWhen]\r\n",
                "    ,[LastEditedBy]\r\n",
                "    ,[LastEditedWhen]\r\n",
                "FROM [Sales].[OrderLines]\r\n",
                "ORDER BY [StockItemID]\r\n",
                "OPTION (MAXDOP 1)"
            ],
            "metadata": {
                "azdata_cell_guid": "2848ef49-a79a-40cf-b73d-956ff39c6af1"
            },
            "outputs": [],
            "execution_count": 0
        },
        {
            "cell_type": "markdown",
            "source": [
                "In the execution plan, you will no longer see arrows on the scan of the clustered index and no more parallelism operation. The query is no longer executed in parallel. You can also see in the source code of the plan that the EstimatedAvailableDegreeOfParallelism is now set to 1. \n",
                "So you can influence the behaviour of your server with the `MAXDOP` query hint and control whether certain queries are processed in parallel on multiple processors. Overall, of course, this increases CPU costs, as parallelization causes overhead, but overall, execution time often decreases as these higher costs are processed in multiple threads simultaneously. As mentioned at the beginning, you should be careful when using such hints, because usually both the SQL Server developers and the system administrators have thought of something when setting the parameters, but you have the possibility to make especially resource-hungry queries that require many CPU operations and run at times when other processes are also active on the server a bit more \"friendly\" by preventing them from blocking all processor cores that are available. Or make them run as fast as possible by grabbing all resources that are available. The choice is yours. \n",
                "## References\n",
                "- [Documentation from Microsoft](https://docs.microsoft.com/de-de/sql/t-sql/queries/hints-transact-sql-query?view=sql-server-ver15)\n",
                ""
            ],
            "metadata": {
                "azdata_cell_guid": "9a016a54-09bc-43bd-a668-204aaeb8dda2"
            }
        }
    ]
}