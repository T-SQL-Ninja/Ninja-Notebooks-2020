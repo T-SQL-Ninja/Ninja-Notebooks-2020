{
    "metadata": {
        "kernelspec": {
            "name": "SQL",
            "display_name": "SQL",
            "language": "sql"
        },
        "language_info": {
            "name": "sql",
            "version": ""
        }
    },
    "nbformat_minor": 2,
    "nbformat": 4,
    "cells": [
        {
            "cell_type": "markdown",
            "source": [
                "# Week 38: CONCAT and CONCAT_WS\r\n",
                "## What do CONCAT and CONCAT_WS do?\r\n",
                "The `CONCAT` function is a function from the field of string manipulation. Similar to what you already know from `STUFF` and `STRING_AGG`, these functions link strings together. Unlike `STRING_AGG` and `STUFF` in combination with `SELECT FOR XML`, however, `CONCAT` and `CONCAT_WS` do not aggregate rows, i.e. the entries to be combined must already be in columns. \r\n",
                "\r\n",
                "## How to use CONCAT and CONCAT_WS\r\n",
                "Let's first look at the difference between `STRING_AGG` and `CONCAT`, but first remember the query we used to demonstrate `STRING_AGG` on the WideWorldImporters database:"
            ],
            "metadata": {
                "azdata_cell_guid": "d3be0740-78c3-455b-af94-d4e4c0b727d1"
            }
        },
        {
            "cell_type": "code",
            "source": [
                "SELECT \r\n",
                "    STRING_AGG(TransactionTypeName, ',')\r\n",
                "FROM [Application].[TransactionTypes]"
            ],
            "metadata": {
                "azdata_cell_guid": "e84bc5fe-0fd2-422e-8f14-5c4198a4cb6f"
            },
            "outputs": [],
            "execution_count": 0
        },
        {
            "cell_type": "markdown",
            "source": [
                "This query returns a string containing the comma-separated values of the TransactionTypeName column.  Now let us naively execute the same query with `CONCAT` instead of `STRING_AGG`:"
            ],
            "metadata": {
                "azdata_cell_guid": "0839a24a-b406-467e-9642-78c7771d7cb1"
            }
        },
        {
            "cell_type": "code",
            "source": [
                "SELECT \r\n",
                "    CONCAT(TransactionTypeName, ',')\r\n",
                "FROM [Application].[TransactionTypes]"
            ],
            "metadata": {
                "azdata_cell_guid": "c20ab939-89dc-4a06-a606-da809c1f5298"
            },
            "outputs": [],
            "execution_count": 0
        },
        {
            "cell_type": "markdown",
            "source": [
                "Here, we simply get each transaction type in the result set with a trailing comma, so the string in the `TransactionTypeName` column was linked to the string containing only a comma. An aggregation like `STRING_AGG`, however, was not performed. So if we want to generate a list like `STRING_AGG`, we first have to bring the rows to columns of the result set. We could do this quite easily with the `PIVOT` command, but here we want to limit the syntax to as simple elements as possible, which we already dealt with in the Dojo, so we take a different approach: "
            ],
            "metadata": {
                "azdata_cell_guid": "ef6b9eb5-cb8e-4ce3-b0aa-91e6f920ee75"
            }
        },
        {
            "cell_type": "code",
            "source": [
                "SELECT \r\n",
                "     TypeName1 = MIN(\r\n",
                "        CASE WHEN TransactionTypeID = 1 \r\n",
                "        THEN TransactionTypeName \r\n",
                "        ELSE NULL END)\r\n",
                "    ,TypeName2 = MIN(\r\n",
                "        CASE WHEN TransactionTypeID = 2 \r\n",
                "        THEN TransactionTypeName \r\n",
                "        ELSE NULL END)\r\n",
                "    ,TypeName3 = MIN(\r\n",
                "        CASE WHEN TransactionTypeID = 3 \r\n",
                "        THEN TransactionTypeName \r\n",
                "        ELSE NULL END)\r\n",
                "    ,TypeName4 = MIN(\r\n",
                "        CASE WHEN TransactionTypeID = 4 \r\n",
                "        THEN TransactionTypeName \r\n",
                "        ELSE NULL END)\r\n",
                "    ,TypeName5 = MIN(\r\n",
                "        CASE WHEN TransactionTypeID = 5 \r\n",
                "        THEN TransactionTypeName \r\n",
                "        ELSE NULL END)\r\n",
                "    ,TypeName6 = MIN(\r\n",
                "        CASE WHEN TransactionTypeID = 6 \r\n",
                "        THEN TransactionTypeName \r\n",
                "        ELSE NULL END)\r\n",
                "    ,TypeName7 = MIN(\r\n",
                "        CASE WHEN TransactionTypeID = 7 \r\n",
                "        THEN TransactionTypeName \r\n",
                "        ELSE NULL END)\r\n",
                "    ,TypeName8 = MIN(\r\n",
                "        CASE WHEN TransactionTypeID = 8 \r\n",
                "        THEN TransactionTypeName \r\n",
                "        ELSE NULL END)\r\n",
                "    ,TypeName9 = MIN(\r\n",
                "        CASE WHEN TransactionTypeID = 9 \r\n",
                "        THEN TransactionTypeName \r\n",
                "        ELSE NULL END)\r\n",
                "    ,TypeName10 = MIN(\r\n",
                "        CASE WHEN TransactionTypeID = 10 \r\n",
                "        THEN TransactionTypeName \r\n",
                "        ELSE NULL END)\r\n",
                "    ,TypeName11 = MIN(\r\n",
                "        CASE WHEN TransactionTypeID = 11 \r\n",
                "        THEN TransactionTypeName \r\n",
                "        ELSE NULL END)\r\n",
                "    ,TypeName12 = MIN(\r\n",
                "        CASE WHEN TransactionTypeID = 12 \r\n",
                "        THEN TransactionTypeName \r\n",
                "        ELSE NULL END)\r\n",
                "    ,TypeName13 = MIN(\r\n",
                "        CASE WHEN TransactionTypeID = 13 \r\n",
                "        THEN TransactionTypeName \r\n",
                "        ELSE NULL END)\r\n",
                "FROM [Application].[TransactionTypes]"
            ],
            "metadata": {
                "azdata_cell_guid": "13be41a0-f583-406e-a31b-34d99ab4a61e"
            },
            "outputs": [],
            "execution_count": 0
        },
        {
            "cell_type": "markdown",
            "source": [
                "It remains to be said that this is not the most efficient way to achieve our goal, but we have now displayed all rows of the table (luckily there were only 13!) in the columns of the result set. \r\n",
                "\r\n",
                "Now we want to summarize them, for this we first choose the following approach:"
            ],
            "metadata": {
                "azdata_cell_guid": "2d12136a-b17e-4695-8e0f-4e3577bd5d07"
            }
        },
        {
            "cell_type": "code",
            "source": [
                "WITH cte_columns AS (\r\n",
                "SELECT \r\n",
                "     TypeName1 = MIN(\r\n",
                "        CASE WHEN TransactionTypeID = 1 \r\n",
                "        THEN TransactionTypeName \r\n",
                "        ELSE NULL END)\r\n",
                "    ,TypeName2 = MIN(\r\n",
                "        CASE WHEN TransactionTypeID = 2 \r\n",
                "        THEN TransactionTypeName \r\n",
                "        ELSE NULL END)\r\n",
                "    ,TypeName3 = MIN(\r\n",
                "        CASE WHEN TransactionTypeID = 3 \r\n",
                "        THEN TransactionTypeName \r\n",
                "        ELSE NULL END)\r\n",
                "    ,TypeName4 = MIN(\r\n",
                "        CASE WHEN TransactionTypeID = 4 \r\n",
                "        THEN TransactionTypeName \r\n",
                "        ELSE NULL END)\r\n",
                "    ,TypeName5 = MIN(\r\n",
                "        CASE WHEN TransactionTypeID = 5 \r\n",
                "        THEN TransactionTypeName \r\n",
                "        ELSE NULL END)\r\n",
                "    ,TypeName6 = MIN(\r\n",
                "        CASE WHEN TransactionTypeID = 6 \r\n",
                "        THEN TransactionTypeName \r\n",
                "        ELSE NULL END)\r\n",
                "    ,TypeName7 = MIN(\r\n",
                "        CASE WHEN TransactionTypeID = 7 \r\n",
                "        THEN TransactionTypeName \r\n",
                "        ELSE NULL END)\r\n",
                "    ,TypeName8 = MIN(\r\n",
                "        CASE WHEN TransactionTypeID = 8 \r\n",
                "        THEN TransactionTypeName \r\n",
                "        ELSE NULL END)\r\n",
                "    ,TypeName9 = MIN(\r\n",
                "        CASE WHEN TransactionTypeID = 9 \r\n",
                "        THEN TransactionTypeName \r\n",
                "        ELSE NULL END)\r\n",
                "    ,TypeName10 = MIN(\r\n",
                "        CASE WHEN TransactionTypeID = 10 \r\n",
                "        THEN TransactionTypeName \r\n",
                "        ELSE NULL END)\r\n",
                "    ,TypeName11 = MIN(\r\n",
                "        CASE WHEN TransactionTypeID = 11 \r\n",
                "        THEN TransactionTypeName \r\n",
                "        ELSE NULL END)\r\n",
                "    ,TypeName12 = MIN(\r\n",
                "        CASE WHEN TransactionTypeID = 12 \r\n",
                "        THEN TransactionTypeName \r\n",
                "        ELSE NULL END)\r\n",
                "    ,TypeName13 = MIN(\r\n",
                "        CASE WHEN TransactionTypeID = 13 \r\n",
                "        THEN TransactionTypeName \r\n",
                "        ELSE NULL END)\r\n",
                "FROM [Application].[TransactionTypes]\r\n",
                ") \r\n",
                "SELECT \r\n",
                "    CONCAT(\r\n",
                "         TypeName1\r\n",
                "        ,TypeName2\r\n",
                "        ,TypeName3\r\n",
                "        ,TypeName4\r\n",
                "        ,TypeName5\r\n",
                "        ,TypeName6\r\n",
                "        ,TypeName7\r\n",
                "        ,TypeName8\r\n",
                "        ,TypeName9\r\n",
                "        ,TypeName10\r\n",
                "        ,TypeName11\r\n",
                "        ,TypeName12\r\n",
                "        ,TypeName13)\r\n",
                "FROM cte_columns"
            ],
            "metadata": {
                "azdata_cell_guid": "26d031de-766d-4c09-83c2-5d632e169d73"
            },
            "outputs": [],
            "execution_count": 0
        },
        {
            "cell_type": "markdown",
            "source": [
                "Now we get a string in which the type names are concatenated directly after each other. Of course this is not what we wanted to have. We could now manually insert a string with a comma after each type name, but that would be quite cumbersome, instead we could also use the function `CONCAT_WS`, because the addition `_WS` stands for \"With Separator\", which is exactly what we want. The separator is passed as the first argument of the function. In the end, it looks like this: "
            ],
            "metadata": {
                "azdata_cell_guid": "2c2c0b4e-5a18-49d6-8db1-2080337e8a74"
            }
        },
        {
            "cell_type": "code",
            "source": [
                "WITH cte_columns AS (\r\n",
                "SELECT \r\n",
                "     TypeName1 = MIN(\r\n",
                "        CASE WHEN TransactionTypeID = 1 \r\n",
                "        THEN TransactionTypeName \r\n",
                "        ELSE NULL END)\r\n",
                "    ,TypeName2 = MIN(\r\n",
                "        CASE WHEN TransactionTypeID = 2 \r\n",
                "        THEN TransactionTypeName \r\n",
                "        ELSE NULL END)\r\n",
                "    ,TypeName3 = MIN(\r\n",
                "        CASE WHEN TransactionTypeID = 3 \r\n",
                "        THEN TransactionTypeName \r\n",
                "        ELSE NULL END)\r\n",
                "    ,TypeName4 = MIN(\r\n",
                "        CASE WHEN TransactionTypeID = 4 \r\n",
                "        THEN TransactionTypeName \r\n",
                "        ELSE NULL END)\r\n",
                "    ,TypeName5 = MIN(\r\n",
                "        CASE WHEN TransactionTypeID = 5 \r\n",
                "        THEN TransactionTypeName \r\n",
                "        ELSE NULL END)\r\n",
                "    ,TypeName6 = MIN(\r\n",
                "        CASE WHEN TransactionTypeID = 6 \r\n",
                "        THEN TransactionTypeName \r\n",
                "        ELSE NULL END)\r\n",
                "    ,TypeName7 = MIN(\r\n",
                "        CASE WHEN TransactionTypeID = 7 \r\n",
                "        THEN TransactionTypeName \r\n",
                "        ELSE NULL END)\r\n",
                "    ,TypeName8 = MIN(\r\n",
                "        CASE WHEN TransactionTypeID = 8 \r\n",
                "        THEN TransactionTypeName \r\n",
                "        ELSE NULL END)\r\n",
                "    ,TypeName9 = MIN(\r\n",
                "        CASE WHEN TransactionTypeID = 9 \r\n",
                "        THEN TransactionTypeName \r\n",
                "        ELSE NULL END)\r\n",
                "    ,TypeName10 = MIN(\r\n",
                "        CASE WHEN TransactionTypeID = 10 \r\n",
                "        THEN TransactionTypeName \r\n",
                "        ELSE NULL END)\r\n",
                "    ,TypeName11 = MIN(\r\n",
                "        CASE WHEN TransactionTypeID = 11 \r\n",
                "        THEN TransactionTypeName \r\n",
                "        ELSE NULL END)\r\n",
                "    ,TypeName12 = MIN(\r\n",
                "        CASE WHEN TransactionTypeID = 12 \r\n",
                "        THEN TransactionTypeName \r\n",
                "        ELSE NULL END)\r\n",
                "    ,TypeName13 = MIN(\r\n",
                "        CASE WHEN TransactionTypeID = 13 \r\n",
                "        THEN TransactionTypeName \r\n",
                "        ELSE NULL END)\r\n",
                "FROM [Application].[TransactionTypes]\r\n",
                ") \r\n",
                "SELECT \r\n",
                "    CONCAT_WS(\r\n",
                "         ','\r\n",
                "        ,TypeName1\r\n",
                "        ,TypeName2\r\n",
                "        ,TypeName3\r\n",
                "        ,TypeName4\r\n",
                "        ,TypeName5\r\n",
                "        ,TypeName6\r\n",
                "        ,TypeName7\r\n",
                "        ,TypeName8\r\n",
                "        ,TypeName9\r\n",
                "        ,TypeName10\r\n",
                "        ,TypeName11\r\n",
                "        ,TypeName12\r\n",
                "        ,TypeName13)\r\n",
                "FROM cte_columns"
            ],
            "metadata": {
                "azdata_cell_guid": "a40de404-3d9f-44f4-a329-b62e74e91ffb"
            },
            "outputs": [],
            "execution_count": 0
        },
        {
            "cell_type": "markdown",
            "source": [
                "As a result, we now have the comma-separated list we got from the beginning with `STRING_AGG` again. \n",
                "So what does this mean? If we want to concatenate data, in rows one below the other, we use `STRING_AGG`. But if the data is in columns side by side, then `CONCAT` or `CONCAT_WS` is the method of choice. \n",
                "Happy concatenating. \n",
                "## References\n",
                "- [Documentation from Microsoft on CONCAT](https://docs.microsoft.com/de-de/sql/t-sql/functions/concat-transact-sql?view=sql-server-ver15)\n",
                "- [Documentation from Microsoft on CONCAT_WS](https://docs.microsoft.com/de-de/sql/t-sql/functions/concat-ws-transact-sql?view=sql-server-ver15)"
            ],
            "metadata": {
                "azdata_cell_guid": "78e2c55d-77bf-49a4-bde9-06249f233c77"
            }
        }
    ]
}