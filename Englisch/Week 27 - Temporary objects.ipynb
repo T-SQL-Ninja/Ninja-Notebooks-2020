{
    "metadata": {
        "kernelspec": {
            "name": "SQL",
            "display_name": "SQL",
            "language": "sql"
        },
        "language_info": {
            "name": "sql",
            "version": ""
        }
    },
    "nbformat_minor": 2,
    "nbformat": 4,
    "cells": [
        {
            "cell_type": "markdown",
            "source": [
                "# Week 27: Temporary Objects\r\n",
                "## What are temporary objects? \r\n",
                "Basically SQL Server allows you to create temporary objects that you can work with. This is convenient because you don't necessarily want to persist every intermediate result or help table in your database when working with large amounts of data. Temporary means that the tables are stored in the `tempdb` and are automatically deleted. When they are deleted varies, so we will take a closer look at that in a moment. But there is not only the possibility to create tables temporarily, this also works with procedures.  \r\n",
                "## How can you work with temporary objects?\r\n",
                "There are basically two types of temporary objects in SQL Server: local and global temporary objects. You can recognize temporary objects by the fact that their names begin with a hash (#). You can tell whether an object is local or global by whether it has one or two hash marks in front of it. Let's look at the differences between the two objects. First, we will create a local temporary table:\r\n",
                ""
            ],
            "metadata": {
                "azdata_cell_guid": "cef1e58d-89fc-4c8c-bea8-0537a53edd1c"
            }
        },
        {
            "cell_type": "code",
            "source": [
                "DROP TABLE IF EXISTS #temporary\r\n",
                "CREATE TABLE #temporary\r\n",
                "(\r\n",
                "     ID int IDENTITY(1,1)\r\n",
                "    ,Ninja varchar(150)\r\n",
                ")"
            ],
            "metadata": {
                "azdata_cell_guid": "ad6479de-6274-479d-83a6-f5a296215aac"
            },
            "outputs": [],
            "execution_count": 0
        },
        {
            "cell_type": "markdown",
            "source": [
                "Now we can insert into this table and query it. "
            ],
            "metadata": {
                "azdata_cell_guid": "d82758de-2362-41c1-93fe-d10bac77fb96"
            }
        },
        {
            "cell_type": "code",
            "source": [
                "INSERT INTO #temporary (Ninja) \r\n",
                "VALUES ('Lushikute'), ('Chimozuki')\r\n",
                "\r\n",
                "SELECT \r\n",
                "     ID\r\n",
                "    ,Ninja \r\n",
                "FROM #temporary"
            ],
            "metadata": {
                "azdata_cell_guid": "150e6eed-0ec7-48fc-8a01-2de81179ad02"
            },
            "outputs": [],
            "execution_count": 0
        },
        {
            "cell_type": "markdown",
            "source": [
                "We can even index the table:"
            ],
            "metadata": {
                "azdata_cell_guid": "8b52b1fb-703f-4745-83f9-a0eb0505bb20"
            }
        },
        {
            "cell_type": "code",
            "source": [
                "CREATE CLUSTERED INDEX ix_ninjaids\r\n",
                "ON #temporary (ID)"
            ],
            "metadata": {
                "azdata_cell_guid": "ef446acb-485d-45cc-a066-cba568a88428"
            },
            "outputs": [],
            "execution_count": 0
        },
        {
            "cell_type": "markdown",
            "source": [
                "To understand the difference between local and global temporary objects, you now open a new query on the database in Azure Data Studio or SQL Server Management Studio. If you now try to query the temporary table in the resulting new query tab, you will get the message that it does not exist.\r\n",
                " \r\n",
                "So let's do the same with a global temporary table: "
            ],
            "metadata": {
                "azdata_cell_guid": "636808aa-e73d-40c9-a222-d86ede74b414"
            }
        },
        {
            "cell_type": "code",
            "source": [
                "DROP TABLE IF EXISTS ##temporary\r\n",
                "CREATE TABLE ##temporary\r\n",
                "(\r\n",
                "     ID int IDENTITY(1,1)\r\n",
                "    ,Ninja varchar(150)\r\n",
                ")\r\n",
                "\r\n",
                "INSERT INTO ##temporary (Ninja) \r\n",
                "VALUES ('Lushikute'), ('Chimozuki')\r\n",
                "\r\n",
                "SELECT \r\n",
                "     ID\r\n",
                "    ,Ninja \r\n",
                "FROM ##temporary"
            ],
            "metadata": {
                "azdata_cell_guid": "9a57b7f9-85e8-417c-9602-105320aac0bb"
            },
            "outputs": [],
            "execution_count": 0
        },
        {
            "cell_type": "markdown",
            "source": [
                "Not surprisingly, we get the same result up to this point as when we used a local temporary table. If you now query the global temporary table in the second tab, you will get results: "
            ],
            "metadata": {
                "azdata_cell_guid": "0eaf8e30-0333-4182-b876-6021b6c35873"
            }
        },
        {
            "cell_type": "code",
            "source": [
                "SELECT \r\n",
                "     ID\r\n",
                "    ,Ninja \r\n",
                "FROM ##temporary"
            ],
            "metadata": {
                "azdata_cell_guid": "14f4a8fb-7ff9-433d-8e70-4a2c2a6da11a"
            },
            "outputs": [],
            "execution_count": 0
        },
        {
            "cell_type": "markdown",
            "source": [
                "You have seen that you can only access a local temporary object within the session in which you created it, but you can access a global temporary object in other sessions as well. \r\n",
                "\r\n",
                "And how long do the temporary objects \"live\"? That depends. A local temporary object ends with your session. This means that if the connection in your program code, ETL package, SSMS or Data Studio is closed in which the temporary object was created, then this object is no longer available. It's different with global objects: as long as a session exists that uses the object, it is kept alive. If the last session in which the object was used is terminated, the object is also deleted and is irretrievably lost. \r\n",
                "\r\n",
                "Now we have been working with temporary tables all this time, but speaking of objects, let's create a temporary procedure for this week at the end:"
            ],
            "metadata": {
                "azdata_cell_guid": "db73cd8d-5a02-46ee-9ab0-1e2e0cb70086"
            }
        },
        {
            "cell_type": "code",
            "source": [
                "DROP PROCEDURE IF EXISTS #sp_temp\r\n",
                "GO\r\n",
                "\r\n",
                "CREATE PROCEDURE #sp_temp AS\r\n",
                "    SET NOCOUNT ON;  \r\n",
                "    SELECT DB_NAME() AS ThisDB; \r\n",
                "GO"
            ],
            "metadata": {
                "azdata_cell_guid": "babeb0a4-27fd-4460-9da6-1d082fbc12cb"
            },
            "outputs": [],
            "execution_count": 0
        },
        {
            "cell_type": "markdown",
            "source": [
                "Again, you can use the procedure within the same session just like any other procedure:"
            ],
            "metadata": {
                "azdata_cell_guid": "829d6c54-bba8-4c44-8519-6df0b9d9523c"
            }
        },
        {
            "cell_type": "code",
            "source": [
                "EXEC #sp_temp"
            ],
            "metadata": {
                "azdata_cell_guid": "e46d2206-802f-42ee-b44a-5b386f2cb937"
            },
            "outputs": [],
            "execution_count": 0
        },
        {
            "cell_type": "markdown",
            "source": [
                "From another session this call fails again, because the object is not known to the SQL Server: \r\n",
                "\r\n",
                "`Could not find stored procedure '#sp_temp'.`\r\n",
                "\r\n",
                "If you create the procedure as a global temporary object, it will also be found in the second session: "
            ],
            "metadata": {
                "azdata_cell_guid": "4e15bb29-b8c4-4258-94eb-480caa80f340"
            }
        },
        {
            "cell_type": "code",
            "source": [
                "DROP PROCEDURE IF EXISTS ##sp_temp\r\n",
                "GO\r\n",
                "\r\n",
                "CREATE PROCEDURE ##sp_temp AS\r\n",
                "    SET NOCOUNT ON;  \r\n",
                "    SELECT DB_NAME() AS ThisDB; \r\n",
                "GO\r\n",
                "\r\n",
                "EXEC ##sp_temp"
            ],
            "metadata": {
                "azdata_cell_guid": "bfdf2648-b92f-4cfd-932b-23dc5f2c686c"
            },
            "outputs": [],
            "execution_count": 0
        },
        {
            "cell_type": "markdown",
            "source": [
                "You can now also execute these in a second session:"
            ],
            "metadata": {
                "azdata_cell_guid": "e14b656d-e850-4771-bd8e-347c57d4d069"
            }
        },
        {
            "cell_type": "code",
            "source": [
                "EXEC ##sp_temp"
            ],
            "metadata": {
                "azdata_cell_guid": "3f41ae14-7bb2-4e4a-bb2b-29eadb2a5075"
            },
            "outputs": [],
            "execution_count": 0
        },
        {
            "cell_type": "markdown",
            "source": [
                "Temporary objects can be useful for storing intermediate results in larger processes or for procedures that you do not want to use outside of a process. Of course, it is important to consider the scope of the object and to distinguish whether the object is also available outside the session. \n",
                "\n",
                "## References\n",
                "- [Documentation from Microsoft on temporary tables](https://docs.microsoft.com/en-us/sql/relational-databases/tables/tables?view=sql-server-ver15)\n",
                "- [Documentation from Microsoft on temporary procedures](https://docs.microsoft.com/en-us/sql/t-sql/statements/create-procedure-transact-sql?view=sql-server-ver15)\n",
                ""
            ],
            "metadata": {
                "azdata_cell_guid": "f16a6a47-923f-4eb8-b219-8634bf506fe0"
            }
        }
    ]
}