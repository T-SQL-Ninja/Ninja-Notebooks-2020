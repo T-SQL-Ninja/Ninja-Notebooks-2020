{
    "metadata": {
        "kernelspec": {
            "name": "SQL",
            "display_name": "SQL",
            "language": "sql"
        },
        "language_info": {
            "name": "sql",
            "version": ""
        }
    },
    "nbformat_minor": 2,
    "nbformat": 4,
    "cells": [
        {
            "cell_type": "markdown",
            "source": [
                "# Week 32: CUME_DIST\r\n",
                "## What is CUME_DIST? \r\n",
                "Suppose you have a table with certain values and you want to know what percentage of records are below each value. This kind of question can be answered by the `CUME_DIST` function. `CUME_DIST` is short for \"Cumulative Distribution\" and is a statistical function that calculates for a given value and distribution the probability of a record being below the value. \r\n",
                "## How can you work with CUME_DIST?\r\n",
                "So now that we have clarified what `CUME_DIST` does, let's take a look at how you can use the function. It is clear that we are dealing with distributions in `CUME_DIST`, so the function will return a floating point number between 0 and 1. \r\n",
                "\r\n",
                "To get some experience with `CUME_DIST`, we will first write a query that matches the `StockItems` of the `WideWorldImporters` database with their item groups. Since there are items that are assigned to several item groups, we do not use a join for this, but always assign these items to the first group: "
            ],
            "metadata": {
                "azdata_cell_guid": "d0fe4a83-63ab-430e-99eb-0e5042e65093"
            }
        },
        {
            "cell_type": "code",
            "source": [
                "SELECT \r\n",
                "     UnitPrice\r\n",
                "    ,SG.StockGroupName\r\n",
                "    ,StockItemID\r\n",
                "OUTER APPLY (\r\n",
                "    SELECT TOP 1 \r\n",
                "        StockGroupName \r\n",
                "    FROM [Warehouse].[StockItemStockGroups] SISG \r\n",
                "    LEFT JOIN [Warehouse].[StockGroups] SG\r\n",
                "        ON SISG.StockGroupID = SG.StockGroupID\r\n",
                "    WHERE SI.StockItemID = SISG.StockItemID\r\n",
                ") SG \r\n",
                "ORDER BY UnitPrice"
            ],
            "metadata": {
                "azdata_cell_guid": "2e412bb6-4e61-47f1-a199-544a4826f27d"
            },
            "outputs": [],
            "execution_count": 0
        },
        {
            "cell_type": "markdown",
            "source": [
                "Already here we get a feeling for the data, when we scroll through the result set, for example, we intuitively see that about half of the products cost less than 20 dollars. Now let's summarize some products by creating price segments, rounding each price to $10 and counting the products in each group: "
            ],
            "metadata": {
                "azdata_cell_guid": "2e043eec-b631-44b3-8f1a-ab7ce93733dd"
            }
        },
        {
            "cell_type": "code",
            "source": [
                "SELECT \r\n",
                "     CAST(ROUND(UnitPrice/10, 0)*10 AS int) as PriceRange\r\n",
                "    ,COUNT(*) AS NumberOfProducts\r\n",
                "FROM [Warehouse].[StockItems] SI\r\n",
                "OUTER APPLY (\r\n",
                "    SELECT TOP 1 \r\n",
                "        StockGroupName \r\n",
                "    FROM [Warehouse].[StockItemStockGroups] SISG \r\n",
                "    LEFT JOIN [Warehouse].[StockGroups] SG\r\n",
                "        ON SISG.StockGroupID = SG.StockGroupID\r\n",
                "    WHERE SI.StockItemID = SISG.StockItemID\r\n",
                ") SG \r\n",
                "GROUP BY\r\n",
                "     CAST(ROUND(UnitPrice/10, 0)*10 AS int) "
            ],
            "metadata": {
                "azdata_cell_guid": "dfcf2b58-d47e-48ca-85d0-328a9e9ad9e3"
            },
            "outputs": [],
            "execution_count": 0
        },
        {
            "cell_type": "markdown",
            "source": [
                "We can also see here that about 50% of the products are in price segments up to $20 (you can also see the distribution graphically by clicking on the chart icon next to the result set in Azure Data Studio). But now we want to know exactly: and look at the information on product level, for this we use the `CUME_DIST` function to look at the distribution on product level:"
            ],
            "metadata": {
                "azdata_cell_guid": "2a0f8820-5638-483e-90c6-b2eef998d37e"
            }
        },
        {
            "cell_type": "code",
            "source": [
                "SELECT\r\n",
                "     StockItemID\r\n",
                "    ,UnitPrice\r\n",
                "    ,CUME_DIST() OVER (\r\n",
                "        ORDER BY UnitPrice \r\n",
                "     ) PercentageOfProeuctsBelow\r\n",
                "FROM [Warehouse].[StockItems] SI\r\n",
                "ORDER BY UnitPrice"
            ],
            "metadata": {
                "azdata_cell_guid": "5f016646-d393-4f66-b871-c8c40bf57235"
            },
            "outputs": [],
            "execution_count": 0
        },
        {
            "cell_type": "markdown",
            "source": [
                "It is important to note that products that have the same UnitPrice are assigned the same value of the distribution function. Since the distribution function cannot differentiate between the products on the basis of prices, they are treated the same here, similar to `RANK`. If you wanted to change this, you would have to add a column as tie-breaker: "
            ],
            "metadata": {
                "azdata_cell_guid": "1e340249-360d-4873-a172-f5c04b4cb9cf"
            }
        },
        {
            "cell_type": "code",
            "source": [
                "SELECT\r\n",
                "     StockItemID\r\n",
                "    ,UnitPrice\r\n",
                "    ,CUME_DIST() OVER (\r\n",
                "        ORDER BY UnitPrice, StockItemID \r\n",
                "     ) PercentageOfProeuctsBelow\r\n",
                "FROM [Warehouse].[StockItems] SI\r\n",
                "ORDER BY UnitPrice"
            ],
            "metadata": {
                "azdata_cell_guid": "d33bc1ab-6450-453a-8598-dd74653ec299"
            },
            "outputs": [],
            "execution_count": 0
        },
        {
            "cell_type": "markdown",
            "source": [
                "But we can also go a step further with `CUME_DIST`. If you are now interested in how the price should be classified in the respective product group, we give the window of the `CUME_DIST` function a `PARTITION BY` argument:"
            ],
            "metadata": {
                "azdata_cell_guid": "22ef38c0-779c-4a12-94ad-eff9a6b64933"
            }
        },
        {
            "cell_type": "code",
            "source": [
                "SELECT\r\n",
                "     StockItemID\r\n",
                "    ,SG.StockGroupName\r\n",
                "    ,UnitPrice\r\n",
                "    ,CUME_DIST() OVER (\r\n",
                "        PARTITION BY SG.StockGroupName\r\n",
                "        ORDER BY UnitPrice, StockItemID \r\n",
                "     ) PercentageOfProeuctsBelow\r\n",
                "FROM [Warehouse].[StockItems] SI\r\n",
                "OUTER APPLY (\r\n",
                "    SELECT TOP 1 \r\n",
                "        StockGroupName \r\n",
                "    FROM [Warehouse].[StockItemStockGroups] SISG \r\n",
                "    LEFT JOIN [Warehouse].[StockGroups] SG\r\n",
                "        ON SISG.StockGroupID = SG.StockGroupID\r\n",
                "    WHERE SI.StockItemID = SISG.StockItemID\r\n",
                ") SG \r\n",
                "ORDER BY UnitPrice"
            ],
            "metadata": {
                "azdata_cell_guid": "8834295e-8bdf-46bf-becd-fa37f90b1f19"
            },
            "outputs": [],
            "execution_count": 0
        },
        {
            "cell_type": "markdown",
            "source": [
                "For each product we get the information how many percent of the items in the respective group are cheaper and equally expensive as the product you are looking at. \n",
                "\n",
                "`CUME_DIST` is similar to the recently introduced `FIRST_VALUE`, `LAST_VALUE`, `LEAD` and `LAG` a tool that can help you to collect and analyze a data set by means of statistics and thus gain an understanding of the data or provide your users or applications with corresponding added value without leaving the SQL Server. Sure, `CUME_DIST` is not one of the most frequently used T-SQL functions, but as real ninjas you can show off your skills when it comes to determining the distribution of data and you have `CUME_DIST` in mind... \n",
                "\n",
                "## References\n",
                "- [Documentation from Microsoft](https://docs.microsoft.com/de-de/sql/t-sql/functions/cume-dist-transact-sql?view=sql-server-ver15)"
            ],
            "metadata": {
                "azdata_cell_guid": "d9fcfb45-04d6-47f7-b35f-7fb4d5e932e9"
            }
        }
    ]
}