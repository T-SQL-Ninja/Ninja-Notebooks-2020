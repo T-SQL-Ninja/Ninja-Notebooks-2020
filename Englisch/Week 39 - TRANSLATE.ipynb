{
    "metadata": {
        "kernelspec": {
            "name": "SQL",
            "display_name": "SQL",
            "language": "sql"
        },
        "language_info": {
            "name": "sql",
            "version": ""
        }
    },
    "nbformat_minor": 2,
    "nbformat": 4,
    "cells": [
        {
            "cell_type": "markdown",
            "source": [
                "# Week 39: TRANSLATE\r\n",
                "## What is TRANSLATE (not)? \r\n",
                "Unfortunately, 'TRANSLATE' is not the T-SQL syntax as frontend for the Cognitive Services Translator API. That means you cannot use the `TRANSLATE` function to translate your product descriptions into Swahili. Too bad, but for this you would need the Common Language Runtime in the SQL Server (CLR, maybe this would be worth a trip to the Dojo...). Instead, the 'TRANSLATE' function is a way how you can simplify many nested REPLACE statements, because it replaces characters in strings. \r\n",
                "## How to use TRANSLATE\r\n",
                "Starting with a simple example, let's assume you want to replace a character in a string with another character. You can do this with both `REPLACE` and `TRANSLATE`:\r\n",
                ""
            ],
            "metadata": {
                "azdata_cell_guid": "84010707-1b58-4457-bdb2-743516c4d61c"
            }
        },
        {
            "cell_type": "code",
            "source": [
                "SELECT \r\n",
                "     REPLACE('Duju', 'u', 'o') AS [Replaced]\r\n",
                "    ,TRANSLATE('Duju', 'u', 'o') AS [Translated]"
            ],
            "metadata": {
                "azdata_cell_guid": "7b946742-6411-48ab-b9fb-0441620c7c7c"
            },
            "outputs": [],
            "execution_count": 0
        },
        {
            "cell_type": "markdown",
            "source": [
                "In both columns of the result set you will now have the word Dojo, because in both function calls the search string \"u\" was replaced by \"o\". But what do we have two functions for then? Simply because the two functions do not do the same thing. Let's try to do something else, take the word Dojo with an exclamation mark at the end and try to remove the exclamation mark:"
            ],
            "metadata": {
                "azdata_cell_guid": "fa01c54e-bb9a-4731-98ae-2d7d1bd7b0ff"
            }
        },
        {
            "cell_type": "code",
            "source": [
                "SELECT \r\n",
                "    REPLACE('Dojo!', '!', '') AS [Replaced]\r\n",
                "SELECT\r\n",
                "    TRANSLATE('Dojo!', '!', '') AS [Translated]"
            ],
            "metadata": {
                "azdata_cell_guid": "30ed25be-8173-4fcb-9697-df46d1f4daa6"
            },
            "outputs": [],
            "execution_count": 0
        },
        {
            "cell_type": "markdown",
            "source": [
                "While the exclamation mark was removed (replaced by an empty string) as desired in the first expression, the second query returns an error message that the last two arguments of `TRANSLATE` must contain the same number of characters. Apparently there are other differences here after all. Let's take a look at them by adding another typo to our Dojo and try to make \"Duku\" the \"Dojo\". So let's try to replace the \"u \"s with \"o \"s and the \"k\" with a \"j\". \r\n",
                "\r\n",
                "The naive approach would be the following: \r\n",
                ""
            ],
            "metadata": {
                "azdata_cell_guid": "4787e9fe-6133-4c22-abd8-a8e9d4e5cce0"
            }
        },
        {
            "cell_type": "code",
            "source": [
                "SELECT \r\n",
                "     REPLACE('Duku', 'uk', 'oj') AS [Replaced]\r\n",
                "    ,TRANSLATE('Duku', 'uk', 'oj') AS [Translated]"
            ],
            "metadata": {
                "azdata_cell_guid": "3ec2f17e-a90c-469e-a693-c90eda892b56"
            },
            "outputs": [],
            "execution_count": 0
        },
        {
            "cell_type": "markdown",
            "source": [
                "And while here in the first case a doju comes out, the second approach actually returns the desired \"dojo\". Why is that? Because `REPLACE` always searches the entire search string and tries to replace it. So if the second argument is contained entirely in the first argument, it is replaced by the third argument. With `TRANSLATE`, on the other hand, the search and replacement is character by character, so in the example, every \"u\" is replaced by an \"o\" and every \"k\" by a \"j\". This also explains why we got an error in the previous example, because if we replace 1:1, we need a replacement for every character, of course. This becomes even clearer if we keep in mind that the order in which we search is not important here: "
            ],
            "metadata": {
                "azdata_cell_guid": "20f64430-f85e-4ce4-89da-8563ccfcad8c"
            }
        },
        {
            "cell_type": "code",
            "source": [
                "SELECT \r\n",
                "     REPLACE('123', '321', '654') AS [Replaced]\r\n",
                "    ,TRANSLATE('123', '321', '654') AS [Translated]"
            ],
            "metadata": {
                "azdata_cell_guid": "fd4db945-e14d-4997-8328-915ac3446381",
                "tags": []
            },
            "outputs": [],
            "execution_count": 0
        },
        {
            "cell_type": "markdown",
            "source": [
                "This query returns \"123\" in the Replace column, because the search string \"321\" was not found. In the Translate column, however, it returns \"456\" because the \"3\" was replaced by a \"6\", the \"2\" by a \"5\" and the \"1\" by a \"4\". \r\n",
                "\r\n",
                "Of course you can achieve this behavior with nested `REPLACE` statements: "
            ],
            "metadata": {
                "azdata_cell_guid": "15058595-23e4-4edd-a25f-2cb417930507"
            }
        },
        {
            "cell_type": "code",
            "source": [
                "SELECT \r\n",
                "     REPLACE('123', '321', '654') AS [Replaced]\r\n",
                "    ,TRANSLATE('123', '321', '654') AS [Translated]\r\n",
                "    ,REPLACE(\r\n",
                "        REPLACE(\r\n",
                "            REPLACE('123', '1', '4'), \r\n",
                "            '2', '5'), \r\n",
                "        '3', '6') AS [Replaced2]"
            ],
            "metadata": {
                "azdata_cell_guid": "29ad32c3-1639-4ead-a8de-6a038ad811ce"
            },
            "outputs": [],
            "execution_count": 0
        },
        {
            "cell_type": "markdown",
            "source": [
                "But everyone will admit that the syntax with the nested `REPLACE` statements is much harder to read than the `TRANSLATE` syntax. Besides, with nested `REPLACE` it depends on the order, we can see that if we want to shift the string \"abc\" by 1, i.e. make \"bcdcb\" from \"abcba\". With `TRANSLATE` this would work as follows: "
            ],
            "metadata": {
                "azdata_cell_guid": "0d785257-e030-453c-b121-9d78c1b71bcd"
            }
        },
        {
            "cell_type": "code",
            "source": [
                "SELECT\r\n",
                "     TRANSLATE('abcba', 'abc', 'bcd') AS [Translated]"
            ],
            "metadata": {
                "azdata_cell_guid": "93239093-5d21-41bf-855e-bcc6a7c2e99b"
            },
            "outputs": [],
            "execution_count": 0
        },
        {
            "cell_type": "markdown",
            "source": [
                "If we do not want to replace the entire string with `REPLACE`, we would have to nest the `REPLACE` function calls as above:"
            ],
            "metadata": {
                "azdata_cell_guid": "dcedf370-ada9-4f50-a4d8-3161bb0ba0b5"
            }
        },
        {
            "cell_type": "code",
            "source": [
                "SELECT\r\n",
                "     TRANSLATE('abcba', 'abc', 'bcd') AS [Translated]\r\n",
                "    ,REPLACE(\r\n",
                "        REPLACE(\r\n",
                "            REPLACE(\r\n",
                "                'abcba', 'a', 'b'\r\n",
                "            ), 'b', 'c')\r\n",
                "        , 'c', 'd') AS [Replaced]"
            ],
            "metadata": {
                "azdata_cell_guid": "acddb36f-eb17-4198-95ae-1e8436775490"
            },
            "outputs": [],
            "execution_count": 0
        },
        {
            "cell_type": "markdown",
            "source": [
                "However, we do not have the desired result here, because we first replace the \"a \"s with \"b \"s and then have the string \"bbcbb\", in which we replace the \"b \"s with \"c \"s and have \"ccccc\", where we replace the \"c \"s with \"d \"s and get \"ddddd\". Instead, we would have to nest upside down: "
            ],
            "metadata": {
                "azdata_cell_guid": "63b324aa-4bc1-4939-882a-df7b3b70b8c6"
            }
        },
        {
            "cell_type": "code",
            "source": [
                "SELECT\r\n",
                "     TRANSLATE('abcba', 'abc', 'bcd') AS [Translated]\r\n",
                "    ,REPLACE(\r\n",
                "        REPLACE(\r\n",
                "            REPLACE(\r\n",
                "                'abcba', 'a', 'b'\r\n",
                "            ), 'b', 'c')\r\n",
                "        , 'c', 'd') AS [Replaced]\r\n",
                "    ,REPLACE(\r\n",
                "        REPLACE(\r\n",
                "            REPLACE(\r\n",
                "                'abcba', 'c', 'd'\r\n",
                "            ), 'b', 'c')\r\n",
                "        , 'a', 'b') AS [Replaced2]"
            ],
            "metadata": {
                "azdata_cell_guid": "9ffe5aae-6fb2-4cc3-86b4-15c607d51891"
            },
            "outputs": [],
            "execution_count": 0
        },
        {
            "cell_type": "markdown",
            "source": [
                "So you see with such character-wise replacements it is quite important what you replace in which order. So at least be careful with nested `REPLACE` statements - or use `TRANSLATE` instead.  \r\n",
                "\r\n",
                "Another thing you can do with `TRANSLATE` is to replace brackets: "
            ],
            "metadata": {
                "azdata_cell_guid": "6697ece4-de64-400b-bb2b-b5d8162f3da1"
            }
        },
        {
            "cell_type": "code",
            "source": [
                "SELECT\r\n",
                "    TRANSLATE('f[x] = {1,2,3}', '[]{}', '()()')"
            ],
            "metadata": {
                "azdata_cell_guid": "8c84ee83-521b-4cb0-9405-ad80f5db1458"
            },
            "outputs": [],
            "execution_count": 0
        },
        {
            "cell_type": "markdown",
            "source": [
                "Here you get the string \"f(x) = (1,2,3)\" back. \n",
                "\n",
                "You see: You can't expect miracles from `TRANSLATE`, but to replace strings, this function is a relief. So go to `TRANSLATE('Duku', 'uk', 'oj')` and try it out. \n",
                "\n",
                "## References\n",
                "- [Documentation from Microsoft](https://docs.microsoft.com/de-de/sql/t-sql/functions/translate-transact-sql?view=sql-server-ver15)"
            ],
            "metadata": {
                "azdata_cell_guid": "b357c2e7-f767-48a8-a585-7b583d25360c"
            }
        }
    ]
}