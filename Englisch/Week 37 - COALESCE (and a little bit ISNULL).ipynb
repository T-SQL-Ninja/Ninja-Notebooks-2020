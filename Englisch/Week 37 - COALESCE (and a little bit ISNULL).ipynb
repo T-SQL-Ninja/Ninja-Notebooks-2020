{
    "metadata": {
        "kernelspec": {
            "name": "SQL",
            "display_name": "SQL",
            "language": "sql"
        },
        "language_info": {
            "name": "sql",
            "version": ""
        }
    },
    "nbformat_minor": 2,
    "nbformat": 4,
    "cells": [
        {
            "cell_type": "markdown",
            "source": [
                "# Week 37: COALESCE (and a little ISNULL)\r\n",
                "## What is COALESCE anyway? \r\n",
                "Suppose you have several columns in your database that may contain all `NULL` values. Now you want the value of the first column, but if it's not there, then the value of the second column, if it's not there, then the value of the third column, and so on... There are voices that claim that `COALESCE` is actually like `ISNULL`, only different from `ISNULL`, which is the ANSI standard. But there are other differences between the two functions that you should get to know today. \r\n",
                "## How is COALESCE different from ISNULL?\r\n",
                "The main difference between `COALESCE` and `ISNULL` is that with `ISNULL`, you know the return value from the beginning, because it is the data type of the column you pass as the first argument. Let's take a look at the example. For this we first create a table with one column in which we insert a `NULL` value:"
            ],
            "metadata": {
                "azdata_cell_guid": "36bd4dbe-3a27-4ca9-8048-5d744bc82840"
            }
        },
        {
            "cell_type": "code",
            "source": [
                "DROP TABLE IF EXISTS #Ninja\r\n",
                "CREATE TABLE #Ninja \r\n",
                "(\r\n",
                "    NinjaHandle varchar(15) null\r\n",
                ")\r\n",
                "INSERT INTO #Ninja (NinjaHandle) \r\n",
                "VALUES (NULL)"
            ],
            "metadata": {
                "azdata_cell_guid": "4211b7cb-5171-4dd9-a9c3-9a776b655101"
            },
            "outputs": [],
            "execution_count": 0
        },
        {
            "cell_type": "markdown",
            "source": [
                "Now we work with this `NULL`line. First we replace the `NULL` value using `ISNULL`: "
            ],
            "metadata": {
                "azdata_cell_guid": "9b427776-45bf-49f6-8328-0c945fafd1fb"
            }
        },
        {
            "cell_type": "code",
            "source": [
                "SELECT \r\n",
                "    ISNULL(NinjaHandle, 'T-SQL Ninja') \r\n",
                "FROM #Ninja"
            ],
            "metadata": {
                "azdata_cell_guid": "53f66d9d-f58f-4138-8279-ae740e3813ea"
            },
            "outputs": [],
            "execution_count": 0
        },
        {
            "cell_type": "markdown",
            "source": [
                "As expected, the result set contains the value \"T-SQL Ninja\". But now we modify the query slightly: "
            ],
            "metadata": {
                "azdata_cell_guid": "3a7cf6b9-d284-4529-aaa8-c4930075799e"
            }
        },
        {
            "cell_type": "code",
            "source": [
                "SELECT \r\n",
                "    ISNULL(NinjaHandle, 'Brilliantly querying T-SQL Ninja') \r\n",
                "FROM #Ninja"
            ],
            "metadata": {
                "azdata_cell_guid": "30cce712-2298-475e-94ef-580451e65373"
            },
            "outputs": [],
            "execution_count": 0
        },
        {
            "cell_type": "markdown",
            "source": [
                "Now, to our surprise, we only get the value \"Brilliantly que\". Why is that? Because `ISNULL` returns the value to be inserted as the value of `NinjaHandle`, i.e. as a varchar of length 15. If our string is now longer than 15 characters, `ISNULL` truncates and returns only the first 15 characters. \r\n",
                "\r\n",
                "This is different if we use `COALESCE`. Again, the first query returns the value \"T-SQL Ninja\":"
            ],
            "metadata": {
                "azdata_cell_guid": "616bc41c-c8ec-4b51-a9a7-bbb513920392"
            }
        },
        {
            "cell_type": "code",
            "source": [
                "SELECT \r\n",
                "    COALESCE(NinjaHandle, 'T-SQL Ninja')\r\n",
                "FROM #Ninja"
            ],
            "metadata": {
                "azdata_cell_guid": "d2cdbde0-b3a6-429f-8c6e-ba562edb079f"
            },
            "outputs": [],
            "execution_count": 0
        },
        {
            "cell_type": "markdown",
            "source": [
                "This is different with the second query:"
            ],
            "metadata": {
                "azdata_cell_guid": "40e5a5df-d1d5-44ac-bc6c-ddfec2947ef5"
            }
        },
        {
            "cell_type": "code",
            "source": [
                "SELECT \r\n",
                "    COALESCE(NinjaHandle, 'Brilliantly querying T-SQL Ninja') \r\n",
                "FROM #Ninja"
            ],
            "metadata": {
                "azdata_cell_guid": "dd10ddc5-decf-4186-8b6b-e75474037e6f"
            },
            "outputs": [],
            "execution_count": 0
        },
        {
            "cell_type": "markdown",
            "source": [
                "Here we get the complete string returned, regardless of the type of `NinjaHandle`. This means that while `ISNULL` guarantees us type security, `COALESCE` can only do this to a limited extent. This means that if your application depends on a type security in the return, then you are always on the safe side with `ISNULL`, but with `COALESCE` you can also get a nasty surprise. \r\n",
                "\r\n",
                "Let's look at another example that illustrates this problem. First we modify the ninja table and add another column:"
            ],
            "metadata": {
                "azdata_cell_guid": "88a17404-571f-41c2-866e-18d4af59ef79"
            }
        },
        {
            "cell_type": "code",
            "source": [
                "ALTER TABLE #Ninja \r\n",
                "ADD NinjaSkillLevel INT NULL"
            ],
            "metadata": {
                "azdata_cell_guid": "734fbe80-b859-43e6-b8f4-fabf34d7bed5"
            },
            "outputs": [],
            "execution_count": 0
        },
        {
            "cell_type": "markdown",
            "source": [
                "Now we want to calculate with this column and use it as modifier of a value, for this we divide the value by 2 if no NinjaSkillLevel is available, otherwise by the skill level. Cast in SQL, the two variants we have to do this look like this: "
            ],
            "metadata": {
                "azdata_cell_guid": "6cd88a52-946b-4fe8-80e8-05b01f2fb350"
            }
        },
        {
            "cell_type": "code",
            "source": [
                "SELECT\r\n",
                "     5/ISNULL(NinjaSkillLevel, 2.00)\r\n",
                "    ,5/COALESCE(NinjaSkillLevel, 2.00)\r\n",
                "FROM #Ninja"
            ],
            "metadata": {
                "azdata_cell_guid": "d910a4d9-f351-44b1-9162-96c9445c2bbc"
            },
            "outputs": [],
            "execution_count": 0
        },
        {
            "cell_type": "markdown",
            "source": [
                "What happens now is that due to the type safety of `ISNULL`, the 2.00 is returned as integer 2, which means that the 5 is divided by the integer 2, here the SQL Server then returns the integer value, so we get the 2 as return value. In the case of `COALESCE` the 2.00, which is passed to the function but has a higher accuracy than the NinjaSkillLevel column, so here the SQL Server decides to convert the `NinjaSkillLevel` to the datatype of 2.00, i.e. to do an implicit conversion. Thus we divide 5 by a floating-point number, which results in a floating-point number, so here we get the correct value of 2.5 (with some trailing zeros). And indeed, we also find an implicit type conversion in the execution plan:\n",
                "\n",
                "`<ScalarOperator ScalarString=\"(5.)/CASE WHEN [tempdb].[dbo].[#Ninja].[NinjaSkillLevel] IS NOT NULL THEN CONVERT_IMPLICIT(numeric(12,2),[tempdb].[dbo].[#Ninja].[NinjaSkillLevel],0) ELSE (2.00) END\">`\n",
                "\n",
                "Here we see two things: on the one hand, that `COALESCE` is converted internally to `CASE` statements, and on the other hand, that SQL Server implicitly converts to the datatype `numeric(12,2)`. \n",
                "\n",
                "However, in addition to the danger of an unexpected return type, the `COALESCE` function does have advantages. One of the advantages is that you can pass multiple columns to it, as long as they are type-compatible. Another advantage is that it is also possible to return a `NULL` value if all columns contain `NULL` values. A side effect of this fact is that if you define a derived column with `ISNULL`, that column can be used as the primary key, because `ISNULL` cannot be NULL and the return value is eligible for SQL Server as the primary key. It's different with `COALESCE`, the return value here could theoretically be `NULL`, although you can effectively prevent this with a constant value as the last argument. Therefore, the attempt to define a primary key on a column derived with `COALESCE` will fail. \n",
                "\n",
                "You should not take the message from today's Dojo that `COALESCE` is not type-safe and therefore evil. Rather, you should be aware that unexpected datatypes can be returned here, and that your applications may react to them. Better than avoiding the function is to understand the function and take advantage of its features as necessary.\n",
                "\n",
                "## references\n",
                "- [Documentation from Microsoft](https://docs.microsoft.com/de-de/sql/t-sql/language-elements/coalesce-transact-sql?view=sql-server-ver15)\n",
                ""
            ],
            "metadata": {
                "azdata_cell_guid": "933b4219-f9e9-456f-8cc7-9fe65788f1d0"
            }
        }
    ]
}