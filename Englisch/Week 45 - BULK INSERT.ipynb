{
    "metadata": {
        "kernelspec": {
            "name": "SQL",
            "display_name": "SQL",
            "language": "sql"
        },
        "language_info": {
            "name": "sql",
            "version": ""
        }
    },
    "nbformat_minor": 2,
    "nbformat": 4,
    "cells": [
        {
            "cell_type": "markdown",
            "source": [
                "# Week 45: BULK INSERT\r\n",
                "## What's a BULK INSERT? \r\n",
                "If you want to get larger amounts of data into a database, the wonder weapon in the SQL Server environment is of course SQL Server Integration Services. If you want to do this for a SQL database in the cloud, you don't have an SSIS engine available for the time being, you need to use an Azure Data Factory with an Integration Services Runtime. But if it's just a matter of loading a formatted file into a table, you may be able to take a slightly \"easier\" way and load the data into the table using a `BULK INSERT` statement. \r\n",
                "## How can you use BULK INSERT?\r\n",
                "The `BULK INSERT` command writes the data from a file into a table, and the command automatically works in batches, the size of which can be configured. To have data that we can import, we export the data from a query on the `WideWorldImporters` database to a CSV file. To do this, we execute the following query in Azure Data Studio:"
            ],
            "metadata": {
                "azdata_cell_guid": "ad7844f6-404d-49bc-9ec0-5e1d03828351"
            }
        },
        {
            "cell_type": "code",
            "source": [
                "SELECT \r\n",
                "     StockItemID\r\n",
                "    ,StockItemName\r\n",
                "    ,ColorName\r\n",
                "    ,RecommendedRetailPrice\r\n",
                "    ,TaxRate\r\n",
                "    ,UnitPrice\r\n",
                "    ,SupplierName\r\n",
                "    ,SupplierCategoryName\r\n",
                "FROM [Warehouse].[StockItems] si \r\n",
                "LEFT JOIN \r\n",
                "[Warehouse].[Colors] c\r\n",
                "ON si.ColorID = c.ColorID\r\n",
                "LEFT JOIN [Purchasing].[Suppliers] sup \r\n",
                "ON si.SupplierID = sup.SupplierID\r\n",
                "LEFT JOIN [Purchasing].[SupplierCategories] supc\r\n",
                "ON sup.SupplierCategoryID = supc.SupplierCategoryID"
            ],
            "metadata": {
                "azdata_cell_guid": "ccd11be2-ad89-4cc8-8d74-e8516e2546f0"
            },
            "outputs": [],
            "execution_count": 0
        },
        {
            "cell_type": "markdown",
            "source": [
                "We now export this data as CSV. We can do this both in SQL Server Management Studio and Azure Data Studio by selecting the whole table and then copying and pasting it into Excel, where you will save the result as CSV. It would be easier to save in Azure Data Studio by right-clicking on the table and selecting \"Save as CSV\", but then we have no control over thousand separators and column separators, which we may need to adjust, because even in 2020 computers are not yet ready to paste data you have exported from a database directly back into it.  \r\n",
                "\r\n",
                "Now we want to use this CSV file to load it into a new table via `BULK INSERT`. For this we have to create a table first. A few weeks ago you already got to know the pattern `SELECT TOP 0 INTO`, which we now use to create a table:"
            ],
            "metadata": {
                "azdata_cell_guid": "6e6e77c5-58fe-49d3-ba16-3333a0264002"
            }
        },
        {
            "cell_type": "code",
            "source": [
                "SELECT TOP 0 \r\n",
                "     StockItemID\r\n",
                "    ,StockItemName\r\n",
                "    ,ColorName\r\n",
                "    ,RecommendedRetailPrice\r\n",
                "    ,TaxRate\r\n",
                "    ,UnitPrice\r\n",
                "    ,SupplierName\r\n",
                "    ,SupplierCategoryName\r\n",
                "INTO Sales.SpecialItems\r\n",
                "FROM [Warehouse].[StockItems] si \r\n",
                "LEFT JOIN \r\n",
                "[Warehouse].[Colors] c\r\n",
                "ON si.ColorID = c.ColorID\r\n",
                "LEFT JOIN [Purchasing].[Suppliers] sup \r\n",
                "ON si.SupplierID = sup.SupplierID\r\n",
                "LEFT JOIN [Purchasing].[SupplierCategories] supc\r\n",
                "ON sup.SupplierCategoryID = supc.SupplierCategoryID"
            ],
            "metadata": {
                "azdata_cell_guid": "450a1aaf-abb0-469c-9b4f-d68ad786baa6"
            },
            "outputs": [],
            "execution_count": 0
        },
        {
            "cell_type": "markdown",
            "source": [
                "Now you can use `BULK INSERT` to write to this empty table, but you must make sure that the file exists on your database server, not on your client. This means you must either copy it there, or put it on a network share, or if you are using a Docker container like us, copy it into that container:\r\n",
                "\r\n",
                "`docker cp WWI_Items.csv container_name:/tmp/`\r\n",
                "\r\n",
                "If you have now provided the file cleanly (comma as column separator, no thousand separators and dot as decimal separator), and deleted all `NULL` values (the string \"NULL\" is not a NULL value during import), you can now load the file into your table: "
            ],
            "metadata": {
                "azdata_cell_guid": "692e0f33-025e-4e7a-981b-2c12e49e9402"
            }
        },
        {
            "cell_type": "code",
            "source": [
                "BULK INSERT Sales.SpecialItems\r\n",
                "FROM '/tmp/WWI_Items.csv'\r\n",
                "WITH ( FORMAT='CSV');"
            ],
            "metadata": {
                "azdata_cell_guid": "5210caa0-e19c-48e5-9814-6ee49d781d2d"
            },
            "outputs": [],
            "execution_count": 0
        },
        {
            "cell_type": "markdown",
            "source": [
                "In the `WITH` block you have further possibilities to intervene in a controlling way, you can for example set the column separator. \n",
                "\n",
                "Provided your CSV files are clean and correspond to the desired input format, you now have a technically simple way to quickly load data from a CSV file into a table in your database. \n",
                "\n",
                "## References\n",
                "- [Documentation from Microsoft](https://docs.microsoft.com/de-de/sql/t-sql/statements/bulk-insert-transact-sql?view=sql-server-ver15)"
            ],
            "metadata": {
                "azdata_cell_guid": "76325f9f-f1ab-4b3f-889e-e36f7049b8d9"
            }
        }
    ]
}