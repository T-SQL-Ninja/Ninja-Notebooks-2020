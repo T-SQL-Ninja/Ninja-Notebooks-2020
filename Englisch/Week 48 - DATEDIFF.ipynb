{
    "metadata": {
        "kernelspec": {
            "name": "SQL",
            "display_name": "SQL",
            "language": "sql"
        },
        "language_info": {
            "name": "sql",
            "version": ""
        }
    },
    "nbformat_minor": 2,
    "nbformat": 4,
    "cells": [
        {
            "cell_type": "markdown",
            "source": [
                "# Week 48: DATEDIFF\r\n",
                "## What does DATEDIFF do? \r\n",
                "Today we'll look at one of the most well-known and really frequently used functions in SQL Server: `DATEDIFF`. The `DATEDIFF` function belongs to the functions for time objects, with it you can calculate the time between two datetime timestamps. You are free to specify the interval in years, months, days, hours, minutes, seconds, milliseconds or nanoseconds, only the return value must be in the value range of `INT`. \r\n",
                "## How can you work with DATEDIFF?\r\n",
                "As already mentioned, the `DATEDIFF` function calculates the distance between two DateTime values. Let's look at an example from the `WideWorldImporters` database in the `Sales.Orders` table. \r\n",
                "If we want to know here how many days were between the first and the last order of a customer, i.e. how long the customer has been our customer, we can do this as follows"
            ],
            "metadata": {
                "azdata_cell_guid": "4ad9a364-bf68-4921-ae9f-5241ed392700"
            }
        },
        {
            "cell_type": "code",
            "source": [
                "SELECT \r\n",
                "     MIN(OrderDate) AS MinOrderDate\r\n",
                "    ,MAX(OrderDate) AS MaxOrderDate\r\n",
                "    ,DATEDIFF(DAY, MIN(OrderDate), MAX(OrderDate)) as DaysBetweenOrders\r\n",
                "    ,CustomerID \r\n",
                "FROM Sales.Orders\r\n",
                "GROUP BY CustomerID\r\n",
                "ORDER BY DATEDIFF(DAY, MIN(OrderDate), MAX(OrderDate)) DESC"
            ],
            "metadata": {
                "azdata_cell_guid": "edab20e1-e4ed-4ef2-94e7-35ea0902ec66"
            },
            "outputs": [],
            "execution_count": 0
        },
        {
            "cell_type": "markdown",
            "source": [
                "Of course, we can also have this time interval displayed in months or years:"
            ],
            "metadata": {
                "azdata_cell_guid": "5b5d26b0-6fd1-440f-ba0c-12ed0f2ebc7d"
            }
        },
        {
            "cell_type": "code",
            "source": [
                "SELECT \r\n",
                "     MIN(OrderDate) AS MinOrderDate\r\n",
                "    ,MAX(OrderDate) AS MaxOrderDate\r\n",
                "    ,DATEDIFF(DAY, MIN(OrderDate), MAX(OrderDate)) as DaysBetweenOrders\r\n",
                "    ,DATEDIFF(MONTH, MIN(OrderDate), MAX(OrderDate)) as MonthsBetweenOrders\r\n",
                "    ,DATEDIFF(YEAR, MIN(OrderDate), MAX(OrderDate)) as YearsBetweenOrders\r\n",
                "    ,CustomerID \r\n",
                "FROM Sales.Orders\r\n",
                "GROUP BY CustomerID\r\n",
                "ORDER BY DATEDIFF(DAY, MIN(OrderDate), MAX(OrderDate)) DESC\r\n",
                "\r\n",
                ""
            ],
            "metadata": {
                "azdata_cell_guid": "3b2b05cb-5719-4271-862d-d4a72159ec69"
            },
            "outputs": [],
            "execution_count": 0
        },
        {
            "cell_type": "markdown",
            "source": [
                "But we can also look at how long ago a customer's last order was placed, for example: "
            ],
            "metadata": {
                "azdata_cell_guid": "b1b56ba6-b95d-482c-b82c-b11face69e91"
            }
        },
        {
            "cell_type": "code",
            "source": [
                "SELECT \r\n",
                "     MIN(OrderDate) AS MinOrderDate\r\n",
                "    ,MAX(OrderDate) AS MaxOrderDate\r\n",
                "    ,DATEDIFF(DAY, MAX(OrderDate), GETDATE()) as DaysSinceLastOrder\r\n",
                "    ,CustomerID \r\n",
                "FROM Sales.Orders\r\n",
                "GROUP BY CustomerID\r\n",
                "ORDER BY DATEDIFF(DAY, MAX(OrderDate), GETDATE()) DESC"
            ],
            "metadata": {
                "azdata_cell_guid": "3b1ac97e-4fbd-48a1-b74f-e4a53eef370e"
            },
            "outputs": [],
            "execution_count": 0
        },
        {
            "cell_type": "markdown",
            "source": [
                "If you now want to calculate how much time was on average between the orders of a customer, you can do this with a CTE:"
            ],
            "metadata": {
                "azdata_cell_guid": "34c0ab87-0194-4a22-8d11-975d527eceef"
            }
        },
        {
            "cell_type": "code",
            "source": [
                ";WITH cte_dates AS (\r\n",
                "    SELECT \r\n",
                "         DATEDIFF(DAY, \r\n",
                "            OrderDate, \r\n",
                "            LEAD(OrderDate, 1) OVER (PARTITION BY CustomerID ORDER BY OrderDate)\r\n",
                "         ) DaysBetweenOrders\r\n",
                "        ,CustomerID \r\n",
                "    FROM Sales.Orders\r\n",
                ")\r\n",
                "SELECT \r\n",
                "     AVG(CAST(DaysBetweenOrders AS decimal(10,2)))\r\n",
                "    ,CustomerID\r\n",
                "FROM cte_dates\r\n",
                "GROUP BY CustomerID"
            ],
            "metadata": {
                "azdata_cell_guid": "2a2d4b59-631a-429f-927e-eccd5699bd21"
            },
            "outputs": [],
            "execution_count": 0
        },
        {
            "cell_type": "markdown",
            "source": [
                "But as written above, this only works as long as the return value is within the value range of `INT`. You can determine the maximum value for an integer in SQL as follows:"
            ],
            "metadata": {
                "azdata_cell_guid": "12416afe-cfdd-4b01-abfd-cd5219a8853f"
            }
        },
        {
            "cell_type": "code",
            "source": [
                "SELECT -1-POWER(-2,31);"
            ],
            "metadata": {
                "azdata_cell_guid": "4ee8bbba-21d8-427f-993f-851d81dbc6d0"
            },
            "outputs": [],
            "execution_count": 0
        },
        {
            "cell_type": "markdown",
            "source": [
                "This gives us the value 2147483647, so if we look at the nanosecond portion of time, two dates between which we want to determine the nanoseconds can be a maximum of 2.15 seconds apart. Let's try this, the following query returns an overflow error: "
            ],
            "metadata": {
                "azdata_cell_guid": "bd082af7-84d5-4590-aa12-34b9983906d3"
            }
        },
        {
            "cell_type": "code",
            "source": [
                "DECLARE @currentDate datetime = GETDATE()\r\n",
                "SELECT DATEDIFF(NANOSECOND, DATEADD(SECOND, -3, @currentDate), @currentDate)"
            ],
            "metadata": {
                "azdata_cell_guid": "959e155f-4647-4d50-a675-8f28ee8b9e3b"
            },
            "outputs": [],
            "execution_count": 0
        },
        {
            "cell_type": "markdown",
            "source": [
                "However, if we reduce the time window to 2 seconds, we get a result:"
            ],
            "metadata": {
                "azdata_cell_guid": "03483e34-1c12-4d9c-b405-d43020043b24"
            }
        },
        {
            "cell_type": "code",
            "source": [
                "DECLARE @currentDate datetime = GETDATE()\r\n",
                "SELECT DATEDIFF(NANOSECOND, DATEADD(SECOND, -2, @currentDate), @currentDate)"
            ],
            "metadata": {
                "azdata_cell_guid": "9b536f98-9869-4ffc-9262-55c2373154bb"
            },
            "outputs": [],
            "execution_count": 0
        },
        {
            "cell_type": "markdown",
            "source": [
                "Let us now consider the maximum distance between two timestamps when they are separated by the maximum INT value in milliseconds or seconds:"
            ],
            "metadata": {
                "azdata_cell_guid": "d5dfe38d-928f-4126-9c8d-2b5603305269"
            }
        },
        {
            "cell_type": "code",
            "source": [
                "DECLARE @MaxInt int = -1-POWER(-2,31);\r\n",
                "DECLARE @currentDate datetime = GETDATE()\r\n",
                "\r\n",
                "SELECT \r\n",
                "     DATEDIFF(HOUR, @currentDate, DATEADD(MILLISECOND, @MaxInt, @currentDate)) MaxMSHours\r\n",
                "    ,DATEDIFF(DAY, @currentDate, DATEADD(MILLISECOND, @MaxInt, @currentDate)) MaxMSDays\r\n",
                "    ,DATEDIFF(YEAR, @currentDate, DATEADD(MILLISECOND, @MaxInt, @currentDate)) MaxMSYears\r\n",
                "    ,DATEDIFF(HOUR, @currentDate, DATEADD(SECOND, @MaxInt, @currentDate)) MaxSHours\r\n",
                "    ,DATEDIFF(DAY, @currentDate, DATEADD(SECOND, @MaxInt, @currentDate)) MaxSDays\r\n",
                "    ,DATEDIFF(YEAR, @currentDate, DATEADD(SECOND, @MaxInt, @currentDate)) MaxSYears"
            ],
            "metadata": {
                "azdata_cell_guid": "81a076ac-8ad0-4a10-a80e-f0fc326255b4"
            },
            "outputs": [],
            "execution_count": 0
        },
        {
            "cell_type": "markdown",
            "source": [
                "You can see that two timestamps that you want to know the distance in milliseconds can be a maximum of 25 days apart, while two timestamps that you want to know the distance in seconds can be a maximum of 68 years apart before the overflow of `INT` occurs. That's pretty granular for such time spans. \n",
                "\n",
                "## References\n",
                "- [Documentation from Microsoft](https://docs.microsoft.com/de-de/sql/t-sql/functions/datediff-transact-sql?view=sql-server-ver15)"
            ],
            "metadata": {
                "azdata_cell_guid": "de461d93-62c5-4ffe-a346-f0ff78054f92"
            }
        }
    ]
}