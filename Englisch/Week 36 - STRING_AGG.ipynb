{
    "metadata": {
        "kernelspec": {
            "name": "SQL",
            "display_name": "SQL",
            "language": "sql"
        },
        "language_info": {
            "name": "sql",
            "version": ""
        }
    },
    "nbformat_minor": 2,
    "nbformat": 4,
    "cells": [
        {
            "cell_type": "markdown",
            "source": [
                "# Week 36: STRING_AGG\r\n",
                "## What is STRING_AGG?\r\n",
                "Last week you saw how to use `STUFF` and `SELECT FOR XML` to create a comma-separated list from the rows of a table. Since SQL Server 2017, this has become even easier with the introduction of the `STRING_AGG` function. The `STRING_AGG` function concatenates strings and inserts a separator. \r\n",
                "## What can you do with STRING_AGG?\r\n",
                "Remember last week when we created a comma separated list of transaction types with the following statement "
            ],
            "metadata": {
                "azdata_cell_guid": "90b6900d-b270-40c0-b87b-3f257b705116"
            }
        },
        {
            "cell_type": "code",
            "source": [
                "SELECT \r\n",
                "    STUFF(\r\n",
                "        (SELECT ','+TransactionTypeName\r\n",
                "            FROM [Application].[TransactionTypes] \r\n",
                "            FOR XML PATH ('')\r\n",
                "        ), 1, 1, '')"
            ],
            "metadata": {
                "azdata_cell_guid": "8c50d420-4044-47ca-b4b5-fc5eb88c11e7"
            },
            "outputs": [],
            "execution_count": 0
        },
        {
            "cell_type": "markdown",
            "source": [
                "This is not necessarily elegant, but works on all versions of SQL Server. The unpleasant thing about it is that we have to nest `SELEC` statements for this procedure if we want to add other columns. \r\n",
                "\r\n",
                "More elegant is the use of `STRING_AGG`, because here no nested `SELECT` is necessary anymore, the query is very simple and direct:"
            ],
            "metadata": {
                "azdata_cell_guid": "a35460d3-4b5d-4ade-b41d-5aa65f7e0d75"
            }
        },
        {
            "cell_type": "code",
            "source": [
                "SELECT STRING_AGG(TransactionTypeName, ', ')\r\n",
                "FROM [Application].[TransactionTypes]"
            ],
            "metadata": {
                "azdata_cell_guid": "98145bfe-4380-4ac0-851a-3e682491beb0"
            },
            "outputs": [],
            "execution_count": 0
        },
        {
            "cell_type": "markdown",
            "source": [
                "This query is of course much more elegant and simple than last week's query. This is of course a big advantage of this feature. But it gets even more exciting if we now want to include another column, the `TransactionTypeID` in the query. For the `STUFF` query, the fact that `STUFF` is an aggregate function such as `SUM`, `MIN` or `MAX` will then take effect, which is why we need a `GROUP BY`. The query is then:"
            ],
            "metadata": {
                "azdata_cell_guid": "fdff978f-4f40-402c-ac27-e9c3af1c3b46"
            }
        },
        {
            "cell_type": "code",
            "source": [
                "SELECT\r\n",
                "     TransactionTypeID\r\n",
                "    ,STUFF(\r\n",
                "        (SELECT ','+TransactionTypeName\r\n",
                "            FROM [Application].[TransactionTypes] \r\n",
                "            FOR XML PATH ('')\r\n",
                "        ), 1, 1, '')\r\n",
                "FROM [Application].[TransactionTypes]\r\n",
                "GROUP BY TransactionTypeID"
            ],
            "metadata": {
                "azdata_cell_guid": "53327660-4d3a-46ec-9172-038547067230"
            },
            "outputs": [],
            "execution_count": 0
        },
        {
            "cell_type": "markdown",
            "source": [
                "The same applies to `STRING_AGG` where the \"aggregate\" is already in the name. Here we have to write instead:"
            ],
            "metadata": {
                "azdata_cell_guid": "767d9eae-3af1-4009-9c3e-1e0bc54e76f0"
            }
        },
        {
            "cell_type": "code",
            "source": [
                "SELECT\r\n",
                "     TransactionTypeID\r\n",
                "    ,STRING_AGG(TransactionTypeName, ',')\r\n",
                "FROM [Application].[TransactionTypes]\r\n",
                "GROUP BY TransactionTypeID\r\n",
                ""
            ],
            "metadata": {
                "azdata_cell_guid": "6fc2d26a-66bc-45a2-a7f9-e12c8c327e47"
            },
            "outputs": [],
            "execution_count": 0
        },
        {
            "cell_type": "markdown",
            "source": [
                "But careful, now also the output of the two queries is different. While the `STUFF` query executes the sub-query for each row of the result set, i.e. writes the entire comma-separated list on each row, the second query writes only those `TransactionTypeNames` on the row that belong to the corresponding `TransactionTypeID`, i.e. only one entry each. If this is not the behaviour we are looking for, we would have to work with a subquery, a CTE or `OUTER APPLY` here as well:"
            ],
            "metadata": {
                "azdata_cell_guid": "db01618a-24fd-4563-aaee-59062371c8d2"
            }
        },
        {
            "cell_type": "code",
            "source": [
                "SELECT\r\n",
                "     TransactionTypeID\r\n",
                "    ,subqery.CSV\r\n",
                "FROM [Application].[TransactionTypes]\r\n",
                "OUTER APPLY (\r\n",
                "    SELECT \r\n",
                "         STRING_AGG(TransactionTypeName, ',') as CSV \r\n",
                "    FROM [Application].[TransactionTypes]\r\n",
                ") subqery"
            ],
            "metadata": {
                "azdata_cell_guid": "1b75001e-7146-4ed2-a623-3df4567a9296"
            },
            "outputs": [],
            "execution_count": 0
        },
        {
            "cell_type": "markdown",
            "source": [
                "What you should take from the dojo today: If you are using a database that supports this feature, use `STRING_AGG`, which is the much simpler, more elegant and often even more performant way of linking strings of a column. But be careful when replacing the `STUFF` formulation 1:1 in old applications, the aggregation might not work for you, so be sure to test your results... But as real ninjas you do that anyway. \n",
                "## References\n",
                "- [Documentation from Microsoft](https://docs.microsoft.com/de-de/sql/t-sql/functions/string-agg-transact-sql?view=sql-server-ver15)\n",
                ""
            ],
            "metadata": {
                "azdata_cell_guid": "15c8b163-8451-4974-8023-87adb3492289"
            }
        }
    ]
}