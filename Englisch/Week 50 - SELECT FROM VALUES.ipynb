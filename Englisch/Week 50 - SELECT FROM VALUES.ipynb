{
    "metadata": {
        "kernelspec": {
            "name": "SQL",
            "display_name": "SQL",
            "language": "sql"
        },
        "language_info": {
            "name": "sql",
            "version": ""
        }
    },
    "nbformat_minor": 2,
    "nbformat": 4,
    "cells": [
        {
            "cell_type": "markdown",
            "source": [
                "# Week 50: SELECT FROM VALUES\r\n",
                "## What does SELECT FROM VALUES actually do? \r\n",
                "Whenever you needed a small table to use for example for joins or something similar, we worked with temporary tables (hashtables, #-tables) here in the Dojo. The disadvantage of this is that if you want to run your script multiple times, you always had to drop these objects with a `DROP TABLE IF EXISTS`, which doesn't really increase the readability. And even if you want to join against a small table in an application, which you don't want to persist in the database or create as a temporary object in the TempDB, `SELECT FROM VALUES` is an alternative to the popular #-tables. \r\n",
                "## How can you work with SELECT FROM VALUES?\r\n",
                "Let's start by creating a small collection of values to query from:"
            ],
            "metadata": {
                "azdata_cell_guid": "618c707f-7e6d-4a47-aa8f-da34f4bcf043"
            }
        },
        {
            "cell_type": "code",
            "source": [
                "SELECT \r\n",
                "     NinjaName\r\n",
                "    ,Kills\r\n",
                "FROM\r\n",
                "    (\r\n",
                "        VALUES \r\n",
                "         ('Chimozuki', 45)\r\n",
                "    ) as t(NinjaName, Kills)"
            ],
            "metadata": {
                "azdata_cell_guid": "866626d2-149c-4713-9d59-2941f2c9fd01"
            },
            "outputs": [],
            "execution_count": 0
        },
        {
            "cell_type": "markdown",
            "source": [
                "Of course we can also create more than one line of data here:"
            ],
            "metadata": {
                "azdata_cell_guid": "870d117c-4992-4e93-ad73-421540851666"
            }
        },
        {
            "cell_type": "code",
            "source": [
                "SELECT \r\n",
                "     NinjaName\r\n",
                "    ,Kills\r\n",
                "FROM\r\n",
                "    (\r\n",
                "        VALUES \r\n",
                "         ('Chimozuki', 45)\r\n",
                "        ,('Lushikute', 82)\r\n",
                "    ) as t(NinjaName, Kills)"
            ],
            "metadata": {
                "azdata_cell_guid": "bef74dde-5bd8-4a5a-9760-a5418e14ff8f"
            },
            "outputs": [],
            "execution_count": 0
        },
        {
            "cell_type": "markdown",
            "source": [
                "What you might notice here is that the SQL Server automatically takes the `Kills` column as an integer value and returns the average as an integer value, so you get 63 as the average. If you specify decimal places for the kills, you will get the exact value 63.5:"
            ],
            "metadata": {
                "azdata_cell_guid": "1fde804d-a0ca-4920-bd9e-7844d2f2e238"
            }
        },
        {
            "cell_type": "code",
            "source": [
                "SELECT \r\n",
                "     AVG(Kills)\r\n",
                "FROM\r\n",
                "    (\r\n",
                "        VALUES \r\n",
                "         ('Chimozuki', 45.0)\r\n",
                "        ,('Lushikute', 82.0)\r\n",
                "    ) as t(NinjaName, Kills)"
            ],
            "metadata": {
                "azdata_cell_guid": "26b9afdf-f9a6-4796-8b30-fb1166788e4f"
            },
            "outputs": [],
            "execution_count": 0
        },
        {
            "cell_type": "markdown",
            "source": [
                "But you can also execute joins against the table objects as mentioned before. For example, if you want to filter the `Application.Countries` table against some fixed values in the WideWorldImporters database, you can do this as follows:"
            ],
            "metadata": {
                "azdata_cell_guid": "3efda0cc-ec04-4c89-a5fa-5d74e7dd58e1"
            }
        },
        {
            "cell_type": "code",
            "source": [
                "SELECT \r\n",
                "     [CountryID]\r\n",
                "    ,[CountryName]\r\n",
                "    ,[FormalName]\r\n",
                "    ,[IsoAlpha3Code]\r\n",
                "    ,[LatestRecordedPopulation]\r\n",
                "    ,[Continent]\r\n",
                "  FROM [Application].[Countries] as c\r\n",
                "  INNER JOIN\r\n",
                "  (\r\n",
                "      SELECT FilteredID \r\n",
                "      FROM (VALUES (1), (11), (100)) as SelectedCountries(FilteredID)\r\n",
                "  ) s\r\n",
                "  ON c.CountryID = s.FilteredID"
            ],
            "metadata": {
                "azdata_cell_guid": "33e359a0-5b2e-4cde-8b78-0e9478c32953"
            },
            "outputs": [],
            "execution_count": 0
        },
        {
            "cell_type": "markdown",
            "source": [
                "Of course, this would be easier with an `IN` in the `WHERE` condition, but this is a matter of principle and not of the most elegant solution for some sample queries... \n",
                "Why should you use `SELECT FROM VALUES` instead of #-tables? It's simple: your code will be easier if you don't have to clear the objects yourself and can simply run queries multiple times in the same context without worrying about duplicates. Also, you don't need to write `CREATE` statements, you can simply create and use the objects directly in the query. \n",
                "Why should you use # tables instead of `SELECT FROM VALUES`? Simple: you can index and reuse #-tables, which will improve the performance of your queries. You can also create the columns of #-tables in the correct datatypes, reducing the probability of implicit converts in the execution plan. \n",
                "So, as so often, it is a question of what you want to do with the temporary objects, which object is the right choice for you. As with the Ninja, a katana is a fine thing, but if the enemy is still 50 meters away, shurikens may be the better choice. Adjust the choice of your temporary objects to your opponent.  \n",
                "## References\n",
                "- [Pinal Dave's contribution on the subject](https://blog.sqlauthority.com/2015/07/06/sql-server-creating-dataset-using-values-clause-without-creating-a-table/)"
            ],
            "metadata": {
                "azdata_cell_guid": "de8191a1-85ef-4967-a544-4ee0dc93fa3a"
            }
        }
    ]
}