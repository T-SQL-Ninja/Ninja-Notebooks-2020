{
    "metadata": {
        "kernelspec": {
            "name": "SQL",
            "display_name": "SQL",
            "language": "sql"
        },
        "language_info": {
            "name": "sql",
            "version": ""
        }
    },
    "nbformat_minor": 2,
    "nbformat": 4,
    "cells": [
        {
            "cell_type": "markdown",
            "source": [
                "# Week 47: COMPRESS\r\n",
                "## What is COMPRESS? \r\n",
                "If you have a large amount of data in a database that you no longer need, such as deleted records that you want to archive but are no longer used in your application, then it would be nice if this data was stored in compressed form. How you can achieve this with the help of the `COMPRESS` function, you can see today in our Dojo. \r\n",
                "## How can you use COMPRESS?\r\n",
                "What does COMPRESS do? The COMPRESS function converts the input value into a byte array of the type `VARBINARY(MAX)`, compressed with the GZIP algorithm. This means that you can pass a value, such as a string, to this function, and that value will be compressed and returned. How can you use this? To demonstrate this, we use the WideWorldImporters database and work with the Sales Invoicelines. First we create a table where we can archive deleted data:"
            ],
            "metadata": {
                "azdata_cell_guid": "454ea53f-eda3-473b-9da3-c13eb5baa928"
            }
        },
        {
            "cell_type": "code",
            "source": [
                "DROP TABLE IF EXISTS [Sales].[DeletedInvoiceLines]\r\n",
                "\r\n",
                "SELECT TOP 0 [InvoiceLineID]\r\n",
                "      ,[InvoiceID]\r\n",
                "      ,[StockItemID]\r\n",
                "      ,[Description]\r\n",
                "      ,[PackageTypeID]\r\n",
                "      ,[Quantity]\r\n",
                "      ,[UnitPrice]\r\n",
                "      ,[TaxRate]\r\n",
                "      ,[TaxAmount]\r\n",
                "      ,[LineProfit]\r\n",
                "      ,[ExtendedPrice]\r\n",
                "      ,[LastEditedBy]\r\n",
                "      ,[LastEditedWhen]\r\n",
                "INTO [Sales].[DeletedInvoiceLines]\r\n",
                "FROM [Sales].[InvoiceLines]"
            ],
            "metadata": {
                "azdata_cell_guid": "75a8c2ba-c045-4dbf-a0f4-c9d1da05d75b"
            },
            "outputs": [],
            "execution_count": 0
        },
        {
            "cell_type": "markdown",
            "source": [
                "Of course, this is not the best way to create an archive table, as you should normally worry about filegroups and locations, but for our current demonstration, this table will suffice. \r\n",
                "\r\n",
                "If you want to delete data and archive it in the new table, you can do so as follows: \r\n",
                ""
            ],
            "metadata": {
                "azdata_cell_guid": "2dfca472-5dfb-495f-bb20-ac72e6c76506"
            }
        },
        {
            "cell_type": "code",
            "source": [
                "DELETE \r\n",
                "FROM [Sales].[InvoiceLines]\r\n",
                "OUTPUT \r\n",
                "     Deleted.[InvoiceLineID]\r\n",
                "    ,Deleted.[InvoiceID]\r\n",
                "    ,Deleted.[StockItemID]\r\n",
                "    ,Deleted.[Description]\r\n",
                "    ,Deleted.[PackageTypeID]\r\n",
                "    ,Deleted.[Quantity]\r\n",
                "    ,Deleted.[UnitPrice]\r\n",
                "    ,Deleted.[TaxRate]\r\n",
                "    ,Deleted.[TaxAmount]\r\n",
                "    ,Deleted.[LineProfit]\r\n",
                "    ,Deleted.[ExtendedPrice]\r\n",
                "    ,Deleted.[LastEditedBy]\r\n",
                "    ,Deleted.[LastEditedWhen]\r\n",
                "INTO Sales.DeletedInvoiceLines\r\n",
                "WHERE InvoiceID < 50000"
            ],
            "metadata": {
                "azdata_cell_guid": "004cd4fa-56d8-41b0-b438-7f2d02571761"
            },
            "outputs": [],
            "execution_count": 0
        },
        {
            "cell_type": "markdown",
            "source": [
                "So now you have deleted the data from the productive table but not compressed it, how can we manage to compress the data? First, we copy the archived data back into the original table:"
            ],
            "metadata": {
                "azdata_cell_guid": "e58a0321-4f12-4e6b-ad51-44ebcf272785"
            }
        },
        {
            "cell_type": "code",
            "source": [
                "INSERT INTO Sales.InvoiceLines \r\n",
                "SELECT * FROM Sales.DeletedInvoiceLines"
            ],
            "metadata": {
                "azdata_cell_guid": "0d49c2ad-2093-4fa5-b730-4c2871a9669c"
            },
            "outputs": [],
            "execution_count": 0
        },
        {
            "cell_type": "markdown",
            "source": [
                "Unfortunately, it is now the case that not all data types are suitable for compression with `COMPRESS`. Therefore, the `COMPRESS` function only allows values of the following data types as arguments: \r\n",
                "\r\n",
                "- `binary(n)`\r\n",
                "- `char(n)`\r\n",
                "- `nchar(n)`\r\n",
                "- `nvarchar(max)`\r\n",
                "- `nvarchar(n)`\r\n",
                "- `varbinary(max)`\r\n",
                "- `varbinary(n)`\r\n",
                "- `varchar(max)`\r\n",
                "\r\n",
                "How can we take advantage of this? First, we convert the data of the InvoiceLines table into JSON objects. With a `SELECT` statement, for example, this would work as follows:  "
            ],
            "metadata": {
                "azdata_cell_guid": "f033ebf6-197b-4c4c-b431-f0d22cf88c42"
            }
        },
        {
            "cell_type": "code",
            "source": [
                "SELECT\r\n",
                "    CONCAT('{',\r\n",
                "        ' \"InvoiceLineID\" : ', [InvoiceLineID], \r\n",
                "        ',\"InvoiceID\" : ', [InvoiceID],\r\n",
                "        ',\"StockItemID\" : ', [StockItemID],\r\n",
                "        ',\"Description\" : ', '\"', [Description], '\"',\r\n",
                "        ',\"PackageTypeID\" : ', [PackageTypeID],\r\n",
                "        ',\"Quantity\" : ', [Quantity],\r\n",
                "        ',\"UnitPrice\" : ', [UnitPrice],\r\n",
                "        ',\"TaxRate\" : ', [TaxRate],\r\n",
                "        ',\"TaxAmount\" : ', [TaxAmount],\r\n",
                "        ',\"LineProfit\" : ', [LineProfit], \r\n",
                "        ',\"ExtendedPrice\" : ', [ExtendedPrice], \r\n",
                "        ',\"LastEditedBy\" : ', [LastEditedBy], \r\n",
                "        ',\"LastEditedWhen\" : ', '\"', [LastEditedWhen], '\"',\r\n",
                "        '}'\r\n",
                "    )\r\n",
                "FROM Sales.InvoiceLines"
            ],
            "metadata": {
                "azdata_cell_guid": "576dc347-1a84-4ab8-9264-995da9b2ac9c"
            },
            "outputs": [],
            "execution_count": 0
        },
        {
            "cell_type": "markdown",
            "source": [
                "This definition is not exactly elegant, but it serves its purpose. Now let's work with these objects in our delete statement by compressing this column and writing it to an archive table. We create this archive table as follows:\r\n",
                "\r\n",
                "Now we write the deleted data into this table:"
            ],
            "metadata": {
                "azdata_cell_guid": "ea321f72-9023-4c23-88e6-c168e1093616"
            }
        },
        {
            "cell_type": "code",
            "source": [
                "DELETE \r\n",
                "FROM [Sales].[InvoiceLines]\r\n",
                "OUTPUT \r\n",
                "     COMPRESS(\r\n",
                "       CONCAT('{',\r\n",
                "        ' \"InvoiceLineID\" : ', Deleted.[InvoiceLineID], \r\n",
                "        ',\"InvoiceID\" : ', Deleted.[InvoiceID],\r\n",
                "        ',\"StockItemID\" : ', Deleted.[StockItemID],\r\n",
                "        ',\"Description\" : ', '\"', Deleted.[Description], '\"',\r\n",
                "        ',\"PackageTypeID\" : ', Deleted.[PackageTypeID],\r\n",
                "        ',\"Quantity\" : ', Deleted.[Quantity],\r\n",
                "        ',\"UnitPrice\" : ', Deleted.[UnitPrice],\r\n",
                "        ',\"TaxRate\" : ', Deleted.[TaxRate],\r\n",
                "        ',\"TaxAmount\" : ', Deleted.[TaxAmount],\r\n",
                "        ',\"LineProfit\" : ', Deleted.[LineProfit], \r\n",
                "        ',\"ExtendedPrice\" : ', Deleted.[ExtendedPrice], \r\n",
                "        ',\"LastEditedBy\" : ', Deleted.[LastEditedBy], \r\n",
                "        ',\"LastEditedWhen\" : ', '\"', Deleted.[LastEditedWhen], '\"',\r\n",
                "        '}'\r\n",
                "    ))\r\n",
                "INTO Sales.DeletedInvoiceLinesCompressed\r\n",
                "WHERE InvoiceID < 50000"
            ],
            "metadata": {
                "azdata_cell_guid": "9e80b17a-2a0b-48d2-a4ee-01460986d74f"
            },
            "outputs": [],
            "execution_count": 0
        },
        {
            "cell_type": "markdown",
            "source": [
                "For this table, the chosen procedure is not very efficient, as you can easily confirm by using the `sp_spaceused` function, since many of the columns, namely all numerical values, are not compressed here and the overhead caused by the JSON format is enormous. But if you do this with tables that contain many `VARCHAR` fields, it looks different. As an alternative approach, let's just choose to compress the description column. For this we create the following table:"
            ],
            "metadata": {
                "azdata_cell_guid": "d85f670e-8ebb-4c07-aac6-4c0ccac491f5"
            }
        },
        {
            "cell_type": "code",
            "source": [
                "SELECT TOP 0\r\n",
                "     [InvoiceLineID]\r\n",
                "    ,[InvoiceID]\r\n",
                "    ,[StockItemID]\r\n",
                "    ,COMPRESS([Description]) as DescriptionCompressed\r\n",
                "    ,[PackageTypeID]\r\n",
                "    ,[Quantity]\r\n",
                "    ,[UnitPrice]\r\n",
                "    ,[TaxRate]\r\n",
                "    ,[TaxAmount]\r\n",
                "    ,[LineProfit]\r\n",
                "    ,[ExtendedPrice]\r\n",
                "    ,[LastEditedBy]\r\n",
                "    ,[LastEditedWhen]\r\n",
                "INTO Sales.DeletedInvoiceLinesCompressed_V2\r\n",
                "FROM Sales.InvoiceLines"
            ],
            "metadata": {
                "azdata_cell_guid": "ab4fbd0d-dca5-4965-9142-48f17cb0c6df"
            },
            "outputs": [],
            "execution_count": 0
        },
        {
            "cell_type": "markdown",
            "source": [
                "Now we adjust the `DELETE` statement as follows"
            ],
            "metadata": {
                "azdata_cell_guid": "9941a4e3-99d4-4d1f-9d8f-fb551d06c55e"
            }
        },
        {
            "cell_type": "code",
            "source": [
                "DELETE \r\n",
                "FROM [Sales].[InvoiceLines]\r\n",
                "OUTPUT \r\n",
                "     Deleted.[InvoiceLineID]\r\n",
                "    ,Deleted.[InvoiceID]\r\n",
                "    ,Deleted.[StockItemID]\r\n",
                "    ,COMPRESS(Deleted.[Description])\r\n",
                "    ,Deleted.[PackageTypeID]\r\n",
                "    ,Deleted.[Quantity]\r\n",
                "    ,Deleted.[UnitPrice]\r\n",
                "    ,Deleted.[TaxRate]\r\n",
                "    ,Deleted.[TaxAmount]\r\n",
                "    ,Deleted.[LineProfit]\r\n",
                "    ,Deleted.[ExtendedPrice]\r\n",
                "    ,Deleted.[LastEditedBy]\r\n",
                "    ,Deleted.[LastEditedWhen]\r\n",
                "INTO Sales.DeletedInvoiceLinesCompressed_V2\r\n",
                "WHERE InvoiceID < 50000"
            ],
            "metadata": {
                "azdata_cell_guid": "b82cf603-c593-441a-a5d2-b69cb9d3fe34"
            },
            "outputs": [],
            "execution_count": 0
        },
        {
            "cell_type": "markdown",
            "source": [
                "If you now compare the three tables with `sp_spaceused`, you will see that the data occupies 28,360 KB of memory in the original variant. In the version with the full JSON and a lot of overhead, however, you get 53,544 KB of space, which is caused by the poor compression of the numerical values and the overhead of the JSON structure. The variant in which only the description is compressed, however, comes to 27,920 KB of storage space for the data. Here a reduction of the data by about 2% has taken place by `COMPRESS`.\r\n",
                "\r\n",
                "To retrieve the compressed data again, we can use the `DECOMPRESS` function, but be careful: since `DECOMPRESS` does not know which value is \"hidden\" in the compressed byte array, you will get a `VARBINARY(MAX)` back here, which you have to CAST into the correct data value if you want to use it further: "
            ],
            "metadata": {
                "azdata_cell_guid": "851773ce-f6d6-47db-b87f-70999c3ec6f3"
            }
        },
        {
            "cell_type": "code",
            "source": [
                "SELECT \r\n",
                "     [InvoiceId]\r\n",
                "    ,[InvoiceLineId]\r\n",
                "    ,[DescriptionCompressed]\r\n",
                "    ,CAST(DECOMPRESS([DescriptionCompressed]) as nvarchar(100))\r\n",
                "FROM Sales.DeletedInvoiceLinesCompressed_V2\r\n",
                "WHERE InvoiceID = 1"
            ],
            "metadata": {
                "azdata_cell_guid": "97b28db9-9fa8-4a59-95b1-3b970c446818"
            },
            "outputs": [],
            "execution_count": 0
        },
        {
            "cell_type": "markdown",
            "source": [
                "In the Dojo you had seen that a `COMPRESS` is not always and everywhere useful. Furthermore you probably noticed at the running time of the examples that you buy a reduction of the memory and the IO-load of your system here with CPU-load, because calling `COMPRESS` line by line doesn't make your queries \"sporty\". So consider whether the reduction in memory is worth the overhead of the query. \n",
                "\n",
                "## References\n",
                "- [Documentation from Microsoft on COMPRESS](https://docs.microsoft.com/de-de/sql/t-sql/functions/compress-transact-sql?view=sql-server-ver15)\n",
                "- [Documentation from Microsoft about DECOMPRESS](https://docs.microsoft.com/de-de/sql/t-sql/functions/decompress-transact-sql?view=sql-server-ver15)"
            ],
            "metadata": {
                "azdata_cell_guid": "e19539b4-8034-4341-902f-e9a4492d66fa"
            }
        }
    ]
}