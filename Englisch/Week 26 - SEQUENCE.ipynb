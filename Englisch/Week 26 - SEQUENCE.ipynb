{
    "metadata": {
        "kernelspec": {
            "name": "SQL",
            "display_name": "SQL",
            "language": "sql"
        },
        "language_info": {
            "name": "sql",
            "version": ""
        }
    },
    "nbformat_minor": 2,
    "nbformat": 4,
    "cells": [
        {
            "cell_type": "markdown",
            "source": [
                "# Week 26: SEQUENCE\r\n",
                "## What are SEQUENCEs?\r\n",
                "One of the most important `SEQUENCE`s we already introduced to you in the last Randori. In general, a `SEQUENCE` object is a generalization of the `IDENTITY` attribute. While the `IDENTITY` attribute ensures that every new row is assigned a new number, the `SEQUENCE` object is an object that creates rows of numbers. Unlike the `IDENTITY` attribute, it is not bound to another database object (i.e. a table), but is a separate object that can be queried and used. \r\n",
                "## How can you work with SEQUENCEs?\r\n",
                "First you have to define a `SEQUENCE` object in a new schema. You do this with the `CREATE SEQUENCE` command:"
            ],
            "metadata": {
                "azdata_cell_guid": "2b00b5b4-422d-4351-95a4-7867077f3b69"
            }
        },
        {
            "cell_type": "code",
            "source": [
                "CREATE SCHEMA Test\r\n",
                "GO\r\n",
                "\r\n",
                "CREATE SEQUENCE Test.SeqCount \r\n",
                "    START WITH 1\r\n",
                "    INCREMENT BY 1;\r\n",
                "GO"
            ],
            "metadata": {
                "azdata_cell_guid": "529e95ad-cda5-480d-a41c-deb540c95704"
            },
            "outputs": [],
            "execution_count": 0
        },
        {
            "cell_type": "markdown",
            "source": [
                "So now you have created the `SEQUENCE` object, the parameters were similar to the `IDENTITY` property the start value (i.e. one) and the increment, i.e. the value by which the value is increased (i.e. one again). To get the next value from the sequence, execute the following statement a few times: "
            ],
            "metadata": {
                "azdata_cell_guid": "ab6a936f-be2b-4413-8216-5ce3efa4afbe"
            }
        },
        {
            "cell_type": "code",
            "source": [
                "SELECT NEXT VALUE FOR Test.SeqCount"
            ],
            "metadata": {
                "azdata_cell_guid": "37539231-eef1-4d44-a11e-92c48f754f9c"
            },
            "outputs": [],
            "execution_count": 0
        },
        {
            "cell_type": "markdown",
            "source": [
                "You can see that with every query the value increases by one. Unlike the `IDENTITY` property of a column, you have other options when creating a sequence. So now let's create a second sequence:"
            ],
            "metadata": {
                "azdata_cell_guid": "46613fe5-2e77-443c-977a-6722d8532815"
            }
        },
        {
            "cell_type": "code",
            "source": [
                "CREATE SEQUENCE Test.SeqCountMax\r\n",
                "    START WITH 1\r\n",
                "    INCREMENT BY 1\r\n",
                "    MINVALUE 1\r\n",
                "    MAXVALUE 5;\r\n",
                "GO"
            ],
            "metadata": {
                "azdata_cell_guid": "c4845666-2632-409d-8bed-bd0ce17bd1e5"
            },
            "outputs": [],
            "execution_count": 0
        },
        {
            "cell_type": "markdown",
            "source": [
                "In addition to the start value, you have given this sequence a minimum value (which in this case is equal to the start value) and a maximum value. If you now get the next value of the sequence six times, it will exceed the maximum value:"
            ],
            "metadata": {
                "azdata_cell_guid": "bec7e1b6-de82-431f-9d96-cffa642778aa"
            }
        },
        {
            "cell_type": "code",
            "source": [
                "SELECT NEXT VALUE FOR Test.SeqCountMax"
            ],
            "metadata": {
                "azdata_cell_guid": "6c113560-f29e-4be9-89d7-ce8451feb5d2"
            },
            "outputs": [],
            "execution_count": 0
        },
        {
            "cell_type": "markdown",
            "source": [
                "The first five calls will return the values 1 to 5, but the sixth call will return an error message that the sequence has reached its maximum value. \r\n",
                "What can be done about this? Simple: unlike the Identity property, sequences can be created to \"recycle\" values: "
            ],
            "metadata": {
                "azdata_cell_guid": "a4b82280-6668-4a4d-b50a-0f7c0837e148"
            }
        },
        {
            "cell_type": "code",
            "source": [
                "CREATE SEQUENCE Test.SeqCountCycle\r\n",
                "    START WITH 1\r\n",
                "    INCREMENT BY 1\r\n",
                "    MINVALUE 1\r\n",
                "    MAXVALUE 5\r\n",
                "    CYCLE;\r\n",
                "GO"
            ],
            "metadata": {
                "azdata_cell_guid": "aef6075d-ac78-4af7-8574-0db85acb7416"
            },
            "outputs": [],
            "execution_count": 0
        },
        {
            "cell_type": "markdown",
            "source": [
                "If you now call the next value six times, you will not get an error on the sixth call, but again the value 1: "
            ],
            "metadata": {
                "azdata_cell_guid": "c26e0936-11e4-41a2-8800-4ef52af37fce"
            }
        },
        {
            "cell_type": "code",
            "source": [
                "SELECT NEXT VALUE FOR Test.SeqCountCycle"
            ],
            "metadata": {
                "azdata_cell_guid": "708c1a45-8d9d-4bee-97d0-c19d3fb0b8e4"
            },
            "outputs": [],
            "execution_count": 0
        },
        {
            "cell_type": "markdown",
            "source": [
                "But you can not only jump back to the start value, but also to other values, for example we can output negative values in a sequence: "
            ],
            "metadata": {
                "azdata_cell_guid": "c5c54f25-3f56-47a0-b720-1bbb0935531b"
            }
        },
        {
            "cell_type": "code",
            "source": [
                "CREATE SEQUENCE Test.SeqCountCycleNeg\r\n",
                "    START WITH 1\r\n",
                "    INCREMENT BY 1\r\n",
                "    MINVALUE -5\r\n",
                "    MAXVALUE 5\r\n",
                "    CYCLE;\r\n",
                "GO"
            ],
            "metadata": {
                "azdata_cell_guid": "065c2070-f18d-482b-8f89-7290fd9e5613"
            },
            "outputs": [],
            "execution_count": 0
        },
        {
            "cell_type": "markdown",
            "source": [
                "If you now call up the next value of the sequence six times, you will receive the value -5 at the sixth call, which then runs through to +5 and then jumps back to -5:"
            ],
            "metadata": {
                "azdata_cell_guid": "af3d22bf-eb36-4f68-89da-1d2b3eb178c9"
            }
        },
        {
            "cell_type": "code",
            "source": [
                "SELECT NEXT VALUE FOR Test.SeqCountCycleNeg"
            ],
            "metadata": {
                "azdata_cell_guid": "8507a1a4-8589-40d1-9295-2930b98ee1f5"
            },
            "outputs": [],
            "execution_count": 0
        },
        {
            "cell_type": "markdown",
            "source": [
                "By the way, your `INCREMENT BY` can also be negative, in this case the sequence does not count the values up but down, so you can build a kind of \"countdown\"...\r\n",
                "\r\n",
                "But now for the benefit of sequences. Sequences become really practical when you have to define a kind of \"key\" over several tables. To demonstrate this, let's create a sequence and two tables that use this sequence as default value for their Id columns: "
            ],
            "metadata": {
                "azdata_cell_guid": "ab2f7106-b174-42c3-8448-a86dfd80c795"
            }
        },
        {
            "cell_type": "code",
            "source": [
                "DROP SEQUENCE IF EXISTS Test.SeqSharedKey;\r\n",
                "CREATE SEQUENCE Test.SeqSharedKey\r\n",
                "    START WITH 1\r\n",
                "    INCREMENT BY 1;\r\n",
                "\r\n",
                "DROP TABLE IF EXISTS Test.SucceededRuns\r\n",
                "DROP TABLE IF EXISTS Test.FailedRuns\r\n",
                "\r\n",
                "CREATE TABLE Test.SuccededRuns \r\n",
                "(\r\n",
                "     RunId int NOT NULL DEFAULT (NEXT VALUE FOR Test.SeqSharedKey)\r\n",
                "    ,RunName varchar(250) \r\n",
                ")\r\n",
                "\r\n",
                "CREATE TABLE Test.FailedRuns \r\n",
                "(\r\n",
                "     RunId int NOT NULL DEFAULT (NEXT VALUE FOR Test.SeqSharedKey)\r\n",
                "    ,RunName varchar(250) \r\n",
                ")"
            ],
            "metadata": {
                "azdata_cell_guid": "1944b8bf-05ba-44b9-aef5-c2d8c62842a8"
            },
            "outputs": [],
            "execution_count": 0
        },
        {
            "cell_type": "markdown",
            "source": [
                "Now we insert rows and query the tables: "
            ],
            "metadata": {
                "azdata_cell_guid": "bd42fc69-c37c-44bc-a5f0-7b8b4187b63a"
            }
        },
        {
            "cell_type": "code",
            "source": [
                "INSERT INTO Test.SuccededRuns (RunName)\r\n",
                "VALUES ('First Succeeded'), ('Second Succeeded')\r\n",
                "\r\n",
                "INSERT INTO Test.FailedRuns (RunName)\r\n",
                "VALUES ('First Failed')\r\n",
                "\r\n",
                "INSERT INTO Test.SuccededRuns (RunName)\r\n",
                "VALUES ('Third Succeeded')\r\n",
                "\r\n",
                "SELECT \r\n",
                "     RunId\r\n",
                "    ,RunName \r\n",
                "FROM Test.SuccededRuns\r\n",
                "\r\n",
                "SELECT \r\n",
                "     RunId\r\n",
                "    ,RunName \r\n",
                "FROM Test.FailedRuns"
            ],
            "metadata": {
                "azdata_cell_guid": "6ca99ccf-72ef-46f3-bd99-0473b6c24d79"
            },
            "outputs": [],
            "execution_count": 0
        },
        {
            "cell_type": "markdown",
            "source": [
                "We can see that in `Test.SucceededRuns` the runs with RunIds 1, 2 and 4 can be found, while the entry with the `RunId` 3 was entered in `Test.FailedRuns`. \n",
                "\n",
                "It is important to note, however, that there is no consistency here. Since the RunId column is not an identity column, we could enter any values here, including duplicates or fantasy values. Unlike a column with an `IDENTITY` property you would not even notice this, because you are not forced to do an explicit `IDENTITY_INSERT`, but can simply write into the column and unlike an `IDENTITY` column the sequence would not \"notice\" that a higher value is already entered here and continue there but simply continue stubbornly with the next value of the sequence. In such cases, the application would have to guarantee proper use, since the database system cannot necessarily guarantee it. \n",
                "\n",
                "## References\n",
                "- [Documentation from Microsoft](https://docs.microsoft.com/de-de/sql/t-sql/statements/create-sequence-transact-sql?view=sql-server-ver15)"
            ],
            "metadata": {
                "azdata_cell_guid": "336575fd-5d06-4bc1-9111-931ea2c269be"
            }
        }
    ]
}