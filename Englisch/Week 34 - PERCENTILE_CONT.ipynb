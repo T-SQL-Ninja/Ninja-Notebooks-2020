{
    "metadata": {
        "kernelspec": {
            "name": "SQL",
            "display_name": "SQL",
            "language": "sql"
        },
        "language_info": {
            "name": "sql",
            "version": ""
        }
    },
    "nbformat_minor": 2,
    "nbformat": 4,
    "cells": [
        {
            "cell_type": "markdown",
            "source": [
                "# Week 34: PERCENTILE_CONT\r\n",
                "## What does PERCENTILE_CONT do? \r\n",
                "The last time you worked in the Dojo you used the `PERCENTILE_DISC` function. This function always returned you the exact value in your table where a certain quantile was reached. That is, it operated on the discrete set of data and picked a specific value from that set, but what if you wanted to have an interpolated quantile instead, one that works on a continuous distribution function, i.e. one that doesn't work with discrete values like number or day but with continuous values? This is what the `PERCENTILE_CONT` function does, which will be your Randori partner today. \r\n",
                "## How can you work with PERCENTILE_CONT?\r\n",
                "Like last week, today's dojo will be rather short, as the syntax is not surprisingly the same as for `PERCENTILE_DISC`. So let's take a data set where we can compare both functions. \r\n",
                "For this we go to the `WideWorldImporters` database and look at the prices of the stock items:"
            ],
            "metadata": {
                "azdata_cell_guid": "d231490d-35bd-4877-8c75-280429ab93e6"
            }
        },
        {
            "cell_type": "code",
            "source": [
                "SELECT \r\n",
                "     UnitPrice\r\n",
                "    ,StockItemID\r\n",
                "FROM [Warehouse].[StockItems]"
            ],
            "metadata": {
                "azdata_cell_guid": "796e5db3-3fd1-4df5-8d66-d9930cdfcb42"
            },
            "outputs": [],
            "execution_count": 0
        },
        {
            "cell_type": "markdown",
            "source": [
                "From this data we would now like to find out at which prices the 0.05 and 0.95 quantiles are. This means that we determine the price range in which 90% of the products are located, which can help us to find outliers. For this we use both the `PERCENTILE_DISC` function:"
            ],
            "metadata": {
                "azdata_cell_guid": "16525bb9-bbc8-4c6f-b87a-520316d56956"
            }
        },
        {
            "cell_type": "code",
            "source": [
                "SELECT \r\n",
                "     UnitPrice\r\n",
                "    ,StockItemID\r\n",
                "    ,PERCENTILE_DISC(0.05) \r\n",
                "        WITHIN GROUP (ORDER BY UnitPrice) \r\n",
                "        OVER (PARTITION BY 1) \r\n",
                "        AS Lower5Percent\r\n",
                "    ,PERCENTILE_DISC(0.95) \r\n",
                "        WITHIN GROUP (ORDER BY UnitPrice) \r\n",
                "        OVER (PARTITION BY 1) \r\n",
                "        AS Upper5Percent\r\n",
                "FROM [Warehouse].[StockItems]"
            ],
            "metadata": {
                "azdata_cell_guid": "91f379d0-eae1-46a9-9ba3-870a7bdb46bc"
            },
            "outputs": [],
            "execution_count": 0
        },
        {
            "cell_type": "markdown",
            "source": [
                "We now want to compare these values with the continuous version of the quantiles function:"
            ],
            "metadata": {
                "azdata_cell_guid": "4dedcb6a-afeb-4fd7-8b16-b14726f132e5"
            }
        },
        {
            "cell_type": "code",
            "source": [
                "SELECT \r\n",
                "     UnitPrice\r\n",
                "    ,StockItemID\r\n",
                "    ,PERCENTILE_DISC(0.05) \r\n",
                "        WITHIN GROUP (ORDER BY UnitPrice) \r\n",
                "        OVER (PARTITION BY 1) \r\n",
                "        AS Lower5PercentDisc\r\n",
                "    ,PERCENTILE_DISC(0.95) \r\n",
                "        WITHIN GROUP (ORDER BY UnitPrice) \r\n",
                "        OVER (PARTITION BY 1) \r\n",
                "        AS Upper5PercentDisc\r\n",
                "    ,PERCENTILE_CONT(0.05) \r\n",
                "        WITHIN GROUP (ORDER BY UnitPrice) \r\n",
                "        OVER (PARTITION BY 1) \r\n",
                "        AS Lower5PercentCont\r\n",
                "    ,PERCENTILE_CONT(0.95) \r\n",
                "        WITHIN GROUP (ORDER BY UnitPrice) \r\n",
                "        OVER (PARTITION BY 1) \r\n",
                "        AS Upper5Percent\r\n",
                "FROM [Warehouse].[StockItems]"
            ],
            "metadata": {
                "azdata_cell_guid": "e4964d0c-d8e3-4382-b4b7-15b540362342"
            },
            "outputs": [],
            "execution_count": 0
        },
        {
            "cell_type": "markdown",
            "source": [
                "You can see that the discrete variant gives a value of 2.55 for the lower 0.5 quantile, while the continuous variant gives a value of 2.595. We now check these values by counting how many lines have prices that are less than or equal to these values: "
            ],
            "metadata": {
                "azdata_cell_guid": "449cc0b1-96fd-4473-a4c7-08707e335556"
            }
        },
        {
            "cell_type": "code",
            "source": [
                "SELECT COUNT(*), 'Count DISC'\r\n",
                "FROM [Warehouse].[StockItems]\r\n",
                "WHERE UnitPrice <= 2.55\r\n",
                "UNION ALL \r\n",
                "SELECT COUNT(*), 'Count CONT'\r\n",
                "FROM [Warehouse].[StockItems]\r\n",
                "WHERE UnitPrice <= 2.595"
            ],
            "metadata": {
                "azdata_cell_guid": "c8446586-0e9c-433f-8f27-ecf983883e15"
            },
            "outputs": [],
            "execution_count": 0
        },
        {
            "cell_type": "markdown",
            "source": [
                "In both cases we see 12 lines that meet the criterion. The difference between the two functions is that `PERCENTILE_DISC` just returns the discrete (i.e. the concrete) value of a row, while `PERCENTILE_CONT` interpolates between the values of the rows and calculates and returns the real value for the quantile, because while there are rows with a UnitPrice of 2.55, there are none with a UnitPrice of 2.595:"
            ],
            "metadata": {
                "azdata_cell_guid": "93255246-e560-4f83-aaf0-ff35f7d0acdb"
            }
        },
        {
            "cell_type": "code",
            "source": [
                "SELECT StockItemID, 'Price DISC'\r\n",
                "FROM [Warehouse].[StockItems]\r\n",
                "WHERE UnitPrice = 2.55\r\n",
                "UNION ALL \r\n",
                "SELECT StockItemID, 'Price CONT'\r\n",
                "FROM [Warehouse].[StockItems]\r\n",
                "WHERE UnitPrice = 2.595"
            ],
            "metadata": {
                "azdata_cell_guid": "01556306-6b66-439d-8d63-5d6f39be4be9"
            },
            "outputs": [],
            "execution_count": 0
        },
        {
            "cell_type": "markdown",
            "source": [
                "This short Randori hopefully explained to you what the difference is between the two variations of the 'Percentile' function. Which of the variants you should use will depend on how you use it. If you want to end up referencing concrete records that are exactly on top of the quantile, then the `PERCENTILE_DISC` function is of course preferable, but if you want to specify a threshold value as accurately as possible, then `PERCENTILE_CONT` is certainly the right choice. The good thing is that you have the choice.\n",
                "## References\n",
                "- [Documentation from Microsoft](https://docs.microsoft.com/de-de/sql/t-sql/functions/percentile-cont-transact-sql?view=sql-server-ver15)"
            ],
            "metadata": {
                "azdata_cell_guid": "ef85a073-e248-4dc2-8d8b-925a247b75f6"
            }
        }
    ]
}