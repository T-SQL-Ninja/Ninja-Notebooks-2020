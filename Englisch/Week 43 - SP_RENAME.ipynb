{
    "metadata": {
        "kernelspec": {
            "name": "SQL",
            "display_name": "SQL",
            "language": "sql"
        },
        "language_info": {
            "name": "sql",
            "version": ""
        }
    },
    "nbformat_minor": 2,
    "nbformat": 4,
    "cells": [
        {
            "cell_type": "markdown",
            "source": [
                "# Week 43: SP_RENAME\r\n",
                "## What is SP_RENAME? \r\n",
                "If you have objects in your database that you want to rename, you can right-click on the object in SQL Server Management Studio to rename it. However, if you want to make the renaming process a little more controlled and preferably distributable, then you can't avoid scripting the process and don't need the procedure 'SP_RENAME'. \r\n",
                "## How can you use SP_RENAME?\r\n",
                "`SP_RENAME` renames user-created objects, which can be almost any object from database to tables and indexes to CLR types (provided you have `ALTER` permissions on the objects). Using `SP_RENAME` is quite easy, but be careful, if you run the following examples you can destroy your databases permanently, so as always in the Dojo, please use a non-critical game database, where it doesn't matter if one or the other view doesn't work anymore. We use the WideWorldImporters database in the Docker container. The simplest call is to rename the WideWorldImporters database first:"
            ],
            "metadata": {
                "azdata_cell_guid": "2b060faa-c3cb-4ddc-ae57-231b3354317d"
            }
        },
        {
            "cell_type": "code",
            "source": [
                "EXEC sp_rename 'WideWorldImporters', 'WWI', 'Database'"
            ],
            "metadata": {
                "azdata_cell_guid": "9db2fc96-c2c2-4754-83b0-30b62a369790"
            },
            "outputs": [],
            "execution_count": 0
        },
        {
            "cell_type": "markdown",
            "source": [
                "You can see that `SP_RENAME` gets three arguments, the name of the original object (in our case \"WideWorldImporters\"), the new name for the object (in our case \"WWI\") and what kind of object it is. The third parameter is omitted if you rename tables, otherwise you must always specify what kind of object you are renaming here. \r\n",
                "\r\n",
                "Now let's switch to our renamed database and rename a table:"
            ],
            "metadata": {
                "azdata_cell_guid": "8c1a3504-5469-461c-92c0-e37ad227b7e9"
            }
        },
        {
            "cell_type": "code",
            "source": [
                "USE WWI;\r\n",
                "EXEC sp_rename 'Purchasing.PurchaseOrderLines', 'POL'"
            ],
            "metadata": {
                "azdata_cell_guid": "9d21932c-5275-44df-ba73-793473ed6137"
            },
            "outputs": [],
            "execution_count": 0
        },
        {
            "cell_type": "markdown",
            "source": [
                "What you can see in the result is that the new `POL` table is also in the `purchasing` scheme. But if you try to omit the schema for the first argument, the table to be renamed, you will get an error:"
            ],
            "metadata": {
                "azdata_cell_guid": "31bbe009-bd74-40ae-b7d8-fa9a87d10f03"
            }
        },
        {
            "cell_type": "code",
            "source": [
                "EXEC sp_rename 'POL', 'OrderLine'"
            ],
            "metadata": {
                "azdata_cell_guid": "1418280c-95a5-46c3-8de9-c26617bdffad"
            },
            "outputs": [],
            "execution_count": 0
        },
        {
            "cell_type": "markdown",
            "source": [
                "`No item by the name of 'POL' could be found in the current database 'WWI'`. \r\n",
                "\r\n",
                "The schema must therefore be specified here so that the table can be found. But what happens if we also specify the schema for the target object? Let's try it out:"
            ],
            "metadata": {
                "azdata_cell_guid": "161dd415-5741-4bce-bffc-4bc5fce78112"
            }
        },
        {
            "cell_type": "code",
            "source": [
                "EXEC sp_rename 'Purchasing.POL', 'Purchasing.OrderLine'"
            ],
            "metadata": {
                "azdata_cell_guid": "0e21fda0-7c82-463d-8479-9ea8169a2c92"
            },
            "outputs": [],
            "execution_count": 0
        },
        {
            "cell_type": "markdown",
            "source": [
                "The result is that in the \"Purchasing\" schema there is now a table with the name \"Purchasing.OrderLine\". Since the table name with the period contains a special character, we would have to query this as follows"
            ],
            "metadata": {
                "azdata_cell_guid": "fa875f98-652e-4596-bd85-ece86eec33d3"
            }
        },
        {
            "cell_type": "code",
            "source": [
                "SELECT TOP(10)\r\n",
                "    PurchaseOrderLineID \r\n",
                "FROM Purchasing.[Purchasing.OrderLine]"
            ],
            "metadata": {
                "azdata_cell_guid": "fccc04fc-8c29-4a47-9026-de02924ceeab"
            },
            "outputs": [],
            "execution_count": 0
        },
        {
            "cell_type": "markdown",
            "source": [
                "Why is that? Because changing the schema is not renaming the table, but an operation on the schema. If we want to move the table to a new schema, we use an `ALTER SCHEMA ADD`. \r\n",
                "\r\n",
                "So let's name the table reasonably for now:"
            ],
            "metadata": {
                "azdata_cell_guid": "55c570c1-4109-469a-8c16-be3194bef0ed"
            }
        },
        {
            "cell_type": "code",
            "source": [
                "EXEC sp_rename 'Purchasing.[Purchasing.OrderLine]', 'OrderLine'"
            ],
            "metadata": {
                "azdata_cell_guid": "dc092140-0c85-4ffb-81cc-f632789f185b"
            },
            "outputs": [],
            "execution_count": 0
        },
        {
            "cell_type": "markdown",
            "source": [
                "Now let's look at the table, it has a primary key and a clustered index with the name `PK_Purchasing_PurchaseOrderLines` which we want to adapt to the new table name, so we rename the index:"
            ],
            "metadata": {
                "azdata_cell_guid": "af065641-2d00-41a0-a1db-13cdb823ae2a"
            }
        },
        {
            "cell_type": "code",
            "source": [
                "EXEC sp_rename \r\n",
                "     'Purchasing.OrderLine.PK_Purchasing_PurchaseOrderLines'\r\n",
                "    ,'PK_Purchasing_OrderLines'\r\n",
                "    ,'Index'"
            ],
            "metadata": {
                "azdata_cell_guid": "f7e37fa9-9f4a-4d47-9563-3de6ee2a966b"
            },
            "outputs": [],
            "execution_count": 0
        },
        {
            "cell_type": "markdown",
            "source": [
                "If you now look at the table, you will notice that `SP_RENAME` has renamed not only the index but also the associated primary key constraint. This means that `SP_RENAME` has made sure that your database is in order. And `SP_RENAME` has also kindly adapted the statistics for you. \r\n",
                "\r\n",
                "How does it feel when we try it the other way around? Let's rename a statistic that belongs to an index and a foreign key: "
            ],
            "metadata": {
                "azdata_cell_guid": "28e80f18-f2af-4375-aa99-fb4ba42848a6"
            }
        },
        {
            "cell_type": "code",
            "source": [
                "EXEC sp_rename\r\n",
                "     'Purchasing.OrderLine.FK_Purchasing_PurchaseOrderLines_PackageTypeID'\r\n",
                "    ,'FK_Purchasing_OrderLines_PackageTypeID'\r\n",
                "    ,'Statistics'"
            ],
            "metadata": {
                "azdata_cell_guid": "260b2c2b-9e06-4edc-9720-48f51b466cf9"
            },
            "outputs": [],
            "execution_count": 0
        },
        {
            "cell_type": "markdown",
            "source": [
                "In this case, the index associated with the statistics was also renamed, but the foreign key relationship was not. \r\n",
                "\r\n",
                "And what happens if we rename a column with the indexes and foreign key relationships in which it occurs? Let's give it a try: "
            ],
            "metadata": {
                "azdata_cell_guid": "e1544117-4807-4bc1-8385-1ea5abd577bf"
            }
        },
        {
            "cell_type": "code",
            "source": [
                "EXEC sp_rename\r\n",
                "     'Purchasing.OrderLine.PurchaseOrderLineID'\r\n",
                "    ,'OrderLineID'\r\n",
                "    ,'Column'"
            ],
            "metadata": {
                "azdata_cell_guid": "74e9e04b-37d9-49bd-971b-b873e3b5354f"
            },
            "outputs": [],
            "execution_count": 0
        },
        {
            "cell_type": "markdown",
            "source": [
                "If we now look at the primary key or the clustered index, we see that the correct new column name has been adopted here as well. To check whether this also works for foreign key relationships, we rename an object referenced by the OrderLine:"
            ],
            "metadata": {
                "azdata_cell_guid": "fb5cafd5-736c-4c5a-b202-146e880072af"
            }
        },
        {
            "cell_type": "code",
            "source": [
                "EXEC sp_rename\r\n",
                "     'Purchasing.PurchaseOrders.PurchaseOrderID'\r\n",
                "    ,'OrderID'\r\n",
                "    ,'Column'"
            ],
            "metadata": {
                "azdata_cell_guid": "db65a650-8a8e-49c0-883f-1bc36feeb096"
            },
            "outputs": [],
            "execution_count": 0
        },
        {
            "cell_type": "markdown",
            "source": [
                "If we now look at the OrderLines table, we see that the foreign key relationship that refers to the Order has been correctly adjusted:"
            ],
            "metadata": {
                "azdata_cell_guid": "793cb0dc-85c4-426e-a199-7b66f3109e88"
            }
        },
        {
            "cell_type": "code",
            "source": [
                "ALTER TABLE [Purchasing].[OrderLine]  WITH CHECK \r\n",
                "ADD CONSTRAINT [FK_Purchasing_PurchaseOrderLines_PurchaseOrderID_Purchasing_PurchaseOrders]\r\n",
                "FOREIGN KEY([PurchaseOrderID])\r\n",
                "REFERENCES [Purchasing].[PurchaseOrders] ([OrderID])"
            ],
            "metadata": {
                "azdata_cell_guid": "67e55bbd-61a4-4a01-8e21-627dcaaed342"
            },
            "outputs": [],
            "execution_count": 0
        },
        {
            "cell_type": "markdown",
            "source": [
                "What you hopefully learned today is that while it would be desirable to avoid refactoring your database from the beginning, that would not be realistic at all. So when it comes to refactoring, the `SP_RENAME` procedure is a welcome tool, and it does quite a bit of the work in many places to ensure that your renaming does not at least leave you in a state where your database is fundamentally flawed (foreign keys that run out of space, threatening the referential integrity of the database). However, even `SP_RENAME` cannot do everything: you still have to take care of the correctness of your applications, views, scripts and procedures after renaming. So be careful when renaming! \n",
                "## References\n",
                "- [Documentation from Microsoft](https://docs.microsoft.com/de-de/sql/relational-databases/system-stored-procedures/sp-rename-transact-sql?view=sql-server-ver15)"
            ],
            "metadata": {
                "azdata_cell_guid": "8fe0a717-c95e-46b8-854f-9fa6d28e596b"
            }
        }
    ]
}