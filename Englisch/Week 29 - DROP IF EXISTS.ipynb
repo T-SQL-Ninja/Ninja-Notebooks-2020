{
    "metadata": {
        "kernelspec": {
            "name": "SQL",
            "display_name": "SQL",
            "language": "sql"
        },
        "language_info": {
            "name": "sql",
            "version": ""
        }
    },
    "nbformat_minor": 2,
    "nbformat": 4,
    "cells": [
        {
            "cell_type": "markdown",
            "source": [
                "# Week 29: DROP IF EXISTS\r\n",
                "## What is DROP IF EXISTS?\r\n",
                "You've seen it over and over again in the past months, and also from the syntax, the functionality of `DROP IF EXISTS` is relatively clear: Dropping a database object, if it exists. The syntax for this was introduced in SQL Server 2016 and saves us poor ninjas from some rather unpleasant syntax-climbing in the past.  \r\n",
                "## How can you work with DROP IF EXISTS?\r\n",
                "Using `DROP IF EXISTS` is very easy. In the past, you had constructs that used the `sys` tables or the `OBJECT_ID` function to check if certain objects existed, today you use `DROP IF EXISTS` instead. Let's have a look at this. First we create a database object: "
            ],
            "metadata": {
                "azdata_cell_guid": "9bf854a4-eced-4681-9771-2c0257075354"
            }
        },
        {
            "cell_type": "code",
            "source": [
                "CREATE TABLE #Dojo \r\n",
                "(\r\n",
                "     NinjaId int NOT NULL IDENTITY(1,1)\r\n",
                "    ,NinjaName varchar(250)\r\n",
                ")"
            ],
            "metadata": {
                "azdata_cell_guid": "1dc4aedf-6757-4ae6-9ebd-0c2bf672b630"
            },
            "outputs": [],
            "execution_count": 0
        },
        {
            "cell_type": "markdown",
            "source": [
                "Let us now try to create the object again with a changed configuration: "
            ],
            "metadata": {
                "azdata_cell_guid": "3a103d50-cc51-4f23-894d-dcdf620e7919"
            }
        },
        {
            "cell_type": "code",
            "source": [
                "CREATE TABLE #Dojo \r\n",
                "(\r\n",
                "     NinjaId int NOT NULL IDENTITY(1,1)\r\n",
                "    ,NinjaName varchar(250)\r\n",
                "    ,Age int \r\n",
                ")"
            ],
            "metadata": {
                "azdata_cell_guid": "3f90d4ec-9b69-499d-bc94-1c5eb2b2f7b6"
            },
            "outputs": [],
            "execution_count": 0
        },
        {
            "cell_type": "markdown",
            "source": [
                "Of course, this attempt fails, because the object names must be unique in the database and the SQL server reports \r\n",
                "\r\n",
                "`There is already an object named '#Dojo' in the database`. \r\n",
                "\r\n",
                "Before we have to create the object, of course we have to delete the old object. \r\n",
                "\r\n",
                "Previously, before the `CREATE` statement, we would have checked if the table exists. I usually did this by checking if the `OBJECT_ID' function returns a value: "
            ],
            "metadata": {
                "azdata_cell_guid": "8735aa45-934f-4db2-b2c4-ca179bca382d"
            }
        },
        {
            "cell_type": "code",
            "source": [
                "IF OBJECT_ID('tempdb..#Dojo') IS NOT NULL DROP TABLE #Dojo;\r\n",
                "GO"
            ],
            "metadata": {
                "azdata_cell_guid": "89019e97-30a1-430b-9a71-5625128b64c1"
            },
            "outputs": [],
            "execution_count": 0
        },
        {
            "cell_type": "markdown",
            "source": [
                "What was always unpleasant about this solution was that we had to query temporary tables like in our case \"tempdb\" without a schema (hence the two dots). Nevertheless this way was of course purposeful, because the following statement leads to the fact that we find a #Dojo table with the desired three columns in the database: "
            ],
            "metadata": {
                "azdata_cell_guid": "b21cbd6f-619a-42a7-8197-104016639e91"
            }
        },
        {
            "cell_type": "code",
            "source": [
                "IF OBJECT_ID('tempdb..#Dojo') IS NOT NULL DROP TABLE #Dojo;\r\n",
                "GO\r\n",
                "\r\n",
                "CREATE TABLE #Dojo \r\n",
                "(\r\n",
                "     NinjaId int NOT NULL IDENTITY(1,1)\r\n",
                "    ,NinjaName varchar(250)\r\n",
                ")\r\n",
                "\r\n",
                "IF OBJECT_ID('tempdb..#Dojo') IS NOT NULL DROP TABLE #Dojo;\r\n",
                "GO\r\n",
                "\r\n",
                "CREATE TABLE #Dojo \r\n",
                "(\r\n",
                "     NinjaId int NOT NULL IDENTITY(1,1)\r\n",
                "    ,NinjaName varchar(250)\r\n",
                "    ,Age int \r\n",
                ")"
            ],
            "metadata": {
                "azdata_cell_guid": "e2dca42e-4b16-4047-b7e0-5e78cab52e12"
            },
            "outputs": [],
            "execution_count": 0
        },
        {
            "cell_type": "markdown",
            "source": [
                "Instead of using the `OBJECT_ID` function, there was also the option to always execute a `DROP TABLE` as a precaution and simply intercept and ignore the error that occurs when the object does not exist in a `TRY CATCH` statement: "
            ],
            "metadata": {
                "azdata_cell_guid": "5c00d0f0-b504-415b-936f-e227f490f781"
            }
        },
        {
            "cell_type": "code",
            "source": [
                "BEGIN TRY DROP TABLE #Dojo2 END TRY BEGIN CATCH END CATCH\r\n",
                "GO"
            ],
            "metadata": {
                "azdata_cell_guid": "ca1eef70-c9f0-4d0c-9a55-c37fbaffae46"
            },
            "outputs": [],
            "execution_count": 0
        },
        {
            "cell_type": "markdown",
            "source": [
                "Also here you can confirm the functionality, because after executing the following statement there is again a `#Dojo2` table with three columns in the database: "
            ],
            "metadata": {
                "azdata_cell_guid": "3ce57930-292b-4de9-9fdb-1dcc01a130d6"
            }
        },
        {
            "cell_type": "code",
            "source": [
                "BEGIN TRY DROP TABLE #Dojo2 END TRY BEGIN CATCH END CATCH\r\n",
                "GO\r\n",
                "\r\n",
                "CREATE TABLE #Dojo2 \r\n",
                "(\r\n",
                "     NinjaId int NOT NULL IDENTITY(1,1)\r\n",
                "    ,NinjaName varchar(250)\r\n",
                ")\r\n",
                "\r\n",
                "BEGIN TRY DROP TABLE #Dojo2 END TRY BEGIN CATCH END CATCH\r\n",
                "GO\r\n",
                "\r\n",
                "CREATE TABLE #Dojo2 \r\n",
                "(\r\n",
                "     NinjaId int NOT NULL IDENTITY(1,1)\r\n",
                "    ,NinjaName varchar(250)\r\n",
                "    ,Age int \r\n",
                ")"
            ],
            "metadata": {
                "azdata_cell_guid": "7dd6a5f8-50bd-41aa-9a94-c50f238d9a6f"
            },
            "outputs": [],
            "execution_count": 0
        },
        {
            "cell_type": "markdown",
            "source": [
                "Both methods still work - but with the new syntax it's much more elegant: "
            ],
            "metadata": {
                "azdata_cell_guid": "67bcf848-c2a9-4981-97c5-6a4fb2fc9cec"
            }
        },
        {
            "cell_type": "code",
            "source": [
                "DROP TABLE IF EXISTS #Dojo3;\r\n",
                "GO "
            ],
            "metadata": {
                "azdata_cell_guid": "c0ba94b8-c1e8-4916-82b8-f462c2badce6"
            },
            "outputs": [],
            "execution_count": 0
        },
        {
            "cell_type": "markdown",
            "source": [
                "And also here we can demonstrate the functionality relatively easily:"
            ],
            "metadata": {
                "azdata_cell_guid": "723cfe2a-d333-4d67-9c56-9bfd7f4346f8"
            }
        },
        {
            "cell_type": "code",
            "source": [
                "DROP TABLE IF EXISTS #Dojo3;\r\n",
                "GO \r\n",
                "\r\n",
                "CREATE TABLE #Dojo3 \r\n",
                "(\r\n",
                "     NinjaId int NOT NULL IDENTITY(1,1)\r\n",
                "    ,NinjaName varchar(250)\r\n",
                ")\r\n",
                "\r\n",
                "DROP TABLE IF EXISTS #Dojo3;\r\n",
                "GO\r\n",
                "\r\n",
                "CREATE TABLE #Dojo3 \r\n",
                "(\r\n",
                "     NinjaId int NOT NULL IDENTITY(1,1)\r\n",
                "    ,NinjaName varchar(250)\r\n",
                "    ,Age int \r\n",
                ")\r\n",
                "\r\n",
                "select * from #Dojo3"
            ],
            "metadata": {
                "azdata_cell_guid": "68dc4997-063d-4324-9d62-a8c67cf5ef2f"
            },
            "outputs": [],
            "execution_count": 0
        },
        {
            "cell_type": "markdown",
            "source": [
                "Of course there were other ways to check the existence of objects, for example by querying `sys` tables: "
            ],
            "metadata": {
                "azdata_cell_guid": "d57bf846-d0bf-44d6-8895-1febcf68ccf9"
            }
        },
        {
            "cell_type": "code",
            "source": [
                "SELECT name FROM tempdb.sys.objects WHERE name LIKE N'#Dojo[_]%';"
            ],
            "metadata": {
                "azdata_cell_guid": "da04f9ff-a4f8-4a97-8351-10b24557f19f"
            },
            "outputs": [],
            "execution_count": 0
        },
        {
            "cell_type": "markdown",
            "source": [
                "or: "
            ],
            "metadata": {
                "azdata_cell_guid": "4d768c5f-31bc-4d2d-b171-0eca5cd81db9"
            }
        },
        {
            "cell_type": "code",
            "source": [
                "SELECT name FROM sys.objects WHERE name = N'DojoPerm';"
            ],
            "metadata": {
                "azdata_cell_guid": "eefb5c6f-4654-4055-a3ef-646422f2c491"
            },
            "outputs": [],
            "execution_count": 0
        },
        {
            "cell_type": "markdown",
            "source": [
                "But all these constructs are just tools that we use to say \"delete the object if it exists\" and it's nice that SQL Server now gives us a syntax to say just that. \n",
                "\n",
                "## References\n",
                "- [Documentation from Microsoft](https://docs.microsoft.com/de-de/sql/t-sql/statements/drop-table-transact-sql?view=sql-server-ver15)"
            ],
            "metadata": {
                "azdata_cell_guid": "9a25456e-fc4d-4995-83a7-e68a45ca49e2"
            }
        }
    ]
}