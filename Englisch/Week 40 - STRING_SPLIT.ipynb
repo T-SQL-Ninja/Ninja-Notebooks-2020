{
    "metadata": {
        "kernelspec": {
            "name": "SQL",
            "display_name": "SQL",
            "language": "sql"
        },
        "language_info": {
            "name": "sql",
            "version": ""
        }
    },
    "nbformat_minor": 2,
    "nbformat": 4,
    "cells": [
        {
            "cell_type": "markdown",
            "source": [
                "# Week 40: STRING_SPLIT\r\n",
                "## What does STRING_SPLIT do? \r\n",
                "Over the weeks you've gotten to know some possibilities to create comma-separated lists in SQL, besides `STUFF` in combination with `SELECT FOR XML` and `STRING_AGG` also `CONCAT_WS`. This week we want to go the opposite way and split a string containing comma-separated values into its constituent parts. Since SQL Server 2016 there is a way to do this in the Microsoft relational database engine with `STRING_SPLIT`. \r\n",
                "\r\n",
                "## How to use TRANSLATE\r\n",
                "Until SQL Server 2016, if you wanted to split strings, you usually had to write a custom function that would either operate in a `WHILE` loop using `CHARINDEX` and `SUBSTRING` or convert the list to an XML object that could be queried, as follows"
            ],
            "metadata": {
                "azdata_cell_guid": "3a16511c-d21f-4104-a3d6-3ff066243ffb"
            }
        },
        {
            "cell_type": "code",
            "source": [
                "SELECT item = y.i.value('(./text())[1]', 'nvarchar(4000)')\r\n",
                "FROM \r\n",
                "( \r\n",
                "    SELECT x = CONVERT(XML, '<i>' \r\n",
                "            + REPLACE('Akio,Hiraku,Kazuo', ',', '</i><i>') \r\n",
                "            + '</i>').query('.')\r\n",
                ") AS a CROSS APPLY x.nodes('i') AS y(i)"
            ],
            "metadata": {
                "azdata_cell_guid": "86ba2729-9855-49a8-9fb6-9c2adbef6f34"
            },
            "outputs": [],
            "execution_count": 0
        },
        {
            "cell_type": "markdown",
            "source": [
                "Meanwhile this has become much easier, because SQL Server offers with `STRING_SPLIT` a method to split a comma-separated list into its parts without further pull-ups. The `STRING_SPLIT` function returns a table with exactly one column called \"value\" containing the individual components of the string. To see the components of the string, you have to query the \"value\" column from this return value:"
            ],
            "metadata": {
                "azdata_cell_guid": "a382b72b-6b29-4d0c-9eac-53f5eb413e7d"
            }
        },
        {
            "cell_type": "code",
            "source": [
                "SELECT [value] FROM STRING_SPLIT('Akio,Hiraku,Kazuo', ',')  "
            ],
            "metadata": {
                "azdata_cell_guid": "fc36af40-38c9-41f6-9d9a-5e001251bd10"
            },
            "outputs": [],
            "execution_count": 0
        },
        {
            "cell_type": "markdown",
            "source": [
                "It is important to note that unlike, for example, the `REPLACE` function, the `STRING_SPLIT` function only accepts a string with a length of one as the second argument, i.e. as a separator. It is therefore not possible to separate an HTML string, for example, by `<br/>` tags. But what happens if your string contains, for example, two commas directly after each other? "
            ],
            "metadata": {
                "azdata_cell_guid": "addbf3c5-bd93-47e2-afb2-a9e2db478fb2"
            }
        },
        {
            "cell_type": "code",
            "source": [
                "SELECT [value] FROM STRING_SPLIT('Akio,Hiraku,,Kazuo', ',') "
            ],
            "metadata": {
                "azdata_cell_guid": "21497d8e-0886-48c9-b6af-d5b252e51b08"
            },
            "outputs": [],
            "execution_count": 0
        },
        {
            "cell_type": "markdown",
            "source": [
                "In this case, your return table contains a row with an empty string, but no `NULL` value. The same happens to you if the string ends with a comma:"
            ],
            "metadata": {
                "azdata_cell_guid": "3b4f9ea7-7c7d-427c-bb43-6a50a4baffdf"
            }
        },
        {
            "cell_type": "code",
            "source": [
                "SELECT [value] FROM STRING_SPLIT('Akio,Hiraku,,Kazuo,', ',')  "
            ],
            "metadata": {
                "azdata_cell_guid": "22a20d93-97af-4b1a-af4a-72390c696019"
            },
            "outputs": [],
            "execution_count": 0
        },
        {
            "cell_type": "markdown",
            "source": [
                "If you want to stop these empty returns, you have to filter them using a `WHERE` condition, which is possible, of course, since you are doing a query on the return value. To do this, we first have the length of each part output:"
            ],
            "metadata": {
                "azdata_cell_guid": "11685489-5cdc-4d9b-a991-a18e9f6c8f98"
            }
        },
        {
            "cell_type": "code",
            "source": [
                "SELECT \r\n",
                "     [value]\r\n",
                "    ,LEN(TRIM([value])) AS [Length] \r\n",
                "FROM STRING_SPLIT('Akio,Hiraku,,Kazuo,', ',')  "
            ],
            "metadata": {
                "azdata_cell_guid": "4b7c36e4-98f1-48bf-bdba-ec0acbf3718f"
            },
            "outputs": [],
            "execution_count": 0
        },
        {
            "cell_type": "markdown",
            "source": [
                "Of course you can now filter the result set to this length:"
            ],
            "metadata": {
                "azdata_cell_guid": "f1dc4611-c6ff-4589-9de4-0fa18f04e383"
            }
        },
        {
            "cell_type": "code",
            "source": [
                "SELECT \r\n",
                "     [value]\r\n",
                "    ,LEN(TRIM([value])) AS [Length] \r\n",
                "FROM STRING_SPLIT('Akio,Hiraku,,Kazuo,', ',')  \r\n",
                "WHERE LEN(TRIM([value])) > 0"
            ],
            "metadata": {
                "azdata_cell_guid": "26819956-ba4d-42d5-83d4-20e218c54a7d"
            },
            "outputs": [],
            "execution_count": 0
        },
        {
            "cell_type": "markdown",
            "source": [
                "If you now use this in combination with `STRING_AGG`, you can, for example, clean up a comma-separated list and filter the empty values and the commas at the end:"
            ],
            "metadata": {
                "azdata_cell_guid": "416abf38-4a3b-4b39-8258-ffab0b198d67"
            }
        },
        {
            "cell_type": "code",
            "source": [
                "SELECT \r\n",
                "    STRING_AGG([value], ',')\r\n",
                "FROM STRING_SPLIT('Akio,Hiraku,,Kazuo,', ',')  \r\n",
                "WHERE LEN(TRIM([value])) > 0"
            ],
            "metadata": {
                "azdata_cell_guid": "f34289c3-2148-41d0-a230-895f5bb3fdf4"
            },
            "outputs": [],
            "execution_count": 0
        },
        {
            "cell_type": "markdown",
            "source": [
                "After you have learned many methods to connect single strings to strings in the last weeks, you have now learned the opposite function to split a string back into its parts. Use this katana to split your comma-separated strings properly in the future without ugly custom functions. \n",
                "\n",
                "## References\n",
                "- [Documentation from Microsoft](https://docs.microsoft.com/de-de/sql/t-sql/functions/string-split-transact-sql?view=sql-server-ver15)\n",
                ""
            ],
            "metadata": {
                "azdata_cell_guid": "af9ee70c-a07a-411f-86c2-9b605da52ccc"
            }
        }
    ]
}