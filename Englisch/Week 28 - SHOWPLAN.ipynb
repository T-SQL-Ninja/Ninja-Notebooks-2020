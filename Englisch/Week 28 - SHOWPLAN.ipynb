{
    "metadata": {
        "kernelspec": {
            "name": "SQL",
            "display_name": "SQL",
            "language": "sql"
        },
        "language_info": {
            "name": "sql",
            "version": ""
        }
    },
    "nbformat_minor": 2,
    "nbformat": 4,
    "cells": [
        {
            "cell_type": "markdown",
            "source": [
                "# Week 28: SHOWPLAN\r\n",
                "## What does SHOWPLAN mean? \r\n",
                "If you've ever wondered what SQL Server is doing between the time you pressed F5 in Azure Data Studio with a cold sweat on your forehead and the time you got your query results, then `SHOWPLAN` is the solution for you. One warning first: reading execution plans is a science in itself and there are many who have devoted themselves to this science with great dedication and who can do it much better than your Shogun here (we bow our heads in awe towards the great Ricken-San). So don't expect great insights here, but rather an overview of what is available. So to speak the entrance of the rabbit hole. \r\n",
                "\r\n",
                "## How can you work with SHOWPLAN?\r\n",
                "To see the different plans and plan options, we first write a query on our `WideWorldImporters` database:"
            ],
            "metadata": {
                "azdata_cell_guid": "f675b14c-54a0-4232-b3c0-003c508471be"
            }
        },
        {
            "cell_type": "code",
            "source": [
                "SELECT \r\n",
                "       [StockItemID]\r\n",
                "      ,[StockItemName]\r\n",
                "      ,[SupplierName]\r\n",
                "      ,[Brand]\r\n",
                "      ,[Size]\r\n",
                "      ,[LeadTimeDays]\r\n",
                "      ,[QuantityPerOuter]\r\n",
                "      ,[IsChillerStock]\r\n",
                "      ,[TaxRate]\r\n",
                "      ,[UnitPrice]\r\n",
                "      ,[RecommendedRetailPrice]\r\n",
                "      ,[TypicalWeightPerUnit]\r\n",
                "FROM [Warehouse].[StockItems] i\r\n",
                "    LEFT JOIN [Purchasing].[Suppliers] s \r\n",
                "    ON i.SupplierID = s.SupplierID\r\n",
                "WHERE StockItemID = 200"
            ],
            "metadata": {
                "azdata_cell_guid": "f4057a26-d463-4d7a-9a00-930e4271b85b"
            },
            "outputs": [],
            "execution_count": 0
        },
        {
            "cell_type": "markdown",
            "source": [
                "This query returns exactly one line. Now let's find out how the SQL Server finds this row. For this we want to have a look at the execution plan of the query. This can be obtained by activating the `SHOWPLAN_XML` option (and ideally deactivating it immediately after the query), which looks like this "
            ],
            "metadata": {
                "azdata_cell_guid": "3bde149f-74d6-4ec1-ab4a-2f6bc496df31"
            }
        },
        {
            "cell_type": "code",
            "source": [
                "SET SHOWPLAN_XML ON;\r\n",
                "GO\r\n",
                "\r\n",
                "SELECT \r\n",
                "       [StockItemID]\r\n",
                "      ,[StockItemName]\r\n",
                "      ,[SupplierName]\r\n",
                "      ,[Brand]\r\n",
                "      ,[Size]\r\n",
                "      ,[LeadTimeDays]\r\n",
                "      ,[QuantityPerOuter]\r\n",
                "      ,[IsChillerStock]\r\n",
                "      ,[TaxRate]\r\n",
                "      ,[UnitPrice]\r\n",
                "      ,[RecommendedRetailPrice]\r\n",
                "      ,[TypicalWeightPerUnit]\r\n",
                "FROM [Warehouse].[StockItems] i\r\n",
                "    LEFT JOIN [Purchasing].[Suppliers] s \r\n",
                "    ON i.SupplierID = s.SupplierID\r\n",
                "WHERE StockItemID = 200;\r\n",
                "\r\n",
                "GO\r\n",
                "SET SHOWPLAN_XML OFF;\r\n",
                "GO"
            ],
            "metadata": {
                "azdata_cell_guid": "5fdef996-3fa9-4837-8aca-43322c28bac4"
            },
            "outputs": [],
            "execution_count": 0
        },
        {
            "cell_type": "markdown",
            "source": [
                "In the results window you will now see a graphical representation of the execution plan (in SQL Server Management Studio you will first see a result with an XML cell, if you click on it the graphical representation will open, in Azure Data Studio the graphical representation will open immediately. This representation shows that a Clustered Index Seek operation is executed on both tables, that is, that the system searches for rows in the Clustered Index of the respective table and that these rows are then merged in a Nested Loop. So far so good, but if you want to view this plan in more detail or save it (in whole or in part), the XML representation is very unwieldy despite the supported XML datatype. So let's see what other options we have. Instead of outputting the plan as XML, we can also output it textually in table form by enabling `SHOWPLAN_ALL` instead of `SHOWPLAN_XML`:"
            ],
            "metadata": {
                "azdata_cell_guid": "9d2687bb-0e7f-4f7d-9560-9c427c5aa100"
            }
        },
        {
            "cell_type": "code",
            "source": [
                "SET SHOWPLAN_ALL ON;\r\n",
                "GO\r\n",
                "\r\n",
                "SELECT \r\n",
                "       [StockItemID]\r\n",
                "      ,[StockItemName]\r\n",
                "      ,[SupplierName]\r\n",
                "      ,[Brand]\r\n",
                "      ,[Size]\r\n",
                "      ,[LeadTimeDays]\r\n",
                "      ,[QuantityPerOuter]\r\n",
                "      ,[IsChillerStock]\r\n",
                "      ,[TaxRate]\r\n",
                "      ,[UnitPrice]\r\n",
                "      ,[RecommendedRetailPrice]\r\n",
                "      ,[TypicalWeightPerUnit]\r\n",
                "FROM [Warehouse].[StockItems] i\r\n",
                "    LEFT JOIN [Purchasing].[Suppliers] s \r\n",
                "    ON i.SupplierID = s.SupplierID\r\n",
                "WHERE StockItemID = 200;\r\n",
                "\r\n",
                "GO\r\n",
                "SET SHOWPLAN_ALL OFF;\r\n",
                "GO"
            ],
            "metadata": {
                "azdata_cell_guid": "7b4f4832-e162-4876-a623-f9a6b3bc9fc6"
            },
            "outputs": [],
            "execution_count": 0
        },
        {
            "cell_type": "markdown",
            "source": [
                "This form of representation is better in applications where the XML cannot be converted directly into a graphical representation as in SSMS or Azure Data Studio. You can activate an even simpler representation with fewer columns in the result set using the `SHOWPLAN_TEXT` option. Here you will receive the original statement in addition to the textual representation of the individual steps in the execution plan, which can be very helpful under certain circumstances. \r\n",
                "\r\n",
                "So far this is quite nice, but what does it all mean? To get an idea of what is happening here, we change our query a bit and search for a part of the article name instead of an ID: "
            ],
            "metadata": {
                "azdata_cell_guid": "8eb3447d-89e7-4ab0-af3f-12782e8510b9"
            }
        },
        {
            "cell_type": "code",
            "source": [
                "SET SHOWPLAN_XML ON;\r\n",
                "GO\r\n",
                "\r\n",
                "SELECT \r\n",
                "       [StockItemID]\r\n",
                "      ,[StockItemName]\r\n",
                "      ,[SupplierName]\r\n",
                "      ,[Brand]\r\n",
                "      ,[Size]\r\n",
                "      ,[LeadTimeDays]\r\n",
                "      ,[QuantityPerOuter]\r\n",
                "      ,[IsChillerStock]\r\n",
                "      ,[TaxRate]\r\n",
                "      ,[UnitPrice]\r\n",
                "      ,[RecommendedRetailPrice]\r\n",
                "      ,[TypicalWeightPerUnit]\r\n",
                "FROM [Warehouse].[StockItems] i\r\n",
                "    LEFT JOIN [Purchasing].[Suppliers] s \r\n",
                "    ON i.SupplierID = s.SupplierID\r\n",
                "WHERE StockItemName like '%USB%';\r\n",
                "\r\n",
                "GO\r\n",
                "SET SHOWPLAN_XML OFF;\r\n",
                "GO"
            ],
            "metadata": {
                "azdata_cell_guid": "7c7b468c-24f2-4d29-944d-2a3168ef419b"
            },
            "outputs": [],
            "execution_count": 0
        },
        {
            "cell_type": "markdown",
            "source": [
                "Here you can see that the execution plan has changed, where before there were two Clustered Index Seeks (a direct search in the B-tree of the index) there are now Clustered Index Scans, the index is scanned (searched) in its full width. To detect this, we activate the IO statistics output (as shown in week 9) and compare the output of both statements: "
            ],
            "metadata": {
                "azdata_cell_guid": "10f5090f-b17e-406a-a75a-740f4f5503aa"
            }
        },
        {
            "cell_type": "code",
            "source": [
                "SET STATISTICS IO ON\r\n",
                "\r\n",
                "SELECT \r\n",
                "       [StockItemID]\r\n",
                "      ,[StockItemName]\r\n",
                "      ,[SupplierName]\r\n",
                "      ,[Brand]\r\n",
                "      ,[Size]\r\n",
                "      ,[LeadTimeDays]\r\n",
                "      ,[QuantityPerOuter]\r\n",
                "      ,[IsChillerStock]\r\n",
                "      ,[TaxRate]\r\n",
                "      ,[UnitPrice]\r\n",
                "      ,[RecommendedRetailPrice]\r\n",
                "      ,[TypicalWeightPerUnit]\r\n",
                "FROM [Warehouse].[StockItems] i\r\n",
                "    LEFT JOIN [Purchasing].[Suppliers] s \r\n",
                "    ON i.SupplierID = s.SupplierID\r\n",
                "WHERE StockItemName like '%USB%';\r\n",
                "\r\n",
                "SELECT \r\n",
                "       [StockItemID]\r\n",
                "      ,[StockItemName]\r\n",
                "      ,[SupplierName]\r\n",
                "      ,[Brand]\r\n",
                "      ,[Size]\r\n",
                "      ,[LeadTimeDays]\r\n",
                "      ,[QuantityPerOuter]\r\n",
                "      ,[IsChillerStock]\r\n",
                "      ,[TaxRate]\r\n",
                "      ,[UnitPrice]\r\n",
                "      ,[RecommendedRetailPrice]\r\n",
                "      ,[TypicalWeightPerUnit]\r\n",
                "FROM [Warehouse].[StockItems] i\r\n",
                "    LEFT JOIN [Purchasing].[Suppliers] s \r\n",
                "    ON i.SupplierID = s.SupplierID\r\n",
                "WHERE StockItemID = 200;\r\n",
                "\r\n",
                "SET STATISTICS IO OFF"
            ],
            "metadata": {
                "azdata_cell_guid": "65d556dd-8a7a-41c1-a63e-b28f0f9be6ca"
            },
            "outputs": [],
            "execution_count": 0
        },
        {
            "cell_type": "markdown",
            "source": [
                "In this case, we see that the first query performs a scan with 42 or 16 read pages on our tables, while the second query performs a sea with two read pages each. \n",
                "\n",
                "For the details about Seeks, scans and execution plans, we refer to many very good lectures of very good Shoguns and their books. There is so much to learn here, even for ninjas like us. \n",
                "## References\n",
                "- [Documentation from Microsoft about SHOWPLAN_ALL](https://docs.microsoft.com/de-de/sql/t-sql/statements/set-showplan-all-transact-sql?view=sql-server-ver15)\n",
                "- [Documentation from Microsoft on SHOWPLAN_XML](https://docs.microsoft.com/de-de/sql/t-sql/statements/set-showplan-xml-transact-sql?view=sql-server-ver15)\n",
                "- [Documentation from Microsoft about SHOWPLAN_TEXT](https://docs.microsoft.com/de-de/sql/t-sql/statements/set-showplan-text-transact-sql?view=sql-server-ver15)"
            ],
            "metadata": {
                "azdata_cell_guid": "b18f848b-d558-4003-8e4b-cd0932ce2ee1"
            }
        }
    ]
}