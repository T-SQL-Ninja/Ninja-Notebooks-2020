{
    "metadata": {
        "kernelspec": {
            "name": "SQL",
            "display_name": "SQL",
            "language": "sql"
        },
        "language_info": {
            "name": "sql",
            "version": ""
        }
    },
    "nbformat_minor": 2,
    "nbformat": 4,
    "cells": [
        {
            "cell_type": "markdown",
            "source": [
                "# Week 30: FIRST_VALUE and LAST_VALUE\r\n",
                "## What are FIRST_VALUE and LAST_VALUE? \r\n",
                "Like the `ROW_NUMBER` and `RANK` functions introduced in weeks 12 to 14, `FIRST_VALUE` and `LAST_VALUE` are also part of the window functions. This means they are functions that operate on an ordered set of rows in the result set. According to their names, the functions return the first or last row of the window on which they operate.\r\n",
                "## How can you work with FIRST_VALUE and LAST_VALUE?\r\n",
                "To find the first and last rows of a result window, we take the `Sales.Order` table in the `WideWorldImporters` database to find the first order of each customer. We want to look at the following columns of the table:"
            ],
            "metadata": {
                "azdata_cell_guid": "f59b74d6-bcc7-4d1a-b7a0-721edd6d5e1f"
            }
        },
        {
            "cell_type": "code",
            "source": [
                "SELECT \r\n",
                "     OrderDate\r\n",
                "    ,OrderID\r\n",
                "    ,ExpectedDeliveryDate\r\n",
                "    ,CustomerID\r\n",
                "FROM [Sales].[Orders]"
            ],
            "metadata": {
                "azdata_cell_guid": "96865b47-5618-4d68-bfc6-e1d41047f6b8"
            },
            "outputs": [],
            "execution_count": 0
        },
        {
            "cell_type": "markdown",
            "source": [
                "To find now for each order the first order of the respective customer, we use the `FIRST_VALUE` function. This function now calculates the first values for each row in the orders table:"
            ],
            "metadata": {
                "azdata_cell_guid": "7fa01c10-7076-4da5-8ce2-f6e5cd77c89e"
            }
        },
        {
            "cell_type": "code",
            "source": [
                "SELECT \r\n",
                "     OrderDate as DateCurrentOrder\r\n",
                "    ,FIRST_VALUE(OrderDate) OVER (PARTITION BY CustomerID ORDER BY OrderDate) as DateFirstOrder\r\n",
                "    ,OrderID as IDCurrentOrder\r\n",
                "    ,FIRST_VALUE(OrderID) OVER (PARTITION BY CustomerID ORDER BY OrderDate) as IDirstOrder\r\n",
                "    ,ExpectedDeliveryDate as ExpectedDeliveryCurrentOrder\r\n",
                "    ,FIRST_VALUE(ExpectedDeliveryDate) OVER (PARTITION BY CustomerID ORDER BY OrderDate) as ExpectedDeliveryFirstOrder\r\n",
                "    ,CustomerID\r\n",
                "FROM [Sales].[Orders]\r\n",
                "ORDER BY CustomerID"
            ],
            "metadata": {
                "azdata_cell_guid": "13c5fb11-3be2-48e1-92d5-7cdbf4f4bcc5"
            },
            "outputs": [],
            "execution_count": 0
        },
        {
            "cell_type": "markdown",
            "source": [
                "Now we can use these values, for example, to calculate for each order how many days after the first order it was placed:"
            ],
            "metadata": {
                "azdata_cell_guid": "2117ecda-e13c-4410-847b-427a83ca35ea"
            }
        },
        {
            "cell_type": "code",
            "source": [
                "SELECT \r\n",
                "     OrderDate as DateCurrentOrder\r\n",
                "    ,FIRST_VALUE(OrderDate) OVER (PARTITION BY CustomerID ORDER BY OrderDate) as DateFirstOrder\r\n",
                "    ,DATEDIFF(DAY, FIRST_VALUE(OrderDate) OVER (PARTITION BY CustomerID ORDER BY OrderDate), OrderDate) DaysSinceFirstOrder\r\n",
                "    ,OrderID as IDCurrentOrder\r\n",
                "    ,FIRST_VALUE(OrderID) OVER (PARTITION BY CustomerID ORDER BY OrderDate) as IDirstOrder\r\n",
                "    ,ExpectedDeliveryDate as ExpectedDeliveryCurrentOrder\r\n",
                "    ,FIRST_VALUE(ExpectedDeliveryDate) OVER (PARTITION BY CustomerID ORDER BY OrderDate) as ExpectedDeliveryFirstOrder\r\n",
                "    ,CustomerID\r\n",
                "FROM [Sales].[Orders]\r\n",
                "ORDER BY CustomerID"
            ],
            "metadata": {
                "azdata_cell_guid": "2b4c5d10-2354-4cf1-aff6-4e7375d791a5"
            },
            "outputs": [],
            "execution_count": 0
        },
        {
            "cell_type": "markdown",
            "source": [
                "In the same way, of course, we can now determine the days from the order to the customer's last order by using `LAST_VALUE`:"
            ],
            "metadata": {
                "azdata_cell_guid": "d677c296-5eaf-4e98-84b2-e8dcc59f0e83"
            }
        },
        {
            "cell_type": "code",
            "source": [
                "SELECT \r\n",
                "     OrderDate as DateCurrentOrder\r\n",
                "    ,FIRST_VALUE(OrderDate) OVER (PARTITION BY CustomerID ORDER BY OrderDate) as DateFirstOrder\r\n",
                "    ,LAST_VALUE(OrderDate) OVER (PARTITION BY CustomerID ORDER BY OrderDate) DateLastOrder\r\n",
                "    ,DATEDIFF(DAY, FIRST_VALUE(OrderDate) OVER (PARTITION BY CustomerID ORDER BY OrderDate), OrderDate) DaysSinceFirstOrder\r\n",
                "    ,OrderID as IDCurrentOrder\r\n",
                "    ,FIRST_VALUE(OrderID) OVER (PARTITION BY CustomerID ORDER BY OrderDate) as IDirstOrder\r\n",
                "    ,ExpectedDeliveryDate as ExpectedDeliveryCurrentOrder\r\n",
                "    ,FIRST_VALUE(ExpectedDeliveryDate) OVER (PARTITION BY CustomerID ORDER BY OrderDate) as ExpectedDeliveryFirstOrder\r\n",
                "    ,CustomerID\r\n",
                "FROM [Sales].[Orders]\r\n",
                "ORDER BY CustomerID"
            ],
            "metadata": {
                "azdata_cell_guid": "16afca63-ca8f-43e0-93db-3eaaca63eb4c"
            },
            "outputs": [],
            "execution_count": 0
        },
        {
            "cell_type": "markdown",
            "source": [
                "But to our great surprise, we now see as `LAST_VALUE` always the value of the current line as the last order date of the customer. This is because we already explained in the first articles about window functions that the default window always extends from the beginning of the definition area to the current line. To change this we need to specify a so called \"range clause\" which has the form `ROWS BETWEEN a AND b`:"
            ],
            "metadata": {
                "azdata_cell_guid": "1e03e52e-35ef-4333-9965-47314c167d2e"
            }
        },
        {
            "cell_type": "code",
            "source": [
                "SELECT \r\n",
                "     OrderDate as DateCurrentOrder\r\n",
                "    ,FIRST_VALUE(OrderDate) OVER (PARTITION BY CustomerID ORDER BY OrderDate) as DateFirstOrder\r\n",
                "    ,LAST_VALUE(OrderDate) OVER (PARTITION BY CustomerID ORDER BY OrderDate ROWS BETWEEN CURRENT ROW AND UNBOUNDED FOLLOWING) DateLastOrder\r\n",
                "    ,DATEDIFF(DAY, FIRST_VALUE(OrderDate) OVER (PARTITION BY CustomerID ORDER BY OrderDate), OrderDate) DaysSinceFirstOrder\r\n",
                "    ,OrderID as IDCurrentOrder\r\n",
                "    ,FIRST_VALUE(OrderID) OVER (PARTITION BY CustomerID ORDER BY OrderDate) as IDirstOrder\r\n",
                "    ,ExpectedDeliveryDate as ExpectedDeliveryCurrentOrder\r\n",
                "    ,FIRST_VALUE(ExpectedDeliveryDate) OVER (PARTITION BY CustomerID ORDER BY OrderDate) as ExpectedDeliveryFirstOrder\r\n",
                "    ,CustomerID\r\n",
                "FROM [Sales].[Orders]\r\n",
                "ORDER BY CustomerID"
            ],
            "metadata": {
                "azdata_cell_guid": "95fa20b4-d95a-45d1-b124-e6c20153145a"
            },
            "outputs": [],
            "execution_count": 0
        },
        {
            "cell_type": "markdown",
            "source": [
                "With this background knowledge, we can now also indicate the distance to the customer's most recent order:"
            ],
            "metadata": {
                "azdata_cell_guid": "37faf769-fd97-4ba6-8ac9-f31329a128d2"
            }
        },
        {
            "cell_type": "code",
            "source": [
                "SELECT \r\n",
                "     OrderDate as DateCurrentOrder\r\n",
                "    ,FIRST_VALUE(OrderDate) OVER (PARTITION BY CustomerID ORDER BY OrderDate) as DateFirstOrder\r\n",
                "    ,LAST_VALUE(OrderDate) OVER (PARTITION BY CustomerID ORDER BY OrderDate ROWS BETWEEN CURRENT ROW AND UNBOUNDED FOLLOWING) DateLastOrder\r\n",
                "    ,DATEDIFF(DAY, FIRST_VALUE(OrderDate) OVER (PARTITION BY CustomerID ORDER BY OrderDate), OrderDate) DaysSinceFirstOrder\r\n",
                "    ,DATEDIFF(DAY, OrderDate, LAST_VALUE(OrderDate) OVER (PARTITION BY CustomerID ORDER BY OrderDate ROWS BETWEEN CURRENT ROW AND UNBOUNDED FOLLOWING)) DaysToLastOrder\r\n",
                "    ,OrderID as IDCurrentOrder\r\n",
                "    ,FIRST_VALUE(OrderID) OVER (PARTITION BY CustomerID ORDER BY OrderDate) as IDirstOrder\r\n",
                "    ,ExpectedDeliveryDate as ExpectedDeliveryCurrentOrder\r\n",
                "    ,FIRST_VALUE(ExpectedDeliveryDate) OVER (PARTITION BY CustomerID ORDER BY OrderDate) as ExpectedDeliveryFirstOrder\r\n",
                "    ,CustomerID\r\n",
                "FROM [Sales].[Orders]\r\n",
                "ORDER BY CustomerID"
            ],
            "metadata": {
                "azdata_cell_guid": "c5285bb7-2bf8-48ef-951c-eebfd13c2252"
            },
            "outputs": [],
            "execution_count": 0
        },
        {
            "cell_type": "markdown",
            "source": [
                "`FIRST_VALUE` and `LAST_VALUE` are really useful functions, nevertheless you should be careful with the techniques shown here, because window functions are potential performance killers, because in case of doubt a multiple of the returned result set has to be read and processed by the server to execute the windows completely. \n",
                "## References\n",
                "- [Documentation from Microsoft about FIRST_VALUE](https://docs.microsoft.com/de-de/sql/t-sql/functions/first-value-transact-sql?view=sql-server-ver15)\n",
                "- [Documentation from Microsoft on LAST_VALUE](https://docs.microsoft.com/de-de/sql/t-sql/functions/last-value-transact-sql?view=sql-server-ver15)"
            ],
            "metadata": {
                "azdata_cell_guid": "9a6aafe1-700a-4269-a5e3-20b83485222e"
            }
        }
    ]
}