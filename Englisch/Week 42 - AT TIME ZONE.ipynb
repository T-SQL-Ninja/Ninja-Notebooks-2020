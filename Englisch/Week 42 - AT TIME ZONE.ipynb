{
    "metadata": {
        "kernelspec": {
            "name": "SQL",
            "display_name": "SQL",
            "language": "sql"
        },
        "language_info": {
            "name": "sql",
            "version": ""
        }
    },
    "nbformat_minor": 2,
    "nbformat": 4,
    "cells": [
        {
            "cell_type": "markdown",
            "source": [
                "# Week 42: AT TIME ZONE\r\n",
                "## What is AT TIME ZONE? \r\n",
                "Who doesn't know it? You're in Seeheim Jugendheim and want to call your ninja colleague in Kyoto, but you don't know what time it is at his place. Of course you can google the local time in Kyoto, but you can also query the time in Tokyo Standard Time in SQL Server. The tool for this is `AT TIME ZONE`.  \r\n",
                "## How can you use AT TIME ZONE?\r\n",
                "To answer the above question, you can simply use the following query:"
            ],
            "metadata": {
                "azdata_cell_guid": "e3fb2421-ada5-4c6f-9587-a1306481458e"
            }
        },
        {
            "cell_type": "code",
            "source": [
                "SELECT GETDATE() AT TIME ZONE 'Tokyo Standard Time'"
            ],
            "metadata": {
                "azdata_cell_guid": "e724bdcc-e648-4f21-9e7b-2988bbae347c"
            },
            "outputs": [],
            "execution_count": 0
        },
        {
            "cell_type": "markdown",
            "source": [
                "Here you select the current time and indicate that you want to know the current time in the time zone \"Tokyo Standard Time\". What the SQL Server does to resolve this time zone is to rely on the system and ask the system for the time in the time zone. To do this, of course, the time zone must be resolved in your PC. You can see which time zones are available here in the registry under \"KEY_LOCAL_MACHINE\\SOFTWARE\\Microsoft\\Windows NT\\CurrentVersion\\Time Zones\". However, you can also find a list of time zones on the net if, like us, you always get a little queasy when you open the registry editor. You can find the usually defined time zones here: https://docs.microsoft.com/en-us/windows-hardware/manufacture/desktop/default-time-zones.\r\n",
                "\r\n",
                "Before we start with time conversions, we have to find out which time zone you have set. You can do this with the following command: "
            ],
            "metadata": {
                "azdata_cell_guid": "59448423-c91e-4d5e-acda-5e262df8fcc3"
            }
        },
        {
            "cell_type": "code",
            "source": [
                "SELECT \r\n",
                "    DATEPART(TZOFFSET , SYSDATETIMEOFFSET()) as Offset,\r\n",
                "    DATENAME(TZOFFSET , SYSDATETIMEOFFSET()) as TZName"
            ],
            "metadata": {
                "azdata_cell_guid": "b270ed80-5959-4e8a-9a73-b0221dcaafa7"
            },
            "outputs": [],
            "execution_count": 0
        },
        {
            "cell_type": "markdown",
            "source": [
                "In my case I get 0 as offset and the name \"+00:00\", which means that my database is set to the UTC time zone. If your test database is set to a different time zone, you may need to adjust your examples. So let's do a conversion to German time (\"W. European Standard Time\") and compare it with UTC:"
            ],
            "metadata": {
                "azdata_cell_guid": "b2d214f0-5f78-4c61-b957-6e34442a8c90"
            }
        },
        {
            "cell_type": "code",
            "source": [
                "SELECT \r\n",
                "     GETDATE() AT TIME ZONE 'UTC' AS [UTC]\r\n",
                "    ,GETDATE() AT TIME ZONE 'W. Europe Standard Time' AS [WEST]"
            ],
            "metadata": {
                "azdata_cell_guid": "42b94fe6-5032-4043-8d1a-4ddd2d97f7f3"
            },
            "outputs": [],
            "execution_count": 0
        },
        {
            "cell_type": "markdown",
            "source": [
                "Here you can see one time with the attached offset \"+00:00\" (sure, a time in UTC has no offset to UTC time) and one with \"+01:00\" (if you execute this example in German wintertime) or \"+02:00\" (if you execute this example in German summertime). \r\n",
                "\r\n",
                "Those of you who have converted global timestamps are aware of the pain this issue can cause, especially when you are dealing with daylight saving time and time changeover. In the year 2020, the clock in Germany was moved forward on March 29 from 2:00 to 3:00 one hour to daylight savings time. That means at 2 o'clock we go from UTC +1 hour to UTC +2 hours. The SQL Server then shifts the times in this interval to the time after the changeover. Let's try this out:"
            ],
            "metadata": {
                "azdata_cell_guid": "3a38fc0e-5c85-4bb0-8069-2dec152822c4"
            }
        },
        {
            "cell_type": "code",
            "source": [
                "SELECT \r\n",
                "     CONVERT(datetime, '2020-03-29T01:59:00') \r\n",
                "        AT TIME ZONE 'UTC' AS [UTC]\r\n",
                "    ,CONVERT(datetime, '2020-03-29T01:59:00') \r\n",
                "        AT TIME ZONE 'W. Europe Standard Time' AS [WEST]\r\n",
                "UNION ALL\r\n",
                "SELECT \r\n",
                "     CONVERT(datetime, '2020-03-29T02:00:00') \r\n",
                "        AT TIME ZONE 'UTC' AS [UTC]\r\n",
                "    ,CONVERT(datetime, '2020-03-29T02:00:00') \r\n",
                "        AT TIME ZONE 'W. Europe Standard Time' AS [WEST]\r\n",
                "UNION ALL\r\n",
                "SELECT \r\n",
                "     CONVERT(datetime, '2020-03-29T02:01:00') \r\n",
                "        AT TIME ZONE 'UTC' AS [UTC]\r\n",
                "    ,CONVERT(datetime, '2020-03-29T02:01:00') \r\n",
                "        AT TIME ZONE 'W. Europe Standard Time' AS [WEST]"
            ],
            "metadata": {
                "azdata_cell_guid": "377776b2-e62b-4f27-949e-d339f0708b30"
            },
            "outputs": [],
            "execution_count": 0
        },
        {
            "cell_type": "markdown",
            "source": [
                "We see in the output that the first converted time is still UTC +1 hour, while at 2 o'clock sharp the converted time is no longer UTC +1 hour, but jumps to UTC +2 hours.\r\n",
                "\r\n",
                "Similarly, if we jump from UTC +2 hours to UTC +1 hour, times from the overlapping interval are then shifted to times before the one before the changeover:"
            ],
            "metadata": {
                "azdata_cell_guid": "643ad809-5ac4-4114-9a15-bcde33832850"
            }
        },
        {
            "cell_type": "code",
            "source": [
                "SELECT \r\n",
                "     CONVERT(datetime, '2020-10-25T02:59:00') \r\n",
                "        AT TIME ZONE 'UTC' AS [UTC]\r\n",
                "    ,CONVERT(datetime, '2020-10-25T02:59:00') \r\n",
                "        AT TIME ZONE 'W. Europe Standard Time' AS [WEST]\r\n",
                "UNION ALL\r\n",
                "SELECT \r\n",
                "     CONVERT(datetime, '2020-10-25T03:00:00') \r\n",
                "        AT TIME ZONE 'UTC' AS [UTC]\r\n",
                "    ,CONVERT(datetime, '2020-10-25T03:00:00') \r\n",
                "        AT TIME ZONE 'W. Europe Standard Time' AS [WEST]\r\n",
                "UNION ALL\r\n",
                "SELECT \r\n",
                "     CONVERT(datetime, '2020-10-25T03:01:00') \r\n",
                "        AT TIME ZONE 'UTC' AS [UTC]\r\n",
                "    ,CONVERT(datetime, '2020-10-25T03:01:00') \r\n",
                "        AT TIME ZONE 'W. Europe Standard Time' AS [WEST]"
            ],
            "metadata": {
                "azdata_cell_guid": "7ceab126-6035-432c-9bbc-2248a11cd968"
            },
            "outputs": [],
            "execution_count": 0
        },
        {
            "cell_type": "markdown",
            "source": [
                "Another thing you should know is that you can use `AT TIME ZONE` to query temporal tables, which means that if you have a table whose changes are versioned by the system, you can query the state of the table at a given time. For the historicized `ColdRoomTemperatures` of the WideWorldImporters database, you could do this as follows:"
            ],
            "metadata": {
                "azdata_cell_guid": "ff9a8469-1036-48b1-9647-d900a7486f6b"
            }
        },
        {
            "cell_type": "code",
            "source": [
                "SELECT TOP (1000) [ColdRoomTemperatureID]\r\n",
                "      ,[ColdRoomSensorNumber]\r\n",
                "      ,[RecordedWhen]\r\n",
                "      ,[Temperature]\r\n",
                "  FROM [WideWorldImporters].[Warehouse].[ColdRoomTemperatures]\r\n",
                "  FOR SYSTEM_TIME AS OF '2016-01-01 13:00:00'"
            ],
            "metadata": {
                "azdata_cell_guid": "f3441299-f702-4c0a-9063-dcf55cd380b5"
            },
            "outputs": [],
            "execution_count": 0
        },
        {
            "cell_type": "markdown",
            "source": [
                "But if you now know that your cold store is in Kyoto, but the timestamps are recorded in UTC, you would first have to store the timestamp you are looking for in a variable and then execute the `AS OF` query with this variable:"
            ],
            "metadata": {
                "azdata_cell_guid": "d4f6ed8d-9f7e-4b50-8a8b-9d02a65b2243"
            }
        },
        {
            "cell_type": "code",
            "source": [
                "DECLARE @asof datetimeoffset \r\n",
                "    = CONVERT(datetime, '2016-01-01 13:00:00') \r\n",
                "      AT TIME ZONE 'Tokyo Standard Time'\r\n",
                "\r\n",
                "SELECT TOP (1000) [ColdRoomTemperatureID]\r\n",
                "      ,[ColdRoomSensorNumber]\r\n",
                "      ,[RecordedWhen]\r\n",
                "      ,[Temperature]\r\n",
                "  FROM [WideWorldImporters].[Warehouse].[ColdRoomTemperatures]\r\n",
                "  FOR SYSTEM_TIME AS OF @asof"
            ],
            "metadata": {
                "azdata_cell_guid": "dad472ba-bc71-4eca-8a46-d4246d7e8b1d"
            },
            "outputs": [],
            "execution_count": 0
        },
        {
            "cell_type": "markdown",
            "source": [
                "Timestamps and their conversion won't be a walk in the park with `AT TIME ZONE` and still causes headaches like a blow on the head with the flat side of the katana, but `AT TIME ZONE` at least saves you from implementing wild time zone conversions yourself. So this functionality might make life a bit more bearable if you already have to deal with time zones and have a SQL server available in a 2016 version... \n",
                "## References\n",
                "- [Documentation from Microsoft](https://docs.microsoft.com/de-de/sql/t-sql/queries/at-time-zone-transact-sql?view=sql-server-ver15)\n",
                ""
            ],
            "metadata": {
                "azdata_cell_guid": "2605f2a2-5cec-4ce9-beb5-89462afe026b"
            }
        }
    ]
}