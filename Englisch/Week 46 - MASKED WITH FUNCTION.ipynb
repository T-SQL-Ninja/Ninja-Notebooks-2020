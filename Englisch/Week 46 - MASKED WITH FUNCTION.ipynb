{
    "metadata": {
        "kernelspec": {
            "name": "SQL",
            "display_name": "SQL",
            "language": "sql"
        },
        "language_info": {
            "name": "sql",
            "version": ""
        }
    },
    "nbformat_minor": 2,
    "nbformat": 4,
    "cells": [
        {
            "cell_type": "markdown",
            "source": [
                "# Week 46: MASKED WITH FUNCTION\r\n",
                "## What does MASKED WITH FUNCTION do? \r\n",
                "Let's assume that you want to hide the real names of your ninjas from the enemy (as you should, of course). Let's further assume that you want to know them and store them in a database. I know that this assumption becomes slightly abstruse here, as of course every great master knows the names of his ninjas and would never store them. But let's still assume that you wanted to save them. Of course, you would then leave no stone unturned to protect your warriors. And with dynamic data masking, SQL Server 2016 and later will help you protect the identity of your warriors.  \r\n",
                "## How can you use MASKED WITH FUNCTION?\r\n",
                "\r\n",
                "First of all, we have to create a table where we want to store the master data of the ninjas:"
            ],
            "metadata": {
                "azdata_cell_guid": "8b29ac82-1173-436c-a153-13b0fb0dc966"
            }
        },
        {
            "cell_type": "code",
            "source": [
                "DROP TABLE IF EXISTS NinjaWarriors\r\n",
                "\r\n",
                "CREATE TABLE NinjaWarriors \r\n",
                "(\r\n",
                "     NinjaId int NOT NULL IDENTITY(1,1)\r\n",
                "    ,RealFirstName varchar(250) NOT NULL\r\n",
                "    ,NinjaName varchar(250) NOT NULL\r\n",
                "    ,SecretPower varchar(250) NOT NULL\r\n",
                ")"
            ],
            "metadata": {
                "azdata_cell_guid": "3a7831c3-9e1f-43d6-82e7-4dbc0d8842ae"
            },
            "outputs": [],
            "execution_count": 0
        },
        {
            "cell_type": "markdown",
            "source": [
                "Next we will insert some rows into that table:"
            ],
            "metadata": {
                "azdata_cell_guid": "4aefeb92-483e-4f41-bf7a-2739fe286004"
            }
        },
        {
            "cell_type": "code",
            "source": [
                "INSERT INTO NinjaWarriors \r\n",
                "(RealFirstName, NinjaName, SecretPower)\r\n",
                "VALUES \r\n",
                "('Tobi', 'Blackclaw', 'Makes beer disappear'),\r\n",
                "('Fred', 'Lethalstain', 'Talks to whales')"
            ],
            "metadata": {
                "azdata_cell_guid": "b89923f8-8dd8-4ae1-b335-fcf5274b3588"
            },
            "outputs": [],
            "execution_count": 0
        },
        {
            "cell_type": "markdown",
            "source": [
                "Let us now create a user in our database to query the ninja table:"
            ],
            "metadata": {
                "azdata_cell_guid": "352415f7-ab4e-4deb-9ec9-da11f25fcd53"
            }
        },
        {
            "cell_type": "code",
            "source": [
                "DROP USER IF EXISTS Enemy\r\n",
                "\r\n",
                "CREATE USER Enemy WITHOUT LOGIN;\r\n",
                "GRANT SELECT ON NinjaWarriors TO Enemy;"
            ],
            "metadata": {
                "azdata_cell_guid": "73749ac4-dc92-46ef-85f1-acaa14ed0f71"
            },
            "outputs": [],
            "execution_count": 0
        },
        {
            "cell_type": "markdown",
            "source": [
                "The `REVERT` at the end of this statement is used to return to the original user context. Now let's change the table definition to protect the data in the table. From the ninja real name we want to show only the first and last letter:"
            ],
            "metadata": {
                "azdata_cell_guid": "d86a1fc1-faa9-449e-a974-07f8ee5fefc9"
            }
        },
        {
            "cell_type": "code",
            "source": [
                "ALTER TABLE NinjaWarriors \r\n",
                "ALTER COLUMN RealFirstName ADD MASKED WITH (FUNCTION = 'partial(1,\"XXX\",1)')"
            ],
            "metadata": {
                "azdata_cell_guid": "99fb2abe-b8d4-4caa-b254-b6620596d078"
            },
            "outputs": [],
            "execution_count": 0
        },
        {
            "cell_type": "markdown",
            "source": [
                "You see that we change the definition of the column similar to how we would add a DEFAULT value. \r\n",
                "\r\n",
                "When you query the table with your normal user, you will still see all the data you added to the table, but you will query the table again with the user Enemy:"
            ],
            "metadata": {
                "azdata_cell_guid": "8f8633d5-2d0c-479d-b51a-9d67c9002607"
            }
        },
        {
            "cell_type": "code",
            "source": [
                "EXECUTE AS USER = 'Enemy';\r\n",
                "SELECT * FROM NinjaWarriors;  \r\n",
                "REVERT;"
            ],
            "metadata": {
                "azdata_cell_guid": "bb3dddf0-3de1-4fbf-ad4f-0d657fb6c5ed"
            },
            "outputs": [],
            "execution_count": 0
        },
        {
            "cell_type": "markdown",
            "source": [
                "Then you see that the first names have been masked to \"Txxi\" and \"Fxxd\". Similar to what you used the `Partial` function here, you can use other functions to protect your data:"
            ],
            "metadata": {
                "azdata_cell_guid": "49c7cc6f-3cb7-4454-bfe2-5fbc29d7c6c0"
            }
        },
        {
            "cell_type": "code",
            "source": [
                "ALTER TABLE NinjaWarriors\r\n",
                "ALTER COLUMN SecretPower ADD MASKED WITH (FUNCTION = 'default()')"
            ],
            "metadata": {
                "azdata_cell_guid": "0fb8c56b-8bd0-4c70-a86c-7a2a87ffe4e5"
            },
            "outputs": [],
            "execution_count": 0
        },
        {
            "cell_type": "markdown",
            "source": [
                "If you now query the table as \"Enemy\", you will see that instead of the secret powers of your ninja fighters, you will simply see \"xxxx\".\r\n",
                "\r\n",
                "How can you give a user the right to see the masked data? You can give a user the \"umask\" permission to see the masked data. Let's create another user for this:"
            ],
            "metadata": {
                "azdata_cell_guid": "1e85b65b-cefc-4739-828b-161f96a1c0d4"
            }
        },
        {
            "cell_type": "code",
            "source": [
                "DROP USER IF EXISTS Friend\r\n",
                "CREATE USER Friend WITHOUT LOGIN;\r\n",
                "GRANT SELECT ON NinjaWarriors TO Friend;\r\n",
                "\r\n",
                "EXECUTE AS USER = 'Friend';\r\n",
                "SELECT * FROM NinjaWarriors;  \r\n",
                "REVERT;"
            ],
            "metadata": {
                "azdata_cell_guid": "4c959238-7338-4d60-be7c-58ce6f4385cd"
            },
            "outputs": [],
            "execution_count": 0
        },
        {
            "cell_type": "markdown",
            "source": [
                "Your friend can't read the data of the table, because he was created identically to the enemy user. Now let's give him the right to read the masked data:"
            ],
            "metadata": {
                "azdata_cell_guid": "19302fbb-e058-439b-8fb0-ee5e3d58ac32"
            }
        },
        {
            "cell_type": "code",
            "source": [
                "GRANT UNMASK TO Friend\r\n",
                "\r\n",
                "EXECUTE AS USER = 'Friend';\r\n",
                "SELECT * FROM NinjaWarriors;  \r\n",
                "REVERT;"
            ],
            "metadata": {
                "azdata_cell_guid": "9585bf07-0e97-42af-9ab1-4e6d4aa0ae75"
            },
            "outputs": [],
            "execution_count": 0
        },
        {
            "cell_type": "markdown",
            "source": [
                "The user can now see all data of the table again. \r\n",
                "If you now want to undo the masking of a table, you can use `DROP` to remove the `MASKED` property:"
            ],
            "metadata": {
                "azdata_cell_guid": "e044e623-58eb-4e3f-bcff-40a2305af899"
            }
        },
        {
            "cell_type": "code",
            "source": [
                "ALTER TABLE NinjaWarriors\r\n",
                "ALTER COLUMN SecretPower DROP MASKED\r\n",
                "\r\n",
                "EXECUTE AS USER = 'Enemy';\r\n",
                "SELECT * FROM NinjaWarriors;  \r\n",
                "REVERT;"
            ],
            "metadata": {
                "azdata_cell_guid": "2d9b379c-59c8-499d-a4d6-11263b8bc5eb"
            },
            "outputs": [],
            "execution_count": 0
        },
        {
            "cell_type": "markdown",
            "source": [
                "The enemy can now read all secret abilities again, but the names are still masked for him. \r\n",
                "\r\n",
                "Now the enemy could try to be clever and bypass the masking and get the SQL Server to write the unmasked data to another table where it can retrieve it:"
            ],
            "metadata": {
                "azdata_cell_guid": "9087896c-4833-441e-b55d-7056de193e8b"
            }
        },
        {
            "cell_type": "code",
            "source": [
                "EXECUTE AS USER = 'Enemy';\r\n",
                "SELECT * INTO #WantToKnow FROM NinjaWarriors;  \r\n",
                "REVERT;"
            ],
            "metadata": {
                "azdata_cell_guid": "0800b050-2f0e-4ee5-9870-ab59799040b4"
            },
            "outputs": [],
            "execution_count": 0
        },
        {
            "cell_type": "markdown",
            "source": [
                "But even here the enemy will be disappointed, because the SQL Server is intelligent enough to notice that the user Enemy is not allowed to read the data and therefore only stores the masked data in the new table. \r\n",
                "\r\n",
                "Remember: the ninja always keeps his mask on, even in the database...\r\n",
                "\r\n",
                "To find out which columns in which tables of your database are masked, you can use the following query:"
            ],
            "metadata": {
                "azdata_cell_guid": "2d9b9dfb-6346-4b54-9f90-83a6607837e4"
            }
        },
        {
            "cell_type": "code",
            "source": [
                "SELECT \r\n",
                "     c.name\r\n",
                "    ,tbl.name as table_name\r\n",
                "    ,c.is_masked\r\n",
                "    ,c.masking_function  \r\n",
                "FROM sys.masked_columns AS c  \r\n",
                "JOIN sys.tables AS tbl   \r\n",
                "    ON c.[object_id] = tbl.[object_id]  \r\n",
                "WHERE is_masked = 1;  "
            ],
            "metadata": {
                "azdata_cell_guid": "e7c3bd25-7230-40f7-807b-1c67f18eee0b"
            },
            "outputs": [],
            "execution_count": 0
        },
        {
            "cell_type": "markdown",
            "source": [
                "## References\n",
                "- [Dokumentation von Microsoft](https://docs.microsoft.com/de-de/sql/relational-databases/security/dynamic-data-masking?view=sql-server-ver15)\n",
                ""
            ],
            "metadata": {
                "azdata_cell_guid": "8dce7360-ee3b-41bb-bcf4-b66e9acc05a4"
            }
        }
    ]
}