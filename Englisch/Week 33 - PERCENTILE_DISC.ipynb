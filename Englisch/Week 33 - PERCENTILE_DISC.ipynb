{
    "metadata": {
        "kernelspec": {
            "name": "SQL",
            "display_name": "SQL",
            "language": "sql"
        },
        "language_info": {
            "name": "sql",
            "version": ""
        }
    },
    "nbformat_minor": 2,
    "nbformat": 4,
    "cells": [
        {
            "cell_type": "markdown",
            "source": [
                "# Week 33: PERCENTILE_DISC\r\n",
                "## What is PERCENTILE_DISC? \r\n",
                "Like the `CUME_DIST` function introduced last week, `PERCENTILE_DISC` is a statistical function. It was introduced in SQL Server 2012 and calculates quantiles. If you want to use the 0.5-quantile of a set (or 'sample' if we want to stick to the usual terminology used in statistics) you understand the value where half of all values are smaller and the other half are larger than this value. Accordingly, the 0.1-quantile is the value where 10% of the values are smaller and 90% of the values are larger than it. You can calculate quantiles with `PERCENTILE_DISC`. As with `CUME_DIST`, a window with sorting is specified and the value of the `ORDER BY` columns is returned, where the distribution function, i.e. `CUME_DIST` in the same window is greater than the passed value for the first time.  \r\n",
                "## How can you work with PERCENTILE_DISC?\r\n",
                "Let's make a query in the WideWorldImporters database, looking at the distribution of orders in the year:\r\n",
                ""
            ],
            "metadata": {
                "azdata_cell_guid": "bce1c1bb-dce5-4693-8562-9fb5e70e499d"
            }
        },
        {
            "cell_type": "code",
            "source": [
                "SELECT \r\n",
                "     InvoiceDate\r\n",
                "    ,CUME_DIST() OVER (PARTITION BY DATEPART(YEAR, InvoiceDate) ORDER BY InvoiceDate) as SalesDistribution\r\n",
                "FROM Sales.Invoices"
            ],
            "metadata": {
                "azdata_cell_guid": "5fa79c9a-2bda-4ad4-acf6-d0aa8bf93e0b"
            },
            "outputs": [],
            "execution_count": 0
        },
        {
            "cell_type": "markdown",
            "source": [
                "Let's assume that we now want to know on which day of the year 90% of the orders were received. Then we calculate the 0.9 quantile of orders as follows: "
            ],
            "metadata": {
                "azdata_cell_guid": "c6c707f5-023e-4e0b-a697-11db7d48db9f"
            }
        },
        {
            "cell_type": "code",
            "source": [
                "SELECT \r\n",
                "     InvoiceDate\r\n",
                "    ,CUME_DIST() OVER (PARTITION BY DATEPART(YEAR, InvoiceDate) ORDER BY InvoiceDate) as SalesDistribution\r\n",
                "    ,PERCENTILE_DISC(0.9) WITHIN GROUP (ORDER BY InvoiceDate) OVER (PARTITION BY DATEPART(YEAR, InvoiceDate)) as BreakevenPoint\r\n",
                "FROM Sales.Invoices\r\n",
                "ORDER BY InvoiceDate"
            ],
            "metadata": {
                "azdata_cell_guid": "59da1eab-2da5-4055-868d-f37b81914d2b"
            },
            "outputs": [],
            "execution_count": 0
        },
        {
            "cell_type": "markdown",
            "source": [
                "It is important to note that `PERCENTILE_DISC` does not have the `ORDER BY` condition in the normal window, i.e. in the `OVER` clause, but in a special `WITHIN GROUP` clause. This is because, unlike the `OVER` clause, we cannot specify multiple sort columns here, but are restricted to a single column for sorting, which is also the return value of the function. \r\n",
                "\r\n",
                "Now you can see on the line of each order when in the year of the order 90% of the orders were received. In this granularity this might be helpful in an application, but of course we can also do this calculation in a CTE, whose results we then summarize:"
            ],
            "metadata": {
                "azdata_cell_guid": "5c6c1d07-691b-492c-8b3c-1747db6b8a08"
            }
        },
        {
            "cell_type": "code",
            "source": [
                "WITH CTE_Percentile AS (\r\n",
                "    SELECT \r\n",
                "         InvoiceDate\r\n",
                "        ,CUME_DIST() OVER (PARTITION BY DATEPART(YEAR, InvoiceDate) ORDER BY InvoiceDate) as SalesDistribution\r\n",
                "        ,PERCENTILE_DISC(0.9) WITHIN GROUP (ORDER BY InvoiceDate) OVER (PARTITION BY DATEPART(YEAR, InvoiceDate)) as BreakevenPoint\r\n",
                "    FROM Sales.Invoices\r\n",
                ")\r\n",
                "SELECT DISTINCT \r\n",
                "     DATEPART(YEAR, InvoiceDate) as InvoiceYear\r\n",
                "    ,BreakevenPoint \r\n",
                "FROM CTE_Percentile"
            ],
            "metadata": {
                "azdata_cell_guid": "37a9e204-b35b-46d4-bf5c-9f454ec27589"
            },
            "outputs": [],
            "execution_count": 0
        },
        {
            "cell_type": "markdown",
            "source": [
                "It is important to note that `PERCENTILE_DISC` will always return a concrete value that exists in your table, i.e. it will not interpolate or anything, but will return the value where `CUME_DIST` is above the searched quantile for the first time. Therefore the name of the function: `PERCENTILE_DISC` calculates on the discrete set of rows exactly the value that fulfills the condition. \n",
                "## References\n",
                "- [Documentation from Microsoft](https://docs.microsoft.com/de-de/sql/t-sql/functions/percentile-disc-transact-sql?view=sql-server-ver15)"
            ],
            "metadata": {
                "azdata_cell_guid": "57c80cbc-5d98-4e96-b4d0-a5c1cf73f72b"
            }
        }
    ]
}