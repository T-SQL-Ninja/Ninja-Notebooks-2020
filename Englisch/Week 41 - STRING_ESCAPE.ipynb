{
    "metadata": {
        "kernelspec": {
            "name": "SQL",
            "display_name": "SQL",
            "language": "sql"
        },
        "language_info": {
            "name": "sql",
            "version": ""
        }
    },
    "nbformat_minor": 2,
    "nbformat": 4,
    "cells": [
        {
            "cell_type": "markdown",
            "source": [
                "# Week 41: STRING_ESCAPE\r\n",
                "## What is STRING_ESCAPE? \r\n",
                "You have already learned about some functions for manipulating strings. `STRING_ESCAPE` also fits into this series. The `STRING_ESCAPE` function is a function that replaces special characters in a string so that this string can be used elsewhere. A classic example of string escaping is that to avoid SQL injection attacks, you should not pass strings directly into your application, but always either use SqlParameter or at least replace the single quote with a double quote to avoid names like this:"
            ],
            "metadata": {
                "azdata_cell_guid": "db5da166-30a4-4129-b31a-bc78ae7b38a8"
            }
        },
        {
            "cell_type": "code",
            "source": [
                "';DROP TABLE User;"
            ],
            "metadata": {
                "azdata_cell_guid": "c9cac573-345b-49d6-a0b6-5351a51f9f17"
            },
            "outputs": [],
            "execution_count": 0
        },
        {
            "cell_type": "markdown",
            "source": [
                "However, `STRING_ESCAPE` is not about escaping strings for secure use in SQL Server, but about escaping them when they are to be passed from SQL Server to another application.\r\n",
                "\r\n",
                "## How do you use STRING_ESCAPE?\r\n",
                "\r\n",
                "The number of data exchange formats is probably almost infinite. However, JSON has become the format of choice in many areas in recent years. So it's not surprising that when Microsoft introduced the `STRING_ESCAPE` feature in SQL Server 2016, they first had the export to JSON in mind. \r\n",
                "The `STRING_ESCAPE` function is passed two arguments: the text to be escaped and the desired output type, i.e. for which target format to escape. The latter, however, only supports the value \"json\" since the introduction of the function, so currently you can only use `STRING_ESCAPE` to prepare text for use in a JSON attribute. Let's have a look at how this works. Special characters in JSON are for example quotes and slashes. Let's call the `STRING_ESCAPE` function once: "
            ],
            "metadata": {
                "azdata_cell_guid": "aad40935-7f73-4712-9ffe-c8b3ddd46984"
            }
        },
        {
            "cell_type": "code",
            "source": [
                "SELECT STRING_ESCAPE('\"', 'json')"
            ],
            "metadata": {
                "azdata_cell_guid": "76543af3-2287-4af1-853e-52ac9a97b9e0"
            },
            "outputs": [],
            "execution_count": 0
        },
        {
            "cell_type": "markdown",
            "source": [
                "Here we get back the quotation mark escaped by the backslash. Of course, this works similarly for slashes (/) and backslashes (\\): "
            ],
            "metadata": {
                "azdata_cell_guid": "2ac1acf0-ea0c-4a01-b6be-0c189bb5cb8a"
            }
        },
        {
            "cell_type": "code",
            "source": [
                "SELECT STRING_ESCAPE('/\"\\', 'json')"
            ],
            "metadata": {
                "azdata_cell_guid": "2e173ab5-aa2c-428a-b7c5-b100dfc9a566"
            },
            "outputs": [],
            "execution_count": 0
        },
        {
            "cell_type": "markdown",
            "source": [
                "But also the ASCII control characters `CHAR(0)` to `CHAR(31)` (a detailed list of these characters can be found here for example: https://de.wikipedia.org/wiki/Steuerzeichen) must be escaped. \r\n",
                "\r\n",
                "A list of these characters and their \"translations\" can be generated as follows:"
            ],
            "metadata": {
                "azdata_cell_guid": "4c26ff8c-72f3-4555-bb81-e14a67e5e1ab"
            }
        },
        {
            "cell_type": "code",
            "source": [
                "DROP TABLE IF EXISTS #Characters\r\n",
                "CREATE TABLE #Characters (\r\n",
                "     [Char] varchar(20)\r\n",
                "    ,[Escaped] varchar(20)\r\n",
                ")\r\n",
                "DECLARE @CharNo int = 0\r\n",
                "\r\n",
                "WHILE @CharNo < 32\r\n",
                "BEGIN\r\n",
                "    INSERT INTO #Characters ([Char], [Escaped])\r\n",
                "    VALUES ('CHAR('+CAST(@CharNo as varchar(2))+')', STRING_ESCAPE(CHAR(@CharNo), 'json'))\r\n",
                "    SELECT @Charno = @CharNo+1\r\n",
                "END\r\n",
                "SELECT [Char], [Escaped] from #Characters"
            ],
            "metadata": {
                "azdata_cell_guid": "8c509b8d-c44d-4863-9ed9-ed2c71fec598"
            },
            "outputs": [],
            "execution_count": 0
        },
        {
            "cell_type": "markdown",
            "source": [
                "Here you can see, for example, that a `CHAR(13)` corresponds to a \"\\r\", that is, a return, a new line, and a `CHAR(10)` corresponds to a \"\\n\", that is, a line break. \n",
                "\n",
                "Of course, if you want to export text from a content management system for further processing, you could replace all these characters in a very long nested `REPLACE` statement, or you could simply use `STRING_ESCAPE` and get the text ready for distribution in JSON format. \n",
                "\n",
                "The clever ninja knows the weapons at his disposal and knows how to use them when appropriate. \n",
                "## References\n",
                "- [Documentation from Microsoft](https://docs.microsoft.com/de-de/sql/t-sql/functions/string-escape-transact-sql?view=sql-server-ver15)\n",
                ""
            ],
            "metadata": {
                "azdata_cell_guid": "3a468302-1212-4c2a-8bb8-04f1f83d64ab"
            }
        }
    ]
}