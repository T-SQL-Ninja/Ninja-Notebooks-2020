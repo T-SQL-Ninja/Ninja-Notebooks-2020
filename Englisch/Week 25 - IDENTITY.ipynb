{
    "metadata": {
        "kernelspec": {
            "name": "SQL",
            "display_name": "SQL",
            "language": "sql"
        },
        "language_info": {
            "name": "sql",
            "version": ""
        }
    },
    "nbformat_minor": 2,
    "nbformat": 4,
    "cells": [
        {
            "cell_type": "markdown",
            "source": [
                "# Week 25: IDENTITY\r\n",
                "## What is IDENTITY? \r\n",
                "`IDENTITY` is a property for columns in a table. It can be used to generate keys, i.e. unique, consecutive values in a column. The SQL Server guarantees that several parallel running transactions receive different values for the column. \r\n",
                "\r\n",
                "## How can you work with IDENTITY?\r\n",
                "The `IDENTITY` property is passed two values, the `SEED`, which is the starting value that the first row in the table contains and the `INCREMENT`, which is the value by how much the current value should be increased after each row. It is usual to set both values to one. \r\n",
                "So let's create a table with an `IDENTITY` column:"
            ],
            "metadata": {
                "azdata_cell_guid": "f92f2e5e-89ca-4a47-95a9-50abc48888e1"
            }
        },
        {
            "cell_type": "code",
            "source": [
                "DROP TABLE IF EXISTS #IdTest \r\n",
                "\r\n",
                "CREATE TABLE #IdTest\r\n",
                "(\r\n",
                "     Id int IDENTITY(1,1)\r\n",
                "    ,Txt varchar(250)\r\n",
                ")"
            ],
            "metadata": {
                "azdata_cell_guid": "6ed75fe0-d36a-4d62-a772-22a34e2094e4"
            },
            "outputs": [],
            "execution_count": 0
        },
        {
            "cell_type": "markdown",
            "source": [
                "Now we add a row to this table and query it: "
            ],
            "metadata": {
                "azdata_cell_guid": "4dd1cea2-dd53-47d2-b599-863f2b43c240"
            }
        },
        {
            "cell_type": "code",
            "source": [
                "INSERT INTO #IdTest (Txt) \r\n",
                "VALUES ('Test')\r\n",
                "\r\n",
                "SELECT \r\n",
                "     Id\r\n",
                "    ,Txt \r\n",
                "FROM #IdTest"
            ],
            "metadata": {
                "azdata_cell_guid": "0bec340f-4e42-4a8b-9645-78a06f908809"
            },
            "outputs": [],
            "execution_count": 0
        },
        {
            "cell_type": "markdown",
            "source": [
                "You will see a line with the text \"Test\" and the `ID` value of one. If you now add two more columns, they get the Id values two and three: "
            ],
            "metadata": {
                "azdata_cell_guid": "6b158e4c-9923-4872-9107-fa38a0f4c8dd"
            }
        },
        {
            "cell_type": "code",
            "source": [
                "INSERT INTO #IdTest (Txt) \r\n",
                "VALUES ('Test2'), ('Test3')\r\n",
                "\r\n",
                "SELECT \r\n",
                "     Id\r\n",
                "    ,Txt \r\n",
                "FROM #IdTest"
            ],
            "metadata": {
                "azdata_cell_guid": "a01090ee-2966-40ff-af0d-0cdb4ad2ec63"
            },
            "outputs": [],
            "execution_count": 0
        },
        {
            "cell_type": "markdown",
            "source": [
                "As experienced ninjas, you may have noticed that we omitted the `Id` column in the `INSERT` statements because it is defined as `IDENTITY` and is therefore filled by the SQL server itself. So now let's try to include this column: "
            ],
            "metadata": {
                "azdata_cell_guid": "5582c1c9-5d47-4998-974e-4e75bb0284ee"
            }
        },
        {
            "cell_type": "code",
            "source": [
                "INSERT INTO #IdTest (Id, Txt) \r\n",
                "VALUES (4, 'Test4')"
            ],
            "metadata": {
                "azdata_cell_guid": "26658a17-4e26-44a6-9a5e-00b4971ac8d6"
            },
            "outputs": [],
            "execution_count": 0
        },
        {
            "cell_type": "markdown",
            "source": [
                "Then we get an error message saying that it is not possible to insert into an `IDENTITY` column if `IDENTITY_INSERT` is disabled. So let's change that: "
            ],
            "metadata": {
                "azdata_cell_guid": "0c55c186-8c59-485d-bc80-56b67eb4bd5e"
            }
        },
        {
            "cell_type": "code",
            "source": [
                "SET IDENTITY_INSERT #IdTest ON\r\n",
                "\r\n",
                "INSERT INTO #IdTest (Id, Txt) \r\n",
                "VALUES (4, 'Test4')\r\n",
                "\r\n",
                "SET IDENTITY_INSERT #IdTest OFF\r\n",
                "\r\n",
                "SELECT \r\n",
                "     Id\r\n",
                "    ,Txt \r\n",
                "FROM #IdTest"
            ],
            "metadata": {
                "azdata_cell_guid": "f79eccab-e76a-4deb-9686-bd339088e9b5"
            },
            "outputs": [],
            "execution_count": 0
        },
        {
            "cell_type": "markdown",
            "source": [
                "Now our table contains one more line and if we insert one more line, it even gets the id 5 correctly: "
            ],
            "metadata": {
                "azdata_cell_guid": "a225c1e3-5884-44a3-bda5-f76b6e7bea8a"
            }
        },
        {
            "cell_type": "code",
            "source": [
                "INSERT INTO #IdTest (Txt) \r\n",
                "VALUES ('Test2'), ('Test3')\r\n",
                "\r\n",
                "SELECT \r\n",
                "     Id\r\n",
                "    ,Txt \r\n",
                "FROM #IdTest"
            ],
            "metadata": {
                "azdata_cell_guid": "7a922e91-6fdf-452e-9b61-459ba3348ef2"
            },
            "outputs": [],
            "execution_count": 0
        },
        {
            "cell_type": "markdown",
            "source": [
                "So now let's insert an Id that does not match the current row and afterwards another row if the `IDENTITY` function is switched on: "
            ],
            "metadata": {
                "azdata_cell_guid": "6f9edcfb-b641-4032-b97c-d1af95262c71"
            }
        },
        {
            "cell_type": "code",
            "source": [
                "SET IDENTITY_INSERT #IdTest ON\r\n",
                "INSERT INTO #IdTest (Id, Txt) \r\n",
                "VALUES (60, 'Test6')\r\n",
                "SET IDENTITY_INSERT #IdTest OFF\r\n",
                "\r\n",
                "INSERT INTO #IdTest (Txt) \r\n",
                "VALUES ('Test5')\r\n",
                "\r\n",
                "SELECT \r\n",
                "     Id\r\n",
                "    ,Txt \r\n",
                "FROM #IdTest"
            ],
            "metadata": {
                "azdata_cell_guid": "14b42f23-3616-4085-ac23-d1730f7fc083"
            },
            "outputs": [],
            "execution_count": 0
        },
        {
            "cell_type": "markdown",
            "source": [
                "Now the two inserted lines have received the id's 60 (where we had specified them explicitly) and 61, where we had assigned them automatically. So the `IDENTITY` column \"noticed\" that its current maximum value is currently 60 and automatically assigned 61 as its next value. \r\n",
                "\r\n",
                "What the next value of the identity column would be, we can check with a `DBCC` command: "
            ],
            "metadata": {
                "azdata_cell_guid": "3c4a800b-7d51-45f4-a8de-2c019726311c"
            }
        },
        {
            "cell_type": "code",
            "source": [
                "DBCC CHECKIDENT ('#IdTest')"
            ],
            "metadata": {
                "azdata_cell_guid": "d0933d63-c26b-439d-857f-3b52daf57202"
            },
            "outputs": [],
            "execution_count": 0
        },
        {
            "cell_type": "markdown",
            "source": [
                "The DBCC command can also be used to reset the current `SEED` of the `IDENTITY`: "
            ],
            "metadata": {
                "azdata_cell_guid": "619bc79f-e3bc-45e6-b0c6-1baee628fa3c"
            }
        },
        {
            "cell_type": "code",
            "source": [
                "DBCC CHECKIDENT ('#IdTest', RESEED, 1)"
            ],
            "metadata": {
                "azdata_cell_guid": "17e99e6e-8cd4-427f-b023-72c885c582d8"
            },
            "outputs": [],
            "execution_count": 0
        },
        {
            "cell_type": "markdown",
            "source": [
                "After this, the first `CHECKIDENT` query returns the information that the current `IDENTITY` value is one, while the current column value is 100. However, the next `INSERT` query automatically checks the maximum value of the column again and the next row is assigned the `ID` 101:"
            ],
            "metadata": {
                "azdata_cell_guid": "d12d7725-9e5b-4978-913b-581955e3ce24"
            }
        },
        {
            "cell_type": "code",
            "source": [
                "INSERT INTO #IdTest (Txt) \r\n",
                "VALUES ('Test8')\r\n",
                "\r\n",
                "SELECT \r\n",
                "     Id\r\n",
                "    ,Txt \r\n",
                "FROM #IdTest"
            ],
            "metadata": {
                "azdata_cell_guid": "4da6659f-ba86-4b71-9e32-c1d933bc28f6"
            },
            "outputs": [],
            "execution_count": 0
        },
        {
            "cell_type": "markdown",
            "source": [
                "Now we would like to learn something about the transactional security of `IDENTITY` columns. For this we open a transaction and insert a row into the table, which we query directly:"
            ],
            "metadata": {
                "azdata_cell_guid": "96b72f8b-e75a-4c41-9631-cfe2dfa5ec60"
            }
        },
        {
            "cell_type": "code",
            "source": [
                "BEGIN TRANSACTION\r\n",
                "INSERT INTO #IdTest (Txt)\r\n",
                "VALUES ('Transaction 1')\r\n",
                "\r\n",
                "SELECT \r\n",
                "     Id\r\n",
                "    ,Txt \r\n",
                "FROM #IdTest"
            ],
            "metadata": {
                "azdata_cell_guid": "25fc5ab1-0279-4295-9207-bf51fc5b6811"
            },
            "outputs": [],
            "execution_count": 0
        },
        {
            "cell_type": "markdown",
            "source": [
                "We see that our new line has got the next Id (101) as expected. \r\n",
                "\r\n",
                "If we now roll back the transaction, the row is of course no longer in the table:"
            ],
            "metadata": {
                "azdata_cell_guid": "212563d8-1095-4f55-92d0-5da38dc3fea3"
            }
        },
        {
            "cell_type": "code",
            "source": [
                "ROLLBACK TRANSACTION\r\n",
                "SELECT \r\n",
                "     Id\r\n",
                "    ,Txt \r\n",
                "FROM #IdTest"
            ],
            "metadata": {
                "azdata_cell_guid": "adc8755f-2311-44b6-9b27-e75b54c539e9"
            },
            "outputs": [],
            "execution_count": 0
        },
        {
            "cell_type": "markdown",
            "source": [
                "If we now check the value of the Identity column, we see that the `IDENTITY` value has now stopped at 101:"
            ],
            "metadata": {
                "azdata_cell_guid": "cf2bda88-69ab-4a49-848b-5ce086e9cf84"
            }
        },
        {
            "cell_type": "code",
            "source": [
                "DBCC CHECKIDENT ('#IdTest') "
            ],
            "metadata": {
                "azdata_cell_guid": "8941fd0c-f172-4b84-a8d6-31f8b690e020"
            },
            "outputs": [],
            "execution_count": 0
        },
        {
            "cell_type": "markdown",
            "source": [
                "The next inserted row thus receives the Id value 102, the 101 was skipped by rolling back the transaction:"
            ],
            "metadata": {
                "azdata_cell_guid": "cc79331f-e59f-467a-aaf0-0f9f7c79aafd"
            }
        },
        {
            "cell_type": "code",
            "source": [
                "INSERT INTO #IdTest (Txt)\r\n",
                "VALUES ('Transaction 1')\r\n",
                "\r\n",
                "SELECT \r\n",
                "     Id\r\n",
                "    ,Txt \r\n",
                "FROM #IdTest"
            ],
            "metadata": {
                "azdata_cell_guid": "3089efe0-511b-41e3-b34d-604d8a213baa"
            },
            "outputs": [],
            "execution_count": 0
        },
        {
            "cell_type": "markdown",
            "source": [
                "You have seen that columns with the `IDENTITY` attribute automatically take the smallest possible next free value in the column. This can result in gaps. And be warned: despite the identity column by `IDENTITY_INSERT`s it can happen that duplicates are contained in the column. If you want to avoid this, you have to add the `UNIQUE` attribute to the column. \n",
                "## references\n",
                "- [Documentation from Microsoft](https://docs.microsoft.com/de-de/sql/t-sql/statements/create-table-transact-sql-identity-property?view=sql-server-ver15)"
            ],
            "metadata": {
                "azdata_cell_guid": "33d27a3d-26fa-4968-80dc-d5609681aae6"
            }
        }
    ]
}