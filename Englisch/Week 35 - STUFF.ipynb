{
    "metadata": {
        "kernelspec": {
            "name": "SQL",
            "display_name": "SQL",
            "language": "sql"
        },
        "language_info": {
            "name": "sql",
            "version": ""
        }
    },
    "nbformat_minor": 2,
    "nbformat": 4,
    "cells": [
        {
            "cell_type": "markdown",
            "source": [
                "# Week 35: STUFF\r\n",
                "## What's STUFF? \r\n",
                "`STUFF` is a function for manipulating strings. The function \"stuffs\" one string into another, hence the rather figurative name. Traditionally, string manipulation is not necessarily one of the great strengths of relational databases and SQL syntax, `STUFF` is one of the functions from this area that, if mastered, can make your life much easier.  \r\n",
                "## What can you do with STUFF?\r\n",
                "The `STUFF` function is passed four arguments: \r\n",
                "- the string you want to edit, \r\n",
                "- the position from where you want to insert a new text into the string, \r\n",
                "- the number of characters you want to replace in the string and \r\n",
                "- the string you want to replace it with. \r\n",
                "\r\n",
                "But enough theory, let's look at the `STUFF` function in detail. A call to the function might look like this: "
            ],
            "metadata": {
                "azdata_cell_guid": "910ec658-e447-4c06-813e-ed028bcc31c3"
            }
        },
        {
            "cell_type": "code",
            "source": [
                "SELECT STUFF('Show me your execution plan', 1, 7, 'What''s')"
            ],
            "metadata": {
                "azdata_cell_guid": "52bfef3d-01e7-4d95-a1ee-fdd00c0c494d"
            },
            "outputs": [],
            "execution_count": 0
        },
        {
            "cell_type": "markdown",
            "source": [
                "The result of this query is \"What's your execution plan\". We have replaced the first character with seven characters, i.e. \"Show me\", and put the string \"What's\" in its place. Of course you could solve it that way:"
            ],
            "metadata": {
                "azdata_cell_guid": "32878f5f-a32b-406f-a583-b319a627d978"
            }
        },
        {
            "cell_type": "code",
            "source": [
                "SELECT 'What''s'+SUBSTRING('Show me your execution plan',8,20)"
            ],
            "metadata": {
                "azdata_cell_guid": "65e684a0-7877-487d-ac65-51b719a960b0"
            },
            "outputs": [],
            "execution_count": 0
        },
        {
            "cell_type": "markdown",
            "source": [
                "But on the one hand you have to perform rather wild index operations on your strings here, if you don't insert at the beginning of a string, and on the other hand the readability of such operations is not necessarily the highest. \r\n",
                "But just replacing text in strings is quite nice, but with the `STUFF` function we can do much more. Imagine you have given a date in the format `YYYYMMDD` and you want to make it readable, then of course you can also work with substrings here: "
            ],
            "metadata": {
                "azdata_cell_guid": "1a860ded-8140-4830-8b8d-982e0b29ba0e"
            }
        },
        {
            "cell_type": "code",
            "source": [
                "SELECT SUBSTRING('20200514', 1, 4)+'-'+SUBSTRING('20200514',5,2)+'-'+SUBSTRING('20200514',7,2)"
            ],
            "metadata": {
                "azdata_cell_guid": "b5592e72-8e3b-4826-b625-8b1d118d24e5"
            },
            "outputs": [],
            "execution_count": 0
        },
        {
            "cell_type": "markdown",
            "source": [
                "At the latest here the trained ninja eye sees that the syntax with `STUFF` is on the one hand much shorter and on the other hand contains only once the string you are working with, which definitely increases readability and maintainability. \r\n",
                "\r\n",
                "You can also use `STUFF` to mask data, for example in views. Imagine that you want to return only the first names of your users in an application on the `WideWorldImporters` database, but mask the last names with X. You can solve this with `STUFF` as follows:"
            ],
            "metadata": {
                "azdata_cell_guid": "22462230-0150-45a8-b1a9-6b5c15426c7f"
            }
        },
        {
            "cell_type": "code",
            "source": [
                "SELECT \r\n",
                "     FullName\r\n",
                "    ,STUFF(\r\n",
                "        FullName, \r\n",
                "        CHARINDEX(' ',FullName)+1, \r\n",
                "        LEN(FullName)-CHARINDEX(' ',FullName)+1, \r\n",
                "        REPLICATE('X', LEN(FullName)-CHARINDEX(' ', FullName)))\r\n",
                "FROM [Application].[People]"
            ],
            "metadata": {
                "azdata_cell_guid": "da595f72-9205-4f29-bc2d-b3b8d0073b4b"
            },
            "outputs": [],
            "execution_count": 0
        },
        {
            "cell_type": "markdown",
            "source": [
                "In this query, in the `FullName` column, replace the characters from the first space to the end of the string with X. This way your names will still have the correct length, but will be masked for external developers, for example, which minimizes potential privacy issues. \r\n",
                "\r\n",
                "However, most of you will probably have encountered the `STUFF` function when it came to creating a comma-separated list from the values in a column. Let's take a closer look at how this works. \r\n",
                "\r\n",
                "First we have to try to combine the different lines into a result that we can work with. The `SELECT FOR XML` functionality is suitable for this, so let's combine the names of the transaction types in the `WideWorldImporters` database into one XML object:"
            ],
            "metadata": {
                "azdata_cell_guid": "ec51914a-1587-4387-aa33-6c92f63fa418"
            }
        },
        {
            "cell_type": "code",
            "source": [
                "SELECT TransactionTypeName \r\n",
                "FROM [Application].[TransactionTypes] \r\n",
                "FOR XML PATH ('')"
            ],
            "metadata": {
                "azdata_cell_guid": "fa00bda9-f535-47b0-84ef-096c1d821eb3"
            },
            "outputs": [],
            "execution_count": 0
        },
        {
            "cell_type": "markdown",
            "source": [
                "You now get an XML object that has an entry with the tag \"TransactionTypeName\" for each transaction type. To get rid of these tags you have to make sure that the column you are working with has no name anymore. You can do this by calling a function or modifying the value of the column. So let's modify the value by putting a comma in front of it: "
            ],
            "metadata": {
                "azdata_cell_guid": "b8e922ae-5f6b-419f-8b65-8f8d03f99d1a"
            }
        },
        {
            "cell_type": "code",
            "source": [
                "SELECT ','+TransactionTypeName \r\n",
                "FROM [Application].[TransactionTypes] \r\n",
                "FOR XML PATH ('')"
            ],
            "metadata": {
                "azdata_cell_guid": "5daa1871-15b7-4338-b5c4-5fcaecb958e5"
            },
            "outputs": [],
            "execution_count": 0
        },
        {
            "cell_type": "markdown",
            "source": [
                "This almost corresponds to the comma-separated list you are looking for, except that it contains a leading comma. But you can get rid of this with 'STUFF' by replacing a character with an empty string starting with character 1. To do this, you need to apply the `STUFF` function to the result of the query (passing the query as an argument to the `STUFF` function) and then query the result of the `STUFF` function to display it. The whole thing looks like this in the result:"
            ],
            "metadata": {
                "azdata_cell_guid": "27a90b92-23b9-44c3-b289-c762b808992f"
            }
        },
        {
            "cell_type": "code",
            "source": [
                "SELECT \r\n",
                "    STUFF(\r\n",
                "        (SELECT ','+TransactionTypeName\r\n",
                "            FROM [Application].[TransactionTypes] \r\n",
                "            FOR XML PATH ('')\r\n",
                "        ), 1, 1, '')"
            ],
            "metadata": {
                "azdata_cell_guid": "262a32c7-f97d-4354-ada5-f4026dbbb64a"
            },
            "outputs": [],
            "execution_count": 0
        },
        {
            "cell_type": "markdown",
            "source": [
                "If you want to join these values to the rows of a table, you have to adjust the outer select accordingly:"
            ],
            "metadata": {
                "azdata_cell_guid": "fcabb3cb-a302-43a7-a0ad-3d227cff8d5a"
            }
        },
        {
            "cell_type": "code",
            "source": [
                "SELECT\r\n",
                "    STUFF(\r\n",
                "        (SELECT ','+TransactionTypeName\r\n",
                "            FROM [Application].[TransactionTypes] \r\n",
                "            FOR XML PATH ('')\r\n",
                "        ), 1, 1, '')\r\n",
                "FROM [Application].[TransactionTypes]"
            ],
            "metadata": {
                "azdata_cell_guid": "d7126c44-4873-42c2-b5a5-632908315446"
            },
            "outputs": [],
            "execution_count": 0
        },
        {
            "cell_type": "markdown",
            "source": [
                "In today's dojo you have hopefully learned that the `STUFF` function can be quite helpful when it comes to replacing, inserting or deleting in strings. So it's worth taking a look at this feature if your developers come up with some weird requirements regarding string manipulation... \n",
                "## References\n",
                "- [Documentation from Microsoft](https://docs.microsoft.com/de-de/sql/t-sql/functions/stuff-transact-sql?view=sql-server-ver15)\n",
                ""
            ],
            "metadata": {
                "azdata_cell_guid": "b105a7b9-2547-4c4e-90e0-ed77ff4806dd"
            }
        }
    ]
}