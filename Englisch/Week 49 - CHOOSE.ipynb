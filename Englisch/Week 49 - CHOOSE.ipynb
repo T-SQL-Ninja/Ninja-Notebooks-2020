{
    "metadata": {
        "kernelspec": {
            "name": "SQL",
            "display_name": "SQL",
            "language": "sql"
        },
        "language_info": {
            "name": "sql",
            "version": ""
        }
    },
    "nbformat_minor": 2,
    "nbformat": 4,
    "cells": [
        {
            "cell_type": "markdown",
            "source": [
                "# Week 49: CHOOSE\r\n",
                "## What is CHOOSE?\r\n",
                "`CHOOSE` is certainly one of the less known functions in SQL Server, but this function is wrongly considered a shadowy existence, because it can make many annoying queries much easier. You can often use `CHOOSE` to simplify long, complex `CASE WHEN` statements, namely whenever you need to select an element from a list on the basis of a number, i.e. like an array access via an index. \r\n",
                "## How can you work with CHOOSE?\r\n",
                "The basic functionality of `CHOOSE` is quite simple: you pass a number (the index you want, which is 1-based here) as the first argument to the `CHOOSE` function, and then a list of return values. `CHOOSE` returns the corresponding value from the list. Let's look at an example of this, let's create a table for testing:"
            ],
            "metadata": {
                "azdata_cell_guid": "72539d69-06cf-4470-b31a-64d24512127b"
            }
        },
        {
            "cell_type": "code",
            "source": [
                "DROP TABLE IF EXISTS #Ninjas\r\n",
                "CREATE TABLE #Ninjas (\r\n",
                "     NinjaName varchar(250)\r\n",
                "    ,StyleID int \r\n",
                ")"
            ],
            "metadata": {
                "azdata_cell_guid": "5920c095-65b4-489f-b093-48a001155cd8"
            },
            "outputs": [],
            "execution_count": 0
        },
        {
            "cell_type": "markdown",
            "source": [
                "Let us now add some values to the table:"
            ],
            "metadata": {
                "azdata_cell_guid": "a1fb3dc9-f195-4c8c-8d8f-51e7c1e81f14"
            }
        },
        {
            "cell_type": "code",
            "source": [
                "INSERT INTO #Ninjas\r\n",
                "(NinjaName, StyleID)\r\n",
                "VALUES\r\n",
                " ('Deadflow', 1)\r\n",
                ",('Jadestroke', 3)\r\n",
                ",('Phantom Flow', 2)\r\n",
                ",('Death Flash', 3)"
            ],
            "metadata": {
                "azdata_cell_guid": "9e92b5ec-2a24-4c11-9e85-5055b059366b"
            },
            "outputs": [],
            "execution_count": 0
        },
        {
            "cell_type": "markdown",
            "source": [
                "If, without having a table that resolves the styles, we want to resolve the `StyleID` to a readable name, we can do so as follows"
            ],
            "metadata": {
                "azdata_cell_guid": "76c6dda8-92de-43b1-b89b-90ce618a7d4f"
            }
        },
        {
            "cell_type": "code",
            "source": [
                "SELECT \r\n",
                "     NinjaName\r\n",
                "    ,StyleID\r\n",
                "    ,CASE StyleID\r\n",
                "        WHEN 1 THEN 'Katana'\r\n",
                "        WHEN 2 THEN 'Bajutsu'\r\n",
                "        WHEN 3 THEN 'Bojutsu'\r\n",
                "        WHEN 4 THEN 'Shuriken'\r\n",
                "        WHEN 5 THEN 'Assassin'\r\n",
                "    END\r\n",
                "FROM #Ninjas"
            ],
            "metadata": {
                "azdata_cell_guid": "722919cd-e926-4f08-9b8c-9c3e04b46097"
            },
            "outputs": [],
            "execution_count": 0
        },
        {
            "cell_type": "markdown",
            "source": [
                "However, this syntax is not very clear and can be abbreviated with `CHOOSE`. The same query would then look like the following:"
            ],
            "metadata": {
                "azdata_cell_guid": "fb2b41d8-cb2d-48a4-a693-227d3772513b"
            }
        },
        {
            "cell_type": "code",
            "source": [
                "SELECT \r\n",
                "     NinjaName\r\n",
                "    ,StyleID\r\n",
                "    ,CHOOSE(StyleID, 'Katana', 'Bajutsu', 'Bojutsu', 'Shuriken', 'Assassin')\r\n",
                "FROM #Ninjas"
            ],
            "metadata": {
                "azdata_cell_guid": "a9e988db-4e68-49a9-b5e7-2813ed85309c"
            },
            "outputs": [],
            "execution_count": 0
        },
        {
            "cell_type": "markdown",
            "source": [
                "Similarly, you can work with date columns for example, but you can run the following query on the WideWorldImporters database, which resolves the month names "
            ],
            "metadata": {
                "azdata_cell_guid": "11170112-4e00-4067-a132-89d2576af8b7"
            }
        },
        {
            "cell_type": "code",
            "source": [
                "SELECT \r\n",
                "     OrderID\r\n",
                "    ,OrderDate\r\n",
                "    ,CHOOSE(MONTH(OrderDate)\r\n",
                "        ,'Jan'\r\n",
                "        ,'Feb'\r\n",
                "        ,'Mar'\r\n",
                "        ,'Apr'\r\n",
                "        ,'May'\r\n",
                "        ,'Jun'\r\n",
                "        ,'Jul'\r\n",
                "        ,'Aug'\r\n",
                "        ,'Sep'\r\n",
                "        ,'Oct'\r\n",
                "        ,'Nov'\r\n",
                "        ,'Dec') as OrderMonth\r\n",
                "FROM Sales.Orders"
            ],
            "metadata": {
                "azdata_cell_guid": "91c5cae1-6fc1-429c-ae3e-e8f9c9def30c"
            },
            "outputs": [],
            "execution_count": 0
        },
        {
            "cell_type": "markdown",
            "source": [
                "And this also works with other numerical values, for example we try to classify how long a customer has been a customer in the WideWorldImporters database:"
            ],
            "metadata": {
                "azdata_cell_guid": "1c5dbbb4-1870-494f-80cd-fe88dcca93e0"
            }
        },
        {
            "cell_type": "code",
            "source": [
                "SELECT \r\n",
                "     CustomerID\r\n",
                "    ,AccountOpenedDate\r\n",
                "    ,CHOOSE(DATEDIFF(YEAR, AccountOpenedDate, GETDATE())\r\n",
                "        ,'Recent'\r\n",
                "        ,'Recent'\r\n",
                "        ,'Recent'\r\n",
                "        ,'Average'\r\n",
                "        ,'Ancient')\r\n",
                "FROM Sales.Customers"
            ],
            "metadata": {
                "azdata_cell_guid": "4b936d12-dde1-4850-a191-86ce80d16eae"
            },
            "outputs": [],
            "execution_count": 0
        },
        {
            "cell_type": "markdown",
            "source": [
                "If you run this query, you will see that there are some customers who have been customers since 2013 and are therefore leaving the index. For these customers we now have to find a further classification. Fortunately, for a value that does not match any index (for example, a value less than one or greater than the number of elements in the array), `CHOOSE` returns a `NULL` value. Of course, we can now handle this accordingly:"
            ],
            "metadata": {
                "azdata_cell_guid": "51610e55-1513-4491-b208-d415cf0442d6"
            }
        },
        {
            "cell_type": "code",
            "source": [
                "SELECT \r\n",
                "     CustomerID\r\n",
                "    ,AccountOpenedDate\r\n",
                "    ,ISNULL(CHOOSE(DATEDIFF(YEAR, AccountOpenedDate, GETDATE())\r\n",
                "        ,'Recent'\r\n",
                "        ,'Recent'\r\n",
                "        ,'Recent'\r\n",
                "        ,'Average'\r\n",
                "        ,'Ancient')\r\n",
                "    ,'Jurassic') \r\n",
                "FROM Sales.Customers"
            ],
            "metadata": {
                "azdata_cell_guid": "10d9ad3c-73ed-4f74-bd0f-6a6675983baf"
            },
            "outputs": [],
            "execution_count": 0
        },
        {
            "cell_type": "markdown",
            "source": [
                "Unfortunately, we still see here that the return value for the oldest customers is only \"Jurassi\", the \"c\" is truncated, because `CHOOSE` chooses the smallest possible data type as return value, to which `ISNULL` sticks and truncates the return value accordingly. This is nicer if you use `COALESCE`: "
            ],
            "metadata": {
                "azdata_cell_guid": "ec5313e0-a6c8-46c3-91c7-057a1aa2a68a"
            }
        },
        {
            "cell_type": "code",
            "source": [
                "SELECT \r\n",
                "     CustomerID\r\n",
                "    ,AccountOpenedDate\r\n",
                "    ,COALESCE(CHOOSE(DATEDIFF(YEAR, AccountOpenedDate, GETDATE())\r\n",
                "        ,'Recent'\r\n",
                "        ,'Recent'\r\n",
                "        ,'Recent'\r\n",
                "        ,'Average'\r\n",
                "        ,'Ancient')\r\n",
                "    ,'Jurassic') \r\n",
                "FROM Sales.Customers"
            ],
            "metadata": {
                "azdata_cell_guid": "7f0edb75-f018-4fca-8862-51bb5dfc2396"
            },
            "outputs": [],
            "execution_count": 0
        },
        {
            "cell_type": "markdown",
            "source": [
                "Now the Dinosaurs among your customers are marked accordingly, and you can continue editing. \n",
                "## References\n",
                "- [Documentation from Microsoft](https://docs.microsoft.com/de-de/sql/t-sql/functions/logical-functions-choose-transact-sql?view=sql-server-ver15)\n",
                ""
            ],
            "metadata": {
                "azdata_cell_guid": "2840eb1e-eab2-47ea-a017-b73f563396e0"
            }
        }
    ]
}