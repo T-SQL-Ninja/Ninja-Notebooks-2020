{
    "metadata": {
        "kernelspec": {
            "name": "SQL",
            "display_name": "SQL",
            "language": "sql"
        },
        "language_info": {
            "name": "sql",
            "version": ""
        }
    },
    "nbformat_minor": 2,
    "nbformat": 4,
    "cells": [
        {
            "cell_type": "markdown",
            "source": [
                "# Week 31: LEAD and LAG\r\n",
                "## What are LEAD and LAG? \r\n",
                "Last week you saw how you use `FIRST_VALUE` and `LAST_VALUE` to give the first and last rows in a query window. But what do you do if you want to compare a row in the Sales.Order table with the customer's previous order? Then `LEAD` and `LAG` are the means of choice. `LEAD` returns the next row in the results window, whereas `LAG` returns the previous row.\r\n",
                "## How can you work with LEAD and LAG?\r\n",
                "We start like last week with a query on the `Sale.Order` table and look at some columns:"
            ],
            "metadata": {
                "azdata_cell_guid": "c492dbc5-fba3-45d7-a87c-af5c0f6ce5b5"
            }
        },
        {
            "cell_type": "code",
            "source": [
                "SELECT \r\n",
                "     OrderDate\r\n",
                "    ,OrderID\r\n",
                "    ,ExpectedDeliveryDate\r\n",
                "    ,CustomerID\r\n",
                "FROM [Sales].[Orders]"
            ],
            "metadata": {
                "azdata_cell_guid": "08a3900b-c11e-4dd2-8fdd-c069c682d4d5"
            },
            "outputs": [],
            "execution_count": 0
        },
        {
            "cell_type": "markdown",
            "source": [
                "Now we add another column in which we use the `LAG` function to return the date of the previous row in the window partitioned by customer. The syntax is very similar to that of `FIRST_VALUE` and `LAST_VALUE`, but the `LAG` function (just like the `LEAD` function) additionally gets an integer as an argument that specifies how many rows you want to go back (in the example, we go back one row, passing 1 as an argument):"
            ],
            "metadata": {
                "azdata_cell_guid": "05d44814-96a6-4b65-90fe-4714c38967bb"
            }
        },
        {
            "cell_type": "code",
            "source": [
                "SELECT \r\n",
                "     OrderDate\r\n",
                "    ,LAG(OrderDate, 1) OVER (PARTITION BY CustomerID ORDER BY OrderDate) As DatePreviousOrder\r\n",
                "    ,OrderID\r\n",
                "    ,ExpectedDeliveryDate\r\n",
                "    ,CustomerID\r\n",
                "FROM [Sales].[Orders]"
            ],
            "metadata": {
                "azdata_cell_guid": "f59d2dbb-0a8a-4ffb-bd54-4e80fc6ab4d8"
            },
            "outputs": [],
            "execution_count": 0
        },
        {
            "cell_type": "markdown",
            "source": [
                "The first line for each customer has no entry in the newly calculated `DatePreviousOrder` column (i.e. `NULL` as value), which is due to the fact that the first order of each customer naturally has no predecessor.\r\n",
                "\r\n",
                "Like `FIRST_VALUE` and `LAST_VALUE`, you can of course use `LEAD` and `LAG` in functions: "
            ],
            "metadata": {
                "azdata_cell_guid": "9cf596c0-a369-4ec5-b5dc-7ba14ecb61e4"
            }
        },
        {
            "cell_type": "code",
            "source": [
                "SELECT \r\n",
                "     OrderDate\r\n",
                "    ,LAG(OrderDate, 1) OVER (PARTITION BY CustomerID ORDER BY OrderDate) As DatePreviousOrder\r\n",
                "    ,DATEDIFF(DAY, LAG(OrderDate, 1) OVER (PARTITION BY CustomerID ORDER BY OrderDate), OrderDate) As DaysSincePreviousOrder\r\n",
                "    ,OrderID\r\n",
                "    ,ExpectedDeliveryDate\r\n",
                "    ,CustomerID\r\n",
                "FROM [Sales].[Orders]"
            ],
            "metadata": {
                "azdata_cell_guid": "6eb7bce2-f3dd-4069-bd11-a49c843cf179"
            },
            "outputs": [],
            "execution_count": 0
        },
        {
            "cell_type": "markdown",
            "source": [
                "With `LEAD` the query works the same way except that here the last row has no value in the recalculated column: "
            ],
            "metadata": {
                "azdata_cell_guid": "408d7ad9-ebdb-4ee9-ac57-5bbbc88a550b"
            }
        },
        {
            "cell_type": "code",
            "source": [
                "SELECT \r\n",
                "     OrderDate\r\n",
                "    ,LAG(OrderDate, 1) OVER (PARTITION BY CustomerID ORDER BY OrderDate) As DatePreviousOrder\r\n",
                "    ,DATEDIFF(DAY, LAG(OrderDate, 1) OVER (PARTITION BY CustomerID ORDER BY OrderDate), OrderDate) As DaysSincePreviousOrder\r\n",
                "    ,LEAD(OrderDate, 1) OVER (PARTITION BY CustomerID ORDER BY OrderDate) As DateNextOrder\r\n",
                "    ,DATEDIFF(DAY, OrderDate, LEAD(OrderDate, 1) OVER (PARTITION BY CustomerID ORDER BY OrderDate)) As DaysUnitlNextOrder\r\n",
                "    ,OrderID\r\n",
                "    ,ExpectedDeliveryDate\r\n",
                "    ,CustomerID\r\n",
                "FROM [Sales].[Orders]"
            ],
            "metadata": {
                "azdata_cell_guid": "b33cf1b1-5ae3-4fb2-8e6e-796123981fe4"
            },
            "outputs": [],
            "execution_count": 0
        },
        {
            "cell_type": "markdown",
            "source": [
                "So now you have the tool in your hand to carry out analyses in tables with time-dependent data, you can find out when a recording begins and also how it has changed compared to the previous value. There is nothing standing in the way of the evaluation of orders, measured values or other data series even outside of this dojo. Get them, ninjas! \n",
                "\n",
                "## References\n",
                "- [Documentation from Microsoft on LEAD](https://docs.microsoft.com/de-de/sql/t-sql/functions/lead-transact-sql?view=sql-server-ver15)\n",
                "- [Documentation from Microsoft on LAG](https://docs.microsoft.com/de-de/sql/t-sql/functions/lag-transact-sql?view=sql-server-ver15)"
            ],
            "metadata": {
                "azdata_cell_guid": "40f01310-d6b6-4187-bbfd-2255a2f8e726"
            }
        }
    ]
}