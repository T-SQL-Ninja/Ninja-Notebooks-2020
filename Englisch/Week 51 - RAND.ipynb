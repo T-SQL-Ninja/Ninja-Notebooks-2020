{
    "metadata": {
        "kernelspec": {
            "name": "SQL",
            "display_name": "SQL",
            "language": "sql"
        },
        "language_info": {
            "name": "sql",
            "version": ""
        }
    },
    "nbformat_minor": 2,
    "nbformat": 4,
    "cells": [
        {
            "cell_type": "markdown",
            "source": [
                "# Week 51: RAND\r\n",
                "## What is RAND? \r\n",
                "The `RAND` function gives you - not surprisingly - random numbers and is also one of the most used functions in T-SQL. However, the `RAND` function is a bit special, so we will look at how it behaves in certain scenarios below. \r\n",
                "## How can you work with RAND?\r\n",
                "Let's start with you generating a simple random number. The following call returns a random number between zero and one:"
            ],
            "metadata": {
                "azdata_cell_guid": "1b1b0e9e-310b-4d47-a33b-19c701216a87"
            }
        },
        {
            "cell_type": "code",
            "source": [
                "SELECT RAND()"
            ],
            "metadata": {
                "azdata_cell_guid": "a5cd6380-6520-4c96-9167-73d6faf734df"
            },
            "outputs": [],
            "execution_count": 0
        },
        {
            "cell_type": "markdown",
            "source": [
                "If you run this query multiple times, you will get a new number each time. Now let's try to write several random numbers into a table. For this purpose we will first create a temporary table:"
            ],
            "metadata": {
                "azdata_cell_guid": "a57f1771-5230-4c21-a73f-ef4528c0f4ce"
            }
        },
        {
            "cell_type": "code",
            "source": [
                "DROP TABLE IF EXISTS #Randomness\r\n",
                "CREATE TABLE #Randomness (\r\n",
                "    MyNumber Decimal(10,2) \r\n",
                ")"
            ],
            "metadata": {
                "azdata_cell_guid": "5374c79b-a30f-4646-b623-4ee84bafdbf9"
            },
            "outputs": [],
            "execution_count": 0
        },
        {
            "cell_type": "markdown",
            "source": [
                "Now we try to insert random numbers:"
            ],
            "metadata": {
                "azdata_cell_guid": "77f159e8-89a9-47fc-9807-fb2660e90871"
            }
        },
        {
            "cell_type": "code",
            "source": [
                "INSERT INTO #Randomness \r\n",
                "(MyNumber)\r\n",
                "VALUES \r\n",
                "(RAND()), (RAND()), (RAND())\r\n",
                "\r\n",
                "SELECT * FROM #Randomness"
            ],
            "metadata": {
                "azdata_cell_guid": "96f6b328-fc2a-4f13-bbc6-9613574fa567"
            },
            "outputs": [],
            "execution_count": 0
        },
        {
            "cell_type": "markdown",
            "source": [
                "But now you have the possibility to pass a so-called \"seed\" to the `RAND` function, i.e. a number on which the random numbers are calculated. Now let's do this in our example:"
            ],
            "metadata": {
                "azdata_cell_guid": "16768124-806c-4ee5-9a91-627e63e34ba2"
            }
        },
        {
            "cell_type": "code",
            "source": [
                "INSERT INTO #Randomness \r\n",
                "(MyNumber)\r\n",
                "VALUES \r\n",
                "(RAND(100)), (RAND()), (RAND())\r\n",
                "\r\n",
                "INSERT INTO #Randomness \r\n",
                "(MyNumber)\r\n",
                "VALUES \r\n",
                "(RAND(100)), (RAND()), (RAND())\r\n",
                "\r\n",
                "SELECT * FROM #Randomness"
            ],
            "metadata": {
                "azdata_cell_guid": "3a0b1915-1276-4324-ac53-a416f0904529"
            },
            "outputs": [],
            "execution_count": 0
        },
        {
            "cell_type": "markdown",
            "source": [
                "As a result of these two `INSERT` statements, you will now see not six completely random numbers in your table, but three random numbers, each inserted twice. This means that by setting the seed value, you determine the sequence of random numbers. If you remove the seed at the second `INSERT` statement, you will get truly random numbers here. \r\n",
                "Typically, the return value of 'EDGE' is a floating-point number with a range of values between 0 and 1. If you want to get back larger values, you must scale accordingly by multiplying by the maximum value you are interested in (or double the maximum value if you want to see negative results). So this is how you generate random numbers between 0 and 10:"
            ],
            "metadata": {
                "azdata_cell_guid": "7ce1ae10-3ed5-494d-b4cc-9806aada7ec7"
            }
        },
        {
            "cell_type": "code",
            "source": [
                "INSERT INTO #Randomness \r\n",
                "(MyNumber)\r\n",
                "VALUES \r\n",
                "(10*RAND()), (10*RAND()), (10*RAND())\r\n",
                "\r\n",
                "SELECT * FROM #Randomness"
            ],
            "metadata": {
                "azdata_cell_guid": "b2e5319e-b6cb-45a8-abad-64111544a330"
            },
            "outputs": [],
            "execution_count": 0
        },
        {
            "cell_type": "markdown",
            "source": [
                "And to get values between -5 and 5, subtract 5 from the result:"
            ],
            "metadata": {
                "azdata_cell_guid": "7026d3d5-080d-468d-bc4e-70d5c1882fbd"
            }
        },
        {
            "cell_type": "code",
            "source": [
                "INSERT INTO #Randomness \r\n",
                "(MyNumber)\r\n",
                "VALUES \r\n",
                "((10*RAND())-5.0), ((10*RAND())-5.0), ((10*RAND())-5.0)\r\n",
                "\r\n",
                "SELECT * FROM #Randomness"
            ],
            "metadata": {
                "azdata_cell_guid": "78c1cb67-ade5-459f-ae98-cb2f36b408e2"
            },
            "outputs": [],
            "execution_count": 0
        },
        {
            "cell_type": "markdown",
            "source": [
                "\r\n",
                "Now, if you're interested in random integer numbers:"
            ],
            "metadata": {
                "azdata_cell_guid": "e2949184-d8b4-4aa6-a1c6-d58145a01b3a"
            }
        },
        {
            "cell_type": "code",
            "source": [
                "INSERT INTO #Randomness \r\n",
                "(MyNumber)\r\n",
                "VALUES \r\n",
                " (CAST(((10*RAND())-5.0) AS INT))\r\n",
                ",(CAST(((10*RAND())-5.0) AS INT)) \r\n",
                ",(CAST(((10*RAND())-5.0) AS INT))\r\n",
                "\r\n",
                "SELECT * FROM #Randomness"
            ],
            "metadata": {
                "azdata_cell_guid": "cc5043c2-fae1-4175-9708-c1eaae7d3d96"
            },
            "outputs": [],
            "execution_count": 0
        },
        {
            "cell_type": "markdown",
            "source": [
                "And of course you can also generate random date values via `RAND`. Here you generate a random date that is in the last year, where the time part of the Datetime column always corresponds to the time part of the execution:"
            ],
            "metadata": {
                "azdata_cell_guid": "15e1d4ef-0757-4120-b18d-2b3b7ab05099"
            }
        },
        {
            "cell_type": "code",
            "source": [
                "DECLARE @startdate datetime = DATEADD(Year, -1, GETDATE())\r\n",
                "DECLARE @enddate datetime = GETDATE()\r\n",
                "\r\n",
                "SELECT DATEADD(DAY, RAND()*DATEDIFF(DAY, @startdate, @enddate), @startdate)"
            ],
            "metadata": {
                "azdata_cell_guid": "a9a2929f-4f7f-4e5a-be5d-e435e412c29c"
            },
            "outputs": [],
            "execution_count": 0
        },
        {
            "cell_type": "markdown",
            "source": [
                "If you also want to randomize the time, just replace `DAY` with `SECOND`:"
            ],
            "metadata": {
                "azdata_cell_guid": "e7334c89-fae9-463f-8fe0-e9cf83e71cf4"
            }
        },
        {
            "cell_type": "code",
            "source": [
                "DECLARE @startdate datetime = DATEADD(Year, -1, GETDATE())\r\n",
                "DECLARE @enddate datetime = GETDATE()\r\n",
                "\r\n",
                "SELECT DATEADD(SECOND, RAND()*DATEDIFF(SECOND, @startdate, @enddate), @startdate)"
            ],
            "metadata": {
                "azdata_cell_guid": "0955d775-36f3-4bf7-8cde-ba9bbe00928f"
            },
            "outputs": [],
            "execution_count": 0
        },
        {
            "cell_type": "markdown",
            "source": [
                "By the way, you can't sort in random order with the `RAND` function, because the following query always returns the same sort order: "
            ],
            "metadata": {
                "azdata_cell_guid": "604457de-2cc3-4dca-ac6b-2b667e9f1095"
            }
        },
        {
            "cell_type": "code",
            "source": [
                "SELECT MyNumber\r\n",
                "FROM #Randomness\r\n",
                "ORDER BY RAND()"
            ],
            "metadata": {
                "azdata_cell_guid": "e4586ade-6e8f-40d2-81dc-4487e937dbc2"
            },
            "outputs": [],
            "execution_count": 0
        },
        {
            "cell_type": "markdown",
            "source": [
                "Instead, you can do things differently here and sort by a value that is randomly generated: "
            ],
            "metadata": {
                "azdata_cell_guid": "44266fbd-8068-4a10-992a-3210b07a8fd5"
            }
        },
        {
            "cell_type": "code",
            "source": [
                "SELECT MyNumber\r\n",
                "FROM #Randomness\r\n",
                "ORDER BY NEWID()"
            ],
            "metadata": {
                "azdata_cell_guid": "1d1f4de3-613b-4e10-9264-88f0e1b6c8a5"
            },
            "outputs": [],
            "execution_count": 0
        },
        {
            "cell_type": "markdown",
            "source": [
                "You learned today in the Dojo how to create and use random values in SQL Server. The numbers may be random, good SQL is definitely not...\n",
                "\n",
                "## References\n",
                "- [Documentation from Microsoft](https://docs.microsoft.com/de-de/sql/t-sql/functions/rand-transact-sql?view=sql-server-ver15)\n",
                ""
            ],
            "metadata": {
                "azdata_cell_guid": "38ae9297-f6db-4896-b143-2cb67a67bfba"
            }
        }
    ]
}